{
 "cells": [
  {
   "cell_type": "markdown",
   "metadata": {},
   "source": [
    "# Merge 12 files\n",
    "#### function name: merge_stu_log(files_path) , input: files path list, output: DataFrame of all data"
   ]
  },
  {
   "cell_type": "code",
   "execution_count": 1,
   "metadata": {
    "collapsed": true
   },
   "outputs": [],
   "source": [
    "import pandas as pd\n",
    "import numpy as np\n",
    "\n",
    "def merge_stu_log(files_path):\n",
    "    # Initial DataFrame\n",
    "    df = pd.DataFrame()\n",
    "    log1 = pd.read_csv(files_path[0])\n",
    "    initial_col_order = [col.lower() for col in list(log1.columns)]\n",
    "    # in loop\n",
    "    for file in files_path:\n",
    "        #load csv file as pandas\n",
    "        student_log = pd.read_csv(file)\n",
    "        student_log.columns = [col.lower() for col in student_log]\n",
    "        df = pd.concat([df, student_log])\n",
    "\n",
    "    df = df[initial_col_order]\n",
    "    return df"
   ]
  },
  {
   "cell_type": "code",
   "execution_count": 2,
   "metadata": {
    "collapsed": false
   },
   "outputs": [
    {
     "name": "stderr",
     "output_type": "stream",
     "text": [
      "C:\\Users\\surface\\Anaconda2\\envs\\tensorflow\\lib\\site-packages\\IPython\\core\\interactiveshell.py:2850: DtypeWarning: Columns (1,13,28) have mixed types. Specify dtype option on import or set low_memory=False.\n",
      "  if self.run_code(code, result):\n",
      "C:\\Users\\surface\\Anaconda2\\envs\\tensorflow\\lib\\site-packages\\IPython\\core\\interactiveshell.py:2850: DtypeWarning: Columns (74,75) have mixed types. Specify dtype option on import or set low_memory=False.\n",
      "  if self.run_code(code, result):\n"
     ]
    }
   ],
   "source": [
    "student_log_list = [\"../dataset/anonymized_dataset_for_ADM2017/student_log_{}.csv\".format(i) for i in range(1,13)]\n",
    "student_log = merge_stu_log(student_log_list)\n"
   ]
  },
  {
   "cell_type": "code",
   "execution_count": 3,
   "metadata": {
    "collapsed": false
   },
   "outputs": [
    {
     "name": "stdout",
     "output_type": "stream",
     "text": [
      "<class 'pandas.core.frame.DataFrame'>\n",
      "Int64Index: 1064147 entries, 0 to 174267\n",
      "Data columns (total 76 columns):\n",
      "itest_id                                  942816 non-null float64\n",
      "sy assistments usage                      942816 non-null object\n",
      "aveknow                                   942816 non-null float64\n",
      "avecarelessness                           942816 non-null float64\n",
      "avecorrect                                942816 non-null float64\n",
      "numactions                                942816 non-null float64\n",
      "averesbored                               942816 non-null float64\n",
      "averesengcon                              942816 non-null float64\n",
      "averesconf                                942816 non-null float64\n",
      "averesfrust                               942816 non-null float64\n",
      "averesofftask                             942816 non-null float64\n",
      "averesgaming                              942816 non-null float64\n",
      "actionid                                  942816 non-null float64\n",
      "skill                                     942816 non-null object\n",
      "problemid                                 942816 non-null float64\n",
      "assignmentid                              942816 non-null float64\n",
      "assistmentid                              942816 non-null float64\n",
      "starttime                                 942816 non-null float64\n",
      "endtime                                   942816 non-null float64\n",
      "timetaken                                 942816 non-null float64\n",
      "correct                                   942816 non-null float64\n",
      "original                                  942816 non-null float64\n",
      "hint                                      942816 non-null float64\n",
      "hintcount                                 942816 non-null float64\n",
      "hinttotal                                 942816 non-null float64\n",
      "scaffold                                  942816 non-null float64\n",
      "bottomhint                                942816 non-null float64\n",
      "attemptcount                              942816 non-null float64\n",
      "problemtype                               942816 non-null object\n",
      "frishelprequest                           942816 non-null float64\n",
      "frpast5helprequest                        942816 non-null float64\n",
      "frpast8helprequest                        942816 non-null float64\n",
      "stlhintused                               942816 non-null float64\n",
      "past8bottomout                            942816 non-null float64\n",
      "totalfrpercentpastwrong                   942816 non-null float64\n",
      "totalfrpastwrongcount                     942816 non-null float64\n",
      "frpast5wrongcount                         942816 non-null float64\n",
      "frpast8wrongcount                         942816 non-null float64\n",
      "totalfrtimeonskill                        942816 non-null float64\n",
      "timesinceskill                            942816 non-null float64\n",
      "frworkinginschool                         942816 non-null float64\n",
      "totalfrattempted                          942816 non-null float64\n",
      "totalfrskillopportunities                 942816 non-null float64\n",
      "responseisfillin                          942816 non-null float64\n",
      "responseischosen                          942816 non-null float64\n",
      "endswithscaffolding                       942816 non-null float64\n",
      "endswithautoscaffolding                   942816 non-null float64\n",
      "frtimetakenonscaffolding                  942816 non-null float64\n",
      "frtotalskillopportunitiesscaffolding      942816 non-null float64\n",
      "totalfrskillopportunitiesbyscaffolding    942816 non-null float64\n",
      "frishelprequestscaffolding                942816 non-null float64\n",
      "timegreater5secprev2wrong                 942816 non-null float64\n",
      "sumright                                  942816 non-null float64\n",
      "helpaccessunder2sec                       942816 non-null float64\n",
      "timegreater10secandnextactionright        942816 non-null float64\n",
      "consecutiveerrorsinrow                    942816 non-null float64\n",
      "sumtime3sdwhen3rowright                   942731 non-null float64\n",
      "sumtimeperskill                           942816 non-null float64\n",
      "totaltimebypercentcorrectforskill         942816 non-null float64\n",
      "prev5count                                942816 non-null float64\n",
      "timeover80                                942816 non-null float64\n",
      "manywrong                                 942816 non-null float64\n",
      "confidence(bored)                         942816 non-null float64\n",
      "confidence(concentrating)                 942816 non-null float64\n",
      "confidence(confused)                      942816 non-null float64\n",
      "confidence(frustrated)                    942816 non-null float64\n",
      "confidence(off task)                      942816 non-null float64\n",
      "confidence(gaming)                        942816 non-null float64\n",
      "res_bored                                 942816 non-null float64\n",
      "res_concentrating                         942816 non-null float64\n",
      "res_confused                              942816 non-null float64\n",
      "res_frustrated                            942816 non-null float64\n",
      "res_offtask                               942816 non-null float64\n",
      "res_gaming                                942816 non-null float64\n",
      "ln-1                                      942816 non-null object\n",
      "ln                                        942816 non-null object\n",
      "dtypes: float64(71), object(5)\n",
      "memory usage: 625.1+ MB\n"
     ]
    }
   ],
   "source": [
    "student_log.info()"
   ]
  },
  {
   "cell_type": "code",
   "execution_count": 8,
   "metadata": {
    "collapsed": false
   },
   "outputs": [
    {
     "data": {
      "text/plain": [
       "Int64Index([     0,      1,      2,      3,      4,      5,      6,      7,\n",
       "                 8,      9,\n",
       "            ...\n",
       "            174258, 174259, 174260, 174261, 174262, 174263, 174264, 174265,\n",
       "            174266, 174267],\n",
       "           dtype='int64', length=1064147)"
      ]
     },
     "execution_count": 8,
     "metadata": {},
     "output_type": "execute_result"
    }
   ],
   "source": [
    "student_log."
   ]
  },
  {
   "cell_type": "code",
   "execution_count": null,
   "metadata": {
    "collapsed": true
   },
   "outputs": [],
   "source": []
  }
 ],
 "metadata": {
  "kernelspec": {
   "display_name": "Python 3",
   "language": "python",
   "name": "python3"
  },
  "language_info": {
   "codemirror_mode": {
    "name": "ipython",
    "version": 3
   },
   "file_extension": ".py",
   "mimetype": "text/x-python",
   "name": "python",
   "nbconvert_exporter": "python",
   "pygments_lexer": "ipython3",
   "version": "3.5.4"
  }
 },
 "nbformat": 4,
 "nbformat_minor": 0
}
