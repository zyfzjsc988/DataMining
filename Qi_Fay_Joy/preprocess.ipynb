{
 "cells": [
  {
   "cell_type": "markdown",
   "metadata": {},
   "source": [
    "# Merge 12 files\n",
    "#### function name: merge_stu_log(files_path) , input: files path list, output: DataFrame of all data"
   ]
  },
  {
   "cell_type": "code",
   "execution_count": 1,
   "metadata": {
    "collapsed": true
   },
   "outputs": [],
   "source": [
    "import pandas as pd\n",
    "import numpy as np\n",
    "\n",
    "def merge_stu_log(files_path):\n",
    "    # Initial DataFrame\n",
    "    df = pd.DataFrame()\n",
    "    log1 = pd.read_csv(files_path[0])\n",
    "    initial_col_order = [col.lower() for col in list(log1.columns)]\n",
    "    # in loop\n",
    "    for file in files_path:\n",
    "        #load csv file as pandas\n",
    "        student_log = pd.read_csv(file)\n",
    "        student_log.columns = [col.lower() for col in student_log]\n",
    "        df = pd.concat([df, student_log])\n",
    "\n",
    "    df = df[initial_col_order]\n",
    "    return df"
   ]
  },
  {
   "cell_type": "code",
   "execution_count": 2,
   "metadata": {},
   "outputs": [
    {
     "name": "stderr",
     "output_type": "stream",
     "text": [
      "C:\\Users\\surface\\Anaconda2\\envs\\tensorflow\\lib\\site-packages\\IPython\\core\\interactiveshell.py:2850: DtypeWarning: Columns (74,75) have mixed types. Specify dtype option on import or set low_memory=False.\n",
      "  if self.run_code(code, result):\n"
     ]
    }
   ],
   "source": [
    "student_log_list = [\"../dataset/anonymized_dataset_for_ADM2017/student_log_{}.csv\".format(i) for i in range(1,13)]\n",
    "student_log = merge_stu_log(student_log_list)\n"
   ]
  },
  {
   "cell_type": "markdown",
   "metadata": {},
   "source": [
    "#  correlation"
   ]
  },
  {
   "cell_type": "code",
   "execution_count": 3,
   "metadata": {},
   "outputs": [
    {
     "data": {
      "text/html": [
       "<div>\n",
       "<style scoped>\n",
       "    .dataframe tbody tr th:only-of-type {\n",
       "        vertical-align: middle;\n",
       "    }\n",
       "\n",
       "    .dataframe tbody tr th {\n",
       "        vertical-align: top;\n",
       "    }\n",
       "\n",
       "    .dataframe thead th {\n",
       "        text-align: right;\n",
       "    }\n",
       "</style>\n",
       "<table border=\"1\" class=\"dataframe\">\n",
       "  <thead>\n",
       "    <tr style=\"text-align: right;\">\n",
       "      <th></th>\n",
       "      <th>itest_id</th>\n",
       "      <th>aveknow</th>\n",
       "      <th>avecarelessness</th>\n",
       "      <th>avecorrect</th>\n",
       "      <th>numactions</th>\n",
       "      <th>averesbored</th>\n",
       "      <th>averesengcon</th>\n",
       "      <th>averesconf</th>\n",
       "      <th>averesfrust</th>\n",
       "      <th>averesofftask</th>\n",
       "      <th>averesgaming</th>\n",
       "    </tr>\n",
       "  </thead>\n",
       "  <tbody>\n",
       "    <tr>\n",
       "      <th>0</th>\n",
       "      <td>8</td>\n",
       "      <td>0.352416</td>\n",
       "      <td>0.183276</td>\n",
       "      <td>0.483902</td>\n",
       "      <td>1056</td>\n",
       "      <td>0.208389</td>\n",
       "      <td>0.679126</td>\n",
       "      <td>0.115905</td>\n",
       "      <td>0.112408</td>\n",
       "      <td>0.156503</td>\n",
       "      <td>0.196561</td>\n",
       "    </tr>\n",
       "    <tr>\n",
       "      <th>1</th>\n",
       "      <td>35</td>\n",
       "      <td>0.255164</td>\n",
       "      <td>0.158848</td>\n",
       "      <td>0.379658</td>\n",
       "      <td>993</td>\n",
       "      <td>0.222796</td>\n",
       "      <td>0.650079</td>\n",
       "      <td>0.069987</td>\n",
       "      <td>0.164347</td>\n",
       "      <td>0.153147</td>\n",
       "      <td>0.236800</td>\n",
       "    </tr>\n",
       "    <tr>\n",
       "      <th>2</th>\n",
       "      <td>39</td>\n",
       "      <td>0.281693</td>\n",
       "      <td>0.152227</td>\n",
       "      <td>0.454545</td>\n",
       "      <td>418</td>\n",
       "      <td>0.274700</td>\n",
       "      <td>0.628075</td>\n",
       "      <td>0.116390</td>\n",
       "      <td>0.143827</td>\n",
       "      <td>0.221926</td>\n",
       "      <td>0.019817</td>\n",
       "    </tr>\n",
       "    <tr>\n",
       "      <th>3</th>\n",
       "      <td>64</td>\n",
       "      <td>0.157938</td>\n",
       "      <td>0.098357</td>\n",
       "      <td>0.334038</td>\n",
       "      <td>1419</td>\n",
       "      <td>0.198394</td>\n",
       "      <td>0.670062</td>\n",
       "      <td>0.085895</td>\n",
       "      <td>0.132328</td>\n",
       "      <td>0.115773</td>\n",
       "      <td>0.303426</td>\n",
       "    </tr>\n",
       "    <tr>\n",
       "      <th>4</th>\n",
       "      <td>77</td>\n",
       "      <td>0.191948</td>\n",
       "      <td>0.094195</td>\n",
       "      <td>0.413249</td>\n",
       "      <td>317</td>\n",
       "      <td>0.261455</td>\n",
       "      <td>0.638636</td>\n",
       "      <td>0.063971</td>\n",
       "      <td>0.129858</td>\n",
       "      <td>0.234331</td>\n",
       "      <td>0.045096</td>\n",
       "    </tr>\n",
       "  </tbody>\n",
       "</table>\n",
       "</div>"
      ],
      "text/plain": [
       "   itest_id   aveknow  avecarelessness  avecorrect  numactions  averesbored  \\\n",
       "0         8  0.352416         0.183276    0.483902        1056     0.208389   \n",
       "1        35  0.255164         0.158848    0.379658         993     0.222796   \n",
       "2        39  0.281693         0.152227    0.454545         418     0.274700   \n",
       "3        64  0.157938         0.098357    0.334038        1419     0.198394   \n",
       "4        77  0.191948         0.094195    0.413249         317     0.261455   \n",
       "\n",
       "   averesengcon  averesconf  averesfrust  averesofftask  averesgaming  \n",
       "0      0.679126    0.115905     0.112408       0.156503      0.196561  \n",
       "1      0.650079    0.069987     0.164347       0.153147      0.236800  \n",
       "2      0.628075    0.116390     0.143827       0.221926      0.019817  \n",
       "3      0.670062    0.085895     0.132328       0.115773      0.303426  \n",
       "4      0.638636    0.063971     0.129858       0.234331      0.045096  "
      ]
     },
     "execution_count": 3,
     "metadata": {},
     "output_type": "execute_result"
    }
   ],
   "source": [
    "# all 1709 students' id\n",
    "student_id_list = pd.unique(student_log['itest_id'])\n",
    "# useful features\n",
    "coeffecient_name_list = ['itest_id','aveknow','avecarelessness','avecorrect','numactions','averesbored','averesengcon',\n",
    "                         'averesconf','averesfrust','averesofftask','averesgaming']\n",
    "student_log_uni = student_log[coeffecient_name_list]\n",
    "\n",
    "# delete same lines\n",
    "student_log_uni = student_log_uni.drop_duplicates().copy()\n",
    "student_log_uni.reset_index(drop=True, inplace=True)\n",
    "student_log_uni.head()"
   ]
  },
  {
   "cell_type": "code",
   "execution_count": 5,
   "metadata": {},
   "outputs": [
    {
     "data": {
      "text/html": [
       "<div>\n",
       "<style scoped>\n",
       "    .dataframe tbody tr th:only-of-type {\n",
       "        vertical-align: middle;\n",
       "    }\n",
       "\n",
       "    .dataframe tbody tr th {\n",
       "        vertical-align: top;\n",
       "    }\n",
       "\n",
       "    .dataframe thead th {\n",
       "        text-align: right;\n",
       "    }\n",
       "</style>\n",
       "<table border=\"1\" class=\"dataframe\">\n",
       "  <thead>\n",
       "    <tr style=\"text-align: right;\">\n",
       "      <th></th>\n",
       "      <th>aveknow</th>\n",
       "      <th>avecarelessness</th>\n",
       "      <th>avecorrect</th>\n",
       "      <th>numactions</th>\n",
       "      <th>averesbored</th>\n",
       "      <th>averesengcon</th>\n",
       "      <th>averesconf</th>\n",
       "      <th>averesfrust</th>\n",
       "      <th>averesofftask</th>\n",
       "      <th>averesgaming</th>\n",
       "      <th>mcas</th>\n",
       "      <th>isstem</th>\n",
       "    </tr>\n",
       "    <tr>\n",
       "      <th>itest_id</th>\n",
       "      <th></th>\n",
       "      <th></th>\n",
       "      <th></th>\n",
       "      <th></th>\n",
       "      <th></th>\n",
       "      <th></th>\n",
       "      <th></th>\n",
       "      <th></th>\n",
       "      <th></th>\n",
       "      <th></th>\n",
       "      <th></th>\n",
       "      <th></th>\n",
       "    </tr>\n",
       "  </thead>\n",
       "  <tbody>\n",
       "    <tr>\n",
       "      <th>35</th>\n",
       "      <td>0.255164</td>\n",
       "      <td>0.158848</td>\n",
       "      <td>0.379658</td>\n",
       "      <td>993</td>\n",
       "      <td>0.222796</td>\n",
       "      <td>0.650079</td>\n",
       "      <td>0.069987</td>\n",
       "      <td>0.164347</td>\n",
       "      <td>0.153147</td>\n",
       "      <td>0.236800</td>\n",
       "      <td>34</td>\n",
       "      <td>0</td>\n",
       "    </tr>\n",
       "    <tr>\n",
       "      <th>77</th>\n",
       "      <td>0.191948</td>\n",
       "      <td>0.094195</td>\n",
       "      <td>0.413249</td>\n",
       "      <td>317</td>\n",
       "      <td>0.261455</td>\n",
       "      <td>0.638636</td>\n",
       "      <td>0.063971</td>\n",
       "      <td>0.129858</td>\n",
       "      <td>0.234331</td>\n",
       "      <td>0.045096</td>\n",
       "      <td>39</td>\n",
       "      <td>0</td>\n",
       "    </tr>\n",
       "    <tr>\n",
       "      <th>126</th>\n",
       "      <td>0.250838</td>\n",
       "      <td>0.111159</td>\n",
       "      <td>0.500000</td>\n",
       "      <td>406</td>\n",
       "      <td>0.273188</td>\n",
       "      <td>0.646944</td>\n",
       "      <td>0.104602</td>\n",
       "      <td>0.131632</td>\n",
       "      <td>0.230005</td>\n",
       "      <td>0.040233</td>\n",
       "      <td>30</td>\n",
       "      <td>0</td>\n",
       "    </tr>\n",
       "    <tr>\n",
       "      <th>205</th>\n",
       "      <td>0.229988</td>\n",
       "      <td>0.126401</td>\n",
       "      <td>0.445407</td>\n",
       "      <td>577</td>\n",
       "      <td>0.242691</td>\n",
       "      <td>0.658863</td>\n",
       "      <td>0.112356</td>\n",
       "      <td>0.132230</td>\n",
       "      <td>0.185330</td>\n",
       "      <td>0.077827</td>\n",
       "      <td>29</td>\n",
       "      <td>0</td>\n",
       "    </tr>\n",
       "    <tr>\n",
       "      <th>283</th>\n",
       "      <td>0.146352</td>\n",
       "      <td>0.093224</td>\n",
       "      <td>0.309661</td>\n",
       "      <td>1211</td>\n",
       "      <td>0.211405</td>\n",
       "      <td>0.655711</td>\n",
       "      <td>0.079308</td>\n",
       "      <td>0.102920</td>\n",
       "      <td>0.126860</td>\n",
       "      <td>0.245489</td>\n",
       "      <td>11</td>\n",
       "      <td>0</td>\n",
       "    </tr>\n",
       "  </tbody>\n",
       "</table>\n",
       "</div>"
      ],
      "text/plain": [
       "           aveknow  avecarelessness  avecorrect  numactions  averesbored  \\\n",
       "itest_id                                                                   \n",
       "35        0.255164         0.158848    0.379658         993     0.222796   \n",
       "77        0.191948         0.094195    0.413249         317     0.261455   \n",
       "126       0.250838         0.111159    0.500000         406     0.273188   \n",
       "205       0.229988         0.126401    0.445407         577     0.242691   \n",
       "283       0.146352         0.093224    0.309661        1211     0.211405   \n",
       "\n",
       "          averesengcon  averesconf  averesfrust  averesofftask  averesgaming  \\\n",
       "itest_id                                                                       \n",
       "35            0.650079    0.069987     0.164347       0.153147      0.236800   \n",
       "77            0.638636    0.063971     0.129858       0.234331      0.045096   \n",
       "126           0.646944    0.104602     0.131632       0.230005      0.040233   \n",
       "205           0.658863    0.112356     0.132230       0.185330      0.077827   \n",
       "283           0.655711    0.079308     0.102920       0.126860      0.245489   \n",
       "\n",
       "          mcas  isstem  \n",
       "itest_id                \n",
       "35          34       0  \n",
       "77          39       0  \n",
       "126         30       0  \n",
       "205         29       0  \n",
       "283         11       0  "
      ]
     },
     "execution_count": 5,
     "metadata": {},
     "output_type": "execute_result"
    }
   ],
   "source": [
    "def all_lower(L1):\n",
    "    return [s.lower() for s in L1]\n",
    "\n",
    "training_dataset = pd.read_csv(\"../dataset/anonymized_dataset_for_ADM2017/training_label.csv\")\n",
    "training_dataset.columns = all_lower(training_dataset.columns.tolist())\n",
    "training_dataset = training_dataset[all_lower(['ITEST_id','MCAS','isSTEM'])]\n",
    "# training_dataset\n",
    "training_set = student_log_uni.merge(training_dataset, on='itest_id', how=\"right\")\n",
    "training_set = training_set[training_set['mcas']!=-999]\n",
    "training_set = training_set.set_index('itest_id')\n",
    "training_set.head()"
   ]
  },
  {
   "cell_type": "code",
   "execution_count": 6,
   "metadata": {},
   "outputs": [
    {
     "name": "stderr",
     "output_type": "stream",
     "text": [
      "C:\\Users\\surface\\Anaconda2\\envs\\tensorflow\\lib\\site-packages\\matplotlib\\__init__.py:800: MatplotlibDeprecationWarning: axes.color_cycle is deprecated and replaced with axes.prop_cycle; please use the latter.\n",
      "  mplDeprecation)\n"
     ]
    }
   ],
   "source": [
    "# draw the picture\n",
    "import brewer2mpl\n",
    "import matplotlib as mpl\n",
    "# brewer2mpl.get_map args: set name set type number of colors\n",
    "bmap = brewer2mpl.get_map('Set1', 'qualitative', 7)\n",
    "colors = bmap.mpl_colors\n",
    "mpl.rcParams['axes.color_cycle'] = colors"
   ]
  },
  {
   "cell_type": "code",
   "execution_count": 7,
   "metadata": {
    "collapsed": true
   },
   "outputs": [],
   "source": [
    "import matplotlib.pyplot as plt\n",
    "import seaborn as sns\n",
    "def correlation(dataframe):\n",
    "    corr = dataframe.corr()  \n",
    "    sns.set(style=\"white\")\n",
    "    sns.heatmap(corr, annot=True)\n",
    "    plt.show()\n",
    "def histogram(feature,name):\n",
    "    feature1=feature[name]\n",
    "    plt.hist(feature1)\n",
    "    plt.show()"
   ]
  },
  {
   "cell_type": "code",
   "execution_count": 27,
   "metadata": {},
   "outputs": [
    {
     "data": {
      "image/png": "[encoded data removed]",
      "text/plain": [
       "<matplotlib.figure.Figure at 0x1ee037026d8>"
      ]
     },
     "metadata": {},
     "output_type": "display_data"
    }
   ],
   "source": [
    "training_set1 = training_set.drop(['numactions','mcas'],axis=1)\n",
    "corr = training_set1.corr()  \n",
    "sns.set(style=\"white\")\n",
    "sns.heatmap(corr, cmap=\"YlGnBu\")\n",
    "plt.title('Correlation between nine features') \n",
    "foo_fig = plt.gcf() # 'get current figure'\n",
    "foo_fig.savefig('correlation_9.eps', format='eps', dpi=1000)\n",
    "plt.show()"
   ]
  },
  {
   "cell_type": "markdown",
   "metadata": {},
   "source": [
    "### preprocess : standard scaler"
   ]
  },
  {
   "cell_type": "code",
   "execution_count": 27,
   "metadata": {},
   "outputs": [],
   "source": [
    "from sklearn import preprocessing\n",
    "scaler = preprocessing.StandardScaler()\n",
    "select_columns = ['aveknow','avecarelessness','avecorrect','numactions','averesbored','averesengcon',\n",
    "                         'averesconf','averesfrust','averesofftask','averesgaming','mcas']\n",
    "t=training_set[select_columns]\n",
    "scaler.fit(t)\n",
    "t = scaler.transform(t)\n",
    "dataframe=pd.DataFrame(t,columns=select_columns)\n",
    "dataframe['itest_id'] = training_set['itest_id']\n",
    "dataframe['isstem']=training_set['isstem']"
   ]
  },
  {
   "cell_type": "markdown",
   "metadata": {},
   "source": [
    "#  feature selection"
   ]
  },
  {
   "cell_type": "markdown",
   "metadata": {},
   "source": [
    "### Logistic regression"
   ]
  },
  {
   "cell_type": "code",
   "execution_count": 174,
   "metadata": {},
   "outputs": [],
   "source": [
    "from sklearn.linear_model import LogisticRegression\n",
    "from sklearn.model_selection import KFold\n",
    "from sklearn import metrics\n",
    "import math\n",
    "\n",
    "\n",
    "def logistic(df,k,l1):\n",
    "    X=df.loc[:,select_columns]\n",
    "    X1=X.values   \n",
    "    y=df['isstem']\n",
    "    y1=y.values  \n",
    "    kf=KFold(k,shuffle=True)\n",
    "    accurate=[]\n",
    "    for train_index, test_index in kf.split(X1):\n",
    "        X_train,X_test=X1[train_index],X1[test_index]\n",
    "        y_train,y_test=y1[train_index],y1[test_index]\n",
    "        log=LogisticRegression(C= l1, penalty=\"l1\", dual=False)\n",
    "        log.fit(X_train,y_train)\n",
    "        pred = log.predict_proba(X_test)[:,1]\n",
    "        fpr, tpr, thresholds = metrics.roc_curve(y_test, pred)\n",
    "        AUC = metrics.auc(fpr, tpr)\n",
    "        RMES = math.sqrt(metrics.mean_squared_error(y_test, pred))\n",
    "        accurate.append(AUC)\n",
    "    mean_acc=np.mean(accurate)\n",
    "    return mean_acc , RMES ,log\n",
    "\n"
   ]
  },
  {
   "cell_type": "markdown",
   "metadata": {},
   "source": [
    "###  l1 regularlization"
   ]
  },
  {
   "cell_type": "code",
   "execution_count": 175,
   "metadata": {},
   "outputs": [
    {
     "data": {
      "image/png": "[encoded data removed]",
      "text/plain": [
       "<matplotlib.figure.Figure at 0x213832bcf28>"
      ]
     },
     "metadata": {},
     "output_type": "display_data"
    },
    {
     "data": {
      "image/png": "[encoded data removed]",
      "text/plain": [
       "<matplotlib.figure.Figure at 0x213837c6898>"
      ]
     },
     "metadata": {},
     "output_type": "display_data"
    },
    {
     "name": "stdout",
     "output_type": "stream",
     "text": [
      "AUC:0.636128\n",
      "RMSE:0.463555\n",
      "[[ 0.          0.28284294  0.          0.          0.         -0.02684698\n",
      "   0.08584263  0.          0.02792398 -0.02892725  0.10387859]]\n"
     ]
    }
   ],
   "source": [
    "from sklearn.feature_selection import SelectFromModel\n",
    "\n",
    "l1_reg_c = np.arange(0.1, 0.2, 1e-2)\n",
    "K_Forder = 4\n",
    "df=dataframe\n",
    "acc_list = []\n",
    "l1_list =[]\n",
    "RMSE_list = []\n",
    "for l1_c in l1_reg_c:\n",
    "    acc,RMSE, model = logistic(df,K_Forder,l1_c)\n",
    "    acc_list.append(acc)\n",
    "    l1_list.append(l1_c)\n",
    "    RMSE_list.append(RMSE)\n",
    "    \n",
    "\n",
    "plt.xlabel(\"l1 penalty\")\n",
    "plt.ylabel(\"AUC\")\n",
    "plt.plot(l1_reg_c,acc_list)\n",
    "\n",
    "plt.show()\n",
    "\n",
    "plt.xlabel(\"l1 penalty\")\n",
    "plt.ylabel(\"RMSE\")\n",
    "plt.plot(l1_reg_c,RMSE_list)\n",
    "plt.show()\n",
    "\n",
    "\n",
    "l1_c = l1_list[acc_list.index(max(acc_list))]\n",
    "acc, RMSE, model = logistic(df,K_Forder,l1_c)\n",
    "print(\"AUC:%f\" % acc)\n",
    "print(\"RMSE:%f\" % RMSE)\n",
    "print(model.coef_)"
   ]
  },
  {
   "cell_type": "code",
   "execution_count": 4,
   "metadata": {
    "collapsed": true
   },
   "outputs": [],
   "source": [
    "from sklearn.ensemble import RandomForestClassifier\n",
    "\n",
    "def RandomFC(df,c,estimators,depth):\n",
    "    X=df.loc[:,select_columns]\n",
    "    X1=X.values\n",
    "    y=df['isstem']\n",
    "    y1=y.values\n",
    "    kf=KFold(c,shuffle=True)\n",
    "    accurate=[]\n",
    "    for train_index, test_index in kf.split(X1):\n",
    "        X_train,X_test=X1[train_index],X1[test_index]\n",
    "        y_train,y_test=y1[train_index],y1[test_index]\n",
    "        RFC=RandomForestClassifier(n_estimators=estimators,oob_score=True,max_depth=depth,max_features='auto') \n",
    "        RFC.fit(X_train,y_train)\n",
    "        pred = RFC.predict_proba(X_test)[:,1]\n",
    "        fpr, tpr, thresholds = metrics.roc_curve(y_test, pred)\n",
    "        AUC = metrics.auc(fpr, tpr)\n",
    "        RMSE = math.sqrt(metrics.mean_squared_error(y_test, pred))\n",
    "        accurate.append(AUC)\n",
    "    mean_acc=np.mean(accurate)\n",
    "    return mean_acc,RMSE,RFC \n"
   ]
  },
  {
   "cell_type": "code",
   "execution_count": 5,
   "metadata": {},
   "outputs": [
    {
     "ename": "NameError",
     "evalue": "name 'dataframe' is not defined",
     "output_type": "error",
     "traceback": [
      "\u001b[1;31m---------------------------------------------------------------------------\u001b[0m",
      "\u001b[1;31mNameError\u001b[0m                                 Traceback (most recent call last)",
      "\u001b[1;32m<ipython-input-5-ce56b96ce38c>\u001b[0m in \u001b[0;36m<module>\u001b[1;34m()\u001b[0m\n\u001b[1;32m----> 1\u001b[1;33m \u001b[0mdf\u001b[0m\u001b[1;33m=\u001b[0m\u001b[0mdataframe\u001b[0m\u001b[1;33m\u001b[0m\u001b[0m\n\u001b[0m\u001b[0;32m      2\u001b[0m \u001b[0mdepth_list\u001b[0m \u001b[1;33m=\u001b[0m \u001b[0mrange\u001b[0m\u001b[1;33m(\u001b[0m\u001b[1;36m2\u001b[0m\u001b[1;33m,\u001b[0m\u001b[1;36m12\u001b[0m\u001b[1;33m)\u001b[0m\u001b[1;33m\u001b[0m\u001b[0m\n\u001b[0;32m      3\u001b[0m \u001b[0macc_RFC_list\u001b[0m\u001b[1;33m=\u001b[0m\u001b[1;33m[\u001b[0m\u001b[1;33m]\u001b[0m\u001b[1;33m\u001b[0m\u001b[0m\n\u001b[0;32m      4\u001b[0m \u001b[0mRMSE_list\u001b[0m \u001b[1;33m=\u001b[0m \u001b[1;33m[\u001b[0m\u001b[1;33m]\u001b[0m\u001b[1;33m\u001b[0m\u001b[0m\n\u001b[0;32m      5\u001b[0m \u001b[1;32mfor\u001b[0m \u001b[0mdepth\u001b[0m \u001b[1;32min\u001b[0m \u001b[0mdepth_list\u001b[0m\u001b[1;33m:\u001b[0m\u001b[1;33m\u001b[0m\u001b[0m\n",
      "\u001b[1;31mNameError\u001b[0m: name 'dataframe' is not defined"
     ]
    }
   ],
   "source": [
    "df=dataframe\n",
    "depth_list = range(2,12)\n",
    "acc_RFC_list=[]\n",
    "RMSE_list = []\n",
    "for depth in depth_list:\n",
    "    acc_rfc,RMSE,RFC =RandomFC(df,4,63,depth)\n",
    "    acc_RFC_list.append(acc_rfc)\n",
    "    RMSE_list.append(RMSE)\n",
    "\n",
    "plt.xlabel(\"max depth\")\n",
    "plt.ylabel(\"AUC\")\n",
    "plt.plot(depth_list,acc_RFC_list)\n",
    "plt.show()\n",
    "\n",
    "plt.xlabel(\"max depth\")\n",
    "plt.ylabel(\"RMSE\")\n",
    "plt.plot(depth_list,RMSE_list)\n",
    "plt.show()\n",
    "\n"
   ]
  },
  {
   "cell_type": "code",
   "execution_count": 194,
   "metadata": {},
   "outputs": [
    {
     "name": "stdout",
     "output_type": "stream",
     "text": [
      "AUC:0.738047\n",
      "RMSE:0.424801\n",
      "[[ 0.          0.28284294  0.          0.          0.         -0.02684698\n",
      "   0.08584263  0.          0.02792398 -0.02892725  0.10387859]]\n",
      "[ 0.10075789  0.10479221  0.07709898  0.07225606  0.06707567  0.07938181\n",
      "  0.09404939  0.09529947  0.07671076  0.13490611  0.09767165]\n"
     ]
    }
   ],
   "source": [
    "depth = 7\n",
    "acc_rfc, RMSE, RFC = RandomFC(df,4,63,depth)\n",
    "print(\"AUC:%f\" % acc_rfc)\n",
    "print(\"RMSE:%f\" % RMSE)\n",
    "print(RFC.feature_importances_)"
   ]
  },
  {
   "cell_type": "markdown",
   "metadata": {},
   "source": [
    "## regularization when model is over fitting"
   ]
  },
  {
   "cell_type": "code",
   "execution_count": null,
   "metadata": {
    "collapsed": true
   },
   "outputs": [],
   "source": []
  }
 ],
 "metadata": {
  "kernelspec": {
   "display_name": "Python 2",
   "language": "python",
   "name": "python2"
  },
  "language_info": {
   "codemirror_mode": {
    "name": "ipython",
    "version": 2
   },
   "file_extension": ".py",
   "mimetype": "text/x-python",
   "name": "python",
   "nbconvert_exporter": "python",
   "pygments_lexer": "ipython2",
   "version": "2.7.12"
  }
 },
 "nbformat": 4,
 "nbformat_minor": 1
}
