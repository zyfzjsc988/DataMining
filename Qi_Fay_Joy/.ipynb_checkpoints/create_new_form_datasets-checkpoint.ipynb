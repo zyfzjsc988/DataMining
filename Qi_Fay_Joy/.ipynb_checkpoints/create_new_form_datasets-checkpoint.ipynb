{
 "cells": [
  {
   "cell_type": "code",
   "execution_count": 97,
   "metadata": {
    "collapsed": false
   },
   "outputs": [
    {
     "name": "stderr",
     "output_type": "stream",
     "text": [
      "C:\\Users\\surface\\Anaconda2\\envs\\tensorflow\\lib\\site-packages\\IPython\\core\\interactiveshell.py:2850: DtypeWarning: Columns (74,75) have mixed types. Specify dtype option on import or set low_memory=False.\n",
      "  if self.run_code(code, result):\n"
     ]
    }
   ],
   "source": [
    "# Merge 12 files\n",
    "#### function name: merge_stu_log(files_path) , input: files path list, output: DataFrame of all data\n",
    "import pandas as pd\n",
    "import numpy as np\n",
    "\n",
    "def merge_stu_log(files_path):\n",
    "    # Initial DataFrame\n",
    "    df = pd.DataFrame()\n",
    "    log1 = pd.read_csv(files_path[0])\n",
    "    initial_col_order = [col.lower() for col in list(log1.columns)]\n",
    "    # in loop\n",
    "    for file in files_path:\n",
    "        #load csv file as pandas\n",
    "        student_log = pd.read_csv(file)\n",
    "        student_log.columns = [col.lower() for col in student_log]\n",
    "        df = pd.concat([df, student_log])\n",
    "\n",
    "    df = df[initial_col_order]\n",
    "    return df\n",
    "student_log_list = [\"../dataset/anonymized_dataset_for_ADM2017/student_log_{}.csv\".format(i) for i in range(1,13)]\n",
    "student_log = merge_stu_log(student_log_list)"
   ]
  },
  {
   "cell_type": "markdown",
   "metadata": {},
   "source": [
    "# student list and question list"
   ]
  },
  {
   "cell_type": "code",
   "execution_count": 3,
   "metadata": {
    "collapsed": false
   },
   "outputs": [
    {
     "name": "stdout",
     "output_type": "stream",
     "text": [
      "1709\n",
      "4117\n"
     ]
    }
   ],
   "source": [
    "# student list\n",
    "student_list = student_log['itest_id'].unique()\n",
    "print(len(student_list))\n",
    "\n",
    "# question list \n",
    "question_list = student_log['problemid'].unique()\n",
    "print(len(question_list))"
   ]
  },
  {
   "cell_type": "markdown",
   "metadata": {},
   "source": [
    "# students information"
   ]
  },
  {
   "cell_type": "code",
   "execution_count": 253,
   "metadata": {
    "collapsed": false
   },
   "outputs": [],
   "source": [
    "stu_information_list = ['itest_id','aveknow','avecarelessness','avecorrect',\n",
    "                        'numactions','averesbored','averesengcon',\n",
    "                         'averesconf','averesfrust','averesofftask','averesgaming']\n",
    "student_information = student_log.loc[:,stu_information_list].drop_duplicates()  \n",
    "student_information.to_csv(\"../dataset/student_information.csv\",index=False)"
   ]
  },
  {
   "cell_type": "markdown",
   "metadata": {},
   "source": [
    "# question information"
   ]
  },
  {
   "cell_type": "code",
   "execution_count": 254,
   "metadata": {
    "collapsed": false
   },
   "outputs": [],
   "source": [
    "# here don't use problemType because of inconsistency, might need cleaning\n",
    "que_information_list = ['problemid','skill']\n",
    "\n",
    "que_information = student_log.loc[:,que_information_list].drop_duplicates()\n",
    "que_information_copy = que_information.copy()\n",
    "\n",
    "p = que_information.groupby(['problemid']).count()\n",
    "p = p[p['skill']>1]\n",
    "for pr in p.index:\n",
    "    a = que_information[que_information['problemid']==pr]\n",
    "    b = a[a['skill']=='noskill']\n",
    "    que_information.drop(b.index,inplace=True)\n",
    "    \n",
    "reduced_set = set(question_list) - set(que_information['problemid'])\n",
    "for redu in reduced_set:\n",
    "    que_information = pd.concat([que_information,que_information_copy[que_information_copy['problemid']==redu]])\n",
    "\n",
    "que_information.to_csv(\"../dataset/question_information.csv\",index=False)    \n",
    "    "
   ]
  },
  {
   "cell_type": "markdown",
   "metadata": {},
   "source": [
    "# Matrixs by different features"
   ]
  },
  {
   "cell_type": "code",
   "execution_count": 116,
   "metadata": {
    "collapsed": false
   },
   "outputs": [],
   "source": [
    "# pick up columns that should be used to filter\n",
    "columns_list = ['itest_id','actionid','problemid','timetaken','correct',\n",
    "                'hint','bottomhint','frishelprequest','scaffold',\n",
    "                'frWorkingInSchool'.lower(),'responseIsFillIn'.lower(),\n",
    "                'frIsHelpRequestScaffolding'.lower(),'timeOver80'.lower()]\n",
    "students_actions = student_log.loc[:,columns_list]\n",
    "group = students_actions.groupby(['itest_id','problemid'])"
   ]
  },
  {
   "cell_type": "markdown",
   "metadata": {},
   "source": [
    "### action counting"
   ]
  },
  {
   "cell_type": "code",
   "execution_count": 117,
   "metadata": {
    "collapsed": false
   },
   "outputs": [],
   "source": [
    "action_count = group.count().loc[:,['actionid']]\n",
    "action_count = action_count.rename(columns={'actionid':'action_count'})"
   ]
  },
  {
   "cell_type": "markdown",
   "metadata": {},
   "source": [
    "### sum other features"
   ]
  },
  {
   "cell_type": "code",
   "execution_count": 122,
   "metadata": {
    "collapsed": false
   },
   "outputs": [],
   "source": [
    "sum_table = group.sum()\n",
    "# the times of wrong action  = totalaction - action_request_hint - correct\n",
    "sum_table['wrong'] = action_count['action_count'] - sum_table['hint'] - sum_table['correct']\n",
    "sum_table['wrongrate'] = sum_table['wrong']/action_count['action_count']\n",
    "\n",
    "# use hint rate\n",
    "sum_table['hintrate'] = sum_table['hint']/action_count['action_count']\n",
    "\n",
    "# correct could be more than once so the rate might more suitable\n",
    "sum_table['correctrate'] = sum_table['correct']/action_count['action_count']\n",
    "\n",
    "# first request help rate\n",
    "sum_table['frhrate'] = sum_table['frishelprequest']/action_count['action_count']\n",
    "\n",
    "# working in school rate (could be 1 or 0 in most of time)\n",
    "sum_table['workinschoolrate'] = sum_table['frworkinginschool']/action_count['action_count']\n",
    "\n",
    "# filedin (could be 1 or 0 in most of time)\n",
    "sum_table['filedin'] = sum_table['responseisfillin']/action_count['action_count']\n",
    "\n",
    "# first response is request scaffold help   (could be 1 or 0 in most of time)\n",
    "sum_table['frscaffoldh'] = sum_table['frishelprequestscaffolding']/action_count['action_count']\n",
    "\n",
    "# timeover80\n",
    "sum_table['timeover80rate'] = sum_table['timeover80']/action_count['action_count']\n",
    "\n",
    "sum_table.drop(['frishelprequest','frworkinginschool','responseisfillin',\n",
    "                'frishelprequestscaffolding'],axis=1,inplace=True)\n",
    "sum_table.drop(['actionid'],axis=1,inplace=True)"
   ]
  },
  {
   "cell_type": "code",
   "execution_count": 127,
   "metadata": {
    "collapsed": false
   },
   "outputs": [],
   "source": [
    "sum_table['actioncount'] = action_count['action_count']\n",
    "matrix = sum_table.reindex(sorted(sum_table.columns), axis=1)"
   ]
  },
  {
   "cell_type": "code",
   "execution_count": 128,
   "metadata": {
    "collapsed": false
   },
   "outputs": [],
   "source": [
    "matrix.to_csv(\"../dataset/person_and_question_relationship.csv\")"
   ]
  },
  {
   "cell_type": "code",
   "execution_count": null,
   "metadata": {
    "collapsed": true
   },
   "outputs": [],
   "source": []
  }
 ],
 "metadata": {
  "kernelspec": {
   "display_name": "Python 3",
   "language": "python",
   "name": "python3"
  },
  "language_info": {
   "codemirror_mode": {
    "name": "ipython",
    "version": 3
   },
   "file_extension": ".py",
   "mimetype": "text/x-python",
   "name": "python",
   "nbconvert_exporter": "python",
   "pygments_lexer": "ipython3",
   "version": "3.5.4"
  }
 },
 "nbformat": 4,
 "nbformat_minor": 0
}
