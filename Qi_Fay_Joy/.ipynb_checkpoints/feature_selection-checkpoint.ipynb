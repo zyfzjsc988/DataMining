{
 "cells": [
  {
   "cell_type": "markdown",
   "metadata": {},
   "source": [
    "# datasets"
   ]
  },
  {
   "cell_type": "code",
   "execution_count": 82,
   "metadata": {
    "collapsed": false
   },
   "outputs": [],
   "source": [
    "import numpy as np\n",
    "import pandas as pd\n",
    "\n",
    "from sklearn.preprocessing import PolynomialFeatures\n",
    "\n",
    "def all_lower(L1):\n",
    "    return [s.lower() for s in L1]\n",
    "\n",
    "student_information = pd.read_csv(\"../dataset/student_information.csv\")\n",
    "student_information = student_information.set_index(\"itest_id\")\n",
    "columns_name_list = list(student_information.columns)\n",
    "\n",
    "training_label = pd.read_csv(\"../dataset/anonymized_dataset_for_ADM2017/training_label.csv\")\n",
    "training_label.columns = all_lower(training_label.columns.tolist())\n",
    "training_label = training_label.set_index(\"itest_id\")\n",
    "skillmatrix = pd.read_csv(\"../dataset/question_information.csv\")\n",
    "\n",
    "X = student_information.values\n",
    "poly = PolynomialFeatures(2)\n",
    "new_X = poly.fit_transform(X)\n",
    "new_columns = poly.get_feature_names(columns_name_list)\n",
    "\n",
    "new_frame = pd.DataFrame(data = new_X,index = student_information.index,columns = new_columns)"
   ]
  },
  {
   "cell_type": "code",
   "execution_count": 83,
   "metadata": {
    "collapsed": false
   },
   "outputs": [
    {
     "data": {
      "text/html": [
       "<div>\n",
       "<style scoped>\n",
       "    .dataframe tbody tr th:only-of-type {\n",
       "        vertical-align: middle;\n",
       "    }\n",
       "\n",
       "    .dataframe tbody tr th {\n",
       "        vertical-align: top;\n",
       "    }\n",
       "\n",
       "    .dataframe thead th {\n",
       "        text-align: right;\n",
       "    }\n",
       "</style>\n",
       "<table border=\"1\" class=\"dataframe\">\n",
       "  <thead>\n",
       "    <tr style=\"text-align: right;\">\n",
       "      <th></th>\n",
       "      <th>1</th>\n",
       "      <th>aveknow</th>\n",
       "      <th>avecarelessness</th>\n",
       "      <th>avecorrect</th>\n",
       "      <th>numactions</th>\n",
       "      <th>averesbored</th>\n",
       "      <th>averesengcon</th>\n",
       "      <th>averesconf</th>\n",
       "      <th>averesfrust</th>\n",
       "      <th>averesofftask</th>\n",
       "      <th>...</th>\n",
       "      <th>averesconf^2</th>\n",
       "      <th>averesconf averesfrust</th>\n",
       "      <th>averesconf averesofftask</th>\n",
       "      <th>averesconf averesgaming</th>\n",
       "      <th>averesfrust^2</th>\n",
       "      <th>averesfrust averesofftask</th>\n",
       "      <th>averesfrust averesgaming</th>\n",
       "      <th>averesofftask^2</th>\n",
       "      <th>averesofftask averesgaming</th>\n",
       "      <th>averesgaming^2</th>\n",
       "    </tr>\n",
       "    <tr>\n",
       "      <th>itest_id</th>\n",
       "      <th></th>\n",
       "      <th></th>\n",
       "      <th></th>\n",
       "      <th></th>\n",
       "      <th></th>\n",
       "      <th></th>\n",
       "      <th></th>\n",
       "      <th></th>\n",
       "      <th></th>\n",
       "      <th></th>\n",
       "      <th></th>\n",
       "      <th></th>\n",
       "      <th></th>\n",
       "      <th></th>\n",
       "      <th></th>\n",
       "      <th></th>\n",
       "      <th></th>\n",
       "      <th></th>\n",
       "      <th></th>\n",
       "      <th></th>\n",
       "      <th></th>\n",
       "    </tr>\n",
       "  </thead>\n",
       "  <tbody>\n",
       "    <tr>\n",
       "      <th>8</th>\n",
       "      <td>1.0</td>\n",
       "      <td>0.352416</td>\n",
       "      <td>0.183276</td>\n",
       "      <td>0.483902</td>\n",
       "      <td>1056.0</td>\n",
       "      <td>0.208389</td>\n",
       "      <td>0.679126</td>\n",
       "      <td>0.115905</td>\n",
       "      <td>0.112408</td>\n",
       "      <td>0.156503</td>\n",
       "      <td>...</td>\n",
       "      <td>0.013434</td>\n",
       "      <td>0.013029</td>\n",
       "      <td>0.018140</td>\n",
       "      <td>0.022782</td>\n",
       "      <td>0.012636</td>\n",
       "      <td>0.017592</td>\n",
       "      <td>0.022095</td>\n",
       "      <td>0.024493</td>\n",
       "      <td>0.030762</td>\n",
       "      <td>0.038636</td>\n",
       "    </tr>\n",
       "    <tr>\n",
       "      <th>35</th>\n",
       "      <td>1.0</td>\n",
       "      <td>0.255164</td>\n",
       "      <td>0.158848</td>\n",
       "      <td>0.379658</td>\n",
       "      <td>993.0</td>\n",
       "      <td>0.222796</td>\n",
       "      <td>0.650079</td>\n",
       "      <td>0.069987</td>\n",
       "      <td>0.164347</td>\n",
       "      <td>0.153147</td>\n",
       "      <td>...</td>\n",
       "      <td>0.004898</td>\n",
       "      <td>0.011502</td>\n",
       "      <td>0.010718</td>\n",
       "      <td>0.016573</td>\n",
       "      <td>0.027010</td>\n",
       "      <td>0.025169</td>\n",
       "      <td>0.038917</td>\n",
       "      <td>0.023454</td>\n",
       "      <td>0.036265</td>\n",
       "      <td>0.056074</td>\n",
       "    </tr>\n",
       "    <tr>\n",
       "      <th>39</th>\n",
       "      <td>1.0</td>\n",
       "      <td>0.281693</td>\n",
       "      <td>0.152227</td>\n",
       "      <td>0.454545</td>\n",
       "      <td>418.0</td>\n",
       "      <td>0.274700</td>\n",
       "      <td>0.628075</td>\n",
       "      <td>0.116390</td>\n",
       "      <td>0.143827</td>\n",
       "      <td>0.221926</td>\n",
       "      <td>...</td>\n",
       "      <td>0.013547</td>\n",
       "      <td>0.016740</td>\n",
       "      <td>0.025830</td>\n",
       "      <td>0.002306</td>\n",
       "      <td>0.020686</td>\n",
       "      <td>0.031919</td>\n",
       "      <td>0.002850</td>\n",
       "      <td>0.049251</td>\n",
       "      <td>0.004398</td>\n",
       "      <td>0.000393</td>\n",
       "    </tr>\n",
       "    <tr>\n",
       "      <th>64</th>\n",
       "      <td>1.0</td>\n",
       "      <td>0.157938</td>\n",
       "      <td>0.098357</td>\n",
       "      <td>0.334038</td>\n",
       "      <td>1419.0</td>\n",
       "      <td>0.198394</td>\n",
       "      <td>0.670062</td>\n",
       "      <td>0.085895</td>\n",
       "      <td>0.132328</td>\n",
       "      <td>0.115773</td>\n",
       "      <td>...</td>\n",
       "      <td>0.007378</td>\n",
       "      <td>0.011366</td>\n",
       "      <td>0.009944</td>\n",
       "      <td>0.026063</td>\n",
       "      <td>0.017511</td>\n",
       "      <td>0.015320</td>\n",
       "      <td>0.040152</td>\n",
       "      <td>0.013403</td>\n",
       "      <td>0.035129</td>\n",
       "      <td>0.092067</td>\n",
       "    </tr>\n",
       "    <tr>\n",
       "      <th>77</th>\n",
       "      <td>1.0</td>\n",
       "      <td>0.191948</td>\n",
       "      <td>0.094195</td>\n",
       "      <td>0.413249</td>\n",
       "      <td>317.0</td>\n",
       "      <td>0.261455</td>\n",
       "      <td>0.638636</td>\n",
       "      <td>0.063971</td>\n",
       "      <td>0.129858</td>\n",
       "      <td>0.234331</td>\n",
       "      <td>...</td>\n",
       "      <td>0.004092</td>\n",
       "      <td>0.008307</td>\n",
       "      <td>0.014990</td>\n",
       "      <td>0.002885</td>\n",
       "      <td>0.016863</td>\n",
       "      <td>0.030430</td>\n",
       "      <td>0.005856</td>\n",
       "      <td>0.054911</td>\n",
       "      <td>0.010567</td>\n",
       "      <td>0.002034</td>\n",
       "    </tr>\n",
       "  </tbody>\n",
       "</table>\n",
       "<p>5 rows × 66 columns</p>\n",
       "</div>"
      ],
      "text/plain": [
       "            1   aveknow  avecarelessness  avecorrect  numactions  averesbored  \\\n",
       "itest_id                                                                        \n",
       "8         1.0  0.352416         0.183276    0.483902      1056.0     0.208389   \n",
       "35        1.0  0.255164         0.158848    0.379658       993.0     0.222796   \n",
       "39        1.0  0.281693         0.152227    0.454545       418.0     0.274700   \n",
       "64        1.0  0.157938         0.098357    0.334038      1419.0     0.198394   \n",
       "77        1.0  0.191948         0.094195    0.413249       317.0     0.261455   \n",
       "\n",
       "          averesengcon  averesconf  averesfrust  averesofftask  \\\n",
       "itest_id                                                         \n",
       "8             0.679126    0.115905     0.112408       0.156503   \n",
       "35            0.650079    0.069987     0.164347       0.153147   \n",
       "39            0.628075    0.116390     0.143827       0.221926   \n",
       "64            0.670062    0.085895     0.132328       0.115773   \n",
       "77            0.638636    0.063971     0.129858       0.234331   \n",
       "\n",
       "               ...        averesconf^2  averesconf averesfrust  \\\n",
       "itest_id       ...                                               \n",
       "8              ...            0.013434                0.013029   \n",
       "35             ...            0.004898                0.011502   \n",
       "39             ...            0.013547                0.016740   \n",
       "64             ...            0.007378                0.011366   \n",
       "77             ...            0.004092                0.008307   \n",
       "\n",
       "          averesconf averesofftask  averesconf averesgaming  averesfrust^2  \\\n",
       "itest_id                                                                     \n",
       "8                         0.018140                 0.022782       0.012636   \n",
       "35                        0.010718                 0.016573       0.027010   \n",
       "39                        0.025830                 0.002306       0.020686   \n",
       "64                        0.009944                 0.026063       0.017511   \n",
       "77                        0.014990                 0.002885       0.016863   \n",
       "\n",
       "          averesfrust averesofftask  averesfrust averesgaming  \\\n",
       "itest_id                                                        \n",
       "8                          0.017592                  0.022095   \n",
       "35                         0.025169                  0.038917   \n",
       "39                         0.031919                  0.002850   \n",
       "64                         0.015320                  0.040152   \n",
       "77                         0.030430                  0.005856   \n",
       "\n",
       "          averesofftask^2  averesofftask averesgaming  averesgaming^2  \n",
       "itest_id                                                               \n",
       "8                0.024493                    0.030762        0.038636  \n",
       "35               0.023454                    0.036265        0.056074  \n",
       "39               0.049251                    0.004398        0.000393  \n",
       "64               0.013403                    0.035129        0.092067  \n",
       "77               0.054911                    0.010567        0.002034  \n",
       "\n",
       "[5 rows x 66 columns]"
      ]
     },
     "execution_count": 83,
     "metadata": {},
     "output_type": "execute_result"
    }
   ],
   "source": [
    "new_frame.head()"
   ]
  },
  {
   "cell_type": "code",
   "execution_count": 92,
   "metadata": {
    "collapsed": false
   },
   "outputs": [
    {
     "data": {
      "text/html": [
       "<div>\n",
       "<style scoped>\n",
       "    .dataframe tbody tr th:only-of-type {\n",
       "        vertical-align: middle;\n",
       "    }\n",
       "\n",
       "    .dataframe tbody tr th {\n",
       "        vertical-align: top;\n",
       "    }\n",
       "\n",
       "    .dataframe thead th {\n",
       "        text-align: right;\n",
       "    }\n",
       "</style>\n",
       "<table border=\"1\" class=\"dataframe\">\n",
       "  <thead>\n",
       "    <tr style=\"text-align: right;\">\n",
       "      <th></th>\n",
       "      <th>1</th>\n",
       "      <th>aveknow</th>\n",
       "      <th>avecarelessness</th>\n",
       "      <th>avecorrect</th>\n",
       "      <th>numactions</th>\n",
       "      <th>averesbored</th>\n",
       "      <th>averesengcon</th>\n",
       "      <th>averesconf</th>\n",
       "      <th>averesfrust</th>\n",
       "      <th>averesofftask</th>\n",
       "      <th>...</th>\n",
       "      <th>averesconf averesfrust</th>\n",
       "      <th>averesconf averesofftask</th>\n",
       "      <th>averesconf averesgaming</th>\n",
       "      <th>averesfrust^2</th>\n",
       "      <th>averesfrust averesofftask</th>\n",
       "      <th>averesfrust averesgaming</th>\n",
       "      <th>averesofftask^2</th>\n",
       "      <th>averesofftask averesgaming</th>\n",
       "      <th>averesgaming^2</th>\n",
       "      <th>isstem</th>\n",
       "    </tr>\n",
       "  </thead>\n",
       "  <tbody>\n",
       "    <tr>\n",
       "      <th>0</th>\n",
       "      <td>1.0</td>\n",
       "      <td>0.191948</td>\n",
       "      <td>0.094195</td>\n",
       "      <td>0.413249</td>\n",
       "      <td>317.0</td>\n",
       "      <td>0.261455</td>\n",
       "      <td>0.638636</td>\n",
       "      <td>0.063971</td>\n",
       "      <td>0.129858</td>\n",
       "      <td>0.234331</td>\n",
       "      <td>...</td>\n",
       "      <td>0.008307</td>\n",
       "      <td>0.014990</td>\n",
       "      <td>0.002885</td>\n",
       "      <td>0.016863</td>\n",
       "      <td>0.030430</td>\n",
       "      <td>0.005856</td>\n",
       "      <td>0.054911</td>\n",
       "      <td>0.010567</td>\n",
       "      <td>0.002034</td>\n",
       "      <td>0</td>\n",
       "    </tr>\n",
       "    <tr>\n",
       "      <th>1</th>\n",
       "      <td>1.0</td>\n",
       "      <td>0.250838</td>\n",
       "      <td>0.111159</td>\n",
       "      <td>0.500000</td>\n",
       "      <td>406.0</td>\n",
       "      <td>0.273188</td>\n",
       "      <td>0.646944</td>\n",
       "      <td>0.104602</td>\n",
       "      <td>0.131632</td>\n",
       "      <td>0.230005</td>\n",
       "      <td>...</td>\n",
       "      <td>0.013769</td>\n",
       "      <td>0.024059</td>\n",
       "      <td>0.004208</td>\n",
       "      <td>0.017327</td>\n",
       "      <td>0.030276</td>\n",
       "      <td>0.005296</td>\n",
       "      <td>0.052902</td>\n",
       "      <td>0.009254</td>\n",
       "      <td>0.001619</td>\n",
       "      <td>0</td>\n",
       "    </tr>\n",
       "    <tr>\n",
       "      <th>2</th>\n",
       "      <td>1.0</td>\n",
       "      <td>0.259442</td>\n",
       "      <td>0.134564</td>\n",
       "      <td>0.500000</td>\n",
       "      <td>402.0</td>\n",
       "      <td>0.248153</td>\n",
       "      <td>0.638726</td>\n",
       "      <td>0.124143</td>\n",
       "      <td>0.128994</td>\n",
       "      <td>0.185285</td>\n",
       "      <td>...</td>\n",
       "      <td>0.016014</td>\n",
       "      <td>0.023002</td>\n",
       "      <td>0.010024</td>\n",
       "      <td>0.016639</td>\n",
       "      <td>0.023901</td>\n",
       "      <td>0.010415</td>\n",
       "      <td>0.034330</td>\n",
       "      <td>0.014960</td>\n",
       "      <td>0.006519</td>\n",
       "      <td>0</td>\n",
       "    </tr>\n",
       "    <tr>\n",
       "      <th>3</th>\n",
       "      <td>1.0</td>\n",
       "      <td>0.169165</td>\n",
       "      <td>0.086328</td>\n",
       "      <td>0.500000</td>\n",
       "      <td>112.0</td>\n",
       "      <td>0.302234</td>\n",
       "      <td>0.680432</td>\n",
       "      <td>0.040706</td>\n",
       "      <td>0.329814</td>\n",
       "      <td>0.436066</td>\n",
       "      <td>...</td>\n",
       "      <td>0.013425</td>\n",
       "      <td>0.017750</td>\n",
       "      <td>0.001156</td>\n",
       "      <td>0.108777</td>\n",
       "      <td>0.143821</td>\n",
       "      <td>0.009367</td>\n",
       "      <td>0.190153</td>\n",
       "      <td>0.012385</td>\n",
       "      <td>0.000807</td>\n",
       "      <td>0</td>\n",
       "    </tr>\n",
       "    <tr>\n",
       "      <th>4</th>\n",
       "      <td>1.0</td>\n",
       "      <td>0.181757</td>\n",
       "      <td>0.090678</td>\n",
       "      <td>0.500000</td>\n",
       "      <td>102.0</td>\n",
       "      <td>0.305196</td>\n",
       "      <td>0.611226</td>\n",
       "      <td>0.121713</td>\n",
       "      <td>0.075603</td>\n",
       "      <td>0.362513</td>\n",
       "      <td>...</td>\n",
       "      <td>0.009202</td>\n",
       "      <td>0.044122</td>\n",
       "      <td>0.000655</td>\n",
       "      <td>0.005716</td>\n",
       "      <td>0.027407</td>\n",
       "      <td>0.000407</td>\n",
       "      <td>0.131416</td>\n",
       "      <td>0.001951</td>\n",
       "      <td>0.000029</td>\n",
       "      <td>0</td>\n",
       "    </tr>\n",
       "  </tbody>\n",
       "</table>\n",
       "<p>5 rows × 67 columns</p>\n",
       "</div>"
      ],
      "text/plain": [
       "     1   aveknow  avecarelessness  avecorrect  numactions  averesbored  \\\n",
       "0  1.0  0.191948         0.094195    0.413249       317.0     0.261455   \n",
       "1  1.0  0.250838         0.111159    0.500000       406.0     0.273188   \n",
       "2  1.0  0.259442         0.134564    0.500000       402.0     0.248153   \n",
       "3  1.0  0.169165         0.086328    0.500000       112.0     0.302234   \n",
       "4  1.0  0.181757         0.090678    0.500000       102.0     0.305196   \n",
       "\n",
       "   averesengcon  averesconf  averesfrust  averesofftask   ...    \\\n",
       "0      0.638636    0.063971     0.129858       0.234331   ...     \n",
       "1      0.646944    0.104602     0.131632       0.230005   ...     \n",
       "2      0.638726    0.124143     0.128994       0.185285   ...     \n",
       "3      0.680432    0.040706     0.329814       0.436066   ...     \n",
       "4      0.611226    0.121713     0.075603       0.362513   ...     \n",
       "\n",
       "   averesconf averesfrust  averesconf averesofftask  averesconf averesgaming  \\\n",
       "0                0.008307                  0.014990                 0.002885   \n",
       "1                0.013769                  0.024059                 0.004208   \n",
       "2                0.016014                  0.023002                 0.010024   \n",
       "3                0.013425                  0.017750                 0.001156   \n",
       "4                0.009202                  0.044122                 0.000655   \n",
       "\n",
       "   averesfrust^2  averesfrust averesofftask  averesfrust averesgaming  \\\n",
       "0       0.016863                   0.030430                  0.005856   \n",
       "1       0.017327                   0.030276                  0.005296   \n",
       "2       0.016639                   0.023901                  0.010415   \n",
       "3       0.108777                   0.143821                  0.009367   \n",
       "4       0.005716                   0.027407                  0.000407   \n",
       "\n",
       "   averesofftask^2  averesofftask averesgaming  averesgaming^2  isstem  \n",
       "0         0.054911                    0.010567        0.002034       0  \n",
       "1         0.052902                    0.009254        0.001619       0  \n",
       "2         0.034330                    0.014960        0.006519       0  \n",
       "3         0.190153                    0.012385        0.000807       0  \n",
       "4         0.131416                    0.001951        0.000029       0  \n",
       "\n",
       "[5 rows x 67 columns]"
      ]
     },
     "execution_count": 92,
     "metadata": {},
     "output_type": "execute_result"
    }
   ],
   "source": [
    "train_frame = pd.merge(new_frame,training_label,how='inner')\n",
    "train_frame.drop(['schoolid','mcas'], axis=1,inplace=True)  \n",
    "# training_label = training_label[all_lower(['isSTEM'])]\n",
    "train_frame.head()"
   ]
  },
  {
   "cell_type": "markdown",
   "metadata": {},
   "source": [
    "## logistic regression"
   ]
  },
  {
   "cell_type": "code",
   "execution_count": 133,
   "metadata": {
    "collapsed": true
   },
   "outputs": [],
   "source": [
    "def find_name_by_index(new_columns,coeffcient):\n",
    "    name_list = []\n",
    "    for i in range(len(coeffcient[0])):\n",
    "        if coeffcient[0][i]>1e-10:\n",
    "            name_list.append((new_columns[i],coeffcient[0][i]))\n",
    "    return name_list"
   ]
  },
  {
   "cell_type": "code",
   "execution_count": 143,
   "metadata": {
    "collapsed": false
   },
   "outputs": [
    {
     "data": {
      "image/png": "[encoded data removed]",
      "text/plain": [
       "<matplotlib.figure.Figure at 0x18919eb0208>"
      ]
     },
     "metadata": {},
     "output_type": "display_data"
    },
    {
     "data": {
      "image/png": "[encoded data removed]",
      "text/plain": [
       "<matplotlib.figure.Figure at 0x189181822e8>"
      ]
     },
     "metadata": {},
     "output_type": "display_data"
    },
    {
     "name": "stdout",
     "output_type": "stream",
     "text": [
      "0.69\n",
      "AUC:0.604774\n",
      "RMSE:0.435865\n",
      "acc:0.750000\n",
      "[[ -3.25505815e-01   0.00000000e+00   0.00000000e+00   0.00000000e+00\n",
      "   -3.89584388e-04   0.00000000e+00   0.00000000e+00   0.00000000e+00\n",
      "    0.00000000e+00   0.00000000e+00   0.00000000e+00   0.00000000e+00\n",
      "    0.00000000e+00   0.00000000e+00   2.23568471e-03   0.00000000e+00\n",
      "    0.00000000e+00   0.00000000e+00   0.00000000e+00   0.00000000e+00\n",
      "    0.00000000e+00   0.00000000e+00   0.00000000e+00   3.18491040e-03\n",
      "    0.00000000e+00   0.00000000e+00   0.00000000e+00   0.00000000e+00\n",
      "    0.00000000e+00   0.00000000e+00   0.00000000e+00   3.27809423e-03\n",
      "    0.00000000e+00   0.00000000e+00   0.00000000e+00   0.00000000e+00\n",
      "    0.00000000e+00   0.00000000e+00  -3.58807256e-08  -3.36428885e-03\n",
      "   -7.30145133e-04   7.20604733e-03  -3.95447272e-03  -6.27733300e-03\n",
      "    1.15176795e-04   0.00000000e+00   0.00000000e+00   0.00000000e+00\n",
      "    0.00000000e+00   0.00000000e+00   0.00000000e+00   0.00000000e+00\n",
      "    0.00000000e+00   0.00000000e+00   0.00000000e+00   0.00000000e+00\n",
      "    0.00000000e+00   0.00000000e+00   0.00000000e+00   0.00000000e+00\n",
      "    0.00000000e+00   0.00000000e+00   0.00000000e+00   0.00000000e+00\n",
      "    0.00000000e+00   0.00000000e+00]]\n"
     ]
    },
    {
     "data": {
      "text/plain": [
       "[('aveknow numactions', 0.00223568471499627),\n",
       " ('avecarelessness numactions', 0.0031849104033322443),\n",
       " ('avecorrect numactions', 0.0032780942265660238),\n",
       " ('numactions averesconf', 0.0072060473265401432),\n",
       " ('numactions averesgaming', 0.00011517679460223744)]"
      ]
     },
     "execution_count": 143,
     "metadata": {},
     "output_type": "execute_result"
    }
   ],
   "source": [
    "from sklearn.linear_model import LogisticRegression\n",
    "from sklearn.model_selection import KFold\n",
    "from sklearn import metrics\n",
    "import math\n",
    "\n",
    "\n",
    "def logistic(df,k,l1):\n",
    "    X=df.loc[:,new_columns]\n",
    "    X1=X.values   \n",
    "    y=df['isstem']\n",
    "    y1=y.values  \n",
    "    kf=KFold(k,shuffle=True)\n",
    "    AUC_list = []\n",
    "    for train_index, test_index in kf.split(X1):\n",
    "        X_train,X_test=X1[train_index],X1[test_index]\n",
    "        y_train,y_test=y1[train_index],y1[test_index]\n",
    "        log=LogisticRegression(C= l1, penalty=\"l1\", dual=False)\n",
    "        log.fit(X_train,y_train)\n",
    "        pred = log.predict_proba(X_test)[:,1]\n",
    "        fpr, tpr, thresholds = metrics.roc_curve(y_test, pred)\n",
    "        AUC = metrics.auc(fpr, tpr)\n",
    "        RMES = math.sqrt(metrics.mean_squared_error(y_test, pred))\n",
    "        AUC_list.append(AUC)\n",
    "        acc = metrics.accuracy_score(y_test, log.predict(X_test))\n",
    "    mean_acc=np.mean(AUC_list)\n",
    "\n",
    "    return mean_acc , RMES ,log,acc\n",
    "\n",
    "\n",
    "l1_reg_c = np.arange(0.5, 0.7, 1e-2)\n",
    "K_Forder = 4\n",
    "df=train_frame\n",
    "acc_list = []\n",
    "l1_list =[]\n",
    "RMSE_list = []\n",
    "AUC_list = []\n",
    "for l1_c in l1_reg_c:\n",
    "    AUC,RMSE, model ,acc = logistic(df,K_Forder,l1_c)\n",
    "    acc_list.append(acc)\n",
    "    AUC_list.append(AUC)\n",
    "    l1_list.append(l1_c)\n",
    "    RMSE_list.append(RMSE)\n",
    "plt.xlabel(\"l1 penalty\")\n",
    "plt.ylabel(\"AUC\")\n",
    "plt.plot(l1_reg_c,AUC_list)\n",
    "plt.show()\n",
    "plt.xlabel(\"l1 penalty\")\n",
    "plt.ylabel(\"RMSE\")\n",
    "plt.plot(l1_reg_c,RMSE_list)\n",
    "plt.show()\n",
    "l1_c = l1_list[AUC_list.index(max(AUC_list))]\n",
    "print(l1_c)\n",
    "AUC, RMSE, model,acc = logistic(df,K_Forder,l1_c)\n",
    "print(\"AUC:%f\" % AUC)\n",
    "print(\"RMSE:%f\" % RMSE)\n",
    "print(\"acc:%f\" % acc)\n",
    "print(model.coef_)\n",
    "find_name_by_index(new_columns,model.coef_)"
   ]
  },
  {
   "cell_type": "code",
   "execution_count": 155,
   "metadata": {
    "collapsed": false
   },
   "outputs": [
    {
     "name": "stdout",
     "output_type": "stream",
     "text": [
      "[('aveknow avecarelessness', 0.026489966639904862), ('aveknow^2', 0.025457600158112242), ('aveknow avecorrect', 0.025308268920176607), ('avecorrect averesengcon', 0.022464001146627503), ('aveknow averesfrust', 0.021041952830975281), ('averesengcon averesofftask', 0.020858872944047709), ('averesengcon averesgaming', 0.020253819441491624), ('aveknow', 0.019718293380780169), ('aveknow averesconf', 0.01956381149044004), ('averesbored averesfrust', 0.019385601078799195), ('avecorrect averesconf', 0.019292472197459134), ('aveknow averesengcon', 0.019227319013191458), ('averesbored averesgaming', 0.019012731008427326), ('averesofftask averesgaming', 0.018837102701949875), ('avecorrect', 0.018774557069620449), ('averesgaming^2', 0.017880493776819738), ('averesfrust^2', 0.017697451970707736), ('avecarelessness avecorrect', 0.017574347607305016), ('averesfrust averesofftask', 0.017435567375677932), ('aveknow numactions', 0.017331058761600016), ('averesfrust averesgaming', 0.017188026944085104), ('avecarelessness averesengcon', 0.017166164757637232), ('avecarelessness averesconf', 0.016748180788177174), ('averesengcon^2', 0.016703044843895759), ('avecarelessness', 0.01609617591174799), ('numactions averesgaming', 0.016080137244051568), ('numactions', 0.016026021192902785), ('averesconf', 0.015875735118165937), ('averesconf averesofftask', 0.01578789636196324), ('avecorrect averesfrust', 0.015787280911809653), ('averesfrust', 0.015549233307242404), ('averesofftask^2', 0.015507134980322104), ('aveknow averesgaming', 0.015401558180773517), ('averesbored^2', 0.015243432835827644), ('avecarelessness averesofftask', 0.015062244858452534), ('avecorrect averesbored', 0.014849001717974463), ('avecorrect numactions', 0.014841210496396057), ('numactions averesfrust', 0.014719446065567379), ('averesbored averesconf', 0.014514570687381337), ('averesconf averesfrust', 0.014355963170576871), ('aveknow averesbored', 0.013764673567139072), ('avecarelessness^2', 0.013752699852237491), ('averesengcon averesconf', 0.013645181054310063), ('averesgaming', 0.013104790786640624), ('averesbored', 0.013083078934395451), ('avecarelessness averesfrust', 0.012798066238951777), ('averesbored averesofftask', 0.012584185783975438), ('avecarelessness averesgaming', 0.012252929663805076), ('avecarelessness numactions', 0.012056221332061377), ('aveknow averesofftask', 0.011844691414085401), ('averesbored averesengcon', 0.011454402951608027), ('averesconf^2', 0.011423135894765332), ('avecorrect averesgaming', 0.011260501123480971), ('averesengcon', 0.011167100349809056), ('avecarelessness averesbored', 0.010976739236428964), ('averesengcon averesfrust', 0.010927800467861341), ('numactions averesofftask', 0.010789704299071893), ('numactions averesconf', 0.010555739387661172), ('averesofftask', 0.010387093271169646), ('numactions averesengcon', 0.010052423779817028), ('numactions averesbored', 0.0098444732240290864), ('avecorrect^2', 0.0094990778302242885), ('avecorrect averesofftask', 0.0094894400490703641), ('averesconf averesgaming', 0.0082065143178511359), ('numactions^2', 0.0079715853004852111), ('1', 0.0)]\n",
      "(515, 34)\n"
     ]
    }
   ],
   "source": [
    "from sklearn.ensemble import ExtraTreesClassifier\n",
    "from sklearn.feature_selection import SelectFromModel\n",
    "\n",
    "iris = train_frame\n",
    "X, y = train_frame[new_columns].values, train_frame['isstem'].values\n",
    "\n",
    "\n",
    "clf = ExtraTreesClassifier()\n",
    "clf = clf.fit(X, y)\n",
    "importances = clf.feature_importances_\n",
    "\n",
    "model = SelectFromModel(clf, prefit=True)\n",
    "X_new = model.transform(X)\n",
    "name_list = []\n",
    "for i in range(len(importances)):\n",
    "    name_list.append((new_columns[i],importances[i]))\n",
    "name_list.sort(key = lambda x: x[1],reverse=True)\n",
    "print(name_list)\n",
    "print(X_new.shape)               "
   ]
  },
  {
   "cell_type": "code",
   "execution_count": 111,
   "metadata": {
    "collapsed": false
   },
   "outputs": [
    {
     "data": {
      "text/plain": [
       "(515, 13)"
      ]
     },
     "execution_count": 111,
     "metadata": {},
     "output_type": "execute_result"
    }
   ],
   "source": [
    "from sklearn.svm import LinearSVC\n",
    "lsvc = LinearSVC(C=0.53, penalty=\"l1\", dual=False).fit(X, y)\n",
    "model = SelectFromModel(lsvc, prefit=True)\n",
    "X_new = model.transform(X)\n",
    "X_new.shape"
   ]
  },
  {
   "cell_type": "code",
   "execution_count": 182,
   "metadata": {
    "collapsed": false,
    "scrolled": false
   },
   "outputs": [
    {
     "data": {
      "image/png": "[encoded data removed]",
      "text/plain": [
       "<matplotlib.figure.Figure at 0x189188c2b00>"
      ]
     },
     "metadata": {},
     "output_type": "display_data"
    },
    {
     "data": {
      "image/png": "[encoded data removed]",
      "text/plain": [
       "<matplotlib.figure.Figure at 0x18918978390>"
      ]
     },
     "metadata": {},
     "output_type": "display_data"
    }
   ],
   "source": [
    "from sklearn.ensemble import RandomForestClassifier\n",
    "\n",
    "def RandomFC(df,c,estimators,depth):\n",
    "    X=df.loc[:,new_columns]\n",
    "    X1=X.values\n",
    "    y=df['isstem']\n",
    "    y1=y.values\n",
    "    kf=KFold(c,shuffle=True)\n",
    "    accurate=[]\n",
    "    for train_index, test_index in kf.split(X1):\n",
    "        X_train,X_test=X1[train_index],X1[test_index]\n",
    "        y_train,y_test=y1[train_index],y1[test_index]\n",
    "        RFC=RandomForestClassifier(n_estimators=estimators,oob_score=True,max_depth=depth,max_features='auto') \n",
    "        RFC.fit(X_train,y_train)\n",
    "        pred = RFC.predict_proba(X_test)[:,1]\n",
    "        fpr, tpr, thresholds = metrics.roc_curve(y_test, pred)\n",
    "        AUC = metrics.auc(fpr, tpr)\n",
    "        RMSE = math.sqrt(metrics.mean_squared_error(y_test, pred))\n",
    "        accurate.append(AUC)\n",
    "        acc = metrics.accuracy_score(y_test, RFC.predict(X_test))\n",
    "    mean_acc=np.mean(accurate)\n",
    "    return mean_acc,RMSE,RFC,acc\n",
    "\n",
    "depth_list = range(5,20)\n",
    "acc_RFC_list=[]\n",
    "RMSE_list = []\n",
    "\n",
    "for depth in depth_list:\n",
    "    acc_rfc,RMSE,RFC,acc =RandomFC(df,4,63,depth)\n",
    "    acc_RFC_list.append(acc_rfc)\n",
    "    RMSE_list.append(RMSE)\n",
    "\n",
    "\n",
    "plt.xlabel(\"max depth\")\n",
    "plt.ylabel(\"AUC\")\n",
    "plt.plot(depth_list,acc_RFC_list)\n",
    "plt.show()\n",
    "\n",
    "plt.xlabel(\"max depth\")\n",
    "plt.ylabel(\"RMSE\")\n",
    "plt.plot(depth_list,RMSE_list)\n",
    "plt.show()\n"
   ]
  },
  {
   "cell_type": "code",
   "execution_count": 185,
   "metadata": {
    "collapsed": false
   },
   "outputs": [
    {
     "name": "stdout",
     "output_type": "stream",
     "text": [
      "AUC:0.734730\n",
      "RMSE:0.421126\n",
      "acc:0.796875\n",
      "[('avecarelessness averesbored', 0.025714668425670377), ('avecarelessness averesconf', 0.024707716458689761), ('averesbored averesfrust', 0.021906234450053345), ('aveknow averesconf', 0.021369014606560242), ('averesengcon averesconf', 0.020824021882586637), ('avecarelessness', 0.020676793516033166), ('avecarelessness averesfrust', 0.020468111905588116), ('avecarelessness averesofftask', 0.020390043756868023), ('averesfrust', 0.020011316343072773), ('averesfrust^2', 0.019942715648327891), ('averesofftask averesgaming', 0.019321366917351875), ('averesengcon^2', 0.019127209463810073), ('avecorrect averesbored', 0.018186662499254574), ('avecorrect averesconf', 0.017411237949861356), ('averesconf', 0.017211294321594649), ('aveknow numactions', 0.017191552911132037), ('averesfrust averesgaming', 0.017106441861164962), ('averesofftask', 0.017096181319841176), ('avecorrect numactions', 0.017050593065865288), ('averesengcon averesfrust', 0.01670294518659227), ('averesconf averesfrust', 0.016319714445500736), ('averesconf^2', 0.016170436043918775), ('aveknow averesbored', 0.016116087833138663), ('avecorrect^2', 0.016071843260692002), ('avecarelessness averesengcon', 0.015775408915070829), ('averesengcon', 0.015537608860115465), ('averesfrust averesofftask', 0.015508652762559879), ('aveknow^2', 0.015418506914462603), ('avecarelessness^2', 0.015413368706625978), ('avecorrect averesofftask', 0.015402320334208942), ('numactions averesbored', 0.015290895626740198), ('averesbored averesgaming', 0.015272714147643265), ('avecorrect averesfrust', 0.015231465163794235), ('aveknow averesfrust', 0.015138165639697982), ('aveknow avecarelessness', 0.01496854281934328), ('averesconf averesgaming', 0.014588611646583965), ('averesgaming^2', 0.014554865096247354), ('aveknow', 0.014490984225511183), ('averesbored averesofftask', 0.014043399968053882), ('aveknow averesengcon', 0.014036291545696009), ('numactions averesofftask', 0.013992272187817498), ('aveknow averesgaming', 0.013689985274637445), ('avecarelessness averesgaming', 0.013252580399797658), ('averesofftask^2', 0.013186616875570779), ('averesbored', 0.013155312790990451), ('avecarelessness avecorrect', 0.013035660408046431), ('numactions averesfrust', 0.0129617059965962), ('numactions averesconf', 0.012944062690865883), ('averesengcon averesgaming', 0.012773044724829425), ('averesconf averesofftask', 0.012585849415208889), ('aveknow avecorrect', 0.01245059448666261), ('numactions averesengcon', 0.01239070064731212), ('avecorrect averesgaming', 0.012328947551964536), ('numactions', 0.012077032383440392), ('averesgaming', 0.012025839539901375), ('averesbored averesconf', 0.011933681002554848), ('averesbored averesengcon', 0.011918573284423209), ('avecorrect averesengcon', 0.011791012609859701), ('avecarelessness numactions', 0.011758747729064869), ('averesengcon averesofftask', 0.011556584308461376), ('avecorrect', 0.01130564107468659), ('numactions^2', 0.0099656081695932864), ('aveknow averesofftask', 0.009870606676519799), ('numactions averesgaming', 0.0096622907656208727), ('averesbored^2', 0.0096210425600499715), ('1', 0.0)]\n"
     ]
    }
   ],
   "source": [
    "depth = 13\n",
    "acc_rfc, RMSE, RFC,acc = RandomFC(df,4,63,depth)\n",
    "print(\"AUC:%f\" % acc_rfc)\n",
    "print(\"RMSE:%f\" % RMSE)\n",
    "print(\"acc:%f\" % acc)\n",
    "importances = RFC.feature_importances_\n",
    "name_list = []\n",
    "for i in range(len(importances)):\n",
    "    name_list.append((new_columns[i],importances[i]))\n",
    "name_list.sort(key = lambda x: x[1],reverse=True)\n",
    "print(name_list)"
   ]
  },
  {
   "cell_type": "markdown",
   "metadata": {},
   "source": [
    "# new feature!!!"
   ]
  },
  {
   "cell_type": "code",
   "execution_count": 259,
   "metadata": {
    "collapsed": false
   },
   "outputs": [
    {
     "name": "stdout",
     "output_type": "stream",
     "text": [
      "260\n"
     ]
    }
   ],
   "source": [
    "new_student_information = pd.read_csv(\"student_information_pattern_prob_equation.csv\")\n",
    "new_student_information = new_student_information.set_index(\"itest_id\")\n",
    "train_frame = pd.merge(new_student_information,training_label,how='inner')\n",
    "train_frame.drop(['schoolid','mcas'], axis=1,inplace=True)\n",
    "isstem = train_frame[train_frame['isstem']==1]\n",
    "nostem = train_frame[train_frame['isstem']==0].sample(len(isstem))\n",
    "train_frame = pd.concat([isstem,nostem],axis=0)\n",
    "print(len(train_frame))"
   ]
  },
  {
   "cell_type": "markdown",
   "metadata": {},
   "source": [
    "### logistic"
   ]
  },
  {
   "cell_type": "code",
   "execution_count": 261,
   "metadata": {
    "collapsed": false
   },
   "outputs": [
    {
     "name": "stdout",
     "output_type": "stream",
     "text": [
      "Index(['correctrate', 'frhrate', 'frscaffoldh', 'hintrate', 'timeover80rate',\n",
      "       'workinschoolrate', 'wrongrate', 'oncebutfail', 'moreoncebutfail',\n",
      "       'more80sbutfail', 'hintbutfail', 'correctrateless0.5',\n",
      "       'pattern-finding_problemid', 'pattern-finding_actioncount',\n",
      "       'pattern-finding_bottomhint', 'pattern-finding_correct',\n",
      "       'pattern-finding_correctrate', 'pattern-finding_filedin',\n",
      "       'pattern-finding_frhrate', 'pattern-finding_frscaffoldh',\n",
      "       'pattern-finding_hint', 'pattern-finding_hintrate',\n",
      "       'pattern-finding_scaffold', 'pattern-finding_timeover80',\n",
      "       'pattern-finding_timeover80rate', 'pattern-finding_timetaken',\n",
      "       'pattern-finding_workinschoolrate', 'pattern-finding_wrong',\n",
      "       'pattern-finding_wrongrate', 'probability_problemid',\n",
      "       'probability_actioncount', 'probability_bottomhint',\n",
      "       'probability_correct', 'probability_correctrate', 'probability_filedin',\n",
      "       'probability_frhrate', 'probability_frscaffoldh', 'probability_hint',\n",
      "       'probability_hintrate', 'probability_scaffold',\n",
      "       'probability_timeover80', 'probability_timeover80rate',\n",
      "       'probability_timetaken', 'probability_workinschoolrate',\n",
      "       'probability_wrong', 'probability_wrongrate',\n",
      "       'equation-solving_problemid', 'equation-solving_actioncount',\n",
      "       'equation-solving_bottomhint', 'equation-solving_correct',\n",
      "       'equation-solving_correctrate', 'equation-solving_filedin',\n",
      "       'equation-solving_frhrate', 'equation-solving_frscaffoldh',\n",
      "       'equation-solving_hint', 'equation-solving_hintrate',\n",
      "       'equation-solving_scaffold', 'equation-solving_timeover80',\n",
      "       'equation-solving_timeover80rate', 'equation-solving_timetaken',\n",
      "       'equation-solving_workinschoolrate', 'equation-solving_wrong',\n",
      "       'equation-solving_wrongrate'],\n",
      "      dtype='object')\n",
      "Index(['correctrate', 'frhrate', 'frscaffoldh', 'hintrate', 'timeover80rate',\n",
      "       'workinschoolrate', 'wrongrate', 'oncebutfail', 'moreoncebutfail',\n",
      "       'more80sbutfail', 'hintbutfail', 'correctrateless0.5',\n",
      "       'pattern-finding_problemid', 'pattern-finding_actioncount',\n",
      "       'pattern-finding_bottomhint', 'pattern-finding_correct',\n",
      "       'pattern-finding_correctrate', 'pattern-finding_filedin',\n",
      "       'pattern-finding_frhrate', 'pattern-finding_frscaffoldh',\n",
      "       'pattern-finding_hint', 'pattern-finding_hintrate',\n",
      "       'pattern-finding_scaffold', 'pattern-finding_timeover80',\n",
      "       'pattern-finding_timeover80rate', 'pattern-finding_timetaken',\n",
      "       'pattern-finding_workinschoolrate', 'pattern-finding_wrong',\n",
      "       'pattern-finding_wrongrate', 'probability_problemid',\n",
      "       'probability_actioncount', 'probability_bottomhint',\n",
      "       'probability_correct', 'probability_correctrate', 'probability_filedin',\n",
      "       'probability_frhrate', 'probability_frscaffoldh', 'probability_hint',\n",
      "       'probability_hintrate', 'probability_scaffold',\n",
      "       'probability_timeover80', 'probability_timeover80rate',\n",
      "       'probability_timetaken', 'probability_workinschoolrate',\n",
      "       'probability_wrong', 'probability_wrongrate',\n",
      "       'equation-solving_problemid', 'equation-solving_actioncount',\n",
      "       'equation-solving_bottomhint', 'equation-solving_correct',\n",
      "       'equation-solving_correctrate', 'equation-solving_filedin',\n",
      "       'equation-solving_frhrate', 'equation-solving_frscaffoldh',\n",
      "       'equation-solving_hint', 'equation-solving_hintrate',\n",
      "       'equation-solving_scaffold', 'equation-solving_timeover80',\n",
      "       'equation-solving_timeover80rate', 'equation-solving_timetaken',\n",
      "       'equation-solving_workinschoolrate', 'equation-solving_wrong',\n",
      "       'equation-solving_wrongrate', 'isstem'],\n",
      "      dtype='object')\n"
     ]
    },
    {
     "data": {
      "image/png": "[encoded data removed]",
      "text/plain": [
       "<matplotlib.figure.Figure at 0x1891816bf98>"
      ]
     },
     "metadata": {},
     "output_type": "display_data"
    },
    {
     "name": "stdout",
     "output_type": "stream",
     "text": [
      "0.47\n",
      "AUC:0.709404\n",
      "RMSE:0.475123\n",
      "acc:0.600000\n",
      "[[  0.00000000e+00   0.00000000e+00   0.00000000e+00   0.00000000e+00\n",
      "    0.00000000e+00   0.00000000e+00   0.00000000e+00   0.00000000e+00\n",
      "    0.00000000e+00   0.00000000e+00   0.00000000e+00   0.00000000e+00\n",
      "    3.58357090e-10   0.00000000e+00   0.00000000e+00   0.00000000e+00\n",
      "    0.00000000e+00   0.00000000e+00   0.00000000e+00   0.00000000e+00\n",
      "    0.00000000e+00   0.00000000e+00   0.00000000e+00   0.00000000e+00\n",
      "    0.00000000e+00  -2.86621405e-03   0.00000000e+00   0.00000000e+00\n",
      "    0.00000000e+00  -1.03009763e-09   0.00000000e+00   0.00000000e+00\n",
      "    6.55413589e-01   0.00000000e+00   0.00000000e+00   0.00000000e+00\n",
      "    0.00000000e+00  -2.59658152e-01   0.00000000e+00  -9.29639694e-01\n",
      "    0.00000000e+00   0.00000000e+00   5.18391865e-03   7.00645696e-01\n",
      "    0.00000000e+00   0.00000000e+00   1.91783207e-10  -9.79876969e-02\n",
      "    0.00000000e+00   0.00000000e+00   0.00000000e+00   0.00000000e+00\n",
      "    0.00000000e+00   0.00000000e+00   0.00000000e+00   0.00000000e+00\n",
      "   -5.13479174e-01   0.00000000e+00   0.00000000e+00  -6.72916364e-04\n",
      "    0.00000000e+00  -3.82217695e-01   0.00000000e+00]]\n"
     ]
    },
    {
     "data": {
      "text/plain": [
       "[('pattern-finding_problemid', 3.5835709034016138e-10),\n",
       " ('probability_correct', 0.65541358926204685),\n",
       " ('probability_timetaken', 0.0051839186467439891),\n",
       " ('probability_workinschoolrate', 0.70064569636811025),\n",
       " ('equation-solving_problemid', 1.9178320676992957e-10)]"
      ]
     },
     "execution_count": 261,
     "metadata": {},
     "output_type": "execute_result"
    }
   ],
   "source": [
    "new_columns = train_frame.columns[10:-1]\n",
    "print(new_columns)\n",
    "l1_reg_c = np.arange(0.4, .6, 1e-2)\n",
    "K_Forder = 4\n",
    "df=train_frame.iloc[:,10:]\n",
    "print(df.columns)\n",
    "acc_list = []\n",
    "l1_list =[]\n",
    "rate_list = []\n",
    "for l1_c in l1_reg_c:\n",
    "    AUC,RMSE, model ,acc = logistic(df,K_Forder,l1_c)\n",
    "    rate_list.append(AUC-RMSE)\n",
    "\n",
    "plt.xlabel(\"l1 penalty\")\n",
    "plt.ylabel(\"AUC-RMSE\")\n",
    "plt.plot(l1_reg_c,rate_list)\n",
    "plt.show()\n",
    "l1_c = l1_reg_c[rate_list.index(max(rate_list))]\n",
    "print(l1_c)\n",
    "AUC, RMSE, model,acc = logistic(df,K_Forder,l1_c)\n",
    "print(\"AUC:%f\" % AUC)\n",
    "print(\"RMSE:%f\" % RMSE)\n",
    "print(\"acc:%f\" % acc)\n",
    "print(model.coef_)\n",
    "find_name_by_index(new_columns,model.coef_)"
   ]
  },
  {
   "cell_type": "markdown",
   "metadata": {
    "collapsed": true
   },
   "source": [
    "## desition tree"
   ]
  },
  {
   "cell_type": "code",
   "execution_count": 262,
   "metadata": {
    "collapsed": true
   },
   "outputs": [],
   "source": [
    "from sklearn.ensemble import RandomForestClassifier\n",
    "def RandomFC_new(df,c,estimators,depth):\n",
    "    X=df.loc[:,new_columns]\n",
    "    X1=X.values\n",
    "    y=df['isstem']\n",
    "    y1=y.values\n",
    "    kf=KFold(c,shuffle=True)\n",
    "    accurate=[]\n",
    "    for train_index, test_index in kf.split(X1):\n",
    "        X_train,X_test=X1[train_index],X1[test_index]\n",
    "        y_train,y_test=y1[train_index],y1[test_index]\n",
    "        RFC=RandomForestClassifier(n_estimators=estimators,oob_score=True,max_depth=depth,max_features='auto') \n",
    "        RFC.fit(X_train,y_train)\n",
    "        pred = RFC.predict_proba(X_test)[:,1]\n",
    "        fpr, tpr, thresholds = metrics.roc_curve(y_test, pred)\n",
    "        AUC = metrics.auc(fpr, tpr)\n",
    "        RMSE = math.sqrt(metrics.mean_squared_error(y_test, pred))\n",
    "        accurate.append(AUC)\n",
    "        acc = metrics.accuracy_score(y_test, RFC.predict(X_test))\n",
    "    mean_acc=np.mean(accurate)\n",
    "    return mean_acc,RMSE,RFC,acc"
   ]
  },
  {
   "cell_type": "code",
   "execution_count": 263,
   "metadata": {
    "collapsed": false
   },
   "outputs": [
    {
     "data": {
      "image/png": "[encoded data removed]",
      "text/plain": [
       "<matplotlib.figure.Figure at 0x189188b2198>"
      ]
     },
     "metadata": {},
     "output_type": "display_data"
    }
   ],
   "source": [
    "depth_list = range(50,100)\n",
    "# tree_number = range(1,100)\n",
    "acc_RFC_list=[]\n",
    "\n",
    "for depth in depth_list:\n",
    "    acc_rfc,RMSE,RFC,acc =RandomFC_new(df,4,depth,7)\n",
    "    acc_RFC_list.append(acc_rfc-RMSE)\n",
    "\n",
    "plt.xlabel(\"max depth\")\n",
    "plt.ylabel(\"AUC-RMSE\")\n",
    "plt.plot(depth_list,acc_RFC_list)\n",
    "plt.show()"
   ]
  },
  {
   "cell_type": "code",
   "execution_count": 281,
   "metadata": {
    "collapsed": false
   },
   "outputs": [
    {
     "name": "stdout",
     "output_type": "stream",
     "text": [
      "AUC-RMSE:0.391354\n",
      "acc:0.815385\n",
      "[('probability_frscaffoldh', 0.046636734850169559), ('probability_correctrate', 0.041113579236748896), ('probability_frhrate', 0.037009250387028181), ('hintbutfail', 0.035143845484441542), ('equation-solving_wrongrate', 0.032126789180222944), ('equation-solving_wrong', 0.031102097302103164), ('probability_timetaken', 0.025458316899014007), ('pattern-finding_timetaken', 0.024671134077956028), ('probability_correct', 0.02445284022648626), ('equation-solving_correctrate', 0.023984000281308822), ('probability_wrongrate', 0.02239984213484807), ('probability_scaffold', 0.02153862761543884), ('hintrate', 0.021213792040158969), ('pattern-finding_frhrate', 0.021055385957366356), ('probability_hint', 0.020470965865144831), ('pattern-finding_correct', 0.020259007526470554), ('equation-solving_scaffold', 0.020157909009226403), ('equation-solving_actioncount', 0.020110993074393766), ('probability_wrong', 0.019457092325124516), ('correctrateless0.5', 0.019091143159196654), ('pattern-finding_correctrate', 0.018807623652155828), ('probability_actioncount', 0.018516558565290008), ('frhrate', 0.018320079416266063), ('probability_hintrate', 0.018052945328857966), ('more80sbutfail', 0.017919319072410185), ('probability_problemid', 0.017772661857984762), ('equation-solving_problemid', 0.01758008010900727), ('wrongrate', 0.017214604823332948), ('equation-solving_hint', 0.016651737164035715), ('timeover80rate', 0.016067502028992431), ('pattern-finding_problemid', 0.014902744922927961), ('equation-solving_correct', 0.014570728310699816), ('equation-solving_timetaken', 0.01406261770563054), ('pattern-finding_wrongrate', 0.013777776062593007), ('pattern-finding_timeover80', 0.013298294411729359), ('pattern-finding_scaffold', 0.012962501032014255), ('oncebutfail', 0.012875677978892597), ('pattern-finding_wrong', 0.012630022915768497), ('probability_timeover80rate', 0.01233995977820314), ('moreoncebutfail', 0.011562973359437949), ('frscaffoldh', 0.011356041142999235), ('probability_timeover80', 0.011159871605727224), ('pattern-finding_timeover80rate', 0.010699673863113676), ('equation-solving_frscaffoldh', 0.010661438559517353), ('probability_workinschoolrate', 0.0105897202794975), ('pattern-finding_frscaffoldh', 0.010548878812599499), ('pattern-finding_actioncount', 0.010404385800489576), ('equation-solving_frhrate', 0.0091777062438031382), ('probability_bottomhint', 0.0085849208551612051), ('pattern-finding_hint', 0.0081012570254415071), ('pattern-finding_hintrate', 0.0074451249092577481), ('correctrate', 0.0074205986699893986), ('equation-solving_timeover80', 0.007323853056370914), ('equation-solving_hintrate', 0.0070268987771692527), ('equation-solving_timeover80rate', 0.005952697600372904), ('workinschoolrate', 0.0058839788929792554), ('pattern-finding_bottomhint', 0.0053917779655994983), ('equation-solving_bottomhint', 0.0050445050720965365), ('probability_filedin', 0.0035227860033850873), ('pattern-finding_workinschoolrate', 0.0026670214678464104), ('equation-solving_workinschoolrate', 0.0024551816684425828), ('pattern-finding_filedin', 0.00063316703162448354), ('equation-solving_filedin', 0.00060875956743734955)]\n"
     ]
    }
   ],
   "source": [
    "depth = 7\n",
    "acc_rfc, RMSE, RFC,acc = RandomFC(df,4,57,depth)\n",
    "print(\"AUC-RMSE:%f\" % (acc_rfc- RMSE))\n",
    "print(\"acc:%f\" % acc)\n",
    "importances = RFC.feature_importances_\n",
    "name_list = []\n",
    "for i in range(len(importances)):\n",
    "    name_list.append((new_columns[i],importances[i]))\n",
    "name_list.sort(key = lambda x: x[1],reverse=True)\n",
    "print(name_list)"
   ]
  },
  {
   "cell_type": "markdown",
   "metadata": {},
   "source": [
    "## ave+ correct"
   ]
  },
  {
   "cell_type": "code",
   "execution_count": 298,
   "metadata": {
    "collapsed": false
   },
   "outputs": [
    {
     "name": "stdout",
     "output_type": "stream",
     "text": [
      "Index(['aveknow', 'avecarelessness', 'avecorrect', 'numactions', 'averesbored',\n",
      "       'averesengcon', 'averesconf', 'averesfrust', 'averesofftask',\n",
      "       'averesgaming', 'correctrate'],\n",
      "      dtype='object')\n",
      "Index(['aveknow', 'avecarelessness', 'avecorrect', 'numactions', 'averesbored',\n",
      "       'averesengcon', 'averesconf', 'averesfrust', 'averesofftask',\n",
      "       'averesgaming', 'correctrate', 'isstem'],\n",
      "      dtype='object')\n"
     ]
    },
    {
     "data": {
      "image/png": "[encoded data removed]",
      "text/plain": [
       "<matplotlib.figure.Figure at 0x18918929ba8>"
      ]
     },
     "metadata": {},
     "output_type": "display_data"
    },
    {
     "name": "stdout",
     "output_type": "stream",
     "text": [
      "0.59\n",
      "AUC:0.640595\n",
      "RMSE:0.472722\n",
      "acc:0.646154\n",
      "[[  7.17207274e-01   0.00000000e+00   9.37024157e-02  -5.07744965e-04\n",
      "    0.00000000e+00   0.00000000e+00   0.00000000e+00   0.00000000e+00\n",
      "    0.00000000e+00   0.00000000e+00   1.76184146e-01]]\n"
     ]
    },
    {
     "data": {
      "text/plain": [
       "[('aveknow', 0.71720727360150649),\n",
       " ('avecorrect', 0.093702415674469422),\n",
       " ('correctrate', 0.17618414614498318)]"
      ]
     },
     "execution_count": 298,
     "metadata": {},
     "output_type": "execute_result"
    }
   ],
   "source": [
    "new_columns = train_frame.columns[:11]\n",
    "print(new_columns)\n",
    "l1_reg_c = np.arange(0.4, .6, 1e-2)\n",
    "K_Forder = 4\n",
    "df=train_frame.iloc[:,:11]\n",
    "df['isstem'] = train_frame['isstem']\n",
    "print(df.columns)\n",
    "acc_list = []\n",
    "l1_list =[]\n",
    "rate_list = []\n",
    "for l1_c in l1_reg_c:\n",
    "    AUC,RMSE, model ,acc = logistic(df,K_Forder,l1_c)\n",
    "    rate_list.append(AUC-RMSE)\n",
    "\n",
    "plt.xlabel(\"l1 penalty\")\n",
    "plt.ylabel(\"AUC-RMSE\")\n",
    "plt.plot(l1_reg_c,rate_list)\n",
    "plt.show()\n",
    "l1_c = l1_reg_c[rate_list.index(max(rate_list))]\n",
    "print(l1_c)\n",
    "AUC, RMSE, model,acc = logistic(df,K_Forder,l1_c)\n",
    "print(\"AUC:%f\" % AUC)\n",
    "print(\"RMSE:%f\" % RMSE)\n",
    "print(\"acc:%f\" % acc)\n",
    "print(model.coef_)\n",
    "find_name_by_index(new_columns,model.coef_)"
   ]
  },
  {
   "cell_type": "code",
   "execution_count": 299,
   "metadata": {
    "collapsed": false
   },
   "outputs": [
    {
     "data": {
      "image/png": "[encoded data removed]",
      "text/plain": [
       "<matplotlib.figure.Figure at 0x1891508df60>"
      ]
     },
     "metadata": {},
     "output_type": "display_data"
    }
   ],
   "source": [
    "depth_list = range(50,100)\n",
    "# tree_number = range(1,100)\n",
    "acc_RFC_list=[]\n",
    "\n",
    "for depth in depth_list:\n",
    "    acc_rfc,RMSE,RFC,acc =RandomFC_new(df,4,depth,7)\n",
    "    acc_RFC_list.append(acc_rfc-RMSE)\n",
    "\n",
    "plt.xlabel(\"max depth\")\n",
    "plt.ylabel(\"AUC-RMSE\")\n",
    "plt.plot(depth_list,acc_RFC_list)\n",
    "plt.show()"
   ]
  },
  {
   "cell_type": "code",
   "execution_count": 346,
   "metadata": {
    "collapsed": false
   },
   "outputs": [
    {
     "name": "stdout",
     "output_type": "stream",
     "text": [
      "AUC-RMSE:0.283772\n",
      "acc:0.615385\n",
      "[('correctrate', 0.13745584206690442), ('avecorrect', 0.11232570436768478), ('avecarelessness', 0.1083472489855228), ('aveknow', 0.10442576463434378), ('averesofftask', 0.092940059862495983), ('averesconf', 0.087478616740929771), ('averesbored', 0.077867512775254916), ('averesfrust', 0.072124824044759603), ('averesgaming', 0.071680396677803362), ('numactions', 0.068235766188356028), ('averesengcon', 0.067118263655944574)]\n"
     ]
    }
   ],
   "source": [
    "depth = 7\n",
    "acc_rfc, RMSE, RFC,acc = RandomFC_new(df,4,57,depth)\n",
    "print(\"AUC-RMSE:%f\" % (acc_rfc- RMSE))\n",
    "print(\"acc:%f\" % acc)\n",
    "importances = RFC.feature_importances_\n",
    "name_list = []\n",
    "for i in range(len(importances)):\n",
    "    name_list.append((new_columns[i],importances[i]))\n",
    "name_list.sort(key = lambda x: x[1],reverse=True)\n",
    "print(name_list)"
   ]
  },
  {
   "cell_type": "markdown",
   "metadata": {},
   "source": [
    "### feature extent"
   ]
  },
  {
   "cell_type": "code",
   "execution_count": 360,
   "metadata": {
    "collapsed": false
   },
   "outputs": [
    {
     "name": "stdout",
     "output_type": "stream",
     "text": [
      "260\n"
     ]
    }
   ],
   "source": [
    "X = new_student_information.iloc[:,:11].values\n",
    "new_columns = new_student_information.iloc[:,:11].columns\n",
    "poly = PolynomialFeatures(2)\n",
    "new_X = poly.fit_transform(X)\n",
    "new_columns1 = poly.get_feature_names(new_columns)\n",
    "new_frame = pd.DataFrame(data = new_X,index = new_student_information.index,columns = new_columns1)\n",
    "train_frame = pd.merge(new_frame,training_label,how='inner')\n",
    "train_frame.drop(['schoolid','mcas'], axis=1,inplace=True)  \n",
    "# training_label = training_label[all_lower(['isSTEM'])]\n",
    "isstem = train_frame[train_frame['isstem']==1]\n",
    "nostem = train_frame[train_frame['isstem']==0].sample(len(isstem))\n",
    "train_frame = pd.concat([isstem,nostem],axis=0)\n",
    "print(len(train_frame))"
   ]
  },
  {
   "cell_type": "code",
   "execution_count": 403,
   "metadata": {
    "collapsed": false
   },
   "outputs": [
    {
     "data": {
      "image/png": "[encoded data removed]",
      "text/plain": [
       "<matplotlib.figure.Figure at 0x189189b5400>"
      ]
     },
     "metadata": {},
     "output_type": "display_data"
    },
    {
     "name": "stdout",
     "output_type": "stream",
     "text": [
      "0.011\n",
      "AUC-RMSE:0.113648\n",
      "acc:0.584615\n",
      "[[  0.00000000e+00   0.00000000e+00   0.00000000e+00   0.00000000e+00\n",
      "   -1.71014852e-03   0.00000000e+00   0.00000000e+00   0.00000000e+00\n",
      "    0.00000000e+00   0.00000000e+00   0.00000000e+00   0.00000000e+00\n",
      "    0.00000000e+00   0.00000000e+00   0.00000000e+00   4.82352499e-03\n",
      "    0.00000000e+00   0.00000000e+00   0.00000000e+00   0.00000000e+00\n",
      "    0.00000000e+00   0.00000000e+00   0.00000000e+00   0.00000000e+00\n",
      "    0.00000000e+00   0.00000000e+00   0.00000000e+00   0.00000000e+00\n",
      "    0.00000000e+00   0.00000000e+00   0.00000000e+00   0.00000000e+00\n",
      "    0.00000000e+00   0.00000000e+00   1.39749901e-03   0.00000000e+00\n",
      "    0.00000000e+00   0.00000000e+00   0.00000000e+00   0.00000000e+00\n",
      "    0.00000000e+00   0.00000000e+00  -4.83739631e-07   0.00000000e+00\n",
      "    0.00000000e+00   3.49148568e-03  -3.55217449e-03   0.00000000e+00\n",
      "    2.85937080e-03   0.00000000e+00   0.00000000e+00   0.00000000e+00\n",
      "    0.00000000e+00   0.00000000e+00   0.00000000e+00   0.00000000e+00\n",
      "    0.00000000e+00   0.00000000e+00   0.00000000e+00   0.00000000e+00\n",
      "    0.00000000e+00   0.00000000e+00   0.00000000e+00   0.00000000e+00\n",
      "    0.00000000e+00   0.00000000e+00   0.00000000e+00   0.00000000e+00\n",
      "    0.00000000e+00   0.00000000e+00   0.00000000e+00   0.00000000e+00\n",
      "    0.00000000e+00   0.00000000e+00   0.00000000e+00   0.00000000e+00\n",
      "    0.00000000e+00   0.00000000e+00]]\n"
     ]
    },
    {
     "data": {
      "text/plain": [
       "[('aveknow numactions', 0.0048235249940128044),\n",
       " ('avecorrect numactions', 0.0013974990061147675),\n",
       " ('numactions averesconf', 0.0034914856837241297),\n",
       " ('numactions averesgaming', 0.0028593708020813314)]"
      ]
     },
     "execution_count": 403,
     "metadata": {},
     "output_type": "execute_result"
    }
   ],
   "source": [
    "def logistic_n(df,k,l1):\n",
    "    X=df.loc[:,new_columns1]\n",
    "    X1=X.values   \n",
    "    y=df['isstem']\n",
    "    y1=y.values  \n",
    "    kf=KFold(k,shuffle=True)\n",
    "    AUC_list = []\n",
    "    for train_index, test_index in kf.split(X1):\n",
    "        X_train,X_test=X1[train_index],X1[test_index]\n",
    "        y_train,y_test=y1[train_index],y1[test_index]\n",
    "        log=LogisticRegression(C= l1, penalty=\"l1\", dual=False)\n",
    "        log.fit(X_train,y_train)\n",
    "        pred = log.predict_proba(X_test)[:,1]\n",
    "        fpr, tpr, thresholds = metrics.roc_curve(y_test, pred)\n",
    "        AUC = metrics.auc(fpr, tpr)\n",
    "        RMES = math.sqrt(metrics.mean_squared_error(y_test, pred))\n",
    "        AUC_list.append(AUC)\n",
    "        acc = metrics.accuracy_score(y_test, log.predict(X_test))\n",
    "    mean_acc=np.mean(AUC_list)\n",
    "\n",
    "    return mean_acc , RMES ,log,acc\n",
    "\n",
    "l1_reg_c = np.arange(0.001, 0.1, 1e-3)\n",
    "K_Forder = 4\n",
    "df=train_frame\n",
    "\n",
    "acc_list = []\n",
    "l1_list =[]\n",
    "rate_list = []\n",
    "for l1_c in l1_reg_c:\n",
    "    AUC,RMSE, model ,acc = logistic_n(df,K_Forder,l1_c)\n",
    "    rate_list.append(AUC-RMSE)\n",
    "\n",
    "plt.xlabel(\"l1 penalty\")\n",
    "plt.ylabel(\"AUC-RMSE\")\n",
    "plt.plot(l1_reg_c,rate_list)\n",
    "plt.show()\n",
    "l1_c = l1_reg_c[rate_list.index(max(rate_list))]\n",
    "print(l1_c)\n",
    "\n",
    "AUC, RMSE, model,acc = logistic_n(df,K_Forder,l1_c)\n",
    "print(\"AUC-RMSE:%f\" % (AUC-RMSE))\n",
    "print(\"acc:%f\" % acc)\n",
    "print(model.coef_)\n",
    "find_name_by_index(new_columns1,model.coef_)"
   ]
  },
  {
   "cell_type": "code",
   "execution_count": 422,
   "metadata": {
    "collapsed": false
   },
   "outputs": [
    {
     "name": "stdout",
     "output_type": "stream",
     "text": [
      "AUC-RMSE:0.119564\n",
      "acc:0.584615\n",
      "[[  0.00000000e+00   0.00000000e+00   0.00000000e+00   0.00000000e+00\n",
      "   -1.05806092e-03   0.00000000e+00   0.00000000e+00   0.00000000e+00\n",
      "    0.00000000e+00   0.00000000e+00   0.00000000e+00   0.00000000e+00\n",
      "    0.00000000e+00   0.00000000e+00   0.00000000e+00   3.54870073e-03\n",
      "    0.00000000e+00   0.00000000e+00   0.00000000e+00   0.00000000e+00\n",
      "    0.00000000e+00   0.00000000e+00   0.00000000e+00   0.00000000e+00\n",
      "    0.00000000e+00   7.79191535e-03   0.00000000e+00   0.00000000e+00\n",
      "    0.00000000e+00   0.00000000e+00   0.00000000e+00   0.00000000e+00\n",
      "    0.00000000e+00   0.00000000e+00  -2.32035023e-03   0.00000000e+00\n",
      "    0.00000000e+00   0.00000000e+00   0.00000000e+00   0.00000000e+00\n",
      "    0.00000000e+00   0.00000000e+00   8.18421680e-08   0.00000000e+00\n",
      "   -5.22439100e-04   9.59681279e-03  -6.83713706e-03   0.00000000e+00\n",
      "    0.00000000e+00   1.25815402e-04   0.00000000e+00   0.00000000e+00\n",
      "    0.00000000e+00   0.00000000e+00   0.00000000e+00   0.00000000e+00\n",
      "    0.00000000e+00   0.00000000e+00   0.00000000e+00   0.00000000e+00\n",
      "    0.00000000e+00   0.00000000e+00   0.00000000e+00   0.00000000e+00\n",
      "    0.00000000e+00   0.00000000e+00   0.00000000e+00   0.00000000e+00\n",
      "    0.00000000e+00   0.00000000e+00   0.00000000e+00   0.00000000e+00\n",
      "    0.00000000e+00   0.00000000e+00   0.00000000e+00   0.00000000e+00\n",
      "    0.00000000e+00   0.00000000e+00]]\n"
     ]
    },
    {
     "data": {
      "text/plain": [
       "[('aveknow numactions', 0.0035487007257326473),\n",
       " ('avecarelessness numactions', 0.0077919153462077881),\n",
       " ('numactions^2', 8.1842167964032625e-08),\n",
       " ('numactions averesconf', 0.0095968127871328707),\n",
       " ('numactions correctrate', 0.00012581540181088582)]"
      ]
     },
     "execution_count": 422,
     "metadata": {},
     "output_type": "execute_result"
    }
   ],
   "source": [
    "l1_c = 0.01\n",
    "AUC, RMSE, model,acc = logistic_n(df,K_Forder,l1_c)\n",
    "print(\"AUC-RMSE:%f\" % (AUC-RMSE))\n",
    "print(\"acc:%f\" % acc)\n",
    "print(model.coef_)\n",
    "find_name_by_index(new_columns1,model.coef_)"
   ]
  },
  {
   "cell_type": "code",
   "execution_count": null,
   "metadata": {
    "collapsed": true
   },
   "outputs": [],
   "source": []
  },
  {
   "cell_type": "code",
   "execution_count": null,
   "metadata": {
    "collapsed": true
   },
   "outputs": [],
   "source": []
  }
 ],
 "metadata": {
  "kernelspec": {
   "display_name": "Python 3",
   "language": "python",
   "name": "python3"
  },
  "language_info": {
   "codemirror_mode": {
    "name": "ipython",
    "version": 3
   },
   "file_extension": ".py",
   "mimetype": "text/x-python",
   "name": "python",
   "nbconvert_exporter": "python",
   "pygments_lexer": "ipython3",
   "version": "3.5.4"
  }
 },
 "nbformat": 4,
 "nbformat_minor": 0
}
