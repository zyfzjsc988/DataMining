{
 "cells": [
  {
   "cell_type": "markdown",
   "metadata": {},
   "source": [
    "**Notebook to visualize the forest**"
   ]
  },
  {
   "cell_type": "code",
   "execution_count": null,
   "metadata": {},
   "outputs": [],
   "source": [
    "import os, sys\n",
    "import pandas as pd\n",
    "import sklearn\n",
    "import numpy as np\n",
    "import graphviz\n",
    "import io\n",
    "import pydotplus\n",
    "import sklearn.ensemble\n",
    "import matplotlib as plt\n",
    "from sklearn.model_selection import cross_val_score\n",
    "from sklearn.tree import DecisionTreeClassifier, export_graphviz\n",
    "from sklearn import tree\n",
    "from scipy import misc\n",
    "path = os.getcwd() + '/data/'"
   ]
  },
  {
   "cell_type": "code",
   "execution_count": null,
   "metadata": {},
   "outputs": [],
   "source": [
    "# concatenate the data\n",
    "\n",
    "log1 = pd.read_csv(path + 'student_log_{}.csv'.format(1))\n",
    "initial_col_order = [col.lower() for col in list(log1.columns)]\n",
    "\n",
    "data = pd.DataFrame()\n",
    "for i in range(1, 2):\n",
    "    student_log = pd.read_csv(path + 'student_log_{}.csv'.format(i))\n",
    "    student_log.columns = [col.lower() for col in student_log]\n",
    "    data = pd.concat([data, student_log], ignore_index=True)\n",
    "\n",
    "data = data[initial_col_order]\n",
    "data.shape\n",
    "data.head()\n",
    "\n",
    "training = pd.read_csv(path + 'training_label.csv').drop(['AveCorrect'], axis=1)\n",
    "training.columns = [col.lower() for col in training.columns]\n",
    "training.shape\n",
    "\n",
    "# testing on a little dataset\n",
    "df = data\n",
    "df1 = df.merge(training, on='itest_id', how=\"left\")\n",
    "\n",
    "actions = df1[df1.isstem.notnull()]\n",
    "\n",
    "print(\"training set size: \", training.shape[0], \"actions for # of students: \", len(actions.itest_id.unique()))\n",
    "print(\"sample size useless for training: \", training.shape[0] - len(actions.itest_id.unique()))\n",
    "\n",
    "\n",
    "# merged training data set\n",
    "stem = actions[actions.isstem == 1]\n",
    "nonstem = actions[actions.isstem == 0]\n",
    "\n",
    "# prepare data\n",
    "actions_clear = actions.drop(['actionid', 'problemid', 'assignmentid', 'assistmentid', 'starttime', 'endtime'], axis=1)\n",
    "\n",
    "# dummy columns\n",
    "nominal_columns = ['sy assistments usage','skill']\n",
    "dummy_df = pd.get_dummies(actions_clear['problemtype'])\n",
    "print(dummy_df.columns)\n",
    "print('0' in dummy_df)\n",
    "# dummy_df = dummy_df.drop([u'0', u'1'], axis=1)\n",
    "print('0' in dummy_df)\n",
    "\n",
    "new_actions = pd.concat([actions_clear, dummy_df], axis=1)\n",
    "print('0' in new_actions)\n",
    "\n",
    "nominal_columns = ['sy assistments usage', 'skill']\n",
    "dummy_df = pd.get_dummies(actions_clear[nominal_columns])\n",
    "new_actions = pd.concat([new_actions, dummy_df], axis=1)\n",
    "print('0' in new_actions)\n",
    "new_actions = new_actions.drop(['sy assistments usage', 'skill', 'problemtype'], axis=1)\n",
    "\n",
    "target = new_actions['isstem']\n",
    "new_actions = new_actions.drop(['isstem'], axis=1)\n",
    "\n",
    "new_actions['ln'] = new_actions['ln'].astype(float)\n",
    "new_actions['ln-1'] = new_actions['ln-1'].astype(float)\n",
    "\n",
    "new_actions = new_actions.drop(['sumtime3sdwhen3rowright'], axis=1)\n"
   ]
  },
  {
   "cell_type": "code",
   "execution_count": 1,
   "metadata": {},
   "outputs": [],
   "source": [
    "# define function to plot the forest\n",
    "def show_tree(tree, path):\n",
    "    f = io.BytesIO()\n",
    "    export_graphviz(tree, out_file=f, feature_names=features)\n",
    "    pydotplus.graph_from_dot_data(f.getvalue()).write_png(path)\n"
   ]
  },
  {
   "cell_type": "code",
   "execution_count": null,
   "metadata": {},
   "outputs": [],
   "source": [
    "# plot forest\n",
    "i_tree = 0\n",
    "for tree_in_forest in clf.estimators_:\n",
    "    if (i_tree <1):\n",
    "        f = io.BytesIO()\n",
    "#         tree.export_graphviz(tree_in_forest, out_file=f)\n",
    "        export_graphviz(tree_in_forest,\n",
    "                    feature_names=new_actions.columns,\n",
    "                    filled=True,\n",
    "                    rounded=True, out_file=f)\n",
    "    #     os.system('dot -Tpng tree.dot -o tree.png')\n",
    "        pydotplus.graph_from_dot_data(f.getvalue()).write_png('dtree'+ str(i_tree) +'.png')\n",
    "        i_tree = i_tree + 1\n"
   ]
  }
 ],
 "metadata": {
  "kernelspec": {
   "display_name": "Python 2",
   "language": "python",
   "name": "python2"
  },
  "language_info": {
   "codemirror_mode": {
    "name": "ipython",
    "version": 2
   },
   "file_extension": ".py",
   "mimetype": "text/x-python",
   "name": "python",
   "nbconvert_exporter": "python",
   "pygments_lexer": "ipython2",
   "version": "2.7.12"
  }
 },
 "nbformat": 4,
 "nbformat_minor": 2
}
