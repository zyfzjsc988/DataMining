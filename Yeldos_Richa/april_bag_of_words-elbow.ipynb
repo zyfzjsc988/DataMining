{
 "cells": [
  {
   "cell_type": "code",
   "execution_count": 18,
   "metadata": {
    "collapsed": false,
    "deletable": true,
    "editable": true
   },
   "outputs": [],
   "source": [
    "import os, sys\n",
    "import pandas as pd\n",
    "import numpy as np\n",
    "import matplotlib.pyplot as plt\n",
    "import seaborn as sns\n",
    "from sklearn.linear_model import Lasso, LinearRegression, LogisticRegression\n",
    "from sklearn.svm import SVC\n",
    "from sklearn.model_selection import train_test_split\n",
    "from sklearn.metrics import roc_curve, auc\n",
    "import datetime\n",
    "from sklearn.neural_network import MLPClassifier\n",
    "from sklearn import metrics\n",
    "import math\n",
    "from numpy.linalg import svd\n",
    "\n",
    "from sklearn.ensemble import RandomForestClassifier\n",
    "\n",
    "from mlxtend.preprocessing import TransactionEncoder\n",
    "from mlxtend.frequent_patterns import apriori\n",
    "from sklearn.externals import joblib\n"
   ]
  },
  {
   "cell_type": "markdown",
   "metadata": {
    "deletable": true,
    "editable": true
   },
   "source": [
    "### Loading the initial dataset"
   ]
  },
  {
   "cell_type": "code",
   "execution_count": 3,
   "metadata": {
    "collapsed": false,
    "deletable": true,
    "editable": true
   },
   "outputs": [
    {
     "name": "stdout",
     "output_type": "stream",
     "text": [
      "/Users/yeldosbalgabekov/Desktop/Books and Schools/UoSouthampton/Data Mining/DataMining/Yeldos_Richa/../dataset/anonymized_dataset_for_ADM2017/student_log_1.csv\n"
     ]
    },
    {
     "name": "stderr",
     "output_type": "stream",
     "text": [
      "/Users/yeldosbalgabekov/anaconda2/envs/py35/lib/python3.6/site-packages/IPython/core/interactiveshell.py:2728: DtypeWarning: Columns (74,75) have mixed types. Specify dtype option on import or set low_memory=False.\n",
      "  interactivity=interactivity, compiler=compiler, result=result)\n"
     ]
    },
    {
     "data": {
      "text/html": [
       "<div>\n",
       "<style scoped>\n",
       "    .dataframe tbody tr th:only-of-type {\n",
       "        vertical-align: middle;\n",
       "    }\n",
       "\n",
       "    .dataframe tbody tr th {\n",
       "        vertical-align: top;\n",
       "    }\n",
       "\n",
       "    .dataframe thead th {\n",
       "        text-align: right;\n",
       "    }\n",
       "</style>\n",
       "<table border=\"1\" class=\"dataframe\">\n",
       "  <thead>\n",
       "    <tr style=\"text-align: right;\">\n",
       "      <th></th>\n",
       "      <th>itest_id</th>\n",
       "      <th>sy assistments usage</th>\n",
       "      <th>aveknow</th>\n",
       "      <th>avecarelessness</th>\n",
       "      <th>avecorrect</th>\n",
       "      <th>numactions</th>\n",
       "      <th>averesbored</th>\n",
       "      <th>averesengcon</th>\n",
       "      <th>averesconf</th>\n",
       "      <th>averesfrust</th>\n",
       "      <th>...</th>\n",
       "      <th>confidence(off task)</th>\n",
       "      <th>confidence(gaming)</th>\n",
       "      <th>res_bored</th>\n",
       "      <th>res_concentrating</th>\n",
       "      <th>res_confused</th>\n",
       "      <th>res_frustrated</th>\n",
       "      <th>res_offtask</th>\n",
       "      <th>res_gaming</th>\n",
       "      <th>ln-1</th>\n",
       "      <th>ln</th>\n",
       "    </tr>\n",
       "  </thead>\n",
       "  <tbody>\n",
       "    <tr>\n",
       "      <th>0</th>\n",
       "      <td>8</td>\n",
       "      <td>2004-2005</td>\n",
       "      <td>0.352416</td>\n",
       "      <td>0.183276</td>\n",
       "      <td>0.483902</td>\n",
       "      <td>1056</td>\n",
       "      <td>0.208389</td>\n",
       "      <td>0.679126</td>\n",
       "      <td>0.115905</td>\n",
       "      <td>0.112408</td>\n",
       "      <td>...</td>\n",
       "      <td>0.838710</td>\n",
       "      <td>0.008522</td>\n",
       "      <td>0.376427</td>\n",
       "      <td>0.320317</td>\n",
       "      <td>0.000000</td>\n",
       "      <td>0.0</td>\n",
       "      <td>0.785585</td>\n",
       "      <td>0.000264</td>\n",
       "      <td>0.13</td>\n",
       "      <td>0.0611904</td>\n",
       "    </tr>\n",
       "    <tr>\n",
       "      <th>1</th>\n",
       "      <td>8</td>\n",
       "      <td>2004-2005</td>\n",
       "      <td>0.352416</td>\n",
       "      <td>0.183276</td>\n",
       "      <td>0.483902</td>\n",
       "      <td>1056</td>\n",
       "      <td>0.208389</td>\n",
       "      <td>0.679126</td>\n",
       "      <td>0.115905</td>\n",
       "      <td>0.112408</td>\n",
       "      <td>...</td>\n",
       "      <td>0.600000</td>\n",
       "      <td>0.047821</td>\n",
       "      <td>0.156027</td>\n",
       "      <td>0.995053</td>\n",
       "      <td>0.887452</td>\n",
       "      <td>0.0</td>\n",
       "      <td>0.468252</td>\n",
       "      <td>0.001483</td>\n",
       "      <td>0.0611904</td>\n",
       "      <td>0.21351</td>\n",
       "    </tr>\n",
       "    <tr>\n",
       "      <th>2</th>\n",
       "      <td>8</td>\n",
       "      <td>2004-2005</td>\n",
       "      <td>0.352416</td>\n",
       "      <td>0.183276</td>\n",
       "      <td>0.483902</td>\n",
       "      <td>1056</td>\n",
       "      <td>0.208389</td>\n",
       "      <td>0.679126</td>\n",
       "      <td>0.115905</td>\n",
       "      <td>0.112408</td>\n",
       "      <td>...</td>\n",
       "      <td>0.600000</td>\n",
       "      <td>0.047821</td>\n",
       "      <td>0.156027</td>\n",
       "      <td>0.995053</td>\n",
       "      <td>0.887452</td>\n",
       "      <td>0.0</td>\n",
       "      <td>0.468252</td>\n",
       "      <td>0.001483</td>\n",
       "      <td>0.116</td>\n",
       "      <td>0.0333058</td>\n",
       "    </tr>\n",
       "    <tr>\n",
       "      <th>3</th>\n",
       "      <td>8</td>\n",
       "      <td>2004-2005</td>\n",
       "      <td>0.352416</td>\n",
       "      <td>0.183276</td>\n",
       "      <td>0.483902</td>\n",
       "      <td>1056</td>\n",
       "      <td>0.208389</td>\n",
       "      <td>0.679126</td>\n",
       "      <td>0.115905</td>\n",
       "      <td>0.112408</td>\n",
       "      <td>...</td>\n",
       "      <td>0.204082</td>\n",
       "      <td>0.343996</td>\n",
       "      <td>0.156027</td>\n",
       "      <td>0.744520</td>\n",
       "      <td>0.000000</td>\n",
       "      <td>0.0</td>\n",
       "      <td>0.108417</td>\n",
       "      <td>0.010665</td>\n",
       "      <td>0.116</td>\n",
       "      <td>0.0333058</td>\n",
       "    </tr>\n",
       "    <tr>\n",
       "      <th>4</th>\n",
       "      <td>8</td>\n",
       "      <td>2004-2005</td>\n",
       "      <td>0.352416</td>\n",
       "      <td>0.183276</td>\n",
       "      <td>0.483902</td>\n",
       "      <td>1056</td>\n",
       "      <td>0.208389</td>\n",
       "      <td>0.679126</td>\n",
       "      <td>0.115905</td>\n",
       "      <td>0.112408</td>\n",
       "      <td>...</td>\n",
       "      <td>0.204082</td>\n",
       "      <td>0.343996</td>\n",
       "      <td>0.156027</td>\n",
       "      <td>0.744520</td>\n",
       "      <td>0.000000</td>\n",
       "      <td>0.0</td>\n",
       "      <td>0.108417</td>\n",
       "      <td>0.010665</td>\n",
       "      <td>0.0333058</td>\n",
       "      <td>0.118386</td>\n",
       "    </tr>\n",
       "  </tbody>\n",
       "</table>\n",
       "<p>5 rows × 76 columns</p>\n",
       "</div>"
      ],
      "text/plain": [
       "   itest_id sy assistments usage   aveknow  avecarelessness  avecorrect  \\\n",
       "0         8            2004-2005  0.352416         0.183276    0.483902   \n",
       "1         8            2004-2005  0.352416         0.183276    0.483902   \n",
       "2         8            2004-2005  0.352416         0.183276    0.483902   \n",
       "3         8            2004-2005  0.352416         0.183276    0.483902   \n",
       "4         8            2004-2005  0.352416         0.183276    0.483902   \n",
       "\n",
       "   numactions  averesbored  averesengcon  averesconf  averesfrust    ...      \\\n",
       "0        1056     0.208389      0.679126    0.115905     0.112408    ...       \n",
       "1        1056     0.208389      0.679126    0.115905     0.112408    ...       \n",
       "2        1056     0.208389      0.679126    0.115905     0.112408    ...       \n",
       "3        1056     0.208389      0.679126    0.115905     0.112408    ...       \n",
       "4        1056     0.208389      0.679126    0.115905     0.112408    ...       \n",
       "\n",
       "   confidence(off task)  confidence(gaming)  res_bored res_concentrating  \\\n",
       "0              0.838710            0.008522   0.376427          0.320317   \n",
       "1              0.600000            0.047821   0.156027          0.995053   \n",
       "2              0.600000            0.047821   0.156027          0.995053   \n",
       "3              0.204082            0.343996   0.156027          0.744520   \n",
       "4              0.204082            0.343996   0.156027          0.744520   \n",
       "\n",
       "   res_confused  res_frustrated  res_offtask  res_gaming       ln-1         ln  \n",
       "0      0.000000             0.0     0.785585    0.000264       0.13  0.0611904  \n",
       "1      0.887452             0.0     0.468252    0.001483  0.0611904    0.21351  \n",
       "2      0.887452             0.0     0.468252    0.001483      0.116  0.0333058  \n",
       "3      0.000000             0.0     0.108417    0.010665      0.116  0.0333058  \n",
       "4      0.000000             0.0     0.108417    0.010665  0.0333058   0.118386  \n",
       "\n",
       "[5 rows x 76 columns]"
      ]
     },
     "execution_count": 3,
     "metadata": {},
     "output_type": "execute_result"
    }
   ],
   "source": [
    "path = os.getcwd() + '/../dataset/anonymized_dataset_for_ADM2017/'\n",
    "print(path + 'student_log_{}.csv'.format(1))\n",
    "log1 = pd.read_csv(path + 'student_log_{}.csv'.format(1))\n",
    "initial_col_order = [col.lower() for col in list(log1.columns)]\n",
    "\n",
    "data = pd.DataFrame()\n",
    "for i in range(1, 10):\n",
    "    student_log = pd.read_csv(path + 'student_log_{}.csv'.format(i))\n",
    "    student_log.columns = [col.lower() for col in student_log]\n",
    "    data = pd.concat([data, student_log], ignore_index=True)\n",
    "\n",
    "# reorder everything with the original order, where student id is in the first column\n",
    "data = data[initial_col_order]\n",
    "data.shape\n",
    "data.head()"
   ]
  },
  {
   "cell_type": "markdown",
   "metadata": {
    "deletable": true,
    "editable": true
   },
   "source": [
    "### Transforming the initial dataset and loading Training Set"
   ]
  },
  {
   "cell_type": "code",
   "execution_count": 4,
   "metadata": {
    "collapsed": false,
    "deletable": true,
    "editable": true
   },
   "outputs": [],
   "source": [
    "def to_float(x):\n",
    "    try:\n",
    "        if x.isdigit():\n",
    "            return float(x)\n",
    "    except:\n",
    "        if x == '.':\n",
    "            return 0\n",
    "        return x\n",
    "\n",
    "def series_types(series):\n",
    "    types = []\n",
    "    for i in set(series):\n",
    "        if not type(i) in types:\n",
    "            types.append(type(i))\n",
    "    return(types)\n",
    "\n",
    "\n",
    "data['sy assistments usage'] = data['sy assistments usage'].astype('category')\n",
    "data['skill'] = data['skill'].astype('category')\n",
    "data['problemtype'] = data['problemtype'].astype('category')\n",
    "data['ln-1'] = data['ln-1'].apply(lambda x: to_float(x))\n",
    "data['ln'] = data['ln'].apply(lambda x: to_float(x))\n",
    "# data.memory_usage(deep=True)\n",
    "# data.info(memory_usage='deep')\n",
    "\n",
    "training = pd.read_csv(path + 'training_label.csv').drop(['AveCorrect'], axis=1)\n",
    "training.columns = [col.lower() for col in training.columns]\n",
    "training.shape\n",
    "\n",
    "# merged data set with isSTEM\n",
    "df = data.merge(training, on='itest_id', how=\"left\")\n",
    "#df.info()\n"
   ]
  },
  {
   "cell_type": "markdown",
   "metadata": {
    "deletable": true,
    "editable": true
   },
   "source": [
    "### Filtering for the actions of the \"training\" students"
   ]
  },
  {
   "cell_type": "code",
   "execution_count": 5,
   "metadata": {
    "collapsed": false,
    "deletable": true,
    "editable": true
   },
   "outputs": [
    {
     "name": "stdout",
     "output_type": "stream",
     "text": [
      "training set size:  514 actions for # of students:  326\n",
      "sample size useless for training:  188\n"
     ]
    },
    {
     "name": "stderr",
     "output_type": "stream",
     "text": [
      "/Users/yeldosbalgabekov/anaconda2/envs/py35/lib/python3.6/site-packages/ipykernel_launcher.py:2: SettingWithCopyWarning: \n",
      "A value is trying to be set on a copy of a slice from a DataFrame.\n",
      "Try using .loc[row_indexer,col_indexer] = value instead\n",
      "\n",
      "See the caveats in the documentation: http://pandas.pydata.org/pandas-docs/stable/indexing.html#indexing-view-versus-copy\n",
      "  \n"
     ]
    },
    {
     "data": {
      "text/html": [
       "<div>\n",
       "<style scoped>\n",
       "    .dataframe tbody tr th:only-of-type {\n",
       "        vertical-align: middle;\n",
       "    }\n",
       "\n",
       "    .dataframe tbody tr th {\n",
       "        vertical-align: top;\n",
       "    }\n",
       "\n",
       "    .dataframe thead th {\n",
       "        text-align: right;\n",
       "    }\n",
       "</style>\n",
       "<table border=\"1\" class=\"dataframe\">\n",
       "  <thead>\n",
       "    <tr style=\"text-align: right;\">\n",
       "      <th></th>\n",
       "      <th>itest_id</th>\n",
       "      <th>sy assistments usage</th>\n",
       "      <th>aveknow</th>\n",
       "      <th>avecarelessness</th>\n",
       "      <th>avecorrect</th>\n",
       "      <th>numactions</th>\n",
       "      <th>averesbored</th>\n",
       "      <th>averesengcon</th>\n",
       "      <th>averesconf</th>\n",
       "      <th>averesfrust</th>\n",
       "      <th>...</th>\n",
       "      <th>res_concentrating</th>\n",
       "      <th>res_confused</th>\n",
       "      <th>res_frustrated</th>\n",
       "      <th>res_offtask</th>\n",
       "      <th>res_gaming</th>\n",
       "      <th>ln-1</th>\n",
       "      <th>ln</th>\n",
       "      <th>schoolid</th>\n",
       "      <th>mcas</th>\n",
       "      <th>isstem</th>\n",
       "    </tr>\n",
       "  </thead>\n",
       "  <tbody>\n",
       "    <tr>\n",
       "      <th>1056</th>\n",
       "      <td>35</td>\n",
       "      <td>2004-2005</td>\n",
       "      <td>0.255164</td>\n",
       "      <td>0.158848</td>\n",
       "      <td>0.379658</td>\n",
       "      <td>993</td>\n",
       "      <td>0.222796</td>\n",
       "      <td>0.650079</td>\n",
       "      <td>0.069987</td>\n",
       "      <td>0.164347</td>\n",
       "      <td>...</td>\n",
       "      <td>0.262675</td>\n",
       "      <td>0.060808</td>\n",
       "      <td>0.000000</td>\n",
       "      <td>0.889219</td>\n",
       "      <td>0.005797</td>\n",
       "      <td>0.271000</td>\n",
       "      <td>0.077899</td>\n",
       "      <td>2.0</td>\n",
       "      <td>34.0</td>\n",
       "      <td>0.0</td>\n",
       "    </tr>\n",
       "    <tr>\n",
       "      <th>1057</th>\n",
       "      <td>35</td>\n",
       "      <td>2004-2005</td>\n",
       "      <td>0.255164</td>\n",
       "      <td>0.158848</td>\n",
       "      <td>0.379658</td>\n",
       "      <td>993</td>\n",
       "      <td>0.222796</td>\n",
       "      <td>0.650079</td>\n",
       "      <td>0.069987</td>\n",
       "      <td>0.164347</td>\n",
       "      <td>...</td>\n",
       "      <td>0.696486</td>\n",
       "      <td>0.000000</td>\n",
       "      <td>0.009561</td>\n",
       "      <td>0.108417</td>\n",
       "      <td>0.001483</td>\n",
       "      <td>0.077899</td>\n",
       "      <td>0.225856</td>\n",
       "      <td>2.0</td>\n",
       "      <td>34.0</td>\n",
       "      <td>0.0</td>\n",
       "    </tr>\n",
       "    <tr>\n",
       "      <th>1058</th>\n",
       "      <td>35</td>\n",
       "      <td>2004-2005</td>\n",
       "      <td>0.255164</td>\n",
       "      <td>0.158848</td>\n",
       "      <td>0.379658</td>\n",
       "      <td>993</td>\n",
       "      <td>0.222796</td>\n",
       "      <td>0.650079</td>\n",
       "      <td>0.069987</td>\n",
       "      <td>0.164347</td>\n",
       "      <td>...</td>\n",
       "      <td>0.580763</td>\n",
       "      <td>0.000000</td>\n",
       "      <td>0.009561</td>\n",
       "      <td>0.108417</td>\n",
       "      <td>0.003940</td>\n",
       "      <td>0.225856</td>\n",
       "      <td>0.483008</td>\n",
       "      <td>2.0</td>\n",
       "      <td>34.0</td>\n",
       "      <td>0.0</td>\n",
       "    </tr>\n",
       "    <tr>\n",
       "      <th>1059</th>\n",
       "      <td>35</td>\n",
       "      <td>2004-2005</td>\n",
       "      <td>0.255164</td>\n",
       "      <td>0.158848</td>\n",
       "      <td>0.379658</td>\n",
       "      <td>993</td>\n",
       "      <td>0.222796</td>\n",
       "      <td>0.650079</td>\n",
       "      <td>0.069987</td>\n",
       "      <td>0.164347</td>\n",
       "      <td>...</td>\n",
       "      <td>0.580763</td>\n",
       "      <td>0.000000</td>\n",
       "      <td>0.009561</td>\n",
       "      <td>0.108417</td>\n",
       "      <td>0.003940</td>\n",
       "      <td>0.483008</td>\n",
       "      <td>0.745290</td>\n",
       "      <td>2.0</td>\n",
       "      <td>34.0</td>\n",
       "      <td>0.0</td>\n",
       "    </tr>\n",
       "    <tr>\n",
       "      <th>1060</th>\n",
       "      <td>35</td>\n",
       "      <td>2004-2005</td>\n",
       "      <td>0.255164</td>\n",
       "      <td>0.158848</td>\n",
       "      <td>0.379658</td>\n",
       "      <td>993</td>\n",
       "      <td>0.222796</td>\n",
       "      <td>0.650079</td>\n",
       "      <td>0.069987</td>\n",
       "      <td>0.164347</td>\n",
       "      <td>...</td>\n",
       "      <td>0.898073</td>\n",
       "      <td>0.000000</td>\n",
       "      <td>0.009561</td>\n",
       "      <td>0.468252</td>\n",
       "      <td>0.001483</td>\n",
       "      <td>0.745290</td>\n",
       "      <td>0.900994</td>\n",
       "      <td>2.0</td>\n",
       "      <td>34.0</td>\n",
       "      <td>0.0</td>\n",
       "    </tr>\n",
       "  </tbody>\n",
       "</table>\n",
       "<p>5 rows × 79 columns</p>\n",
       "</div>"
      ],
      "text/plain": [
       "      itest_id sy assistments usage   aveknow  avecarelessness  avecorrect  \\\n",
       "1056        35            2004-2005  0.255164         0.158848    0.379658   \n",
       "1057        35            2004-2005  0.255164         0.158848    0.379658   \n",
       "1058        35            2004-2005  0.255164         0.158848    0.379658   \n",
       "1059        35            2004-2005  0.255164         0.158848    0.379658   \n",
       "1060        35            2004-2005  0.255164         0.158848    0.379658   \n",
       "\n",
       "      numactions  averesbored  averesengcon  averesconf  averesfrust   ...    \\\n",
       "1056         993     0.222796      0.650079    0.069987     0.164347   ...     \n",
       "1057         993     0.222796      0.650079    0.069987     0.164347   ...     \n",
       "1058         993     0.222796      0.650079    0.069987     0.164347   ...     \n",
       "1059         993     0.222796      0.650079    0.069987     0.164347   ...     \n",
       "1060         993     0.222796      0.650079    0.069987     0.164347   ...     \n",
       "\n",
       "      res_concentrating  res_confused  res_frustrated res_offtask  res_gaming  \\\n",
       "1056           0.262675      0.060808        0.000000    0.889219    0.005797   \n",
       "1057           0.696486      0.000000        0.009561    0.108417    0.001483   \n",
       "1058           0.580763      0.000000        0.009561    0.108417    0.003940   \n",
       "1059           0.580763      0.000000        0.009561    0.108417    0.003940   \n",
       "1060           0.898073      0.000000        0.009561    0.468252    0.001483   \n",
       "\n",
       "          ln-1        ln  schoolid  mcas  isstem  \n",
       "1056  0.271000  0.077899       2.0  34.0     0.0  \n",
       "1057  0.077899  0.225856       2.0  34.0     0.0  \n",
       "1058  0.225856  0.483008       2.0  34.0     0.0  \n",
       "1059  0.483008  0.745290       2.0  34.0     0.0  \n",
       "1060  0.745290  0.900994       2.0  34.0     0.0  \n",
       "\n",
       "[5 rows x 79 columns]"
      ]
     },
     "execution_count": 5,
     "metadata": {},
     "output_type": "execute_result"
    }
   ],
   "source": [
    "actions = df[df.isstem.notnull()]\n",
    "actions['skill'] = actions.skill.astype('category')\n",
    "print(\"training set size: \", training.shape[0], \"actions for # of students: \", len(actions.itest_id.unique()))\n",
    "print(\"sample size useless for training: \", training.shape[0] - len(actions.itest_id.unique()))\n",
    "\n",
    "# merged training data set\n",
    "stem = actions[actions.isstem == 1]\n",
    "nonstem = actions[actions.isstem == 0]\n",
    "\n",
    "actions.head()"
   ]
  },
  {
   "cell_type": "markdown",
   "metadata": {
    "deletable": true,
    "editable": true
   },
   "source": [
    "### Testing the cases\n",
    "Analysing other features"
   ]
  },
  {
   "cell_type": "code",
   "execution_count": 6,
   "metadata": {},
   "outputs": [
    {
     "name": "stdout",
     "output_type": "stream",
     "text": [
      "(177960, 79) (177960, 2) (177960, 93) (177960, 16)\n",
      "(177960, 190)\n"
     ]
    },
    {
     "data": {
      "text/html": [
       "<div>\n",
       "<style scoped>\n",
       "    .dataframe tbody tr th:only-of-type {\n",
       "        vertical-align: middle;\n",
       "    }\n",
       "\n",
       "    .dataframe tbody tr th {\n",
       "        vertical-align: top;\n",
       "    }\n",
       "\n",
       "    .dataframe thead th {\n",
       "        text-align: right;\n",
       "    }\n",
       "</style>\n",
       "<table border=\"1\" class=\"dataframe\">\n",
       "  <thead>\n",
       "    <tr style=\"text-align: right;\">\n",
       "      <th></th>\n",
       "      <th>isstem</th>\n",
       "      <th>itest_id</th>\n",
       "      <th>sy assistments usage</th>\n",
       "      <th>aveknow</th>\n",
       "      <th>avecarelessness</th>\n",
       "      <th>avecorrect</th>\n",
       "      <th>numactions</th>\n",
       "      <th>averesbored</th>\n",
       "      <th>averesengcon</th>\n",
       "      <th>averesconf</th>\n",
       "      <th>...</th>\n",
       "      <th>['problemtype']_6</th>\n",
       "      <th>['problemtype']_7</th>\n",
       "      <th>['problemtype']_8</th>\n",
       "      <th>['problemtype']_9</th>\n",
       "      <th>['problemtype']_10</th>\n",
       "      <th>['problemtype']_11</th>\n",
       "      <th>['problemtype']_12</th>\n",
       "      <th>['problemtype']_13</th>\n",
       "      <th>['problemtype']_14</th>\n",
       "      <th>['problemtype']_15</th>\n",
       "    </tr>\n",
       "  </thead>\n",
       "  <tbody>\n",
       "    <tr>\n",
       "      <th>72563</th>\n",
       "      <td>1.0</td>\n",
       "      <td>1047</td>\n",
       "      <td>0</td>\n",
       "      <td>0.102428</td>\n",
       "      <td>0.062206</td>\n",
       "      <td>0.304348</td>\n",
       "      <td>506</td>\n",
       "      <td>0.205797</td>\n",
       "      <td>0.689716</td>\n",
       "      <td>0.08071</td>\n",
       "      <td>...</td>\n",
       "      <td>0</td>\n",
       "      <td>0</td>\n",
       "      <td>0</td>\n",
       "      <td>0</td>\n",
       "      <td>0</td>\n",
       "      <td>0</td>\n",
       "      <td>0</td>\n",
       "      <td>0</td>\n",
       "      <td>0</td>\n",
       "      <td>1</td>\n",
       "    </tr>\n",
       "    <tr>\n",
       "      <th>72564</th>\n",
       "      <td>1.0</td>\n",
       "      <td>1047</td>\n",
       "      <td>0</td>\n",
       "      <td>0.102428</td>\n",
       "      <td>0.062206</td>\n",
       "      <td>0.304348</td>\n",
       "      <td>506</td>\n",
       "      <td>0.205797</td>\n",
       "      <td>0.689716</td>\n",
       "      <td>0.08071</td>\n",
       "      <td>...</td>\n",
       "      <td>0</td>\n",
       "      <td>0</td>\n",
       "      <td>0</td>\n",
       "      <td>0</td>\n",
       "      <td>0</td>\n",
       "      <td>0</td>\n",
       "      <td>0</td>\n",
       "      <td>0</td>\n",
       "      <td>0</td>\n",
       "      <td>1</td>\n",
       "    </tr>\n",
       "    <tr>\n",
       "      <th>72565</th>\n",
       "      <td>1.0</td>\n",
       "      <td>1047</td>\n",
       "      <td>0</td>\n",
       "      <td>0.102428</td>\n",
       "      <td>0.062206</td>\n",
       "      <td>0.304348</td>\n",
       "      <td>506</td>\n",
       "      <td>0.205797</td>\n",
       "      <td>0.689716</td>\n",
       "      <td>0.08071</td>\n",
       "      <td>...</td>\n",
       "      <td>0</td>\n",
       "      <td>0</td>\n",
       "      <td>0</td>\n",
       "      <td>0</td>\n",
       "      <td>0</td>\n",
       "      <td>0</td>\n",
       "      <td>0</td>\n",
       "      <td>0</td>\n",
       "      <td>1</td>\n",
       "      <td>0</td>\n",
       "    </tr>\n",
       "    <tr>\n",
       "      <th>72566</th>\n",
       "      <td>1.0</td>\n",
       "      <td>1047</td>\n",
       "      <td>0</td>\n",
       "      <td>0.102428</td>\n",
       "      <td>0.062206</td>\n",
       "      <td>0.304348</td>\n",
       "      <td>506</td>\n",
       "      <td>0.205797</td>\n",
       "      <td>0.689716</td>\n",
       "      <td>0.08071</td>\n",
       "      <td>...</td>\n",
       "      <td>0</td>\n",
       "      <td>0</td>\n",
       "      <td>0</td>\n",
       "      <td>0</td>\n",
       "      <td>0</td>\n",
       "      <td>0</td>\n",
       "      <td>0</td>\n",
       "      <td>0</td>\n",
       "      <td>1</td>\n",
       "      <td>0</td>\n",
       "    </tr>\n",
       "    <tr>\n",
       "      <th>72567</th>\n",
       "      <td>1.0</td>\n",
       "      <td>1047</td>\n",
       "      <td>0</td>\n",
       "      <td>0.102428</td>\n",
       "      <td>0.062206</td>\n",
       "      <td>0.304348</td>\n",
       "      <td>506</td>\n",
       "      <td>0.205797</td>\n",
       "      <td>0.689716</td>\n",
       "      <td>0.08071</td>\n",
       "      <td>...</td>\n",
       "      <td>0</td>\n",
       "      <td>0</td>\n",
       "      <td>0</td>\n",
       "      <td>0</td>\n",
       "      <td>0</td>\n",
       "      <td>0</td>\n",
       "      <td>0</td>\n",
       "      <td>0</td>\n",
       "      <td>0</td>\n",
       "      <td>1</td>\n",
       "    </tr>\n",
       "  </tbody>\n",
       "</table>\n",
       "<p>5 rows × 190 columns</p>\n",
       "</div>"
      ],
      "text/plain": [
       "       isstem  itest_id  sy assistments usage   aveknow  avecarelessness  \\\n",
       "72563     1.0      1047                     0  0.102428         0.062206   \n",
       "72564     1.0      1047                     0  0.102428         0.062206   \n",
       "72565     1.0      1047                     0  0.102428         0.062206   \n",
       "72566     1.0      1047                     0  0.102428         0.062206   \n",
       "72567     1.0      1047                     0  0.102428         0.062206   \n",
       "\n",
       "       avecorrect  numactions  averesbored  averesengcon  averesconf  \\\n",
       "72563    0.304348         506     0.205797      0.689716     0.08071   \n",
       "72564    0.304348         506     0.205797      0.689716     0.08071   \n",
       "72565    0.304348         506     0.205797      0.689716     0.08071   \n",
       "72566    0.304348         506     0.205797      0.689716     0.08071   \n",
       "72567    0.304348         506     0.205797      0.689716     0.08071   \n",
       "\n",
       "              ...          ['problemtype']_6  ['problemtype']_7  \\\n",
       "72563         ...                          0                  0   \n",
       "72564         ...                          0                  0   \n",
       "72565         ...                          0                  0   \n",
       "72566         ...                          0                  0   \n",
       "72567         ...                          0                  0   \n",
       "\n",
       "       ['problemtype']_8  ['problemtype']_9  ['problemtype']_10  \\\n",
       "72563                  0                  0                   0   \n",
       "72564                  0                  0                   0   \n",
       "72565                  0                  0                   0   \n",
       "72566                  0                  0                   0   \n",
       "72567                  0                  0                   0   \n",
       "\n",
       "       ['problemtype']_11  ['problemtype']_12  ['problemtype']_13  \\\n",
       "72563                   0                   0                   0   \n",
       "72564                   0                   0                   0   \n",
       "72565                   0                   0                   0   \n",
       "72566                   0                   0                   0   \n",
       "72567                   0                   0                   0   \n",
       "\n",
       "       ['problemtype']_14  ['problemtype']_15  \n",
       "72563                   0                   1  \n",
       "72564                   0                   1  \n",
       "72565                   1                   0  \n",
       "72566                   1                   0  \n",
       "72567                   0                   1  \n",
       "\n",
       "[5 rows x 190 columns]"
      ]
     },
     "execution_count": 6,
     "metadata": {},
     "output_type": "execute_result"
    }
   ],
   "source": [
    "stem, non_stem = actions[actions['isstem']==1], actions[actions['isstem']==0]\n",
    "balanced = pd.concat([stem, non_stem.iloc[:, :stem.shape[0]]])\n",
    "balanced['sy assistments usage'] = balanced['sy assistments usage'].cat.codes\n",
    "balanced['skill'] = balanced['skill'].cat.codes\n",
    "balanced['problemtype'] = balanced['problemtype'].cat.codes\n",
    "c1 = pd.get_dummies(balanced['sy assistments usage'], prefix=['yos'])\n",
    "c2 = pd.get_dummies(balanced['skill'], prefix=['skill'])\n",
    "c3 = pd.get_dummies(balanced['problemtype'], prefix=['problemtype'])\n",
    "print(balanced.shape, c1.shape, c2.shape, c3.shape)\n",
    "cats = pd.concat([c1, c2, c3], axis=1)\n",
    "cats.shape, balanced.shape\n",
    "table = pd.concat([balanced.iloc[:, -1], balanced.iloc[:, 0], balanced.iloc[:, 1:-1], cats], axis=1)\n",
    "table.drop(columns=['sy assistments usage', 'skill', 'problemtype'])\n",
    "print(table.shape)\n",
    "table.head()"
   ]
  },
  {
   "cell_type": "markdown",
   "metadata": {},
   "source": [
    "#### 50 words"
   ]
  },
  {
   "cell_type": "code",
   "execution_count": 14,
   "metadata": {},
   "outputs": [
    {
     "name": "stdout",
     "output_type": "stream",
     "text": [
      "Kmodel with 50 clusters created\n",
      "Model is trained\n",
      "Distortions calculatd\n"
     ]
    }
   ],
   "source": [
    "# from sklearn.cluster import KMeans\n",
    "# from sklearn.preprocessing import normalize\n",
    "# from scipy.spatial.distance import cdist\n",
    "# from sklearn import metrics\n",
    "\n",
    "# #TODO: normalize\n",
    "# table = table.fillna(0)\n",
    "# # voc_size = 200\n",
    "\n",
    "# distortions = []\n",
    "# models = []\n",
    "\n",
    "# #50\n",
    "# k = 50\n",
    "# kmeanModel = KMeans(n_clusters=k)\n",
    "# print(\"Kmodel with {} clusters created\".format(k))\n",
    "# kmeanModel.fit(table)\n",
    "# print(\"Model is trained\")\n",
    "# distortions.append(sum(np.min(cdist(table, kmeanModel.cluster_centers_, 'euclidean'), axis=1)) / table.shape[0])\n",
    "# print(\"Distortions calculatd\")\n",
    "# models.append(kmeanModel)"
   ]
  },
  {
   "cell_type": "code",
   "execution_count": 22,
   "metadata": {},
   "outputs": [
    {
     "data": {
      "text/plain": [
       "['50wordskmeans.pkl']"
      ]
     },
     "execution_count": 22,
     "metadata": {},
     "output_type": "execute_result"
    }
   ],
   "source": [
    "# joblib.dump(models[0], '50wordskmeans.pkl')"
   ]
  },
  {
   "cell_type": "markdown",
   "metadata": {},
   "source": [
    "#### 200 Words"
   ]
  },
  {
   "cell_type": "code",
   "execution_count": 15,
   "metadata": {},
   "outputs": [
    {
     "name": "stdout",
     "output_type": "stream",
     "text": [
      "Kmodel with 200 clusters created\n",
      "Model is trained\n",
      "Distortions calculatd\n"
     ]
    }
   ],
   "source": [
    "# #200\n",
    "# k = 200\n",
    "# kmeanModel = KMeans(n_clusters=k)\n",
    "# print(\"Kmodel with {} clusters created\".format(k))\n",
    "# kmeanModel.fit(table)\n",
    "# print(\"Model is trained\")\n",
    "# distortions.append(sum(np.min(cdist(table, kmeanModel.cluster_centers_, 'euclidean'), axis=1)) / table.shape[0])\n",
    "# print(\"Distortions calculatd\")\n",
    "# models.append(kmeanModel)"
   ]
  },
  {
   "cell_type": "code",
   "execution_count": 21,
   "metadata": {},
   "outputs": [
    {
     "data": {
      "text/plain": [
       "['200wordskmeans.pkl']"
      ]
     },
     "execution_count": 21,
     "metadata": {},
     "output_type": "execute_result"
    }
   ],
   "source": [
    "# joblib.dump(models[1], '200wordskmeans.pkl')"
   ]
  },
  {
   "cell_type": "markdown",
   "metadata": {},
   "source": [
    "#### 500 Words"
   ]
  },
  {
   "cell_type": "code",
   "execution_count": 17,
   "metadata": {},
   "outputs": [
    {
     "name": "stdout",
     "output_type": "stream",
     "text": [
      "Kmodel with 500 clusters created\n",
      "Model is trained\n",
      "Distortions calculatd\n"
     ]
    }
   ],
   "source": [
    "# #500\n",
    "# k = 500\n",
    "# kmeanModel = KMeans(n_clusters=k)\n",
    "# print(\"Kmodel with {} clusters created\".format(k))\n",
    "# kmeanModel.fit(table)\n",
    "# print(\"Model is trained\")\n",
    "# distortions.append(sum(np.min(cdist(table, kmeanModel.cluster_centers_, 'euclidean'), axis=1)) / table.shape[0])\n",
    "# print(\"Distortions calculatd\")\n",
    "# models.append(kmeanModel)"
   ]
  },
  {
   "cell_type": "code",
   "execution_count": 20,
   "metadata": {},
   "outputs": [
    {
     "data": {
      "text/plain": [
       "['500wordskmeans.pkl']"
      ]
     },
     "execution_count": 20,
     "metadata": {},
     "output_type": "execute_result"
    }
   ],
   "source": [
    "# joblib.dump(models[2], '500wordskmeans.pkl')"
   ]
  },
  {
   "cell_type": "markdown",
   "metadata": {},
   "source": [
    "#### 1000 Words"
   ]
  },
  {
   "cell_type": "code",
   "execution_count": 32,
   "metadata": {},
   "outputs": [
    {
     "name": "stdout",
     "output_type": "stream",
     "text": [
      "Kmodel with 1000 clusters created\n",
      "Model is trained\n",
      "Distortions calculatd\n"
     ]
    }
   ],
   "source": [
    "# #1000\n",
    "# k = 1000\n",
    "# kmeanModel = KMeans(n_clusters=k)\n",
    "# print(\"Kmodel with {} clusters created\".format(k))\n",
    "# kmeanModel.fit(table)\n",
    "# print(\"Model is trained\")\n",
    "# distortions.append(sum(np.min(cdist(table, kmeanModel.cluster_centers_, 'euclidean'), axis=1)) / table.shape[0])\n",
    "# print(\"Distortions calculatd\")\n",
    "# models.append(kmeanModel)"
   ]
  },
  {
   "cell_type": "code",
   "execution_count": 34,
   "metadata": {},
   "outputs": [
    {
     "data": {
      "text/plain": [
       "['1000wordskmeans.pkl']"
      ]
     },
     "execution_count": 34,
     "metadata": {},
     "output_type": "execute_result"
    }
   ],
   "source": [
    "# joblib.dump(models[3], '1000wordskmeans.pkl')"
   ]
  },
  {
   "cell_type": "code",
   "execution_count": 35,
   "metadata": {},
   "outputs": [],
   "source": [
    "models = [joblib.load('50wordskmeans.pkl'), \n",
    "          joblib.load('200wordskmeans.pkl'), \n",
    "          joblib.load('500wordskmeans.pkl'), \n",
    "          joblib.load('1000wordskmeans.pkl')]\n"
   ]
  },
  {
   "cell_type": "code",
   "execution_count": 36,
   "metadata": {},
   "outputs": [
    {
     "data": {
      "text/plain": [
       "[KMeans(algorithm='auto', copy_x=True, init='k-means++', max_iter=300,\n",
       "     n_clusters=50, n_init=10, n_jobs=1, precompute_distances='auto',\n",
       "     random_state=None, tol=0.0001, verbose=0),\n",
       " KMeans(algorithm='auto', copy_x=True, init='k-means++', max_iter=300,\n",
       "     n_clusters=200, n_init=10, n_jobs=1, precompute_distances='auto',\n",
       "     random_state=None, tol=0.0001, verbose=0),\n",
       " KMeans(algorithm='auto', copy_x=True, init='k-means++', max_iter=300,\n",
       "     n_clusters=500, n_init=10, n_jobs=1, precompute_distances='auto',\n",
       "     random_state=None, tol=0.0001, verbose=0),\n",
       " KMeans(algorithm='auto', copy_x=True, init='k-means++', max_iter=300,\n",
       "     n_clusters=1000, n_init=10, n_jobs=1, precompute_distances='auto',\n",
       "     random_state=None, tol=0.0001, verbose=0)]"
      ]
     },
     "execution_count": 36,
     "metadata": {},
     "output_type": "execute_result"
    }
   ],
   "source": [
    "models"
   ]
  },
  {
   "cell_type": "code",
   "execution_count": 26,
   "metadata": {},
   "outputs": [],
   "source": []
  },
  {
   "cell_type": "code",
   "execution_count": 37,
   "metadata": {},
   "outputs": [],
   "source": [
    "names = [\"50BoWords.csv\", \"200BoWords.csv\", \"500BoWords.csv\", \"1000BoWords.csv\"]\n",
    "# for idx in range(len(names)):\n",
    "for idx in range(4):\n",
    "    kmeans = models[idx]\n",
    "    words = kmeans.labels_.reshape(table.shape[0], 1)\n",
    "    tmp = table.iloc[:, :2]\n",
    "    tmp = tmp.reset_index().iloc[:, 1:]\n",
    "    tmp2 = pd.DataFrame(words).reset_index().iloc[:,-1]\n",
    "    with_words = pd.concat([tmp, tmp2], axis=1)\n",
    "    with_words.columns = ['isstem', 'itest_id', 'words']\n",
    "    with_words = with_words.groupby(['itest_id', 'words'], as_index=False).count()\n",
    "    histog_features = with_words.pivot(index='itest_id', columns='words', values='isstem').fillna(0)\n",
    "    histog_features = pd.DataFrame(histog_features.to_records())\n",
    "    histog_features = histog_features.merge(tmp[['itest_id', 'isstem']], on='itest_id', how='left')\n",
    "    histog_features = histog_features.drop_duplicates()\n",
    "    histog_features.to_csv(\"features/\"+names[idx])\n",
    "    "
   ]
  },
  {
   "cell_type": "code",
   "execution_count": 28,
   "metadata": {},
   "outputs": [
    {
     "data": {
      "text/plain": [
       "((253, 202), (73, 202))"
      ]
     },
     "execution_count": 28,
     "metadata": {},
     "output_type": "execute_result"
    }
   ],
   "source": []
  },
  {
   "cell_type": "code",
   "execution_count": null,
   "metadata": {},
   "outputs": [],
   "source": []
  },
  {
   "cell_type": "code",
   "execution_count": null,
   "metadata": {},
   "outputs": [],
   "source": []
  }
 ],
 "metadata": {
  "kernelspec": {
   "display_name": "py35",
   "language": "python",
   "name": "py35"
  },
  "language_info": {
   "codemirror_mode": {
    "name": "ipython",
    "version": 3
   },
   "file_extension": ".py",
   "mimetype": "text/x-python",
   "name": "python",
   "nbconvert_exporter": "python",
   "pygments_lexer": "ipython3",
   "version": "3.6.4"
  }
 },
 "nbformat": 4,
 "nbformat_minor": 2
}
