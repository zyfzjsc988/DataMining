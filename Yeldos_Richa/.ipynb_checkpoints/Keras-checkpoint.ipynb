{
 "cells": [
  {
   "cell_type": "code",
   "execution_count": 31,
   "metadata": {},
   "outputs": [],
   "source": [
    "import numpy as np\n",
    "from keras.models import Sequential\n",
    "from keras.layers import Dense\n",
    "from keras.utils import np_utils\n",
    "from keras.datasets import mnist\n"
   ]
  },
  {
   "cell_type": "raw",
   "metadata": {},
   "source": [
    "numpy.random.seed(42)"
   ]
  },
  {
   "cell_type": "code",
   "execution_count": 66,
   "metadata": {},
   "outputs": [
    {
     "name": "stdout",
     "output_type": "stream",
     "text": [
      "Initial Data Train X (60000, 28, 28)\n",
      "Reshaped Data Train X: (60000, 784)\n",
      "Initial Data Y: (60000,)\n",
      "Reshaped Data Y: (60000, 10)\n",
      "Initial Data Test X (10000, 28, 28)\n",
      "Reshaped Data Test X: (10000, 784)\n"
     ]
    }
   ],
   "source": [
    "(X_train, y_train), (X_test, y_test) = mnist.load_data()\n",
    "print('Initial Data Train X', X_train.shape)\n",
    "X_train = X_train.reshape(60000, 784)\n",
    "X_train = X_train.astype('float32')\n",
    "X_train /= 255\n",
    "print('Reshaped Data Train X:', X_train.shape)\n",
    "\n",
    "print('Initial Data Y:', y_train.shape)\n",
    "y_train = np_utils.to_categorical(y_train, 10)\n",
    "print('Reshaped Data Y:', y_train.shape)\n",
    "\n",
    "print('Initial Data Test X', X_test.shape)\n",
    "X_test = X_test.reshape(10000, 784)\n",
    "X_test = X_test.astype('float32')\n",
    "X_test /= 255\n",
    "print('Reshaped Data Test X:', X_test.shape)\n",
    "\n",
    "# print('Initial Data Test Y:', y_test.shape)\n",
    "# y_test = np_utils.to_categorical(y_test, 10)\n",
    "# print('Reshaped Data Test Y:', y_test.shape)"
   ]
  },
  {
   "cell_type": "code",
   "execution_count": 35,
   "metadata": {},
   "outputs": [
    {
     "name": "stderr",
     "output_type": "stream",
     "text": [
      "/Users/yeldosbalgabekov/anaconda2/envs/py35/lib/python3.6/site-packages/ipykernel_launcher.py:4: UserWarning: Update your `Dense` call to the Keras 2 API: `Dense(800, input_dim=784, activation=\"relu\", kernel_initializer=\"normal\")`\n",
      "  after removing the cwd from sys.path.\n",
      "/Users/yeldosbalgabekov/anaconda2/envs/py35/lib/python3.6/site-packages/ipykernel_launcher.py:5: UserWarning: Update your `Dense` call to the Keras 2 API: `Dense(10, activation=\"softmax\", kernel_initializer=\"normal\")`\n",
      "  \"\"\"\n",
      "/Users/yeldosbalgabekov/anaconda2/envs/py35/lib/python3.6/site-packages/keras/models.py:874: UserWarning: The `nb_epoch` argument in `fit` has been renamed `epochs`.\n",
      "  warnings.warn('The `nb_epoch` argument in `fit` '\n"
     ]
    },
    {
     "name": "stdout",
     "output_type": "stream",
     "text": [
      "_________________________________________________________________\n",
      "Layer (type)                 Output Shape              Param #   \n",
      "=================================================================\n",
      "dense_17 (Dense)             (None, 800)               628000    \n",
      "_________________________________________________________________\n",
      "dense_18 (Dense)             (None, 10)                8010      \n",
      "=================================================================\n",
      "Total params: 636,010\n",
      "Trainable params: 636,010\n",
      "Non-trainable params: 0\n",
      "_________________________________________________________________\n",
      "Summary: \n",
      " None\n",
      "Epoch 1/10\n",
      "60000/60000 [==============================] - 16s 273us/step - loss: 1.2241 - acc: 0.7164\n",
      "Epoch 2/10\n",
      "60000/60000 [==============================] - 9s 158us/step - loss: 0.6050 - acc: 0.8587\n",
      "Epoch 3/10\n",
      "60000/60000 [==============================] - 8s 136us/step - loss: 0.4777 - acc: 0.8783\n",
      "Epoch 4/10\n",
      "60000/60000 [==============================] - 8s 137us/step - loss: 0.4197 - acc: 0.8888\n",
      "Epoch 5/10\n",
      "60000/60000 [==============================] - 8s 140us/step - loss: 0.3850 - acc: 0.8959\n",
      "Epoch 6/10\n",
      "60000/60000 [==============================] - 9s 145us/step - loss: 0.3609 - acc: 0.9012\n",
      "Epoch 7/10\n",
      "60000/60000 [==============================] - 8s 138us/step - loss: 0.3428 - acc: 0.9056\n",
      "Epoch 8/10\n",
      "60000/60000 [==============================] - 8s 140us/step - loss: 0.3283 - acc: 0.9092\n",
      "Epoch 9/10\n",
      "60000/60000 [==============================] - 11s 181us/step - loss: 0.3163 - acc: 0.9120\n",
      "Epoch 10/10\n",
      "60000/60000 [==============================] - 11s 179us/step - loss: 0.3060 - acc: 0.9150\n"
     ]
    },
    {
     "data": {
      "text/plain": [
       "<keras.callbacks.History at 0x1175f27f0>"
      ]
     },
     "execution_count": 35,
     "metadata": {},
     "output_type": "execute_result"
    }
   ],
   "source": [
    "model = Sequential()\n",
    "\n",
    "# adding layers\n",
    "model.add(Dense(800, input_dim=784, init=\"normal\", activation=\"relu\"))\n",
    "model.add(Dense(10, init=\"normal\", activation=\"softmax\"))\n",
    "          \n",
    "# compiling the model\n",
    "model.compile(loss=\"categorical_crossentropy\", optimizer=\"SGD\", metrics=[\"accuracy\"])\n",
    "\n",
    "print(\"Summary: \\n\",model.summary())\n",
    "\n",
    "model.fit(X_train, y_train, batch_size=200, nb_epoch=10, verbose=1)"
   ]
  },
  {
   "cell_type": "code",
   "execution_count": 69,
   "metadata": {},
   "outputs": [
    {
     "data": {
      "text/plain": [
       "(10000,)"
      ]
     },
     "execution_count": 69,
     "metadata": {},
     "output_type": "execute_result"
    }
   ],
   "source": [
    "predictions = list(model.predict(X_test))\n",
    "predictions = np.array([np.argmax(pred) for pred in predictions])\n",
    "predictions.shape"
   ]
  },
  {
   "cell_type": "code",
   "execution_count": 73,
   "metadata": {},
   "outputs": [
    {
     "name": "stdout",
     "output_type": "stream",
     "text": [
      "Accuracy on the test set: 0.9213\n"
     ]
    }
   ],
   "source": [
    "accuracy = sum(predictions == y_test)/len(y_test)\n",
    "print('Accuracy on the test set: {}'.format(accuracy))"
   ]
  },
  {
   "cell_type": "code",
   "execution_count": null,
   "metadata": {},
   "outputs": [],
   "source": []
  }
 ],
 "metadata": {
  "kernelspec": {
   "display_name": "py35",
   "language": "python",
   "name": "py35"
  },
  "language_info": {
   "codemirror_mode": {
    "name": "ipython",
    "version": 3
   },
   "file_extension": ".py",
   "mimetype": "text/x-python",
   "name": "python",
   "nbconvert_exporter": "python",
   "pygments_lexer": "ipython3",
   "version": "3.6.4"
  }
 },
 "nbformat": 4,
 "nbformat_minor": 2
}
