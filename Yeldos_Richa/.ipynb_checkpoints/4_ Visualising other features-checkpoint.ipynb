{
 "cells": [
  {
   "cell_type": "code",
   "execution_count": 365,
   "metadata": {
    "collapsed": false,
    "deletable": true,
    "editable": true
   },
   "outputs": [],
   "source": [
    "import os, sys\n",
    "import pandas as pd\n",
    "import numpy as np\n",
    "import matplotlib.pyplot as plt\n",
    "import seaborn as sns\n",
    "from sklearn.linear_model import Lasso\n",
    "from sklearn.svm import SVC\n",
    "from sklearn.model_selection import train_test_split\n",
    "from sklearn.metrics import roc_curve, auc\n",
    "import datetime"
   ]
  },
  {
   "cell_type": "markdown",
   "metadata": {
    "deletable": true,
    "editable": true
   },
   "source": [
    "### Loading the initial dataset"
   ]
  },
  {
   "cell_type": "code",
   "execution_count": 12,
   "metadata": {
    "collapsed": false,
    "deletable": true,
    "editable": true
   },
   "outputs": [
    {
     "name": "stdout",
     "output_type": "stream",
     "text": [
      "/Users/yeldosbalgabekov/Desktop/Books and Schools/UoSouthampton/Data Mining/DataMining/Yeldos_Richa/../dataset/anonymized_dataset_for_ADM2017/student_log_1.csv\n"
     ]
    },
    {
     "name": "stderr",
     "output_type": "stream",
     "text": [
      "/Library/Frameworks/Python.framework/Versions/3.5/lib/python3.5/site-packages/IPython/core/interactiveshell.py:2717: DtypeWarning: Columns (74,75) have mixed types. Specify dtype option on import or set low_memory=False.\n",
      "  interactivity=interactivity, compiler=compiler, result=result)\n"
     ]
    },
    {
     "data": {
      "text/html": [
       "<div>\n",
       "<table border=\"1\" class=\"dataframe\">\n",
       "  <thead>\n",
       "    <tr style=\"text-align: right;\">\n",
       "      <th></th>\n",
       "      <th>itest_id</th>\n",
       "      <th>sy assistments usage</th>\n",
       "      <th>aveknow</th>\n",
       "      <th>avecarelessness</th>\n",
       "      <th>avecorrect</th>\n",
       "      <th>numactions</th>\n",
       "      <th>averesbored</th>\n",
       "      <th>averesengcon</th>\n",
       "      <th>averesconf</th>\n",
       "      <th>averesfrust</th>\n",
       "      <th>...</th>\n",
       "      <th>confidence(off task)</th>\n",
       "      <th>confidence(gaming)</th>\n",
       "      <th>res_bored</th>\n",
       "      <th>res_concentrating</th>\n",
       "      <th>res_confused</th>\n",
       "      <th>res_frustrated</th>\n",
       "      <th>res_offtask</th>\n",
       "      <th>res_gaming</th>\n",
       "      <th>ln-1</th>\n",
       "      <th>ln</th>\n",
       "    </tr>\n",
       "  </thead>\n",
       "  <tbody>\n",
       "    <tr>\n",
       "      <th>0</th>\n",
       "      <td>8</td>\n",
       "      <td>2004-2005</td>\n",
       "      <td>0.352416</td>\n",
       "      <td>0.183276</td>\n",
       "      <td>0.483902</td>\n",
       "      <td>1056</td>\n",
       "      <td>0.208389</td>\n",
       "      <td>0.679126</td>\n",
       "      <td>0.115905</td>\n",
       "      <td>0.112408</td>\n",
       "      <td>...</td>\n",
       "      <td>0.838710</td>\n",
       "      <td>0.008522</td>\n",
       "      <td>0.376427</td>\n",
       "      <td>0.320317</td>\n",
       "      <td>0.000000</td>\n",
       "      <td>0.0</td>\n",
       "      <td>0.785585</td>\n",
       "      <td>0.000264</td>\n",
       "      <td>0.13</td>\n",
       "      <td>0.0611904</td>\n",
       "    </tr>\n",
       "    <tr>\n",
       "      <th>1</th>\n",
       "      <td>8</td>\n",
       "      <td>2004-2005</td>\n",
       "      <td>0.352416</td>\n",
       "      <td>0.183276</td>\n",
       "      <td>0.483902</td>\n",
       "      <td>1056</td>\n",
       "      <td>0.208389</td>\n",
       "      <td>0.679126</td>\n",
       "      <td>0.115905</td>\n",
       "      <td>0.112408</td>\n",
       "      <td>...</td>\n",
       "      <td>0.600000</td>\n",
       "      <td>0.047821</td>\n",
       "      <td>0.156027</td>\n",
       "      <td>0.995053</td>\n",
       "      <td>0.887452</td>\n",
       "      <td>0.0</td>\n",
       "      <td>0.468252</td>\n",
       "      <td>0.001483</td>\n",
       "      <td>0.0611904</td>\n",
       "      <td>0.21351</td>\n",
       "    </tr>\n",
       "    <tr>\n",
       "      <th>2</th>\n",
       "      <td>8</td>\n",
       "      <td>2004-2005</td>\n",
       "      <td>0.352416</td>\n",
       "      <td>0.183276</td>\n",
       "      <td>0.483902</td>\n",
       "      <td>1056</td>\n",
       "      <td>0.208389</td>\n",
       "      <td>0.679126</td>\n",
       "      <td>0.115905</td>\n",
       "      <td>0.112408</td>\n",
       "      <td>...</td>\n",
       "      <td>0.600000</td>\n",
       "      <td>0.047821</td>\n",
       "      <td>0.156027</td>\n",
       "      <td>0.995053</td>\n",
       "      <td>0.887452</td>\n",
       "      <td>0.0</td>\n",
       "      <td>0.468252</td>\n",
       "      <td>0.001483</td>\n",
       "      <td>0.116</td>\n",
       "      <td>0.0333058</td>\n",
       "    </tr>\n",
       "    <tr>\n",
       "      <th>3</th>\n",
       "      <td>8</td>\n",
       "      <td>2004-2005</td>\n",
       "      <td>0.352416</td>\n",
       "      <td>0.183276</td>\n",
       "      <td>0.483902</td>\n",
       "      <td>1056</td>\n",
       "      <td>0.208389</td>\n",
       "      <td>0.679126</td>\n",
       "      <td>0.115905</td>\n",
       "      <td>0.112408</td>\n",
       "      <td>...</td>\n",
       "      <td>0.204082</td>\n",
       "      <td>0.343996</td>\n",
       "      <td>0.156027</td>\n",
       "      <td>0.744520</td>\n",
       "      <td>0.000000</td>\n",
       "      <td>0.0</td>\n",
       "      <td>0.108417</td>\n",
       "      <td>0.010665</td>\n",
       "      <td>0.116</td>\n",
       "      <td>0.0333058</td>\n",
       "    </tr>\n",
       "    <tr>\n",
       "      <th>4</th>\n",
       "      <td>8</td>\n",
       "      <td>2004-2005</td>\n",
       "      <td>0.352416</td>\n",
       "      <td>0.183276</td>\n",
       "      <td>0.483902</td>\n",
       "      <td>1056</td>\n",
       "      <td>0.208389</td>\n",
       "      <td>0.679126</td>\n",
       "      <td>0.115905</td>\n",
       "      <td>0.112408</td>\n",
       "      <td>...</td>\n",
       "      <td>0.204082</td>\n",
       "      <td>0.343996</td>\n",
       "      <td>0.156027</td>\n",
       "      <td>0.744520</td>\n",
       "      <td>0.000000</td>\n",
       "      <td>0.0</td>\n",
       "      <td>0.108417</td>\n",
       "      <td>0.010665</td>\n",
       "      <td>0.0333058</td>\n",
       "      <td>0.118386</td>\n",
       "    </tr>\n",
       "  </tbody>\n",
       "</table>\n",
       "<p>5 rows × 76 columns</p>\n",
       "</div>"
      ],
      "text/plain": [
       "   itest_id sy assistments usage   aveknow  avecarelessness  avecorrect  \\\n",
       "0         8            2004-2005  0.352416         0.183276    0.483902   \n",
       "1         8            2004-2005  0.352416         0.183276    0.483902   \n",
       "2         8            2004-2005  0.352416         0.183276    0.483902   \n",
       "3         8            2004-2005  0.352416         0.183276    0.483902   \n",
       "4         8            2004-2005  0.352416         0.183276    0.483902   \n",
       "\n",
       "   numactions  averesbored  averesengcon  averesconf  averesfrust    ...      \\\n",
       "0        1056     0.208389      0.679126    0.115905     0.112408    ...       \n",
       "1        1056     0.208389      0.679126    0.115905     0.112408    ...       \n",
       "2        1056     0.208389      0.679126    0.115905     0.112408    ...       \n",
       "3        1056     0.208389      0.679126    0.115905     0.112408    ...       \n",
       "4        1056     0.208389      0.679126    0.115905     0.112408    ...       \n",
       "\n",
       "   confidence(off task)  confidence(gaming)  res_bored res_concentrating  \\\n",
       "0              0.838710            0.008522   0.376427          0.320317   \n",
       "1              0.600000            0.047821   0.156027          0.995053   \n",
       "2              0.600000            0.047821   0.156027          0.995053   \n",
       "3              0.204082            0.343996   0.156027          0.744520   \n",
       "4              0.204082            0.343996   0.156027          0.744520   \n",
       "\n",
       "   res_confused  res_frustrated  res_offtask  res_gaming       ln-1         ln  \n",
       "0      0.000000             0.0     0.785585    0.000264       0.13  0.0611904  \n",
       "1      0.887452             0.0     0.468252    0.001483  0.0611904    0.21351  \n",
       "2      0.887452             0.0     0.468252    0.001483      0.116  0.0333058  \n",
       "3      0.000000             0.0     0.108417    0.010665      0.116  0.0333058  \n",
       "4      0.000000             0.0     0.108417    0.010665  0.0333058   0.118386  \n",
       "\n",
       "[5 rows x 76 columns]"
      ]
     },
     "execution_count": 12,
     "metadata": {},
     "output_type": "execute_result"
    }
   ],
   "source": [
    "path = os.getcwd() + '/../dataset/anonymized_dataset_for_ADM2017/'\n",
    "print(path + 'student_log_{}.csv'.format(1))\n",
    "log1 = pd.read_csv(path + 'student_log_{}.csv'.format(1))\n",
    "initial_col_order = [col.lower() for col in list(log1.columns)]\n",
    "\n",
    "data = pd.DataFrame()\n",
    "for i in range(1, 10):\n",
    "    student_log = pd.read_csv(path + 'student_log_{}.csv'.format(i))\n",
    "    student_log.columns = [col.lower() for col in student_log]\n",
    "    data = pd.concat([data, student_log], ignore_index=True)\n",
    "\n",
    "# reorder everything with the original order, where student id is in the first column\n",
    "data = data[initial_col_order]\n",
    "data.shape\n",
    "data.head()"
   ]
  },
  {
   "cell_type": "markdown",
   "metadata": {
    "deletable": true,
    "editable": true
   },
   "source": [
    "### Transforming the initial dataset and loading Training Set"
   ]
  },
  {
   "cell_type": "code",
   "execution_count": 13,
   "metadata": {
    "collapsed": false,
    "deletable": true,
    "editable": true
   },
   "outputs": [
    {
     "name": "stdout",
     "output_type": "stream",
     "text": [
      "<class 'pandas.core.frame.DataFrame'>\n",
      "Int64Index: 639898 entries, 0 to 639897\n",
      "Data columns (total 79 columns):\n",
      "itest_id                                  639898 non-null int64\n",
      "sy assistments usage                      639898 non-null object\n",
      "aveknow                                   639898 non-null float64\n",
      "avecarelessness                           639898 non-null float64\n",
      "avecorrect                                639898 non-null float64\n",
      "numactions                                639898 non-null int64\n",
      "averesbored                               639898 non-null float64\n",
      "averesengcon                              639898 non-null float64\n",
      "averesconf                                639898 non-null float64\n",
      "averesfrust                               639898 non-null float64\n",
      "averesofftask                             639898 non-null float64\n",
      "averesgaming                              639898 non-null float64\n",
      "actionid                                  639898 non-null int64\n",
      "skill                                     639898 non-null object\n",
      "problemid                                 639898 non-null int64\n",
      "assignmentid                              639898 non-null int64\n",
      "assistmentid                              639898 non-null int64\n",
      "starttime                                 639898 non-null int64\n",
      "endtime                                   639898 non-null int64\n",
      "timetaken                                 639898 non-null float64\n",
      "correct                                   639898 non-null int64\n",
      "original                                  639898 non-null int64\n",
      "hint                                      639898 non-null int64\n",
      "hintcount                                 639898 non-null int64\n",
      "hinttotal                                 639898 non-null int64\n",
      "scaffold                                  639898 non-null int64\n",
      "bottomhint                                639898 non-null int64\n",
      "attemptcount                              639898 non-null int64\n",
      "problemtype                               639898 non-null object\n",
      "frishelprequest                           639898 non-null int64\n",
      "frpast5helprequest                        639898 non-null int64\n",
      "frpast8helprequest                        639898 non-null int64\n",
      "stlhintused                               639898 non-null int64\n",
      "past8bottomout                            639898 non-null int64\n",
      "totalfrpercentpastwrong                   639898 non-null float64\n",
      "totalfrpastwrongcount                     639898 non-null int64\n",
      "frpast5wrongcount                         639898 non-null int64\n",
      "frpast8wrongcount                         639898 non-null int64\n",
      "totalfrtimeonskill                        639898 non-null float64\n",
      "timesinceskill                            639898 non-null float64\n",
      "frworkinginschool                         639898 non-null int64\n",
      "totalfrattempted                          639898 non-null int64\n",
      "totalfrskillopportunities                 639898 non-null int64\n",
      "responseisfillin                          639898 non-null int64\n",
      "responseischosen                          639898 non-null int64\n",
      "endswithscaffolding                       639898 non-null int64\n",
      "endswithautoscaffolding                   639898 non-null int64\n",
      "frtimetakenonscaffolding                  639898 non-null float64\n",
      "frtotalskillopportunitiesscaffolding      639898 non-null int64\n",
      "totalfrskillopportunitiesbyscaffolding    639898 non-null float64\n",
      "frishelprequestscaffolding                639898 non-null int64\n",
      "timegreater5secprev2wrong                 639898 non-null int64\n",
      "sumright                                  639898 non-null int64\n",
      "helpaccessunder2sec                       639898 non-null int64\n",
      "timegreater10secandnextactionright        639898 non-null int64\n",
      "consecutiveerrorsinrow                    639898 non-null int64\n",
      "sumtime3sdwhen3rowright                   639831 non-null float64\n",
      "sumtimeperskill                           639898 non-null float64\n",
      "totaltimebypercentcorrectforskill         639898 non-null float64\n",
      "prev5count                                639898 non-null int64\n",
      "timeover80                                639898 non-null int64\n",
      "manywrong                                 639898 non-null int64\n",
      "confidence(bored)                         639898 non-null float64\n",
      "confidence(concentrating)                 639898 non-null float64\n",
      "confidence(confused)                      639898 non-null float64\n",
      "confidence(frustrated)                    639898 non-null float64\n",
      "confidence(off task)                      639898 non-null float64\n",
      "confidence(gaming)                        639898 non-null float64\n",
      "res_bored                                 639898 non-null float64\n",
      "res_concentrating                         639898 non-null float64\n",
      "res_confused                              639898 non-null float64\n",
      "res_frustrated                            639898 non-null float64\n",
      "res_offtask                               639898 non-null float64\n",
      "res_gaming                                639898 non-null float64\n",
      "ln-1                                      631714 non-null float64\n",
      "ln                                        631713 non-null float64\n",
      "schoolid                                  177960 non-null float64\n",
      "mcas                                      177960 non-null float64\n",
      "isstem                                    177960 non-null float64\n",
      "dtypes: float64(35), int64(41), object(3)\n",
      "memory usage: 390.6+ MB\n"
     ]
    }
   ],
   "source": [
    "def to_float(x):\n",
    "    try:\n",
    "        if x.isdigit():\n",
    "            return float(x)\n",
    "    except:\n",
    "        if x == '.':\n",
    "            return 0\n",
    "        return x\n",
    "\n",
    "def series_types(series):\n",
    "    types = []\n",
    "    for i in set(series):\n",
    "        if not type(i) in types:\n",
    "            types.append(type(i))\n",
    "    return(types)\n",
    "\n",
    "\n",
    "data['sy assistments usage'] = data['sy assistments usage'].astype('category')\n",
    "data['skill'] = data['skill'].astype('category')\n",
    "data['problemtype'] = data['problemtype'].astype('category')\n",
    "data['ln-1'] = data['ln-1'].apply(lambda x: to_float(x))\n",
    "data['ln'] = data['ln'].apply(lambda x: to_float(x))\n",
    "# data.memory_usage(deep=True)\n",
    "# data.info(memory_usage='deep')\n",
    "\n",
    "training = pd.read_csv(path + 'training_label.csv').drop(['AveCorrect'], axis=1)\n",
    "training.columns = [col.lower() for col in training.columns]\n",
    "training.shape\n",
    "\n",
    "# merged data set with isSTEM\n",
    "df = data.merge(training, on='itest_id', how=\"left\")\n",
    "df.info()\n"
   ]
  },
  {
   "cell_type": "markdown",
   "metadata": {
    "deletable": true,
    "editable": true
   },
   "source": [
    "### Filtering for the actions of the \"training\" students"
   ]
  },
  {
   "cell_type": "code",
   "execution_count": 18,
   "metadata": {
    "collapsed": false,
    "deletable": true,
    "editable": true
   },
   "outputs": [
    {
     "name": "stderr",
     "output_type": "stream",
     "text": [
      "/Library/Frameworks/Python.framework/Versions/3.5/lib/python3.5/site-packages/ipykernel/__main__.py:2: SettingWithCopyWarning: \n",
      "A value is trying to be set on a copy of a slice from a DataFrame.\n",
      "Try using .loc[row_indexer,col_indexer] = value instead\n",
      "\n",
      "See the caveats in the documentation: http://pandas.pydata.org/pandas-docs/stable/indexing.html#indexing-view-versus-copy\n",
      "  from ipykernel import kernelapp as app\n"
     ]
    },
    {
     "name": "stdout",
     "output_type": "stream",
     "text": [
      "training set size:  514 actions for # of students:  326\n",
      "sample size useless for training:  188\n"
     ]
    },
    {
     "data": {
      "text/html": [
       "<div>\n",
       "<table border=\"1\" class=\"dataframe\">\n",
       "  <thead>\n",
       "    <tr style=\"text-align: right;\">\n",
       "      <th></th>\n",
       "      <th>itest_id</th>\n",
       "      <th>sy assistments usage</th>\n",
       "      <th>aveknow</th>\n",
       "      <th>avecarelessness</th>\n",
       "      <th>avecorrect</th>\n",
       "      <th>numactions</th>\n",
       "      <th>averesbored</th>\n",
       "      <th>averesengcon</th>\n",
       "      <th>averesconf</th>\n",
       "      <th>averesfrust</th>\n",
       "      <th>...</th>\n",
       "      <th>res_concentrating</th>\n",
       "      <th>res_confused</th>\n",
       "      <th>res_frustrated</th>\n",
       "      <th>res_offtask</th>\n",
       "      <th>res_gaming</th>\n",
       "      <th>ln-1</th>\n",
       "      <th>ln</th>\n",
       "      <th>schoolid</th>\n",
       "      <th>mcas</th>\n",
       "      <th>isstem</th>\n",
       "    </tr>\n",
       "  </thead>\n",
       "  <tbody>\n",
       "    <tr>\n",
       "      <th>1056</th>\n",
       "      <td>35</td>\n",
       "      <td>2004-2005</td>\n",
       "      <td>0.255164</td>\n",
       "      <td>0.158848</td>\n",
       "      <td>0.379658</td>\n",
       "      <td>993</td>\n",
       "      <td>0.222796</td>\n",
       "      <td>0.650079</td>\n",
       "      <td>0.069987</td>\n",
       "      <td>0.164347</td>\n",
       "      <td>...</td>\n",
       "      <td>0.262675</td>\n",
       "      <td>0.060808</td>\n",
       "      <td>0.000000</td>\n",
       "      <td>0.889219</td>\n",
       "      <td>0.005797</td>\n",
       "      <td>0.271000</td>\n",
       "      <td>0.077899</td>\n",
       "      <td>2.0</td>\n",
       "      <td>34.0</td>\n",
       "      <td>0.0</td>\n",
       "    </tr>\n",
       "    <tr>\n",
       "      <th>1057</th>\n",
       "      <td>35</td>\n",
       "      <td>2004-2005</td>\n",
       "      <td>0.255164</td>\n",
       "      <td>0.158848</td>\n",
       "      <td>0.379658</td>\n",
       "      <td>993</td>\n",
       "      <td>0.222796</td>\n",
       "      <td>0.650079</td>\n",
       "      <td>0.069987</td>\n",
       "      <td>0.164347</td>\n",
       "      <td>...</td>\n",
       "      <td>0.696486</td>\n",
       "      <td>0.000000</td>\n",
       "      <td>0.009561</td>\n",
       "      <td>0.108417</td>\n",
       "      <td>0.001483</td>\n",
       "      <td>0.077899</td>\n",
       "      <td>0.225856</td>\n",
       "      <td>2.0</td>\n",
       "      <td>34.0</td>\n",
       "      <td>0.0</td>\n",
       "    </tr>\n",
       "    <tr>\n",
       "      <th>1058</th>\n",
       "      <td>35</td>\n",
       "      <td>2004-2005</td>\n",
       "      <td>0.255164</td>\n",
       "      <td>0.158848</td>\n",
       "      <td>0.379658</td>\n",
       "      <td>993</td>\n",
       "      <td>0.222796</td>\n",
       "      <td>0.650079</td>\n",
       "      <td>0.069987</td>\n",
       "      <td>0.164347</td>\n",
       "      <td>...</td>\n",
       "      <td>0.580763</td>\n",
       "      <td>0.000000</td>\n",
       "      <td>0.009561</td>\n",
       "      <td>0.108417</td>\n",
       "      <td>0.003940</td>\n",
       "      <td>0.225856</td>\n",
       "      <td>0.483008</td>\n",
       "      <td>2.0</td>\n",
       "      <td>34.0</td>\n",
       "      <td>0.0</td>\n",
       "    </tr>\n",
       "    <tr>\n",
       "      <th>1059</th>\n",
       "      <td>35</td>\n",
       "      <td>2004-2005</td>\n",
       "      <td>0.255164</td>\n",
       "      <td>0.158848</td>\n",
       "      <td>0.379658</td>\n",
       "      <td>993</td>\n",
       "      <td>0.222796</td>\n",
       "      <td>0.650079</td>\n",
       "      <td>0.069987</td>\n",
       "      <td>0.164347</td>\n",
       "      <td>...</td>\n",
       "      <td>0.580763</td>\n",
       "      <td>0.000000</td>\n",
       "      <td>0.009561</td>\n",
       "      <td>0.108417</td>\n",
       "      <td>0.003940</td>\n",
       "      <td>0.483008</td>\n",
       "      <td>0.745290</td>\n",
       "      <td>2.0</td>\n",
       "      <td>34.0</td>\n",
       "      <td>0.0</td>\n",
       "    </tr>\n",
       "    <tr>\n",
       "      <th>1060</th>\n",
       "      <td>35</td>\n",
       "      <td>2004-2005</td>\n",
       "      <td>0.255164</td>\n",
       "      <td>0.158848</td>\n",
       "      <td>0.379658</td>\n",
       "      <td>993</td>\n",
       "      <td>0.222796</td>\n",
       "      <td>0.650079</td>\n",
       "      <td>0.069987</td>\n",
       "      <td>0.164347</td>\n",
       "      <td>...</td>\n",
       "      <td>0.898073</td>\n",
       "      <td>0.000000</td>\n",
       "      <td>0.009561</td>\n",
       "      <td>0.468252</td>\n",
       "      <td>0.001483</td>\n",
       "      <td>0.745290</td>\n",
       "      <td>0.900994</td>\n",
       "      <td>2.0</td>\n",
       "      <td>34.0</td>\n",
       "      <td>0.0</td>\n",
       "    </tr>\n",
       "  </tbody>\n",
       "</table>\n",
       "<p>5 rows × 79 columns</p>\n",
       "</div>"
      ],
      "text/plain": [
       "      itest_id sy assistments usage   aveknow  avecarelessness  avecorrect  \\\n",
       "1056        35            2004-2005  0.255164         0.158848    0.379658   \n",
       "1057        35            2004-2005  0.255164         0.158848    0.379658   \n",
       "1058        35            2004-2005  0.255164         0.158848    0.379658   \n",
       "1059        35            2004-2005  0.255164         0.158848    0.379658   \n",
       "1060        35            2004-2005  0.255164         0.158848    0.379658   \n",
       "\n",
       "      numactions  averesbored  averesengcon  averesconf  averesfrust   ...    \\\n",
       "1056         993     0.222796      0.650079    0.069987     0.164347   ...     \n",
       "1057         993     0.222796      0.650079    0.069987     0.164347   ...     \n",
       "1058         993     0.222796      0.650079    0.069987     0.164347   ...     \n",
       "1059         993     0.222796      0.650079    0.069987     0.164347   ...     \n",
       "1060         993     0.222796      0.650079    0.069987     0.164347   ...     \n",
       "\n",
       "      res_concentrating  res_confused  res_frustrated res_offtask  res_gaming  \\\n",
       "1056           0.262675      0.060808        0.000000    0.889219    0.005797   \n",
       "1057           0.696486      0.000000        0.009561    0.108417    0.001483   \n",
       "1058           0.580763      0.000000        0.009561    0.108417    0.003940   \n",
       "1059           0.580763      0.000000        0.009561    0.108417    0.003940   \n",
       "1060           0.898073      0.000000        0.009561    0.468252    0.001483   \n",
       "\n",
       "          ln-1        ln  schoolid  mcas  isstem  \n",
       "1056  0.271000  0.077899       2.0  34.0     0.0  \n",
       "1057  0.077899  0.225856       2.0  34.0     0.0  \n",
       "1058  0.225856  0.483008       2.0  34.0     0.0  \n",
       "1059  0.483008  0.745290       2.0  34.0     0.0  \n",
       "1060  0.745290  0.900994       2.0  34.0     0.0  \n",
       "\n",
       "[5 rows x 79 columns]"
      ]
     },
     "execution_count": 18,
     "metadata": {},
     "output_type": "execute_result"
    }
   ],
   "source": [
    "actions = df[df.isstem.notnull()]\n",
    "actions['skill'] = actions.skill.astype('category')\n",
    "print(\"training set size: \", training.shape[0], \"actions for # of students: \", len(actions.itest_id.unique()))\n",
    "print(\"sample size useless for training: \", training.shape[0] - len(actions.itest_id.unique()))\n",
    "\n",
    "# merged training data set\n",
    "stem = actions[actions.isstem == 1]\n",
    "nonstem = actions[actions.isstem == 0]\n",
    "\n",
    "actions.head()"
   ]
  },
  {
   "cell_type": "markdown",
   "metadata": {
    "deletable": true,
    "editable": true
   },
   "source": [
    "### Testing the cases\n",
    "Top Skill Accuracy"
   ]
  },
  {
   "cell_type": "markdown",
   "metadata": {
    "deletable": true,
    "editable": true
   },
   "source": [
    "#### Creating temporary subset removing unnecessary data"
   ]
  },
  {
   "cell_type": "code",
   "execution_count": 220,
   "metadata": {
    "collapsed": false,
    "deletable": true,
    "editable": true
   },
   "outputs": [
    {
     "name": "stderr",
     "output_type": "stream",
     "text": [
      "/Library/Frameworks/Python.framework/Versions/3.5/lib/python3.5/site-packages/ipykernel/__main__.py:4: SettingWithCopyWarning: \n",
      "A value is trying to be set on a copy of a slice from a DataFrame.\n",
      "Try using .loc[row_indexer,col_indexer] = value instead\n",
      "\n",
      "See the caveats in the documentation: http://pandas.pydata.org/pandas-docs/stable/indexing.html#indexing-view-versus-copy\n"
     ]
    },
    {
     "data": {
      "text/html": [
       "<div>\n",
       "<table border=\"1\" class=\"dataframe\">\n",
       "  <thead>\n",
       "    <tr style=\"text-align: right;\">\n",
       "      <th></th>\n",
       "      <th>itest_id</th>\n",
       "      <th>skill</th>\n",
       "      <th>problemid</th>\n",
       "      <th>correct</th>\n",
       "    </tr>\n",
       "  </thead>\n",
       "  <tbody>\n",
       "    <tr>\n",
       "      <th>1056</th>\n",
       "      <td>35</td>\n",
       "      <td>56</td>\n",
       "      <td>104051249</td>\n",
       "      <td>0</td>\n",
       "    </tr>\n",
       "    <tr>\n",
       "      <th>1057</th>\n",
       "      <td>35</td>\n",
       "      <td>56</td>\n",
       "      <td>104051250</td>\n",
       "      <td>1</td>\n",
       "    </tr>\n",
       "    <tr>\n",
       "      <th>1058</th>\n",
       "      <td>35</td>\n",
       "      <td>56</td>\n",
       "      <td>104051251</td>\n",
       "      <td>1</td>\n",
       "    </tr>\n",
       "    <tr>\n",
       "      <th>1059</th>\n",
       "      <td>35</td>\n",
       "      <td>56</td>\n",
       "      <td>104051252</td>\n",
       "      <td>1</td>\n",
       "    </tr>\n",
       "    <tr>\n",
       "      <th>1060</th>\n",
       "      <td>35</td>\n",
       "      <td>56</td>\n",
       "      <td>104051253</td>\n",
       "      <td>1</td>\n",
       "    </tr>\n",
       "  </tbody>\n",
       "</table>\n",
       "</div>"
      ],
      "text/plain": [
       "      itest_id  skill  problemid  correct\n",
       "1056        35     56  104051249        0\n",
       "1057        35     56  104051250        1\n",
       "1058        35     56  104051251        1\n",
       "1059        35     56  104051252        1\n",
       "1060        35     56  104051253        1"
      ]
     },
     "execution_count": 220,
     "metadata": {},
     "output_type": "execute_result"
    }
   ],
   "source": [
    "# filtering for the necessary col\n",
    "tmp = actions[['itest_id', 'skill', 'problemid','correct']]\n",
    "# covnverting sk# create a table of correctness by question (from actions_table to problems_table)ills into cat type\n",
    "tmp['skill'] = tmp.skill.astype('category').cat.codes\n",
    "tmp.head()"
   ]
  },
  {
   "cell_type": "markdown",
   "metadata": {
    "deletable": true,
    "editable": true
   },
   "source": [
    "#### Create a table of correctness by question (from actions_table to problems_table)"
   ]
  },
  {
   "cell_type": "code",
   "execution_count": 221,
   "metadata": {
    "collapsed": false,
    "deletable": true,
    "editable": true
   },
   "outputs": [
    {
     "data": {
      "text/html": [
       "<div>\n",
       "<table border=\"1\" class=\"dataframe\">\n",
       "  <thead>\n",
       "    <tr style=\"text-align: right;\">\n",
       "      <th></th>\n",
       "      <th>itest_id</th>\n",
       "      <th>skill</th>\n",
       "      <th>problemid</th>\n",
       "      <th>correct</th>\n",
       "      <th>total</th>\n",
       "    </tr>\n",
       "  </thead>\n",
       "  <tbody>\n",
       "    <tr>\n",
       "      <th>0</th>\n",
       "      <td>35</td>\n",
       "      <td>1</td>\n",
       "      <td>104050953</td>\n",
       "      <td>1</td>\n",
       "      <td>1.0</td>\n",
       "    </tr>\n",
       "    <tr>\n",
       "      <th>1</th>\n",
       "      <td>35</td>\n",
       "      <td>1</td>\n",
       "      <td>104050954</td>\n",
       "      <td>1</td>\n",
       "      <td>1.0</td>\n",
       "    </tr>\n",
       "    <tr>\n",
       "      <th>2</th>\n",
       "      <td>35</td>\n",
       "      <td>1</td>\n",
       "      <td>104050955</td>\n",
       "      <td>1</td>\n",
       "      <td>1.0</td>\n",
       "    </tr>\n",
       "    <tr>\n",
       "      <th>3</th>\n",
       "      <td>35</td>\n",
       "      <td>1</td>\n",
       "      <td>104051289</td>\n",
       "      <td>1</td>\n",
       "      <td>1.0</td>\n",
       "    </tr>\n",
       "    <tr>\n",
       "      <th>4</th>\n",
       "      <td>35</td>\n",
       "      <td>1</td>\n",
       "      <td>104051293</td>\n",
       "      <td>0</td>\n",
       "      <td>1.0</td>\n",
       "    </tr>\n",
       "  </tbody>\n",
       "</table>\n",
       "</div>"
      ],
      "text/plain": [
       "   itest_id  skill  problemid  correct  total\n",
       "0        35      1  104050953        1    1.0\n",
       "1        35      1  104050954        1    1.0\n",
       "2        35      1  104050955        1    1.0\n",
       "3        35      1  104051289        1    1.0\n",
       "4        35      1  104051293        0    1.0"
      ]
     },
     "execution_count": 221,
     "metadata": {},
     "output_type": "execute_result"
    }
   ],
   "source": [
    "g = tmp.groupby(['itest_id', 'skill', 'problemid'], as_index=False).max()\n",
    "g['total'] = pd.DataFrame(np.ones(len(g.index)))\n",
    "g.head()"
   ]
  },
  {
   "cell_type": "markdown",
   "metadata": {
    "deletable": true,
    "editable": true
   },
   "source": [
    "#### Calculating Students' Accuracy per each skill"
   ]
  },
  {
   "cell_type": "code",
   "execution_count": 222,
   "metadata": {
    "collapsed": false,
    "deletable": true,
    "editable": true
   },
   "outputs": [
    {
     "name": "stdout",
     "output_type": "stream",
     "text": [
      "(13731, 5)\n"
     ]
    },
    {
     "data": {
      "text/html": [
       "<div>\n",
       "<table border=\"1\" class=\"dataframe\">\n",
       "  <thead>\n",
       "    <tr style=\"text-align: right;\">\n",
       "      <th></th>\n",
       "      <th>itest_id</th>\n",
       "      <th>skill</th>\n",
       "      <th>correct</th>\n",
       "      <th>total</th>\n",
       "      <th>accuracy</th>\n",
       "    </tr>\n",
       "  </thead>\n",
       "  <tbody>\n",
       "    <tr>\n",
       "      <th>0</th>\n",
       "      <td>35</td>\n",
       "      <td>1</td>\n",
       "      <td>13</td>\n",
       "      <td>16.0</td>\n",
       "      <td>0.812500</td>\n",
       "    </tr>\n",
       "    <tr>\n",
       "      <th>1</th>\n",
       "      <td>35</td>\n",
       "      <td>3</td>\n",
       "      <td>1</td>\n",
       "      <td>1.0</td>\n",
       "      <td>1.000000</td>\n",
       "    </tr>\n",
       "    <tr>\n",
       "      <th>2</th>\n",
       "      <td>35</td>\n",
       "      <td>4</td>\n",
       "      <td>1</td>\n",
       "      <td>1.0</td>\n",
       "      <td>1.000000</td>\n",
       "    </tr>\n",
       "    <tr>\n",
       "      <th>3</th>\n",
       "      <td>35</td>\n",
       "      <td>5</td>\n",
       "      <td>5</td>\n",
       "      <td>9.0</td>\n",
       "      <td>0.555556</td>\n",
       "    </tr>\n",
       "    <tr>\n",
       "      <th>4</th>\n",
       "      <td>35</td>\n",
       "      <td>8</td>\n",
       "      <td>1</td>\n",
       "      <td>1.0</td>\n",
       "      <td>1.000000</td>\n",
       "    </tr>\n",
       "  </tbody>\n",
       "</table>\n",
       "</div>"
      ],
      "text/plain": [
       "   itest_id  skill  correct  total  accuracy\n",
       "0        35      1       13   16.0  0.812500\n",
       "1        35      3        1    1.0  1.000000\n",
       "2        35      4        1    1.0  1.000000\n",
       "3        35      5        5    9.0  0.555556\n",
       "4        35      8        1    1.0  1.000000"
      ]
     },
     "execution_count": 222,
     "metadata": {},
     "output_type": "execute_result"
    }
   ],
   "source": [
    "student_accuracy = g.groupby(['itest_id', 'skill'], as_index=False).sum()\n",
    "student_accuracy = student_accuracy.drop(['problemid'], axis=1)\n",
    "student_accuracy['accuracy'] = student_accuracy.correct / student_accuracy.total\n",
    "print(student_accuracy.shape)\n",
    "student_accuracy.head()"
   ]
  },
  {
   "cell_type": "markdown",
   "metadata": {
    "deletable": true,
    "editable": true
   },
   "source": [
    "#### Visual Understanding of the overall student behaviour by skills using BoxPlot"
   ]
  },
  {
   "cell_type": "code",
   "execution_count": 223,
   "metadata": {
    "collapsed": false,
    "deletable": true,
    "editable": true
   },
   "outputs": [
    {
     "data": {
      "image/png": "[encoded data removed]",
      "text/plain": [
       "<matplotlib.figure.Figure at 0x132b175c0>"
      ]
     },
     "metadata": {},
     "output_type": "display_data"
    },
    {
     "data": {
      "text/plain": [
       "(<matplotlib.axes._subplots.AxesSubplot at 0x13d03d588>, None)"
      ]
     },
     "execution_count": 223,
     "metadata": {},
     "output_type": "execute_result"
    }
   ],
   "source": [
    "sns.boxplot(student_accuracy.skill, student_accuracy.accuracy), plt.show()"
   ]
  },
  {
   "cell_type": "code",
   "execution_count": 224,
   "metadata": {
    "collapsed": false,
    "deletable": true,
    "editable": true
   },
   "outputs": [
    {
     "data": {
      "image/png": "[encoded data removed]",
      "text/plain": [
       "<matplotlib.figure.Figure at 0x132deb160>"
      ]
     },
     "metadata": {},
     "output_type": "display_data"
    },
    {
     "data": {
      "text/plain": [
       "([<matplotlib.lines.Line2D at 0x12eab3b38>], None)"
      ]
     },
     "execution_count": 224,
     "metadata": {},
     "output_type": "execute_result"
    }
   ],
   "source": [
    "plt.plot(student_accuracy.skill, student_accuracy.total, '.'), plt.show()"
   ]
  },
  {
   "cell_type": "code",
   "execution_count": 225,
   "metadata": {
    "collapsed": false,
    "deletable": true,
    "editable": true
   },
   "outputs": [
    {
     "data": {
      "image/png": "[encoded data removed]",
      "text/plain": [
       "<matplotlib.figure.Figure at 0x12e36f630>"
      ]
     },
     "metadata": {},
     "output_type": "display_data"
    },
    {
     "data": {
      "text/plain": [
       "(<matplotlib.axes._subplots.AxesSubplot at 0x12ea75048>, None)"
      ]
     },
     "execution_count": 225,
     "metadata": {},
     "output_type": "execute_result"
    }
   ],
   "source": [
    "sns.boxplot(student_accuracy.skill, student_accuracy.total), plt.show()"
   ]
  },
  {
   "cell_type": "markdown",
   "metadata": {
    "deletable": true,
    "editable": true
   },
   "source": [
    "#### Retreiving isStem data to the table"
   ]
  },
  {
   "cell_type": "code",
   "execution_count": 226,
   "metadata": {
    "collapsed": false,
    "deletable": true,
    "editable": true
   },
   "outputs": [
    {
     "data": {
      "text/plain": [
       "((4741, 6), (10450, 6))"
      ]
     },
     "execution_count": 226,
     "metadata": {},
     "output_type": "execute_result"
    }
   ],
   "source": [
    "student_accuracy_with_stem = student_accuracy.merge(training[['itest_id', 'isstem']], on='itest_id')\n",
    "stem_accuracy = student_accuracy_with_stem[student_accuracy_with_stem.isstem==1]\n",
    "non_stem_accuracy = student_accuracy_with_stem[student_accuracy_with_stem.isstem==0]\n",
    "stem_accuracy.shape, non_stem_accuracy.shape"
   ]
  },
  {
   "cell_type": "markdown",
   "metadata": {},
   "source": [
    "#### Calculating the difference average"
   ]
  },
  {
   "cell_type": "code",
   "execution_count": 227,
   "metadata": {
    "collapsed": false,
    "deletable": true,
    "editable": true
   },
   "outputs": [
    {
     "data": {
      "text/html": [
       "<div>\n",
       "<table border=\"1\" class=\"dataframe\">\n",
       "  <thead>\n",
       "    <tr style=\"text-align: right;\">\n",
       "      <th></th>\n",
       "      <th>isstem</th>\n",
       "      <th>skill</th>\n",
       "      <th>correct</th>\n",
       "      <th>total</th>\n",
       "      <th>accuracy</th>\n",
       "    </tr>\n",
       "  </thead>\n",
       "  <tbody>\n",
       "    <tr>\n",
       "      <th>0</th>\n",
       "      <td>0</td>\n",
       "      <td>0</td>\n",
       "      <td>0.823529</td>\n",
       "      <td>1.029412</td>\n",
       "      <td>0.794118</td>\n",
       "    </tr>\n",
       "    <tr>\n",
       "      <th>1</th>\n",
       "      <td>0</td>\n",
       "      <td>1</td>\n",
       "      <td>6.796460</td>\n",
       "      <td>7.823009</td>\n",
       "      <td>0.914320</td>\n",
       "    </tr>\n",
       "    <tr>\n",
       "      <th>2</th>\n",
       "      <td>0</td>\n",
       "      <td>2</td>\n",
       "      <td>0.977273</td>\n",
       "      <td>1.045455</td>\n",
       "      <td>0.954545</td>\n",
       "    </tr>\n",
       "    <tr>\n",
       "      <th>3</th>\n",
       "      <td>0</td>\n",
       "      <td>3</td>\n",
       "      <td>3.242424</td>\n",
       "      <td>4.393939</td>\n",
       "      <td>0.770146</td>\n",
       "    </tr>\n",
       "    <tr>\n",
       "      <th>4</th>\n",
       "      <td>0</td>\n",
       "      <td>4</td>\n",
       "      <td>1.000000</td>\n",
       "      <td>1.000000</td>\n",
       "      <td>1.000000</td>\n",
       "    </tr>\n",
       "  </tbody>\n",
       "</table>\n",
       "</div>"
      ],
      "text/plain": [
       "   isstem  skill   correct     total  accuracy\n",
       "0       0      0  0.823529  1.029412  0.794118\n",
       "1       0      1  6.796460  7.823009  0.914320\n",
       "2       0      2  0.977273  1.045455  0.954545\n",
       "3       0      3  3.242424  4.393939  0.770146\n",
       "4       0      4  1.000000  1.000000  1.000000"
      ]
     },
     "execution_count": 227,
     "metadata": {},
     "output_type": "execute_result"
    }
   ],
   "source": [
    "average_accuracy_with_stem = student_accuracy_with_stem.groupby(['isstem', 'skill'], as_index=False).mean()\n",
    "average_accuracy_with_stem = average_accuracy_with_stem.drop(['itest_id'], axis=1)\n",
    "average_accuracy_with_stem.head()"
   ]
  },
  {
   "cell_type": "markdown",
   "metadata": {},
   "source": [
    "#### Correlation Heatmap"
   ]
  },
  {
   "cell_type": "code",
   "execution_count": 228,
   "metadata": {
    "collapsed": false
   },
   "outputs": [
    {
     "data": {
      "image/png": "[encoded data removed]",
      "text/plain": [
       "<matplotlib.figure.Figure at 0x13e0559b0>"
      ]
     },
     "metadata": {},
     "output_type": "display_data"
    },
    {
     "data": {
      "text/plain": [
       "(<matplotlib.axes._subplots.AxesSubplot at 0x13e156ba8>, None)"
      ]
     },
     "execution_count": 228,
     "metadata": {},
     "output_type": "execute_result"
    }
   ],
   "source": [
    "sns.heatmap(average_accuracy_with_stem.corr(), annot=True), plt.show()"
   ]
  },
  {
   "cell_type": "code",
   "execution_count": 229,
   "metadata": {
    "collapsed": false
   },
   "outputs": [
    {
     "name": "stdout",
     "output_type": "stream",
     "text": [
      "92 93 185\n"
     ]
    },
    {
     "data": {
      "image/png": "[encoded data removed]",
      "text/plain": [
       "<matplotlib.figure.Figure at 0x13e20bba8>"
      ]
     },
     "metadata": {},
     "output_type": "display_data"
    },
    {
     "data": {
      "image/png": "[encoded data removed]",
      "text/plain": [
       "<matplotlib.figure.Figure at 0x13e80cf98>"
      ]
     },
     "metadata": {},
     "output_type": "display_data"
    },
    {
     "data": {
      "image/png": "[encoded data removed]",
      "text/plain": [
       "<matplotlib.figure.Figure at 0x13e86ca90>"
      ]
     },
     "metadata": {},
     "output_type": "display_data"
    },
    {
     "data": {
      "text/plain": [
       "([<matplotlib.lines.Line2D at 0x13e8ba4e0>,\n",
       "  <matplotlib.lines.Line2D at 0x13e8ba780>],\n",
       " None)"
      ]
     },
     "execution_count": 229,
     "metadata": {},
     "output_type": "execute_result"
    }
   ],
   "source": [
    "stem_ave = average_accuracy_with_stem[average_accuracy_with_stem.isstem==1]\n",
    "nonstem_ave = average_accuracy_with_stem[average_accuracy_with_stem.isstem==0]\n",
    "print(len(stem_ave), len(nonstem_ave), len(average_accuracy_with_stem))\n",
    "plt.plot(stem_ave.skill, stem_ave.correct, 'b-', nonstem_ave.skill, nonstem_ave.correct, 'r-'), plt.show()\n",
    "plt.plot(stem_ave.skill, stem_ave.total, 'b-', nonstem_ave.skill, nonstem_ave.total, 'r-'), plt.show()\n",
    "plt.plot(stem_ave.skill, stem_ave.accuracy, 'b-', nonstem_ave.skill, nonstem_ave.accuracy, 'r-'), plt.show()"
   ]
  },
  {
   "cell_type": "code",
   "execution_count": 230,
   "metadata": {
    "collapsed": false
   },
   "outputs": [
    {
     "data": {
      "text/html": [
       "<div>\n",
       "<table border=\"1\" class=\"dataframe\">\n",
       "  <thead>\n",
       "    <tr style=\"text-align: right;\">\n",
       "      <th></th>\n",
       "      <th>skill</th>\n",
       "      <th>accuracy_x</th>\n",
       "      <th>total_x</th>\n",
       "      <th>accuracy_y</th>\n",
       "      <th>total_y</th>\n",
       "      <th>diff</th>\n",
       "    </tr>\n",
       "  </thead>\n",
       "  <tbody>\n",
       "    <tr>\n",
       "      <th>0</th>\n",
       "      <td>0</td>\n",
       "      <td>0.846154</td>\n",
       "      <td>1.000000</td>\n",
       "      <td>0.794118</td>\n",
       "      <td>1.029412</td>\n",
       "      <td>0.052036</td>\n",
       "    </tr>\n",
       "    <tr>\n",
       "      <th>1</th>\n",
       "      <td>1</td>\n",
       "      <td>0.924575</td>\n",
       "      <td>5.196078</td>\n",
       "      <td>0.914320</td>\n",
       "      <td>7.823009</td>\n",
       "      <td>0.010255</td>\n",
       "    </tr>\n",
       "    <tr>\n",
       "      <th>2</th>\n",
       "      <td>2</td>\n",
       "      <td>0.933333</td>\n",
       "      <td>1.133333</td>\n",
       "      <td>0.954545</td>\n",
       "      <td>1.045455</td>\n",
       "      <td>-0.021212</td>\n",
       "    </tr>\n",
       "    <tr>\n",
       "      <th>3</th>\n",
       "      <td>3</td>\n",
       "      <td>0.814956</td>\n",
       "      <td>5.376623</td>\n",
       "      <td>0.770146</td>\n",
       "      <td>4.393939</td>\n",
       "      <td>0.044811</td>\n",
       "    </tr>\n",
       "    <tr>\n",
       "      <th>4</th>\n",
       "      <td>4</td>\n",
       "      <td>1.000000</td>\n",
       "      <td>1.000000</td>\n",
       "      <td>1.000000</td>\n",
       "      <td>1.000000</td>\n",
       "      <td>0.000000</td>\n",
       "    </tr>\n",
       "  </tbody>\n",
       "</table>\n",
       "</div>"
      ],
      "text/plain": [
       "   skill  accuracy_x   total_x  accuracy_y   total_y      diff\n",
       "0      0    0.846154  1.000000    0.794118  1.029412  0.052036\n",
       "1      1    0.924575  5.196078    0.914320  7.823009  0.010255\n",
       "2      2    0.933333  1.133333    0.954545  1.045455 -0.021212\n",
       "3      3    0.814956  5.376623    0.770146  4.393939  0.044811\n",
       "4      4    1.000000  1.000000    1.000000  1.000000  0.000000"
      ]
     },
     "execution_count": 230,
     "metadata": {},
     "output_type": "execute_result"
    }
   ],
   "source": [
    "# skills_acc_diff = stem_ave.accuracy - nonstem_ave.accuracy\n",
    "# skills_acc_diff.head()\n",
    "accuracy_comparison = stem_ave[['skill', 'accuracy', 'total']].merge(nonstem_ave[['skill', 'accuracy', 'total']], on=\"skill\")\n",
    "accuracy_comparison['diff'] = accuracy_comparison.accuracy_x - accuracy_comparison.accuracy_y\n",
    "accuracy_comparison.head()"
   ]
  },
  {
   "cell_type": "markdown",
   "metadata": {},
   "source": [
    "#### There is a 2+ difference in quantity for the following skill groups"
   ]
  },
  {
   "cell_type": "code",
   "execution_count": 231,
   "metadata": {
    "collapsed": false,
    "deletable": true,
    "editable": true,
    "scrolled": true
   },
   "outputs": [
    {
     "data": {
      "image/png": "[encoded data removed]",
      "text/plain": [
       "<matplotlib.figure.Figure at 0x13e032b70>"
      ]
     },
     "metadata": {},
     "output_type": "display_data"
    },
    {
     "data": {
      "text/plain": [
       "([<matplotlib.lines.Line2D at 0x13ea3fcc0>],\n",
       " <matplotlib.text.Text at 0x13ea21518>,\n",
       " None)"
      ]
     },
     "execution_count": 231,
     "metadata": {},
     "output_type": "execute_result"
    }
   ],
   "source": [
    "accuracy_comparison['quantity_difference'] = accuracy_comparison.total_y - accuracy_comparison.total_x\n",
    "plt.plot(accuracy_comparison['quantity_difference']), plt.title(\"Quantity Difference per Skill\"), plt.show()"
   ]
  },
  {
   "cell_type": "code",
   "execution_count": 232,
   "metadata": {
    "collapsed": false,
    "deletable": true,
    "editable": true,
    "scrolled": true
   },
   "outputs": [
    {
     "data": {
      "text/html": [
       "<div>\n",
       "<table border=\"1\" class=\"dataframe\">\n",
       "  <thead>\n",
       "    <tr style=\"text-align: right;\">\n",
       "      <th></th>\n",
       "      <th>skill</th>\n",
       "      <th>accuracy_x</th>\n",
       "      <th>total_x</th>\n",
       "      <th>accuracy_y</th>\n",
       "      <th>total_y</th>\n",
       "      <th>diff</th>\n",
       "      <th>quantity_difference</th>\n",
       "    </tr>\n",
       "  </thead>\n",
       "  <tbody>\n",
       "    <tr>\n",
       "      <th>1</th>\n",
       "      <td>1</td>\n",
       "      <td>0.924575</td>\n",
       "      <td>5.196078</td>\n",
       "      <td>0.914320</td>\n",
       "      <td>7.823009</td>\n",
       "      <td>0.010255</td>\n",
       "      <td>2.626930</td>\n",
       "    </tr>\n",
       "    <tr>\n",
       "      <th>41</th>\n",
       "      <td>41</td>\n",
       "      <td>0.897779</td>\n",
       "      <td>4.843750</td>\n",
       "      <td>0.908401</td>\n",
       "      <td>7.660377</td>\n",
       "      <td>-0.010622</td>\n",
       "      <td>2.816627</td>\n",
       "    </tr>\n",
       "    <tr>\n",
       "      <th>46</th>\n",
       "      <td>46</td>\n",
       "      <td>0.909625</td>\n",
       "      <td>8.506494</td>\n",
       "      <td>0.888429</td>\n",
       "      <td>10.509091</td>\n",
       "      <td>0.021195</td>\n",
       "      <td>2.002597</td>\n",
       "    </tr>\n",
       "    <tr>\n",
       "      <th>50</th>\n",
       "      <td>50</td>\n",
       "      <td>0.844580</td>\n",
       "      <td>35.939024</td>\n",
       "      <td>0.821512</td>\n",
       "      <td>39.773256</td>\n",
       "      <td>0.023068</td>\n",
       "      <td>3.834231</td>\n",
       "    </tr>\n",
       "    <tr>\n",
       "      <th>79</th>\n",
       "      <td>80</td>\n",
       "      <td>0.889105</td>\n",
       "      <td>4.526316</td>\n",
       "      <td>0.850154</td>\n",
       "      <td>6.620690</td>\n",
       "      <td>0.038951</td>\n",
       "      <td>2.094374</td>\n",
       "    </tr>\n",
       "    <tr>\n",
       "      <th>90</th>\n",
       "      <td>91</td>\n",
       "      <td>0.906342</td>\n",
       "      <td>7.530864</td>\n",
       "      <td>0.899863</td>\n",
       "      <td>5.287356</td>\n",
       "      <td>0.006478</td>\n",
       "      <td>-2.243508</td>\n",
       "    </tr>\n",
       "  </tbody>\n",
       "</table>\n",
       "</div>"
      ],
      "text/plain": [
       "    skill  accuracy_x    total_x  accuracy_y    total_y      diff  \\\n",
       "1       1    0.924575   5.196078    0.914320   7.823009  0.010255   \n",
       "41     41    0.897779   4.843750    0.908401   7.660377 -0.010622   \n",
       "46     46    0.909625   8.506494    0.888429  10.509091  0.021195   \n",
       "50     50    0.844580  35.939024    0.821512  39.773256  0.023068   \n",
       "79     80    0.889105   4.526316    0.850154   6.620690  0.038951   \n",
       "90     91    0.906342   7.530864    0.899863   5.287356  0.006478   \n",
       "\n",
       "    quantity_difference  \n",
       "1              2.626930  \n",
       "41             2.816627  \n",
       "46             2.002597  \n",
       "50             3.834231  \n",
       "79             2.094374  \n",
       "90            -2.243508  "
      ]
     },
     "execution_count": 232,
     "metadata": {},
     "output_type": "execute_result"
    }
   ],
   "source": [
    "question_quantity_difference_above_2 = accuracy_comparison[(accuracy_comparison['quantity_difference'] < -2) | (accuracy_comparison['quantity_difference'] > 2)]\n",
    "question_quantity_difference_above_2"
   ]
  },
  {
   "cell_type": "markdown",
   "metadata": {},
   "source": [
    "#### Let's find the top skill outliers"
   ]
  },
  {
   "cell_type": "code",
   "execution_count": 233,
   "metadata": {
    "collapsed": false
   },
   "outputs": [
    {
     "data": {
      "image/png": "[encoded data removed]",
      "text/plain": [
       "<matplotlib.figure.Figure at 0x13ea0ec50>"
      ]
     },
     "metadata": {},
     "output_type": "display_data"
    },
    {
     "name": "stdout",
     "output_type": "stream",
     "text": [
      "Top contributors: \n"
     ]
    },
    {
     "data": {
      "image/png": "[encoded data removed]",
      "text/plain": [
       "<matplotlib.figure.Figure at 0x13eb71080>"
      ]
     },
     "metadata": {},
     "output_type": "display_data"
    },
    {
     "data": {
      "text/html": [
       "<div>\n",
       "<table border=\"1\" class=\"dataframe\">\n",
       "  <thead>\n",
       "    <tr style=\"text-align: right;\">\n",
       "      <th></th>\n",
       "      <th>skill</th>\n",
       "      <th>accuracy_x</th>\n",
       "      <th>total_x</th>\n",
       "      <th>accuracy_y</th>\n",
       "      <th>total_y</th>\n",
       "      <th>diff</th>\n",
       "      <th>quantity_difference</th>\n",
       "    </tr>\n",
       "  </thead>\n",
       "  <tbody>\n",
       "    <tr>\n",
       "      <th>7</th>\n",
       "      <td>7</td>\n",
       "      <td>0.937778</td>\n",
       "      <td>2.000000</td>\n",
       "      <td>0.839855</td>\n",
       "      <td>3.065217</td>\n",
       "      <td>0.097923</td>\n",
       "      <td>1.065217</td>\n",
       "    </tr>\n",
       "    <tr>\n",
       "      <th>9</th>\n",
       "      <td>9</td>\n",
       "      <td>0.833333</td>\n",
       "      <td>1.083333</td>\n",
       "      <td>0.977778</td>\n",
       "      <td>1.333333</td>\n",
       "      <td>-0.144444</td>\n",
       "      <td>0.250000</td>\n",
       "    </tr>\n",
       "    <tr>\n",
       "      <th>12</th>\n",
       "      <td>12</td>\n",
       "      <td>0.868637</td>\n",
       "      <td>2.172414</td>\n",
       "      <td>0.780075</td>\n",
       "      <td>2.368421</td>\n",
       "      <td>0.088562</td>\n",
       "      <td>0.196007</td>\n",
       "    </tr>\n",
       "    <tr>\n",
       "      <th>18</th>\n",
       "      <td>18</td>\n",
       "      <td>0.872829</td>\n",
       "      <td>6.831579</td>\n",
       "      <td>0.792892</td>\n",
       "      <td>7.481132</td>\n",
       "      <td>0.079936</td>\n",
       "      <td>0.649553</td>\n",
       "    </tr>\n",
       "    <tr>\n",
       "      <th>31</th>\n",
       "      <td>31</td>\n",
       "      <td>0.866667</td>\n",
       "      <td>1.000000</td>\n",
       "      <td>0.943182</td>\n",
       "      <td>1.113636</td>\n",
       "      <td>-0.076515</td>\n",
       "      <td>0.113636</td>\n",
       "    </tr>\n",
       "    <tr>\n",
       "      <th>39</th>\n",
       "      <td>39</td>\n",
       "      <td>0.741935</td>\n",
       "      <td>1.129032</td>\n",
       "      <td>0.491071</td>\n",
       "      <td>1.142857</td>\n",
       "      <td>0.250864</td>\n",
       "      <td>0.013825</td>\n",
       "    </tr>\n",
       "    <tr>\n",
       "      <th>49</th>\n",
       "      <td>49</td>\n",
       "      <td>0.968096</td>\n",
       "      <td>3.320755</td>\n",
       "      <td>0.892845</td>\n",
       "      <td>3.911765</td>\n",
       "      <td>0.075251</td>\n",
       "      <td>0.591010</td>\n",
       "    </tr>\n",
       "    <tr>\n",
       "      <th>61</th>\n",
       "      <td>61</td>\n",
       "      <td>0.921296</td>\n",
       "      <td>1.888889</td>\n",
       "      <td>0.827273</td>\n",
       "      <td>2.636364</td>\n",
       "      <td>0.094024</td>\n",
       "      <td>0.747475</td>\n",
       "    </tr>\n",
       "    <tr>\n",
       "      <th>64</th>\n",
       "      <td>64</td>\n",
       "      <td>0.911905</td>\n",
       "      <td>2.666667</td>\n",
       "      <td>0.834091</td>\n",
       "      <td>4.227273</td>\n",
       "      <td>0.077814</td>\n",
       "      <td>1.560606</td>\n",
       "    </tr>\n",
       "    <tr>\n",
       "      <th>70</th>\n",
       "      <td>70</td>\n",
       "      <td>0.813636</td>\n",
       "      <td>2.484848</td>\n",
       "      <td>0.738043</td>\n",
       "      <td>2.543478</td>\n",
       "      <td>0.075593</td>\n",
       "      <td>0.058630</td>\n",
       "    </tr>\n",
       "    <tr>\n",
       "      <th>72</th>\n",
       "      <td>72</td>\n",
       "      <td>0.666667</td>\n",
       "      <td>1.333333</td>\n",
       "      <td>0.956522</td>\n",
       "      <td>1.391304</td>\n",
       "      <td>-0.289855</td>\n",
       "      <td>0.057971</td>\n",
       "    </tr>\n",
       "  </tbody>\n",
       "</table>\n",
       "</div>"
      ],
      "text/plain": [
       "    skill  accuracy_x   total_x  accuracy_y   total_y      diff  \\\n",
       "7       7    0.937778  2.000000    0.839855  3.065217  0.097923   \n",
       "9       9    0.833333  1.083333    0.977778  1.333333 -0.144444   \n",
       "12     12    0.868637  2.172414    0.780075  2.368421  0.088562   \n",
       "18     18    0.872829  6.831579    0.792892  7.481132  0.079936   \n",
       "31     31    0.866667  1.000000    0.943182  1.113636 -0.076515   \n",
       "39     39    0.741935  1.129032    0.491071  1.142857  0.250864   \n",
       "49     49    0.968096  3.320755    0.892845  3.911765  0.075251   \n",
       "61     61    0.921296  1.888889    0.827273  2.636364  0.094024   \n",
       "64     64    0.911905  2.666667    0.834091  4.227273  0.077814   \n",
       "70     70    0.813636  2.484848    0.738043  2.543478  0.075593   \n",
       "72     72    0.666667  1.333333    0.956522  1.391304 -0.289855   \n",
       "\n",
       "    quantity_difference  \n",
       "7              1.065217  \n",
       "9              0.250000  \n",
       "12             0.196007  \n",
       "18             0.649553  \n",
       "31             0.113636  \n",
       "39             0.013825  \n",
       "49             0.591010  \n",
       "61             0.747475  \n",
       "64             1.560606  \n",
       "70             0.058630  \n",
       "72             0.057971  "
      ]
     },
     "execution_count": 233,
     "metadata": {},
     "output_type": "execute_result"
    }
   ],
   "source": [
    "plt.plot(accuracy_comparison['diff']), plt.show()\n",
    "print('Top contributors: ')\n",
    "above_7_5 = accuracy_comparison[(accuracy_comparison['diff'] > 0.075) | (accuracy_comparison['diff'] < -0.075)]\n",
    "plt.plot(above_7_5['diff'], 'o'), plt.show()\n",
    "above_7_5"
   ]
  },
  {
   "cell_type": "markdown",
   "metadata": {},
   "source": [
    "#### Check if the \"top-contributors\" are from those with big question_quantity_difference"
   ]
  },
  {
   "cell_type": "code",
   "execution_count": 234,
   "metadata": {
    "collapsed": false
   },
   "outputs": [
    {
     "name": "stdout",
     "output_type": "stream",
     "text": [
      "Nothing Found\n"
     ]
    }
   ],
   "source": [
    "skills_where_question_quantity_difference_is_above_2 = question_quantity_difference_above_2.skill\n",
    "risk_zone_skills = 0\n",
    "for s in skills_where_question_quantity_difference_is_above_2:\n",
    "    if s in above_7_5.skill:\n",
    "        print(s)\n",
    "        risk_zone_skills += 1\n",
    "if risk_zone_skills == 0:\n",
    "    print('Nothing Found')"
   ]
  },
  {
   "cell_type": "markdown",
   "metadata": {},
   "source": [
    "We may not care about the quantity difference as on average the difference in question taken between the groups is similar"
   ]
  },
  {
   "cell_type": "markdown",
   "metadata": {},
   "source": [
    "#### Generate The Box Plots per each \"Top-Contribution\" Skill to see if there is a big overlap"
   ]
  },
  {
   "cell_type": "code",
   "execution_count": 242,
   "metadata": {
    "collapsed": false
   },
   "outputs": [
    {
     "data": {
      "text/plain": [
       "{7, 9, 12, 18, 31, 39, 49, 61, 64, 70, 72}"
      ]
     },
     "execution_count": 242,
     "metadata": {},
     "output_type": "execute_result"
    }
   ],
   "source": [
    "top_contribution_skills = above_7_5.skill\n",
    "set(top_contribution_skills)"
   ]
  },
  {
   "cell_type": "code",
   "execution_count": 256,
   "metadata": {
    "collapsed": false
   },
   "outputs": [
    {
     "data": {
      "text/html": [
       "<div>\n",
       "<table border=\"1\" class=\"dataframe\">\n",
       "  <thead>\n",
       "    <tr style=\"text-align: right;\">\n",
       "      <th></th>\n",
       "      <th>itest_id</th>\n",
       "      <th>skill</th>\n",
       "      <th>correct</th>\n",
       "      <th>total</th>\n",
       "      <th>accuracy</th>\n",
       "      <th>isstem</th>\n",
       "    </tr>\n",
       "  </thead>\n",
       "  <tbody>\n",
       "    <tr>\n",
       "      <th>0</th>\n",
       "      <td>35</td>\n",
       "      <td>1</td>\n",
       "      <td>13</td>\n",
       "      <td>16.0</td>\n",
       "      <td>0.812500</td>\n",
       "      <td>0</td>\n",
       "    </tr>\n",
       "    <tr>\n",
       "      <th>1</th>\n",
       "      <td>35</td>\n",
       "      <td>3</td>\n",
       "      <td>1</td>\n",
       "      <td>1.0</td>\n",
       "      <td>1.000000</td>\n",
       "      <td>0</td>\n",
       "    </tr>\n",
       "    <tr>\n",
       "      <th>2</th>\n",
       "      <td>35</td>\n",
       "      <td>4</td>\n",
       "      <td>1</td>\n",
       "      <td>1.0</td>\n",
       "      <td>1.000000</td>\n",
       "      <td>0</td>\n",
       "    </tr>\n",
       "    <tr>\n",
       "      <th>3</th>\n",
       "      <td>35</td>\n",
       "      <td>5</td>\n",
       "      <td>5</td>\n",
       "      <td>9.0</td>\n",
       "      <td>0.555556</td>\n",
       "      <td>0</td>\n",
       "    </tr>\n",
       "    <tr>\n",
       "      <th>4</th>\n",
       "      <td>35</td>\n",
       "      <td>8</td>\n",
       "      <td>1</td>\n",
       "      <td>1.0</td>\n",
       "      <td>1.000000</td>\n",
       "      <td>0</td>\n",
       "    </tr>\n",
       "  </tbody>\n",
       "</table>\n",
       "</div>"
      ],
      "text/plain": [
       "   itest_id  skill  correct  total  accuracy  isstem\n",
       "0        35      1       13   16.0  0.812500       0\n",
       "1        35      3        1    1.0  1.000000       0\n",
       "2        35      4        1    1.0  1.000000       0\n",
       "3        35      5        5    9.0  0.555556       0\n",
       "4        35      8        1    1.0  1.000000       0"
      ]
     },
     "execution_count": 256,
     "metadata": {},
     "output_type": "execute_result"
    }
   ],
   "source": [
    "student_accuracy_with_stem.head()"
   ]
  },
  {
   "cell_type": "markdown",
   "metadata": {},
   "source": [
    "#### Looking for the optimal minimum quantity of solved questions"
   ]
  },
  {
   "cell_type": "code",
   "execution_count": 298,
   "metadata": {
    "collapsed": false
   },
   "outputs": [
    {
     "name": "stdout",
     "output_type": "stream",
     "text": [
      "At least 1 questions solved: \n",
      "Skill: 7\n",
      "Skill: 9\n",
      "Skill: 12\n",
      "Skill: 18\n"
     ]
    },
    {
     "name": "stderr",
     "output_type": "stream",
     "text": [
      "/Library/Frameworks/Python.framework/Versions/3.5/lib/python3.5/site-packages/ipykernel/__main__.py:6: UserWarning: Boolean Series key will be reindexed to match DataFrame index.\n",
      "/Library/Frameworks/Python.framework/Versions/3.5/lib/python3.5/site-packages/ipykernel/__main__.py:7: UserWarning: Boolean Series key will be reindexed to match DataFrame index.\n"
     ]
    },
    {
     "name": "stdout",
     "output_type": "stream",
     "text": [
      "Skill: 39\n",
      "Skill: 49\n",
      "Skill: 61\n",
      "Skill: 64\n",
      "Skill: 70\n",
      "Skill: 72\n",
      "Number of Plots 10: [7, 9, 12, 18, 39, 49, 61, 64, 70, 72]\n",
      "At least 2 questions solved: \n",
      "Skill: 7\n",
      "Skill: 12\n",
      "Skill: 18\n",
      "Skill: 49\n",
      "Skill: 61\n",
      "Skill: 64\n",
      "Skill: 70\n",
      "Skill: 72\n",
      "Number of Plots 8: [7, 12, 18, 49, 61, 64, 70, 72]\n",
      "At least 3 questions solved: \n",
      "Skill: 7\n",
      "Skill: 12\n",
      "Skill: 18\n",
      "Skill: 49\n",
      "Skill: 61\n",
      "Skill: 64\n",
      "Skill: 70\n",
      "Number of Plots 7: [7, 12, 18, 49, 61, 64, 70]\n",
      "At least 4 questions solved: \n",
      "Skill: 7\n",
      "Skill: 12\n",
      "Skill: 18\n",
      "Skill: 49\n",
      "Skill: 61\n",
      "Skill: 64\n",
      "Skill: 70\n",
      "Number of Plots 7: [7, 12, 18, 49, 61, 64, 70]\n",
      "At least 5 questions solved: \n",
      "Skill: 12\n",
      "Skill: 18\n",
      "Skill: 49\n",
      "Skill: 61\n",
      "Number of Plots 4: [12, 18, 49, 61]\n",
      "At least 6 questions solved: \n",
      "Skill: 12\n",
      "Skill: 18\n",
      "Skill: 49\n",
      "Number of Plots 3: [12, 18, 49]\n",
      "At least 7 questions solved: \n",
      "Skill: 18\n",
      "Skill: 49\n",
      "Number of Plots 2: [18, 49]\n",
      "At least 8 questions solved: \n",
      "Skill: 18\n",
      "Skill: 49\n",
      "Number of Plots 2: [18, 49]\n",
      "At least 9 questions solved: \n",
      "Skill: 18\n",
      "Skill: 49\n",
      "Number of Plots 2: [18, 49]\n"
     ]
    }
   ],
   "source": [
    "for question_threshold in range(1, 10):\n",
    "    print(\"At least {} questions solved: \".format(question_threshold))\n",
    "    student_accuracy_with_stem_above_quantity_threshold = student_accuracy_with_stem[student_accuracy_with_stem.total > question_threshold]\n",
    "    number_of_contributors_left = []\n",
    "    for i in top_contribution_skills:\n",
    "        stem_table_filtered_for_box_plot = student_accuracy_with_stem_above_quantity_threshold[(student_accuracy_with_stem_above_quantity_threshold['skill']==i) & (student_accuracy_with_stem['isstem']==1)]\n",
    "        nonstem_table_filtered_for_box_plot = student_accuracy_with_stem_above_quantity_threshold[(student_accuracy_with_stem_above_quantity_threshold['skill']==i) & (student_accuracy_with_stem['isstem']==0)]\n",
    "        if stem_table_filtered_for_box_plot.shape[0] == 0 or nonstem_table_filtered_for_box_plot.shape[0] == 0:\n",
    "            continue\n",
    "        print(\"Skill: {}\".format(i))\n",
    "        number_of_contributors_left.append(i)\n",
    "#         plt.figure(figsize=(12, 2))\n",
    "#         plt.xlim(xmax=1, xmin=0)\n",
    "#         sns.boxplot(stem_table_filtered_for_box_plot.accuracy), plt.title(\"STEM\"), plt.show()\n",
    "\n",
    "#         plt.figure(figsize=(12, 2))\n",
    "#         plt.xlim(xmax=1, xmin=0)\n",
    "#         sns.boxplot(nonstem_table_filtered_for_box_plot.accuracy), plt.title(\"NONSTEM\"), plt.show()\n",
    "    print(\"Number of Plots {}: {}\".format(len(number_of_contributors_left), number_of_contributors_left))"
   ]
  },
  {
   "cell_type": "markdown",
   "metadata": {},
   "source": [
    "#### Let's test two cases: 4+ and 5+ and 7+ questions"
   ]
  },
  {
   "cell_type": "code",
   "execution_count": 304,
   "metadata": {
    "collapsed": false
   },
   "outputs": [
    {
     "name": "stdout",
     "output_type": "stream",
     "text": [
      "========================== At least 4 questions solved: \n"
     ]
    },
    {
     "name": "stderr",
     "output_type": "stream",
     "text": [
      "/Library/Frameworks/Python.framework/Versions/3.5/lib/python3.5/site-packages/ipykernel/__main__.py:6: UserWarning: Boolean Series key will be reindexed to match DataFrame index.\n",
      "/Library/Frameworks/Python.framework/Versions/3.5/lib/python3.5/site-packages/ipykernel/__main__.py:7: UserWarning: Boolean Series key will be reindexed to match DataFrame index.\n"
     ]
    },
    {
     "name": "stdout",
     "output_type": "stream",
     "text": [
      "Skill: 7\n"
     ]
    },
    {
     "data": {
      "image/png": "[encoded data removed]",
      "text/plain": [
       "<matplotlib.figure.Figure at 0x1419dfeb8>"
      ]
     },
     "metadata": {},
     "output_type": "display_data"
    },
    {
     "data": {
      "image/png": "[encoded data removed]",
      "text/plain": [
       "<matplotlib.figure.Figure at 0x142e3b710>"
      ]
     },
     "metadata": {},
     "output_type": "display_data"
    },
    {
     "name": "stdout",
     "output_type": "stream",
     "text": [
      "Skill: 12\n"
     ]
    },
    {
     "data": {
      "image/png": "[encoded data removed]",
      "text/plain": [
       "<matplotlib.figure.Figure at 0x13f859ef0>"
      ]
     },
     "metadata": {},
     "output_type": "display_data"
    },
    {
     "data": {
      "image/png": "[encoded data removed]",
      "text/plain": [
       "<matplotlib.figure.Figure at 0x141a8eba8>"
      ]
     },
     "metadata": {},
     "output_type": "display_data"
    },
    {
     "name": "stdout",
     "output_type": "stream",
     "text": [
      "Skill: 18\n"
     ]
    },
    {
     "data": {
      "image/png": "[encoded data removed]",
      "text/plain": [
       "<matplotlib.figure.Figure at 0x141e8c2b0>"
      ]
     },
     "metadata": {},
     "output_type": "display_data"
    },
    {
     "data": {
      "image/png": "[encoded data removed]",
      "text/plain": [
       "<matplotlib.figure.Figure at 0x142093588>"
      ]
     },
     "metadata": {},
     "output_type": "display_data"
    },
    {
     "name": "stdout",
     "output_type": "stream",
     "text": [
      "Skill: 49\n"
     ]
    },
    {
     "data": {
      "image/png": "[encoded data removed]",
      "text/plain": [
       "<matplotlib.figure.Figure at 0x141a93a90>"
      ]
     },
     "metadata": {},
     "output_type": "display_data"
    },
    {
     "data": {
      "image/png": "[encoded data removed]",
      "text/plain": [
       "<matplotlib.figure.Figure at 0x141f816d8>"
      ]
     },
     "metadata": {},
     "output_type": "display_data"
    },
    {
     "name": "stdout",
     "output_type": "stream",
     "text": [
      "Skill: 61\n"
     ]
    },
    {
     "data": {
      "image/png": "[encoded data removed]",
      "text/plain": [
       "<matplotlib.figure.Figure at 0x14251cb00>"
      ]
     },
     "metadata": {},
     "output_type": "display_data"
    },
    {
     "data": {
      "image/png": "[encoded data removed]",
      "text/plain": [
       "<matplotlib.figure.Figure at 0x143167240>"
      ]
     },
     "metadata": {},
     "output_type": "display_data"
    },
    {
     "name": "stdout",
     "output_type": "stream",
     "text": [
      "Skill: 64\n"
     ]
    },
    {
     "data": {
      "image/png": "[encoded data removed]",
      "text/plain": [
       "<matplotlib.figure.Figure at 0x141eaa390>"
      ]
     },
     "metadata": {},
     "output_type": "display_data"
    },
    {
     "data": {
      "image/png": "[encoded data removed]",
      "text/plain": [
       "<matplotlib.figure.Figure at 0x1425fe710>"
      ]
     },
     "metadata": {},
     "output_type": "display_data"
    },
    {
     "name": "stdout",
     "output_type": "stream",
     "text": [
      "Skill: 70\n"
     ]
    },
    {
     "data": {
      "image/png": "[encoded data removed]",
      "text/plain": [
       "<matplotlib.figure.Figure at 0x1416452e8>"
      ]
     },
     "metadata": {},
     "output_type": "display_data"
    },
    {
     "data": {
      "image/png": "[encoded data removed]",
      "text/plain": [
       "<matplotlib.figure.Figure at 0x1419c8da0>"
      ]
     },
     "metadata": {},
     "output_type": "display_data"
    },
    {
     "name": "stdout",
     "output_type": "stream",
     "text": [
      "Number of Plots 7: [7, 12, 18, 49, 61, 64, 70]\n",
      "========================== At least 5 questions solved: \n",
      "Skill: 12\n"
     ]
    },
    {
     "data": {
      "image/png": "[encoded data removed]",
      "text/plain": [
       "<matplotlib.figure.Figure at 0x141991e10>"
      ]
     },
     "metadata": {},
     "output_type": "display_data"
    },
    {
     "data": {
      "image/png": "[encoded data removed]",
      "text/plain": [
       "<matplotlib.figure.Figure at 0x1426b2860>"
      ]
     },
     "metadata": {},
     "output_type": "display_data"
    },
    {
     "name": "stdout",
     "output_type": "stream",
     "text": [
      "Skill: 18\n"
     ]
    },
    {
     "data": {
      "image/png": "[encoded data removed]",
      "text/plain": [
       "<matplotlib.figure.Figure at 0x143588208>"
      ]
     },
     "metadata": {},
     "output_type": "display_data"
    },
    {
     "data": {
      "image/png": "[encoded data removed]",
      "text/plain": [
       "<matplotlib.figure.Figure at 0x13e4a7fd0>"
      ]
     },
     "metadata": {},
     "output_type": "display_data"
    },
    {
     "name": "stdout",
     "output_type": "stream",
     "text": [
      "Skill: 49\n"
     ]
    },
    {
     "data": {
      "image/png": "[encoded data removed]",
      "text/plain": [
       "<matplotlib.figure.Figure at 0x142767f60>"
      ]
     },
     "metadata": {},
     "output_type": "display_data"
    },
    {
     "data": {
      "image/png": "[encoded data removed]",
      "text/plain": [
       "<matplotlib.figure.Figure at 0x142a8b278>"
      ]
     },
     "metadata": {},
     "output_type": "display_data"
    },
    {
     "name": "stdout",
     "output_type": "stream",
     "text": [
      "Skill: 61\n"
     ]
    },
    {
     "data": {
      "image/png": "[encoded data removed]",
      "text/plain": [
       "<matplotlib.figure.Figure at 0x1439f07b8>"
      ]
     },
     "metadata": {},
     "output_type": "display_data"
    },
    {
     "data": {
      "image/png": "[encoded data removed]",
      "text/plain": [
       "<matplotlib.figure.Figure at 0x13e4d10f0>"
      ]
     },
     "metadata": {},
     "output_type": "display_data"
    },
    {
     "name": "stdout",
     "output_type": "stream",
     "text": [
      "Number of Plots 4: [12, 18, 49, 61]\n",
      "========================== At least 7 questions solved: \n",
      "Skill: 18\n"
     ]
    },
    {
     "data": {
      "image/png": "[encoded data removed]",
      "text/plain": [
       "<matplotlib.figure.Figure at 0x149ddc550>"
      ]
     },
     "metadata": {},
     "output_type": "display_data"
    },
    {
     "data": {
      "image/png": "[encoded data removed]",
      "text/plain": [
       "<matplotlib.figure.Figure at 0x13e16f860>"
      ]
     },
     "metadata": {},
     "output_type": "display_data"
    },
    {
     "name": "stdout",
     "output_type": "stream",
     "text": [
      "Skill: 49\n"
     ]
    },
    {
     "data": {
      "image/png": "[encoded data removed]",
      "text/plain": [
       "<matplotlib.figure.Figure at 0x13e801278>"
      ]
     },
     "metadata": {},
     "output_type": "display_data"
    },
    {
     "data": {
      "image/png": "[encoded data removed]",
      "text/plain": [
       "<matplotlib.figure.Figure at 0x1403a4588>"
      ]
     },
     "metadata": {},
     "output_type": "display_data"
    },
    {
     "name": "stdout",
     "output_type": "stream",
     "text": [
      "Number of Plots 2: [18, 49]\n"
     ]
    }
   ],
   "source": [
    "for question_threshold in [4, 5, 7]:\n",
    "    print(\"========================== At least {} questions solved: \".format(question_threshold))\n",
    "    student_accuracy_with_stem_above_quantity_threshold = student_accuracy_with_stem[student_accuracy_with_stem.total > question_threshold]\n",
    "    number_of_contributors_left = []\n",
    "    for i in top_contribution_skills:\n",
    "        stem_table_filtered_for_box_plot = student_accuracy_with_stem_above_quantity_threshold[(student_accuracy_with_stem_above_quantity_threshold['skill']==i) & (student_accuracy_with_stem['isstem']==1)]\n",
    "        nonstem_table_filtered_for_box_plot = student_accuracy_with_stem_above_quantity_threshold[(student_accuracy_with_stem_above_quantity_threshold['skill']==i) & (student_accuracy_with_stem['isstem']==0)]\n",
    "        if stem_table_filtered_for_box_plot.shape[0] == 0 or nonstem_table_filtered_for_box_plot.shape[0] == 0:\n",
    "            continue\n",
    "        print(\"Skill: {}\".format(i))\n",
    "        number_of_contributors_left.append(i)\n",
    "        plt.figure(figsize=(12, 2))\n",
    "        plt.xlim(xmax=1, xmin=0)\n",
    "        sns.boxplot(stem_table_filtered_for_box_plot.accuracy), plt.title(\"STEM\"), plt.show()\n",
    "\n",
    "        plt.figure(figsize=(12, 2))\n",
    "        plt.xlim(xmax=1, xmin=0)\n",
    "        sns.boxplot(nonstem_table_filtered_for_box_plot.accuracy), plt.title(\"NONSTEM\"), plt.show()\n",
    "    print(\"Number of Plots {}: {}\".format(len(number_of_contributors_left), number_of_contributors_left))"
   ]
  },
  {
   "cell_type": "code",
   "execution_count": 306,
   "metadata": {
    "collapsed": false
   },
   "outputs": [
    {
     "name": "stdout",
     "output_type": "stream",
     "text": [
      "========================== At least 5 questions solved: \n",
      "Skill: 12"
     ]
    },
    {
     "name": "stderr",
     "output_type": "stream",
     "text": [
      "/Library/Frameworks/Python.framework/Versions/3.5/lib/python3.5/site-packages/ipykernel/__main__.py:7: UserWarning: Boolean Series key will be reindexed to match DataFrame index.\n",
      "/Library/Frameworks/Python.framework/Versions/3.5/lib/python3.5/site-packages/ipykernel/__main__.py:8: UserWarning: Boolean Series key will be reindexed to match DataFrame index.\n"
     ]
    },
    {
     "name": "stdout",
     "output_type": "stream",
     "text": [
      "\n"
     ]
    },
    {
     "data": {
      "image/png": "[encoded data removed]",
      "text/plain": [
       "<matplotlib.figure.Figure at 0x13f5889e8>"
      ]
     },
     "metadata": {},
     "output_type": "display_data"
    },
    {
     "data": {
      "image/png": "[encoded data removed]",
      "text/plain": [
       "<matplotlib.figure.Figure at 0x140280a90>"
      ]
     },
     "metadata": {},
     "output_type": "display_data"
    },
    {
     "name": "stdout",
     "output_type": "stream",
     "text": [
      "Skill: 18\n"
     ]
    },
    {
     "data": {
      "image/png": "[encoded data removed]",
      "text/plain": [
       "<matplotlib.figure.Figure at 0x13ec82b70>"
      ]
     },
     "metadata": {},
     "output_type": "display_data"
    },
    {
     "data": {
      "image/png": "[encoded data removed]",
      "text/plain": [
       "<matplotlib.figure.Figure at 0x13fe32860>"
      ]
     },
     "metadata": {},
     "output_type": "display_data"
    },
    {
     "name": "stdout",
     "output_type": "stream",
     "text": [
      "Skill: 49\n"
     ]
    },
    {
     "data": {
      "image/png": "[encoded data removed]",
      "text/plain": [
       "<matplotlib.figure.Figure at 0x13e828908>"
      ]
     },
     "metadata": {},
     "output_type": "display_data"
    },
    {
     "data": {
      "image/png": "[encoded data removed]",
      "text/plain": [
       "<matplotlib.figure.Figure at 0x13ff316a0>"
      ]
     },
     "metadata": {},
     "output_type": "display_data"
    },
    {
     "name": "stdout",
     "output_type": "stream",
     "text": [
      "Skill: 61\n"
     ]
    },
    {
     "data": {
      "image/png": "[encoded data removed]",
      "text/plain": [
       "<matplotlib.figure.Figure at 0x140473dd8>"
      ]
     },
     "metadata": {},
     "output_type": "display_data"
    },
    {
     "data": {
      "image/png": "[encoded data removed]",
      "text/plain": [
       "<matplotlib.figure.Figure at 0x140e90c50>"
      ]
     },
     "metadata": {},
     "output_type": "display_data"
    },
    {
     "name": "stdout",
     "output_type": "stream",
     "text": [
      "Number of Plots 4: [12, 18, 49, 61]\n"
     ]
    }
   ],
   "source": [
    "# 5+\n",
    "for question_threshold in [5]:\n",
    "    print(\"========================== At least {} questions solved: \".format(question_threshold))\n",
    "    student_accuracy_with_stem_above_quantity_threshold = student_accuracy_with_stem[student_accuracy_with_stem.total > question_threshold]\n",
    "    number_of_contributors_left = []\n",
    "    for i in top_contribution_skills:\n",
    "        stem_table_filtered_for_box_plot = student_accuracy_with_stem_above_quantity_threshold[(student_accuracy_with_stem_above_quantity_threshold['skill']==i) & (student_accuracy_with_stem['isstem']==1)]\n",
    "        nonstem_table_filtered_for_box_plot = student_accuracy_with_stem_above_quantity_threshold[(student_accuracy_with_stem_above_quantity_threshold['skill']==i) & (student_accuracy_with_stem['isstem']==0)]\n",
    "        if stem_table_filtered_for_box_plot.shape[0] == 0 or nonstem_table_filtered_for_box_plot.shape[0] == 0:\n",
    "            continue\n",
    "        print(\"Skill: {}\".format(i))\n",
    "        number_of_contributors_left.append(i)\n",
    "        plt.figure(figsize=(12, 2))\n",
    "        plt.xlim(xmax=1, xmin=0)\n",
    "        sns.boxplot(stem_table_filtered_for_box_plot.accuracy), plt.title(\"STEM\"), plt.show()\n",
    "\n",
    "        plt.figure(figsize=(12, 2))\n",
    "        plt.xlim(xmax=1, xmin=0)\n",
    "        sns.boxplot(nonstem_table_filtered_for_box_plot.accuracy), plt.title(\"NONSTEM\"), plt.show()\n",
    "    print(\"Number of Plots {}: {}\".format(len(number_of_contributors_left), number_of_contributors_left))"
   ]
  },
  {
   "cell_type": "code",
   "execution_count": 316,
   "metadata": {
    "collapsed": false
   },
   "outputs": [
    {
     "data": {
      "text/html": [
       "<div>\n",
       "<table border=\"1\" class=\"dataframe\">\n",
       "  <thead>\n",
       "    <tr style=\"text-align: right;\">\n",
       "      <th></th>\n",
       "      <th>itest_id</th>\n",
       "      <th>skill</th>\n",
       "      <th>correct</th>\n",
       "      <th>total</th>\n",
       "      <th>accuracy</th>\n",
       "      <th>isstem</th>\n",
       "    </tr>\n",
       "  </thead>\n",
       "  <tbody>\n",
       "    <tr>\n",
       "      <th>4862</th>\n",
       "      <td>3159</td>\n",
       "      <td>61</td>\n",
       "      <td>5</td>\n",
       "      <td>6.0</td>\n",
       "      <td>0.833333</td>\n",
       "      <td>0</td>\n",
       "    </tr>\n",
       "    <tr>\n",
       "      <th>5889</th>\n",
       "      <td>3609</td>\n",
       "      <td>61</td>\n",
       "      <td>5</td>\n",
       "      <td>6.0</td>\n",
       "      <td>0.833333</td>\n",
       "      <td>0</td>\n",
       "    </tr>\n",
       "    <tr>\n",
       "      <th>6814</th>\n",
       "      <td>4518</td>\n",
       "      <td>61</td>\n",
       "      <td>5</td>\n",
       "      <td>6.0</td>\n",
       "      <td>0.833333</td>\n",
       "      <td>0</td>\n",
       "    </tr>\n",
       "    <tr>\n",
       "      <th>9118</th>\n",
       "      <td>5745</td>\n",
       "      <td>61</td>\n",
       "      <td>5</td>\n",
       "      <td>6.0</td>\n",
       "      <td>0.833333</td>\n",
       "      <td>0</td>\n",
       "    </tr>\n",
       "    <tr>\n",
       "      <th>13549</th>\n",
       "      <td>6939</td>\n",
       "      <td>61</td>\n",
       "      <td>5</td>\n",
       "      <td>6.0</td>\n",
       "      <td>0.833333</td>\n",
       "      <td>1</td>\n",
       "    </tr>\n",
       "  </tbody>\n",
       "</table>\n",
       "</div>"
      ],
      "text/plain": [
       "       itest_id  skill  correct  total  accuracy  isstem\n",
       "4862       3159     61        5    6.0  0.833333       0\n",
       "5889       3609     61        5    6.0  0.833333       0\n",
       "6814       4518     61        5    6.0  0.833333       0\n",
       "9118       5745     61        5    6.0  0.833333       0\n",
       "13549      6939     61        5    6.0  0.833333       1"
      ]
     },
     "execution_count": 316,
     "metadata": {},
     "output_type": "execute_result"
    }
   ],
   "source": [
    "# conditions: least 4 questions, on the top-contribution skills above a particular percentage\n",
    "thr = 5\n",
    "student_accuracy_with_stem_above_quantity_threshold = student_accuracy_with_stem[student_accuracy_with_stem.total > thr]\n",
    "student_accuracy_with_stem_above_quantity_threshold[student_accuracy_with_stem_above_quantity_threshold.skill==61].head()"
   ]
  },
  {
   "cell_type": "code",
   "execution_count": 400,
   "metadata": {
    "collapsed": false
   },
   "outputs": [
    {
     "data": {
      "text/html": [
       "<div>\n",
       "<table border=\"1\" class=\"dataframe\">\n",
       "  <thead>\n",
       "    <tr style=\"text-align: right;\">\n",
       "      <th></th>\n",
       "      <th>itest_id</th>\n",
       "      <th>skill</th>\n",
       "      <th>correct</th>\n",
       "      <th>total</th>\n",
       "      <th>accuracy</th>\n",
       "    </tr>\n",
       "  </thead>\n",
       "  <tbody>\n",
       "    <tr>\n",
       "      <th>6</th>\n",
       "      <td>35</td>\n",
       "      <td>12</td>\n",
       "      <td>2</td>\n",
       "      <td>3.0</td>\n",
       "      <td>0.666667</td>\n",
       "    </tr>\n",
       "    <tr>\n",
       "      <th>10</th>\n",
       "      <td>35</td>\n",
       "      <td>18</td>\n",
       "      <td>9</td>\n",
       "      <td>11.0</td>\n",
       "      <td>0.818182</td>\n",
       "    </tr>\n",
       "    <tr>\n",
       "      <th>32</th>\n",
       "      <td>35</td>\n",
       "      <td>49</td>\n",
       "      <td>1</td>\n",
       "      <td>1.0</td>\n",
       "      <td>1.000000</td>\n",
       "    </tr>\n",
       "    <tr>\n",
       "      <th>49</th>\n",
       "      <td>35</td>\n",
       "      <td>70</td>\n",
       "      <td>2</td>\n",
       "      <td>2.0</td>\n",
       "      <td>1.000000</td>\n",
       "    </tr>\n",
       "    <tr>\n",
       "      <th>71</th>\n",
       "      <td>77</td>\n",
       "      <td>18</td>\n",
       "      <td>4</td>\n",
       "      <td>4.0</td>\n",
       "      <td>1.000000</td>\n",
       "    </tr>\n",
       "  </tbody>\n",
       "</table>\n",
       "</div>"
      ],
      "text/plain": [
       "    itest_id  skill  correct  total  accuracy\n",
       "6         35     12        2    3.0  0.666667\n",
       "10        35     18        9   11.0  0.818182\n",
       "32        35     49        1    1.0  1.000000\n",
       "49        35     70        2    2.0  1.000000\n",
       "71        77     18        4    4.0  1.000000"
      ]
     },
     "execution_count": 400,
     "metadata": {},
     "output_type": "execute_result"
    }
   ],
   "source": [
    "top_contributors = [7, 9, 12, 18, 39, 49, 61, 64, 70, 72]\n",
    "def top_groups(cell, groups):\n",
    "    if cell in groups:\n",
    "        return True\n",
    "    return False\n",
    "students_by_top_groups = student_accuracy[student_accuracy.skill.apply(lambda x: top_groups(x, top_contributors))]\n",
    "students_by_top_groups.head()"
   ]
  },
  {
   "cell_type": "code",
   "execution_count": 407,
   "metadata": {
    "collapsed": false
   },
   "outputs": [
    {
     "data": {
      "text/html": [
       "<div>\n",
       "<table border=\"1\" class=\"dataframe\">\n",
       "  <thead>\n",
       "    <tr style=\"text-align: right;\">\n",
       "      <th></th>\n",
       "      <th>itest_id</th>\n",
       "      <th>isstem</th>\n",
       "      <th>total 18</th>\n",
       "      <th>accuracy 18</th>\n",
       "      <th>skill_x</th>\n",
       "      <th>total 49</th>\n",
       "      <th>accuracy 49</th>\n",
       "      <th>skill_y</th>\n",
       "    </tr>\n",
       "  </thead>\n",
       "  <tbody>\n",
       "    <tr>\n",
       "      <th>0</th>\n",
       "      <td>9</td>\n",
       "      <td>1</td>\n",
       "      <td>0.0</td>\n",
       "      <td>0.000000</td>\n",
       "      <td>0.0</td>\n",
       "      <td>0.0</td>\n",
       "      <td>0.0</td>\n",
       "      <td>0.0</td>\n",
       "    </tr>\n",
       "    <tr>\n",
       "      <th>1</th>\n",
       "      <td>27</td>\n",
       "      <td>0</td>\n",
       "      <td>0.0</td>\n",
       "      <td>0.000000</td>\n",
       "      <td>0.0</td>\n",
       "      <td>0.0</td>\n",
       "      <td>0.0</td>\n",
       "      <td>0.0</td>\n",
       "    </tr>\n",
       "    <tr>\n",
       "      <th>2</th>\n",
       "      <td>33</td>\n",
       "      <td>0</td>\n",
       "      <td>0.0</td>\n",
       "      <td>0.000000</td>\n",
       "      <td>0.0</td>\n",
       "      <td>0.0</td>\n",
       "      <td>0.0</td>\n",
       "      <td>0.0</td>\n",
       "    </tr>\n",
       "    <tr>\n",
       "      <th>3</th>\n",
       "      <td>35</td>\n",
       "      <td>0</td>\n",
       "      <td>11.0</td>\n",
       "      <td>0.818182</td>\n",
       "      <td>18.0</td>\n",
       "      <td>1.0</td>\n",
       "      <td>1.0</td>\n",
       "      <td>49.0</td>\n",
       "    </tr>\n",
       "    <tr>\n",
       "      <th>4</th>\n",
       "      <td>37</td>\n",
       "      <td>0</td>\n",
       "      <td>0.0</td>\n",
       "      <td>0.000000</td>\n",
       "      <td>0.0</td>\n",
       "      <td>0.0</td>\n",
       "      <td>0.0</td>\n",
       "      <td>0.0</td>\n",
       "    </tr>\n",
       "  </tbody>\n",
       "</table>\n",
       "</div>"
      ],
      "text/plain": [
       "   itest_id  isstem  total 18  accuracy 18  skill_x  total 49  accuracy 49  \\\n",
       "0         9       1       0.0     0.000000      0.0       0.0          0.0   \n",
       "1        27       0       0.0     0.000000      0.0       0.0          0.0   \n",
       "2        33       0       0.0     0.000000      0.0       0.0          0.0   \n",
       "3        35       0      11.0     0.818182     18.0       1.0          1.0   \n",
       "4        37       0       0.0     0.000000      0.0       0.0          0.0   \n",
       "\n",
       "   skill_y  \n",
       "0      0.0  \n",
       "1      0.0  \n",
       "2      0.0  \n",
       "3     49.0  \n",
       "4      0.0  "
      ]
     },
     "execution_count": 407,
     "metadata": {},
     "output_type": "execute_result"
    }
   ],
   "source": [
    "above_5_questions = training[['itest_id', 'isstem']]\n",
    "for th in top_contributors:\n",
    "    before_merge = students_by_top_groups[students_by_top_groups.skill==th]\n",
    "    before_merge = before_merge[['itest_id', 'total', 'accuracy', 'skill']]\n",
    "    before_merge.columns = ['itest_id', 'total {}'.format(th), 'accuracy {}'.format(th), 'skill']\n",
    "    above_5_questions = above_5_questions.merge(before_merge, on='itest_id', how='outer')\n",
    "above_5_questions = above_5_questions.fillna(0)\n",
    "above_5_questions.head()"
   ]
  },
  {
   "cell_type": "code",
   "execution_count": 398,
   "metadata": {
    "collapsed": false
   },
   "outputs": [
    {
     "name": "stdout",
     "output_type": "stream",
     "text": [
      "For the following skill groups [7, 9, 12, 18, 39, 49, 61, 64, 70, 72]\n",
      "average prediction for 10 times 0.688349514563\n",
      "2018-02-14 10:23:47.692475\n"
     ]
    }
   ],
   "source": [
    "print('For the following skill groups {}'.format(top_contributors))\n",
    "def test_svm(df):\n",
    "    train, test = train_test_split(df, test_size=0.2)\n",
    "    train_X, train_y = train.iloc[:, 1:], train.iloc[:, 0]\n",
    "    test_X, test_y = test.iloc[:, 1:], test.iloc[:, 0]\n",
    "    #w = inv(train_X.T.dot(train_X)).dot(train_X).dot(train_y)\n",
    "    train_X.shape, train_y.shape, test_X.shape, test_y.shape\n",
    "    clf = SVC()\n",
    "    model = clf.fit(train_X, train_y)\n",
    "    prediction = model.predict(test_X)\n",
    "    prediction\n",
    "    comp = prediction == test_y\n",
    "    return (sum(comp)/len(comp))\n",
    "av = []\n",
    "for i in range(10):\n",
    "    av.append(test_svm(above_5_questions.iloc[:, 1:]))\n",
    "print(\"average prediction for 10 times\", sum(av)/len(av))\n",
    "print(datetime.datetime.now())"
   ]
  },
  {
   "cell_type": "code",
   "execution_count": 404,
   "metadata": {
    "collapsed": false,
    "deletable": true,
    "editable": true
   },
   "outputs": [
    {
     "name": "stdout",
     "output_type": "stream",
     "text": [
      "================================================\n",
      "For the following skill groups [7, 9, 12, 18, 39, 49, 61, 64, 70, 72]\n",
      "average prediction for 10 times 0.696601941748\n",
      "2018-02-14 10:27:10.867594\n",
      "================================================\n",
      "For the following skill groups [7, 12, 18, 49, 61, 64, 70, 72]\n",
      "average prediction for 10 times 0.696601941748\n",
      "2018-02-14 10:27:11.234990\n",
      "================================================\n",
      "For the following skill groups [7, 12, 18, 49, 61, 64, 70]\n",
      "average prediction for 10 times 0.702912621359\n",
      "2018-02-14 10:27:11.563915\n",
      "================================================\n",
      "For the following skill groups [7, 12, 18, 49, 61, 64, 70]\n",
      "average prediction for 10 times 0.694174757282\n",
      "2018-02-14 10:27:11.896541\n",
      "================================================\n",
      "For the following skill groups [12, 18, 49, 61]\n",
      "average prediction for 10 times 0.676699029126\n",
      "2018-02-14 10:27:12.150066\n",
      "================================================\n",
      "For the following skill groups [12, 18, 49]\n",
      "average prediction for 10 times 0.672330097087\n",
      "2018-02-14 10:27:12.391213\n",
      "================================================\n",
      "For the following skill groups [18, 49]\n",
      "average prediction for 10 times 0.677669902913\n",
      "2018-02-14 10:27:12.615495\n"
     ]
    }
   ],
   "source": [
    "contribs = [[7, 9, 12, 18, 39, 49, 61, 64, 70, 72], [7, 12, 18, 49, 61, 64, 70, 72], [7, 12, 18, 49, 61, 64, 70], [7, 12, 18, 49, 61, 64, 70], [12, 18, 49, 61], [12, 18, 49], [18, 49]]\n",
    "for top_contributors in contribs:\n",
    "    print(\"================================================\")\n",
    "    print('For the following skill groups {}'.format(top_contributors))\n",
    "    students_by_top_groups = student_accuracy[student_accuracy.skill.apply(lambda x: top_groups(x, top_contributors))]\n",
    "\n",
    "    above_5_questions = training[['itest_id', 'isstem']]\n",
    "    for th in top_contributors:\n",
    "        before_merge = students_by_top_groups[students_by_top_groups.skill==th]\n",
    "        before_merge = before_merge[['itest_id', 'total', 'accuracy', 'skill']]\n",
    "        before_merge.columns = ['itest_id', 'total {}'.format(th), 'accuracy {}'.format(th), 'skill']\n",
    "        above_5_questions = above_5_questions.merge(before_merge, on='itest_id', how='outer')\n",
    "    above_5_questions = above_5_questions.fillna(0)\n",
    "\n",
    "\n",
    "\n",
    "    av = []\n",
    "    for i in range(20):\n",
    "        av.append(test_svm(above_5_questions.iloc[:, 1:]))\n",
    "    print(\"average prediction for 10 times\", sum(av)/len(av))\n",
    "    print(datetime.datetime.now())"
   ]
  },
  {
   "cell_type": "code",
   "execution_count": null,
   "metadata": {
    "collapsed": false,
    "deletable": true,
    "editable": true
   },
   "outputs": [],
   "source": []
  },
  {
   "cell_type": "code",
   "execution_count": null,
   "metadata": {
    "collapsed": false,
    "deletable": true,
    "editable": true,
    "scrolled": true
   },
   "outputs": [],
   "source": []
  },
  {
   "cell_type": "markdown",
   "metadata": {
    "deletable": true,
    "editable": true
   },
   "source": []
  },
  {
   "cell_type": "code",
   "execution_count": 240,
   "metadata": {
    "collapsed": false,
    "deletable": true,
    "editable": true
   },
   "outputs": [],
   "source": [
    "# #### Choosing a quantity threshold\n",
    "# for i in range(1, 20):\n",
    "#     question_threshold = i\n",
    "#     average_accuracy = student_accuracy.groupby(['skill']).mean()\n",
    "#     less_than_threshold = average_accuracy[average_accuracy.total < question_threshold]\n",
    "#     more_than_threshold = average_accuracy[average_accuracy.total >= question_threshold]\n",
    "#     print('less than {0}: {1}, more than {0}: {2}'.\n",
    "#           format(question_threshold, \n",
    "#                  len(set(less_than_threshold.index)), \n",
    "#                  len(set(more_than_threshold.index))))\n",
    "# # plt.plot(average_accuracy.index, average_accuracy.total), plt.show()"
   ]
  },
  {
   "cell_type": "code",
   "execution_count": 192,
   "metadata": {
    "collapsed": false,
    "deletable": true,
    "editable": true
   },
   "outputs": [],
   "source": [
    "#### TWIN PLOTS: Comparison of the Quantity per Skill\n",
    "# fig, ax1 = plt.subplots()\n",
    "# t = np.arange(0.01, 10.0, 0.01)\n",
    "# ax1.plot(accuracy_comparison[accuracy_comparison.total_x < 30].total_x, 'b--', alpha=0.7)\n",
    "# ax1.set_xlabel('Skill')\n",
    "# # Make the y-axis label, ticks and tick labels match the line color.\n",
    "# ax1.set_ylabel('Quantity Per Skill', color='b')\n",
    "# ax1.tick_params('y', colors='b')\n",
    "\n",
    "# #ax2 = ax1.twinx()\n",
    "# ax2 = plt.plot(accuracy_comparison[accuracy_comparison.total_y < 30].total_y, 'm--', alpha=0.7)\n",
    "\n",
    "# ax3 = ax1.twinx()\n",
    "# ax3.plot(accuracy_comparison['diff'], 'r--', alpha=0.5)\n",
    "# ax3.set_ylabel('Accuracy Difference', color='r')\n",
    "# ax3.tick_params('y', colors='r')\n",
    "\n",
    "# fig.tight_layout()\n",
    "# plt.show()"
   ]
  },
  {
   "cell_type": "code",
   "execution_count": null,
   "metadata": {
    "collapsed": true,
    "deletable": true,
    "editable": true
   },
   "outputs": [],
   "source": []
  }
 ],
 "metadata": {
  "kernelspec": {
   "display_name": "Python 3",
   "language": "python",
   "name": "python3"
  },
  "language_info": {
   "codemirror_mode": {
    "name": "ipython",
    "version": 3
   },
   "file_extension": ".py",
   "mimetype": "text/x-python",
   "name": "python",
   "nbconvert_exporter": "python",
   "pygments_lexer": "ipython3",
   "version": "3.5.2"
  }
 },
 "nbformat": 4,
 "nbformat_minor": 2
}
