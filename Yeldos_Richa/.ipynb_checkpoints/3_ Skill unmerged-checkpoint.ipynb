{
 "cells": [
  {
   "cell_type": "code",
   "execution_count": 1,
   "metadata": {
    "collapsed": false,
    "deletable": true,
    "editable": true
   },
   "outputs": [],
   "source": [
    "import os, sys\n",
    "import pandas as pd\n",
    "import numpy as np\n",
    "import matplotlib.pyplot as plt\n",
    "import seaborn as sns\n",
    "from sklearn.linear_model import Lasso\n",
    "from sklearn.svm import SVC\n",
    "from sklearn.model_selection import train_test_split\n",
    "from sklearn.metrics import roc_curve, auc\n",
    "import datetime"
   ]
  },
  {
   "cell_type": "markdown",
   "metadata": {
    "deletable": true,
    "editable": true
   },
   "source": [
    "### Loading the initial dataset"
   ]
  },
  {
   "cell_type": "code",
   "execution_count": 2,
   "metadata": {
    "collapsed": false,
    "deletable": true,
    "editable": true
   },
   "outputs": [
    {
     "name": "stdout",
     "output_type": "stream",
     "text": [
      "/Users/yeldosbalgabekov/Desktop/Books and Schools/UoSouthampton/Data Mining/DataMining/Yeldos_Richa/../dataset/anonymized_dataset_for_ADM2017/student_log_1.csv\n"
     ]
    },
    {
     "name": "stderr",
     "output_type": "stream",
     "text": [
      "/Library/Frameworks/Python.framework/Versions/3.5/lib/python3.5/site-packages/IPython/core/interactiveshell.py:2717: DtypeWarning: Columns (74,75) have mixed types. Specify dtype option on import or set low_memory=False.\n",
      "  interactivity=interactivity, compiler=compiler, result=result)\n"
     ]
    },
    {
     "data": {
      "text/html": [
       "<div>\n",
       "<table border=\"1\" class=\"dataframe\">\n",
       "  <thead>\n",
       "    <tr style=\"text-align: right;\">\n",
       "      <th></th>\n",
       "      <th>itest_id</th>\n",
       "      <th>sy assistments usage</th>\n",
       "      <th>aveknow</th>\n",
       "      <th>avecarelessness</th>\n",
       "      <th>avecorrect</th>\n",
       "      <th>numactions</th>\n",
       "      <th>averesbored</th>\n",
       "      <th>averesengcon</th>\n",
       "      <th>averesconf</th>\n",
       "      <th>averesfrust</th>\n",
       "      <th>...</th>\n",
       "      <th>confidence(off task)</th>\n",
       "      <th>confidence(gaming)</th>\n",
       "      <th>res_bored</th>\n",
       "      <th>res_concentrating</th>\n",
       "      <th>res_confused</th>\n",
       "      <th>res_frustrated</th>\n",
       "      <th>res_offtask</th>\n",
       "      <th>res_gaming</th>\n",
       "      <th>ln-1</th>\n",
       "      <th>ln</th>\n",
       "    </tr>\n",
       "  </thead>\n",
       "  <tbody>\n",
       "    <tr>\n",
       "      <th>0</th>\n",
       "      <td>8</td>\n",
       "      <td>2004-2005</td>\n",
       "      <td>0.352416</td>\n",
       "      <td>0.183276</td>\n",
       "      <td>0.483902</td>\n",
       "      <td>1056</td>\n",
       "      <td>0.208389</td>\n",
       "      <td>0.679126</td>\n",
       "      <td>0.115905</td>\n",
       "      <td>0.112408</td>\n",
       "      <td>...</td>\n",
       "      <td>0.838710</td>\n",
       "      <td>0.008522</td>\n",
       "      <td>0.376427</td>\n",
       "      <td>0.320317</td>\n",
       "      <td>0.000000</td>\n",
       "      <td>0.0</td>\n",
       "      <td>0.785585</td>\n",
       "      <td>0.000264</td>\n",
       "      <td>0.13</td>\n",
       "      <td>0.0611904</td>\n",
       "    </tr>\n",
       "    <tr>\n",
       "      <th>1</th>\n",
       "      <td>8</td>\n",
       "      <td>2004-2005</td>\n",
       "      <td>0.352416</td>\n",
       "      <td>0.183276</td>\n",
       "      <td>0.483902</td>\n",
       "      <td>1056</td>\n",
       "      <td>0.208389</td>\n",
       "      <td>0.679126</td>\n",
       "      <td>0.115905</td>\n",
       "      <td>0.112408</td>\n",
       "      <td>...</td>\n",
       "      <td>0.600000</td>\n",
       "      <td>0.047821</td>\n",
       "      <td>0.156027</td>\n",
       "      <td>0.995053</td>\n",
       "      <td>0.887452</td>\n",
       "      <td>0.0</td>\n",
       "      <td>0.468252</td>\n",
       "      <td>0.001483</td>\n",
       "      <td>0.0611904</td>\n",
       "      <td>0.21351</td>\n",
       "    </tr>\n",
       "    <tr>\n",
       "      <th>2</th>\n",
       "      <td>8</td>\n",
       "      <td>2004-2005</td>\n",
       "      <td>0.352416</td>\n",
       "      <td>0.183276</td>\n",
       "      <td>0.483902</td>\n",
       "      <td>1056</td>\n",
       "      <td>0.208389</td>\n",
       "      <td>0.679126</td>\n",
       "      <td>0.115905</td>\n",
       "      <td>0.112408</td>\n",
       "      <td>...</td>\n",
       "      <td>0.600000</td>\n",
       "      <td>0.047821</td>\n",
       "      <td>0.156027</td>\n",
       "      <td>0.995053</td>\n",
       "      <td>0.887452</td>\n",
       "      <td>0.0</td>\n",
       "      <td>0.468252</td>\n",
       "      <td>0.001483</td>\n",
       "      <td>0.116</td>\n",
       "      <td>0.0333058</td>\n",
       "    </tr>\n",
       "    <tr>\n",
       "      <th>3</th>\n",
       "      <td>8</td>\n",
       "      <td>2004-2005</td>\n",
       "      <td>0.352416</td>\n",
       "      <td>0.183276</td>\n",
       "      <td>0.483902</td>\n",
       "      <td>1056</td>\n",
       "      <td>0.208389</td>\n",
       "      <td>0.679126</td>\n",
       "      <td>0.115905</td>\n",
       "      <td>0.112408</td>\n",
       "      <td>...</td>\n",
       "      <td>0.204082</td>\n",
       "      <td>0.343996</td>\n",
       "      <td>0.156027</td>\n",
       "      <td>0.744520</td>\n",
       "      <td>0.000000</td>\n",
       "      <td>0.0</td>\n",
       "      <td>0.108417</td>\n",
       "      <td>0.010665</td>\n",
       "      <td>0.116</td>\n",
       "      <td>0.0333058</td>\n",
       "    </tr>\n",
       "    <tr>\n",
       "      <th>4</th>\n",
       "      <td>8</td>\n",
       "      <td>2004-2005</td>\n",
       "      <td>0.352416</td>\n",
       "      <td>0.183276</td>\n",
       "      <td>0.483902</td>\n",
       "      <td>1056</td>\n",
       "      <td>0.208389</td>\n",
       "      <td>0.679126</td>\n",
       "      <td>0.115905</td>\n",
       "      <td>0.112408</td>\n",
       "      <td>...</td>\n",
       "      <td>0.204082</td>\n",
       "      <td>0.343996</td>\n",
       "      <td>0.156027</td>\n",
       "      <td>0.744520</td>\n",
       "      <td>0.000000</td>\n",
       "      <td>0.0</td>\n",
       "      <td>0.108417</td>\n",
       "      <td>0.010665</td>\n",
       "      <td>0.0333058</td>\n",
       "      <td>0.118386</td>\n",
       "    </tr>\n",
       "  </tbody>\n",
       "</table>\n",
       "<p>5 rows × 76 columns</p>\n",
       "</div>"
      ],
      "text/plain": [
       "   itest_id sy assistments usage   aveknow  avecarelessness  avecorrect  \\\n",
       "0         8            2004-2005  0.352416         0.183276    0.483902   \n",
       "1         8            2004-2005  0.352416         0.183276    0.483902   \n",
       "2         8            2004-2005  0.352416         0.183276    0.483902   \n",
       "3         8            2004-2005  0.352416         0.183276    0.483902   \n",
       "4         8            2004-2005  0.352416         0.183276    0.483902   \n",
       "\n",
       "   numactions  averesbored  averesengcon  averesconf  averesfrust    ...      \\\n",
       "0        1056     0.208389      0.679126    0.115905     0.112408    ...       \n",
       "1        1056     0.208389      0.679126    0.115905     0.112408    ...       \n",
       "2        1056     0.208389      0.679126    0.115905     0.112408    ...       \n",
       "3        1056     0.208389      0.679126    0.115905     0.112408    ...       \n",
       "4        1056     0.208389      0.679126    0.115905     0.112408    ...       \n",
       "\n",
       "   confidence(off task)  confidence(gaming)  res_bored res_concentrating  \\\n",
       "0              0.838710            0.008522   0.376427          0.320317   \n",
       "1              0.600000            0.047821   0.156027          0.995053   \n",
       "2              0.600000            0.047821   0.156027          0.995053   \n",
       "3              0.204082            0.343996   0.156027          0.744520   \n",
       "4              0.204082            0.343996   0.156027          0.744520   \n",
       "\n",
       "   res_confused  res_frustrated  res_offtask  res_gaming       ln-1         ln  \n",
       "0      0.000000             0.0     0.785585    0.000264       0.13  0.0611904  \n",
       "1      0.887452             0.0     0.468252    0.001483  0.0611904    0.21351  \n",
       "2      0.887452             0.0     0.468252    0.001483      0.116  0.0333058  \n",
       "3      0.000000             0.0     0.108417    0.010665      0.116  0.0333058  \n",
       "4      0.000000             0.0     0.108417    0.010665  0.0333058   0.118386  \n",
       "\n",
       "[5 rows x 76 columns]"
      ]
     },
     "execution_count": 2,
     "metadata": {},
     "output_type": "execute_result"
    }
   ],
   "source": [
    "path = os.getcwd() + '/../dataset/anonymized_dataset_for_ADM2017/'\n",
    "print(path + 'student_log_{}.csv'.format(1))\n",
    "log1 = pd.read_csv(path + 'student_log_{}.csv'.format(1))\n",
    "initial_col_order = [col.lower() for col in list(log1.columns)]\n",
    "\n",
    "data = pd.DataFrame()\n",
    "for i in range(1, 10):\n",
    "    student_log = pd.read_csv(path + 'student_log_{}.csv'.format(i))\n",
    "    student_log.columns = [col.lower() for col in student_log]\n",
    "    data = pd.concat([data, student_log], ignore_index=True)\n",
    "\n",
    "# reorder everything with the original order, where student id is in the first column\n",
    "data = data[initial_col_order]\n",
    "data.shape\n",
    "data.head()"
   ]
  },
  {
   "cell_type": "markdown",
   "metadata": {
    "deletable": true,
    "editable": true
   },
   "source": [
    "### Transforming the initial dataset and loading Training Set"
   ]
  },
  {
   "cell_type": "code",
   "execution_count": 176,
   "metadata": {
    "collapsed": false,
    "deletable": true,
    "editable": true
   },
   "outputs": [
    {
     "name": "stdout",
     "output_type": "stream",
     "text": [
      "<class 'pandas.core.frame.DataFrame'>\n",
      "Int64Index: 626548 entries, 0 to 626547\n",
      "Data columns (total 79 columns):\n",
      "itest_id                                  626548 non-null int64\n",
      "sy assistments usage                      626548 non-null object\n",
      "aveknow                                   626548 non-null float64\n",
      "avecarelessness                           626548 non-null float64\n",
      "avecorrect                                626548 non-null float64\n",
      "numactions                                626548 non-null int64\n",
      "averesbored                               626548 non-null float64\n",
      "averesengcon                              626548 non-null float64\n",
      "averesconf                                626548 non-null float64\n",
      "averesfrust                               626548 non-null float64\n",
      "averesofftask                             626548 non-null float64\n",
      "averesgaming                              626548 non-null float64\n",
      "actionid                                  626548 non-null int64\n",
      "skill                                     626548 non-null object\n",
      "problemid                                 626548 non-null int64\n",
      "assignmentid                              626548 non-null int64\n",
      "assistmentid                              626548 non-null int64\n",
      "starttime                                 626548 non-null int64\n",
      "endtime                                   626548 non-null int64\n",
      "timetaken                                 626548 non-null float64\n",
      "correct                                   626548 non-null int64\n",
      "original                                  626548 non-null int64\n",
      "hint                                      626548 non-null int64\n",
      "hintcount                                 626548 non-null int64\n",
      "hinttotal                                 626548 non-null int64\n",
      "scaffold                                  626548 non-null int64\n",
      "bottomhint                                626548 non-null int64\n",
      "attemptcount                              626548 non-null int64\n",
      "problemtype                               626548 non-null object\n",
      "frishelprequest                           626548 non-null int64\n",
      "frpast5helprequest                        626548 non-null int64\n",
      "frpast8helprequest                        626548 non-null int64\n",
      "stlhintused                               626548 non-null int64\n",
      "past8bottomout                            626548 non-null int64\n",
      "totalfrpercentpastwrong                   626548 non-null float64\n",
      "totalfrpastwrongcount                     626548 non-null int64\n",
      "frpast5wrongcount                         626548 non-null int64\n",
      "frpast8wrongcount                         626548 non-null int64\n",
      "totalfrtimeonskill                        626548 non-null float64\n",
      "timesinceskill                            626548 non-null float64\n",
      "frworkinginschool                         626548 non-null int64\n",
      "totalfrattempted                          626548 non-null int64\n",
      "totalfrskillopportunities                 626548 non-null int64\n",
      "responseisfillin                          626548 non-null int64\n",
      "responseischosen                          626548 non-null int64\n",
      "endswithscaffolding                       626548 non-null int64\n",
      "endswithautoscaffolding                   626548 non-null int64\n",
      "frtimetakenonscaffolding                  626548 non-null float64\n",
      "frtotalskillopportunitiesscaffolding      626548 non-null int64\n",
      "totalfrskillopportunitiesbyscaffolding    626548 non-null float64\n",
      "frishelprequestscaffolding                626548 non-null int64\n",
      "timegreater5secprev2wrong                 626548 non-null int64\n",
      "sumright                                  626548 non-null int64\n",
      "helpaccessunder2sec                       626548 non-null int64\n",
      "timegreater10secandnextactionright        626548 non-null int64\n",
      "consecutiveerrorsinrow                    626548 non-null int64\n",
      "sumtime3sdwhen3rowright                   626483 non-null float64\n",
      "sumtimeperskill                           626548 non-null float64\n",
      "totaltimebypercentcorrectforskill         626548 non-null float64\n",
      "prev5count                                626548 non-null int64\n",
      "timeover80                                626548 non-null int64\n",
      "manywrong                                 626548 non-null int64\n",
      "confidence(bored)                         626548 non-null float64\n",
      "confidence(concentrating)                 626548 non-null float64\n",
      "confidence(confused)                      626548 non-null float64\n",
      "confidence(frustrated)                    626548 non-null float64\n",
      "confidence(off task)                      626548 non-null float64\n",
      "confidence(gaming)                        626548 non-null float64\n",
      "res_bored                                 626548 non-null float64\n",
      "res_concentrating                         626548 non-null float64\n",
      "res_confused                              626548 non-null float64\n",
      "res_frustrated                            626548 non-null float64\n",
      "res_offtask                               626548 non-null float64\n",
      "res_gaming                                626548 non-null float64\n",
      "ln-1                                      618364 non-null float64\n",
      "ln                                        618363 non-null float64\n",
      "schoolid                                  164610 non-null float64\n",
      "mcas                                      164610 non-null float64\n",
      "isstem                                    164610 non-null float64\n",
      "dtypes: float64(35), int64(41), object(3)\n",
      "memory usage: 382.4+ MB\n"
     ]
    }
   ],
   "source": [
    "def to_float(x):\n",
    "    try:\n",
    "        if x.isdigit():\n",
    "            return float(x)\n",
    "    except:\n",
    "        if x == '.':\n",
    "            return 0\n",
    "        return x\n",
    "\n",
    "def series_types(series):\n",
    "    types = []\n",
    "    for i in set(series):\n",
    "        if not type(i) in types:\n",
    "            types.append(type(i))\n",
    "    return(types)\n",
    "\n",
    "\n",
    "data['sy assistments usage'] = data['sy assistments usage'].astype('category')\n",
    "data['skill'] = data['skill'].astype('category')\n",
    "data['problemtype'] = data['problemtype'].astype('category')\n",
    "data['ln-1'] = data['ln-1'].apply(lambda x: to_float(x))\n",
    "data['ln'] = data['ln'].apply(lambda x: to_float(x))\n",
    "# data.memory_usage(deep=True)\n",
    "# data.info(memory_usage='deep')\n",
    "\n",
    "training = pd.read_csv(path + 'training_label.csv').drop(['AveCorrect'], axis=1)\n",
    "training.columns = [col.lower() for col in training.columns]\n",
    "training = training.drop_duplicates()\n",
    "training.shape\n",
    "\n",
    "# merged data set with isSTEM\n",
    "df = data.merge(training, on='itest_id', how=\"left\")\n",
    "df.info()\n"
   ]
  },
  {
   "cell_type": "markdown",
   "metadata": {
    "deletable": true,
    "editable": true
   },
   "source": [
    "### Filtering for the actions of the \"training\" students"
   ]
  },
  {
   "cell_type": "code",
   "execution_count": 4,
   "metadata": {
    "collapsed": false,
    "deletable": true,
    "editable": true
   },
   "outputs": [
    {
     "name": "stdout",
     "output_type": "stream",
     "text": [
      "training set size:  514 actions for # of students:  326\n",
      "sample size useless for training:  188\n"
     ]
    },
    {
     "name": "stderr",
     "output_type": "stream",
     "text": [
      "/Library/Frameworks/Python.framework/Versions/3.5/lib/python3.5/site-packages/ipykernel/__main__.py:2: SettingWithCopyWarning: \n",
      "A value is trying to be set on a copy of a slice from a DataFrame.\n",
      "Try using .loc[row_indexer,col_indexer] = value instead\n",
      "\n",
      "See the caveats in the documentation: http://pandas.pydata.org/pandas-docs/stable/indexing.html#indexing-view-versus-copy\n",
      "  from ipykernel import kernelapp as app\n"
     ]
    },
    {
     "data": {
      "text/html": [
       "<div>\n",
       "<table border=\"1\" class=\"dataframe\">\n",
       "  <thead>\n",
       "    <tr style=\"text-align: right;\">\n",
       "      <th></th>\n",
       "      <th>itest_id</th>\n",
       "      <th>sy assistments usage</th>\n",
       "      <th>aveknow</th>\n",
       "      <th>avecarelessness</th>\n",
       "      <th>avecorrect</th>\n",
       "      <th>numactions</th>\n",
       "      <th>averesbored</th>\n",
       "      <th>averesengcon</th>\n",
       "      <th>averesconf</th>\n",
       "      <th>averesfrust</th>\n",
       "      <th>...</th>\n",
       "      <th>res_concentrating</th>\n",
       "      <th>res_confused</th>\n",
       "      <th>res_frustrated</th>\n",
       "      <th>res_offtask</th>\n",
       "      <th>res_gaming</th>\n",
       "      <th>ln-1</th>\n",
       "      <th>ln</th>\n",
       "      <th>schoolid</th>\n",
       "      <th>mcas</th>\n",
       "      <th>isstem</th>\n",
       "    </tr>\n",
       "  </thead>\n",
       "  <tbody>\n",
       "    <tr>\n",
       "      <th>1056</th>\n",
       "      <td>35</td>\n",
       "      <td>2004-2005</td>\n",
       "      <td>0.255164</td>\n",
       "      <td>0.158848</td>\n",
       "      <td>0.379658</td>\n",
       "      <td>993</td>\n",
       "      <td>0.222796</td>\n",
       "      <td>0.650079</td>\n",
       "      <td>0.069987</td>\n",
       "      <td>0.164347</td>\n",
       "      <td>...</td>\n",
       "      <td>0.262675</td>\n",
       "      <td>0.060808</td>\n",
       "      <td>0.000000</td>\n",
       "      <td>0.889219</td>\n",
       "      <td>0.005797</td>\n",
       "      <td>0.271000</td>\n",
       "      <td>0.077899</td>\n",
       "      <td>2.0</td>\n",
       "      <td>34.0</td>\n",
       "      <td>0.0</td>\n",
       "    </tr>\n",
       "    <tr>\n",
       "      <th>1057</th>\n",
       "      <td>35</td>\n",
       "      <td>2004-2005</td>\n",
       "      <td>0.255164</td>\n",
       "      <td>0.158848</td>\n",
       "      <td>0.379658</td>\n",
       "      <td>993</td>\n",
       "      <td>0.222796</td>\n",
       "      <td>0.650079</td>\n",
       "      <td>0.069987</td>\n",
       "      <td>0.164347</td>\n",
       "      <td>...</td>\n",
       "      <td>0.696486</td>\n",
       "      <td>0.000000</td>\n",
       "      <td>0.009561</td>\n",
       "      <td>0.108417</td>\n",
       "      <td>0.001483</td>\n",
       "      <td>0.077899</td>\n",
       "      <td>0.225856</td>\n",
       "      <td>2.0</td>\n",
       "      <td>34.0</td>\n",
       "      <td>0.0</td>\n",
       "    </tr>\n",
       "    <tr>\n",
       "      <th>1058</th>\n",
       "      <td>35</td>\n",
       "      <td>2004-2005</td>\n",
       "      <td>0.255164</td>\n",
       "      <td>0.158848</td>\n",
       "      <td>0.379658</td>\n",
       "      <td>993</td>\n",
       "      <td>0.222796</td>\n",
       "      <td>0.650079</td>\n",
       "      <td>0.069987</td>\n",
       "      <td>0.164347</td>\n",
       "      <td>...</td>\n",
       "      <td>0.580763</td>\n",
       "      <td>0.000000</td>\n",
       "      <td>0.009561</td>\n",
       "      <td>0.108417</td>\n",
       "      <td>0.003940</td>\n",
       "      <td>0.225856</td>\n",
       "      <td>0.483008</td>\n",
       "      <td>2.0</td>\n",
       "      <td>34.0</td>\n",
       "      <td>0.0</td>\n",
       "    </tr>\n",
       "    <tr>\n",
       "      <th>1059</th>\n",
       "      <td>35</td>\n",
       "      <td>2004-2005</td>\n",
       "      <td>0.255164</td>\n",
       "      <td>0.158848</td>\n",
       "      <td>0.379658</td>\n",
       "      <td>993</td>\n",
       "      <td>0.222796</td>\n",
       "      <td>0.650079</td>\n",
       "      <td>0.069987</td>\n",
       "      <td>0.164347</td>\n",
       "      <td>...</td>\n",
       "      <td>0.580763</td>\n",
       "      <td>0.000000</td>\n",
       "      <td>0.009561</td>\n",
       "      <td>0.108417</td>\n",
       "      <td>0.003940</td>\n",
       "      <td>0.483008</td>\n",
       "      <td>0.745290</td>\n",
       "      <td>2.0</td>\n",
       "      <td>34.0</td>\n",
       "      <td>0.0</td>\n",
       "    </tr>\n",
       "    <tr>\n",
       "      <th>1060</th>\n",
       "      <td>35</td>\n",
       "      <td>2004-2005</td>\n",
       "      <td>0.255164</td>\n",
       "      <td>0.158848</td>\n",
       "      <td>0.379658</td>\n",
       "      <td>993</td>\n",
       "      <td>0.222796</td>\n",
       "      <td>0.650079</td>\n",
       "      <td>0.069987</td>\n",
       "      <td>0.164347</td>\n",
       "      <td>...</td>\n",
       "      <td>0.898073</td>\n",
       "      <td>0.000000</td>\n",
       "      <td>0.009561</td>\n",
       "      <td>0.468252</td>\n",
       "      <td>0.001483</td>\n",
       "      <td>0.745290</td>\n",
       "      <td>0.900994</td>\n",
       "      <td>2.0</td>\n",
       "      <td>34.0</td>\n",
       "      <td>0.0</td>\n",
       "    </tr>\n",
       "  </tbody>\n",
       "</table>\n",
       "<p>5 rows × 79 columns</p>\n",
       "</div>"
      ],
      "text/plain": [
       "      itest_id sy assistments usage   aveknow  avecarelessness  avecorrect  \\\n",
       "1056        35            2004-2005  0.255164         0.158848    0.379658   \n",
       "1057        35            2004-2005  0.255164         0.158848    0.379658   \n",
       "1058        35            2004-2005  0.255164         0.158848    0.379658   \n",
       "1059        35            2004-2005  0.255164         0.158848    0.379658   \n",
       "1060        35            2004-2005  0.255164         0.158848    0.379658   \n",
       "\n",
       "      numactions  averesbored  averesengcon  averesconf  averesfrust   ...    \\\n",
       "1056         993     0.222796      0.650079    0.069987     0.164347   ...     \n",
       "1057         993     0.222796      0.650079    0.069987     0.164347   ...     \n",
       "1058         993     0.222796      0.650079    0.069987     0.164347   ...     \n",
       "1059         993     0.222796      0.650079    0.069987     0.164347   ...     \n",
       "1060         993     0.222796      0.650079    0.069987     0.164347   ...     \n",
       "\n",
       "      res_concentrating  res_confused  res_frustrated res_offtask  res_gaming  \\\n",
       "1056           0.262675      0.060808        0.000000    0.889219    0.005797   \n",
       "1057           0.696486      0.000000        0.009561    0.108417    0.001483   \n",
       "1058           0.580763      0.000000        0.009561    0.108417    0.003940   \n",
       "1059           0.580763      0.000000        0.009561    0.108417    0.003940   \n",
       "1060           0.898073      0.000000        0.009561    0.468252    0.001483   \n",
       "\n",
       "          ln-1        ln  schoolid  mcas  isstem  \n",
       "1056  0.271000  0.077899       2.0  34.0     0.0  \n",
       "1057  0.077899  0.225856       2.0  34.0     0.0  \n",
       "1058  0.225856  0.483008       2.0  34.0     0.0  \n",
       "1059  0.483008  0.745290       2.0  34.0     0.0  \n",
       "1060  0.745290  0.900994       2.0  34.0     0.0  \n",
       "\n",
       "[5 rows x 79 columns]"
      ]
     },
     "execution_count": 4,
     "metadata": {},
     "output_type": "execute_result"
    }
   ],
   "source": [
    "actions = df[df.isstem.notnull()]\n",
    "actions['skill'] = actions.skill.astype('category')\n",
    "print(\"training set size: \", training.shape[0], \"actions for # of students: \", len(actions.itest_id.unique()))\n",
    "print(\"sample size useless for training: \", training.shape[0] - len(actions.itest_id.unique()))\n",
    "\n",
    "# merged training data set\n",
    "stem = actions[actions.isstem == 1]\n",
    "nonstem = actions[actions.isstem == 0]\n",
    "\n",
    "actions.head()"
   ]
  },
  {
   "cell_type": "markdown",
   "metadata": {
    "deletable": true,
    "editable": true
   },
   "source": [
    "### Testing the cases\n",
    "Top Skill Accuracy"
   ]
  },
  {
   "cell_type": "markdown",
   "metadata": {
    "deletable": true,
    "editable": true
   },
   "source": [
    "#### Creating temporary subset removing unnecessary data"
   ]
  },
  {
   "cell_type": "code",
   "execution_count": 35,
   "metadata": {
    "collapsed": false,
    "deletable": true,
    "editable": true
   },
   "outputs": [
    {
     "name": "stderr",
     "output_type": "stream",
     "text": [
      "/Library/Frameworks/Python.framework/Versions/3.5/lib/python3.5/site-packages/ipykernel/__main__.py:4: SettingWithCopyWarning: \n",
      "A value is trying to be set on a copy of a slice from a DataFrame.\n",
      "Try using .loc[row_indexer,col_indexer] = value instead\n",
      "\n",
      "See the caveats in the documentation: http://pandas.pydata.org/pandas-docs/stable/indexing.html#indexing-view-versus-copy\n",
      "/Library/Frameworks/Python.framework/Versions/3.5/lib/python3.5/site-packages/ipykernel/__main__.py:5: SettingWithCopyWarning: \n",
      "A value is trying to be set on a copy of a slice from a DataFrame.\n",
      "Try using .loc[row_indexer,col_indexer] = value instead\n",
      "\n",
      "See the caveats in the documentation: http://pandas.pydata.org/pandas-docs/stable/indexing.html#indexing-view-versus-copy\n"
     ]
    },
    {
     "data": {
      "text/html": [
       "<div>\n",
       "<table border=\"1\" class=\"dataframe\">\n",
       "  <thead>\n",
       "    <tr style=\"text-align: right;\">\n",
       "      <th></th>\n",
       "      <th>itest_id</th>\n",
       "      <th>skill</th>\n",
       "      <th>correct</th>\n",
       "      <th>total</th>\n",
       "    </tr>\n",
       "  </thead>\n",
       "  <tbody>\n",
       "    <tr>\n",
       "      <th>1056</th>\n",
       "      <td>35</td>\n",
       "      <td>56</td>\n",
       "      <td>0</td>\n",
       "      <td>1</td>\n",
       "    </tr>\n",
       "    <tr>\n",
       "      <th>1057</th>\n",
       "      <td>35</td>\n",
       "      <td>56</td>\n",
       "      <td>1</td>\n",
       "      <td>1</td>\n",
       "    </tr>\n",
       "    <tr>\n",
       "      <th>1058</th>\n",
       "      <td>35</td>\n",
       "      <td>56</td>\n",
       "      <td>1</td>\n",
       "      <td>1</td>\n",
       "    </tr>\n",
       "    <tr>\n",
       "      <th>1059</th>\n",
       "      <td>35</td>\n",
       "      <td>56</td>\n",
       "      <td>1</td>\n",
       "      <td>1</td>\n",
       "    </tr>\n",
       "    <tr>\n",
       "      <th>1060</th>\n",
       "      <td>35</td>\n",
       "      <td>56</td>\n",
       "      <td>1</td>\n",
       "      <td>1</td>\n",
       "    </tr>\n",
       "  </tbody>\n",
       "</table>\n",
       "</div>"
      ],
      "text/plain": [
       "      itest_id  skill  correct  total\n",
       "1056        35     56        0      1\n",
       "1057        35     56        1      1\n",
       "1058        35     56        1      1\n",
       "1059        35     56        1      1\n",
       "1060        35     56        1      1"
      ]
     },
     "execution_count": 35,
     "metadata": {},
     "output_type": "execute_result"
    }
   ],
   "source": [
    "# filtering for the necessary col\n",
    "tmp = actions[['itest_id', 'skill','correct']]\n",
    "# covnverting sk# create a table of correctness by question (from actions_table to problems_table)ills into cat type\n",
    "tmp['skill'] = tmp.skill.astype('category').cat.codes\n",
    "tmp['total'] = tmp.skill.apply(lambda x: 1)\n",
    "tmp.head()\n"
   ]
  },
  {
   "cell_type": "markdown",
   "metadata": {
    "deletable": true,
    "editable": true
   },
   "source": [
    "#### Create a table of correctness by action"
   ]
  },
  {
   "cell_type": "code",
   "execution_count": 37,
   "metadata": {
    "collapsed": false,
    "deletable": true,
    "editable": true
   },
   "outputs": [
    {
     "name": "stdout",
     "output_type": "stream",
     "text": [
      "(13731, 5)\n"
     ]
    },
    {
     "data": {
      "text/html": [
       "<div>\n",
       "<table border=\"1\" class=\"dataframe\">\n",
       "  <thead>\n",
       "    <tr style=\"text-align: right;\">\n",
       "      <th></th>\n",
       "      <th>itest_id</th>\n",
       "      <th>skill</th>\n",
       "      <th>correct</th>\n",
       "      <th>total</th>\n",
       "      <th>accuracy</th>\n",
       "    </tr>\n",
       "  </thead>\n",
       "  <tbody>\n",
       "    <tr>\n",
       "      <th>0</th>\n",
       "      <td>35</td>\n",
       "      <td>1</td>\n",
       "      <td>13</td>\n",
       "      <td>19</td>\n",
       "      <td>0.684211</td>\n",
       "    </tr>\n",
       "    <tr>\n",
       "      <th>1</th>\n",
       "      <td>35</td>\n",
       "      <td>3</td>\n",
       "      <td>1</td>\n",
       "      <td>2</td>\n",
       "      <td>0.500000</td>\n",
       "    </tr>\n",
       "    <tr>\n",
       "      <th>2</th>\n",
       "      <td>35</td>\n",
       "      <td>4</td>\n",
       "      <td>1</td>\n",
       "      <td>5</td>\n",
       "      <td>0.200000</td>\n",
       "    </tr>\n",
       "    <tr>\n",
       "      <th>3</th>\n",
       "      <td>35</td>\n",
       "      <td>5</td>\n",
       "      <td>6</td>\n",
       "      <td>19</td>\n",
       "      <td>0.315789</td>\n",
       "    </tr>\n",
       "    <tr>\n",
       "      <th>4</th>\n",
       "      <td>35</td>\n",
       "      <td>8</td>\n",
       "      <td>1</td>\n",
       "      <td>4</td>\n",
       "      <td>0.250000</td>\n",
       "    </tr>\n",
       "  </tbody>\n",
       "</table>\n",
       "</div>"
      ],
      "text/plain": [
       "   itest_id  skill  correct  total  accuracy\n",
       "0        35      1       13     19  0.684211\n",
       "1        35      3        1      2  0.500000\n",
       "2        35      4        1      5  0.200000\n",
       "3        35      5        6     19  0.315789\n",
       "4        35      8        1      4  0.250000"
      ]
     },
     "execution_count": 37,
     "metadata": {},
     "output_type": "execute_result"
    }
   ],
   "source": [
    "student_accuracy = tmp.groupby(['itest_id', 'skill'], as_index=False).sum()\n",
    "student_accuracy['accuracy'] = student_accuracy.correct / student_accuracy.total\n",
    "print(student_accuracy.shape)\n",
    "student_accuracy.head()"
   ]
  },
  {
   "cell_type": "markdown",
   "metadata": {
    "deletable": true,
    "editable": true
   },
   "source": [
    "#### Visual Understanding of the overall student behaviour by skills using BoxPlot"
   ]
  },
  {
   "cell_type": "code",
   "execution_count": 39,
   "metadata": {
    "collapsed": false,
    "deletable": true,
    "editable": true
   },
   "outputs": [
    {
     "data": {
      "image/png": "[encoded data removed]",
      "text/plain": [
       "<matplotlib.figure.Figure at 0x10a0af898>"
      ]
     },
     "metadata": {},
     "output_type": "display_data"
    },
    {
     "data": {
      "text/plain": [
       "(<matplotlib.axes._subplots.AxesSubplot at 0x11d007080>, None)"
      ]
     },
     "execution_count": 39,
     "metadata": {},
     "output_type": "execute_result"
    }
   ],
   "source": [
    "sns.boxplot(student_accuracy.skill, student_accuracy.accuracy), plt.show()"
   ]
  },
  {
   "cell_type": "code",
   "execution_count": 40,
   "metadata": {
    "collapsed": false,
    "deletable": true,
    "editable": true
   },
   "outputs": [
    {
     "data": {
      "image/png": "[encoded data removed]",
      "text/plain": [
       "<matplotlib.figure.Figure at 0x11ddd5b00>"
      ]
     },
     "metadata": {},
     "output_type": "display_data"
    },
    {
     "data": {
      "text/plain": [
       "([<matplotlib.lines.Line2D at 0x11e07edd8>], None)"
      ]
     },
     "execution_count": 40,
     "metadata": {},
     "output_type": "execute_result"
    }
   ],
   "source": [
    "plt.plot(student_accuracy.skill, student_accuracy.total, '.'), plt.show()"
   ]
  },
  {
   "cell_type": "code",
   "execution_count": 41,
   "metadata": {
    "collapsed": false,
    "deletable": true,
    "editable": true
   },
   "outputs": [
    {
     "data": {
      "image/png": "[encoded data removed]",
      "text/plain": [
       "<matplotlib.figure.Figure at 0x10a0afef0>"
      ]
     },
     "metadata": {},
     "output_type": "display_data"
    },
    {
     "data": {
      "text/plain": [
       "(<matplotlib.axes._subplots.AxesSubplot at 0x11e05b2b0>, None)"
      ]
     },
     "execution_count": 41,
     "metadata": {},
     "output_type": "execute_result"
    }
   ],
   "source": [
    "sns.boxplot(student_accuracy.skill, student_accuracy.total), plt.show()"
   ]
  },
  {
   "cell_type": "markdown",
   "metadata": {
    "deletable": true,
    "editable": true
   },
   "source": [
    "#### Retreiving isStem data to the table"
   ]
  },
  {
   "cell_type": "code",
   "execution_count": 42,
   "metadata": {
    "collapsed": false,
    "deletable": true,
    "editable": true
   },
   "outputs": [
    {
     "data": {
      "text/html": [
       "<div>\n",
       "<table border=\"1\" class=\"dataframe\">\n",
       "  <thead>\n",
       "    <tr style=\"text-align: right;\">\n",
       "      <th></th>\n",
       "      <th>itest_id</th>\n",
       "      <th>skill</th>\n",
       "      <th>correct</th>\n",
       "      <th>total</th>\n",
       "      <th>accuracy</th>\n",
       "      <th>isstem</th>\n",
       "    </tr>\n",
       "  </thead>\n",
       "  <tbody>\n",
       "    <tr>\n",
       "      <th>744</th>\n",
       "      <td>739</td>\n",
       "      <td>0</td>\n",
       "      <td>1</td>\n",
       "      <td>1</td>\n",
       "      <td>1.0</td>\n",
       "      <td>0</td>\n",
       "    </tr>\n",
       "    <tr>\n",
       "      <th>1553</th>\n",
       "      <td>922</td>\n",
       "      <td>0</td>\n",
       "      <td>1</td>\n",
       "      <td>1</td>\n",
       "      <td>1.0</td>\n",
       "      <td>0</td>\n",
       "    </tr>\n",
       "    <tr>\n",
       "      <th>2860</th>\n",
       "      <td>1551</td>\n",
       "      <td>0</td>\n",
       "      <td>3</td>\n",
       "      <td>3</td>\n",
       "      <td>1.0</td>\n",
       "      <td>0</td>\n",
       "    </tr>\n",
       "    <tr>\n",
       "      <th>2991</th>\n",
       "      <td>1598</td>\n",
       "      <td>0</td>\n",
       "      <td>1</td>\n",
       "      <td>1</td>\n",
       "      <td>1.0</td>\n",
       "      <td>0</td>\n",
       "    </tr>\n",
       "    <tr>\n",
       "      <th>3668</th>\n",
       "      <td>1892</td>\n",
       "      <td>0</td>\n",
       "      <td>0</td>\n",
       "      <td>1</td>\n",
       "      <td>0.0</td>\n",
       "      <td>0</td>\n",
       "    </tr>\n",
       "    <tr>\n",
       "      <th>3911</th>\n",
       "      <td>2156</td>\n",
       "      <td>0</td>\n",
       "      <td>0</td>\n",
       "      <td>1</td>\n",
       "      <td>0.0</td>\n",
       "      <td>0</td>\n",
       "    </tr>\n",
       "    <tr>\n",
       "      <th>4015</th>\n",
       "      <td>2370</td>\n",
       "      <td>0</td>\n",
       "      <td>1</td>\n",
       "      <td>1</td>\n",
       "      <td>1.0</td>\n",
       "      <td>0</td>\n",
       "    </tr>\n",
       "    <tr>\n",
       "      <th>4477</th>\n",
       "      <td>2839</td>\n",
       "      <td>0</td>\n",
       "      <td>1</td>\n",
       "      <td>1</td>\n",
       "      <td>1.0</td>\n",
       "      <td>0</td>\n",
       "    </tr>\n",
       "    <tr>\n",
       "      <th>4824</th>\n",
       "      <td>3159</td>\n",
       "      <td>0</td>\n",
       "      <td>1</td>\n",
       "      <td>1</td>\n",
       "      <td>1.0</td>\n",
       "      <td>0</td>\n",
       "    </tr>\n",
       "    <tr>\n",
       "      <th>5059</th>\n",
       "      <td>3206</td>\n",
       "      <td>0</td>\n",
       "      <td>1</td>\n",
       "      <td>1</td>\n",
       "      <td>1.0</td>\n",
       "      <td>0</td>\n",
       "    </tr>\n",
       "    <tr>\n",
       "      <th>5248</th>\n",
       "      <td>3331</td>\n",
       "      <td>0</td>\n",
       "      <td>1</td>\n",
       "      <td>1</td>\n",
       "      <td>1.0</td>\n",
       "      <td>0</td>\n",
       "    </tr>\n",
       "    <tr>\n",
       "      <th>5721</th>\n",
       "      <td>3559</td>\n",
       "      <td>0</td>\n",
       "      <td>2</td>\n",
       "      <td>2</td>\n",
       "      <td>1.0</td>\n",
       "      <td>0</td>\n",
       "    </tr>\n",
       "    <tr>\n",
       "      <th>5842</th>\n",
       "      <td>3609</td>\n",
       "      <td>0</td>\n",
       "      <td>2</td>\n",
       "      <td>2</td>\n",
       "      <td>1.0</td>\n",
       "      <td>0</td>\n",
       "    </tr>\n",
       "    <tr>\n",
       "      <th>6351</th>\n",
       "      <td>4103</td>\n",
       "      <td>0</td>\n",
       "      <td>1</td>\n",
       "      <td>1</td>\n",
       "      <td>1.0</td>\n",
       "      <td>0</td>\n",
       "    </tr>\n",
       "    <tr>\n",
       "      <th>6418</th>\n",
       "      <td>4165</td>\n",
       "      <td>0</td>\n",
       "      <td>1</td>\n",
       "      <td>1</td>\n",
       "      <td>1.0</td>\n",
       "      <td>0</td>\n",
       "    </tr>\n",
       "    <tr>\n",
       "      <th>8036</th>\n",
       "      <td>5332</td>\n",
       "      <td>0</td>\n",
       "      <td>1</td>\n",
       "      <td>1</td>\n",
       "      <td>1.0</td>\n",
       "      <td>0</td>\n",
       "    </tr>\n",
       "    <tr>\n",
       "      <th>8194</th>\n",
       "      <td>5387</td>\n",
       "      <td>0</td>\n",
       "      <td>0</td>\n",
       "      <td>1</td>\n",
       "      <td>0.0</td>\n",
       "      <td>0</td>\n",
       "    </tr>\n",
       "    <tr>\n",
       "      <th>8642</th>\n",
       "      <td>5517</td>\n",
       "      <td>0</td>\n",
       "      <td>1</td>\n",
       "      <td>1</td>\n",
       "      <td>1.0</td>\n",
       "      <td>0</td>\n",
       "    </tr>\n",
       "    <tr>\n",
       "      <th>9006</th>\n",
       "      <td>5736</td>\n",
       "      <td>0</td>\n",
       "      <td>1</td>\n",
       "      <td>1</td>\n",
       "      <td>1.0</td>\n",
       "      <td>0</td>\n",
       "    </tr>\n",
       "    <tr>\n",
       "      <th>9072</th>\n",
       "      <td>5745</td>\n",
       "      <td>0</td>\n",
       "      <td>1</td>\n",
       "      <td>1</td>\n",
       "      <td>1.0</td>\n",
       "      <td>0</td>\n",
       "    </tr>\n",
       "    <tr>\n",
       "      <th>9580</th>\n",
       "      <td>5834</td>\n",
       "      <td>0</td>\n",
       "      <td>1</td>\n",
       "      <td>1</td>\n",
       "      <td>1.0</td>\n",
       "      <td>0</td>\n",
       "    </tr>\n",
       "    <tr>\n",
       "      <th>10023</th>\n",
       "      <td>5999</td>\n",
       "      <td>0</td>\n",
       "      <td>1</td>\n",
       "      <td>1</td>\n",
       "      <td>1.0</td>\n",
       "      <td>0</td>\n",
       "    </tr>\n",
       "    <tr>\n",
       "      <th>10509</th>\n",
       "      <td>6131</td>\n",
       "      <td>0</td>\n",
       "      <td>1</td>\n",
       "      <td>1</td>\n",
       "      <td>1.0</td>\n",
       "      <td>0</td>\n",
       "    </tr>\n",
       "    <tr>\n",
       "      <th>10646</th>\n",
       "      <td>6214</td>\n",
       "      <td>0</td>\n",
       "      <td>1</td>\n",
       "      <td>1</td>\n",
       "      <td>1.0</td>\n",
       "      <td>0</td>\n",
       "    </tr>\n",
       "    <tr>\n",
       "      <th>11627</th>\n",
       "      <td>6386</td>\n",
       "      <td>0</td>\n",
       "      <td>1</td>\n",
       "      <td>1</td>\n",
       "      <td>1.0</td>\n",
       "      <td>0</td>\n",
       "    </tr>\n",
       "    <tr>\n",
       "      <th>11686</th>\n",
       "      <td>6409</td>\n",
       "      <td>0</td>\n",
       "      <td>1</td>\n",
       "      <td>1</td>\n",
       "      <td>1.0</td>\n",
       "      <td>0</td>\n",
       "    </tr>\n",
       "    <tr>\n",
       "      <th>12047</th>\n",
       "      <td>6476</td>\n",
       "      <td>0</td>\n",
       "      <td>0</td>\n",
       "      <td>1</td>\n",
       "      <td>0.0</td>\n",
       "      <td>0</td>\n",
       "    </tr>\n",
       "    <tr>\n",
       "      <th>12130</th>\n",
       "      <td>6501</td>\n",
       "      <td>0</td>\n",
       "      <td>1</td>\n",
       "      <td>1</td>\n",
       "      <td>1.0</td>\n",
       "      <td>0</td>\n",
       "    </tr>\n",
       "    <tr>\n",
       "      <th>12363</th>\n",
       "      <td>6605</td>\n",
       "      <td>0</td>\n",
       "      <td>0</td>\n",
       "      <td>1</td>\n",
       "      <td>0.0</td>\n",
       "      <td>0</td>\n",
       "    </tr>\n",
       "    <tr>\n",
       "      <th>12846</th>\n",
       "      <td>6741</td>\n",
       "      <td>0</td>\n",
       "      <td>1</td>\n",
       "      <td>1</td>\n",
       "      <td>1.0</td>\n",
       "      <td>0</td>\n",
       "    </tr>\n",
       "    <tr>\n",
       "      <th>14157</th>\n",
       "      <td>7079</td>\n",
       "      <td>0</td>\n",
       "      <td>0</td>\n",
       "      <td>1</td>\n",
       "      <td>0.0</td>\n",
       "      <td>0</td>\n",
       "    </tr>\n",
       "    <tr>\n",
       "      <th>14203</th>\n",
       "      <td>7083</td>\n",
       "      <td>0</td>\n",
       "      <td>1</td>\n",
       "      <td>1</td>\n",
       "      <td>1.0</td>\n",
       "      <td>0</td>\n",
       "    </tr>\n",
       "    <tr>\n",
       "      <th>14532</th>\n",
       "      <td>7267</td>\n",
       "      <td>0</td>\n",
       "      <td>1</td>\n",
       "      <td>1</td>\n",
       "      <td>1.0</td>\n",
       "      <td>0</td>\n",
       "    </tr>\n",
       "    <tr>\n",
       "      <th>14745</th>\n",
       "      <td>7355</td>\n",
       "      <td>0</td>\n",
       "      <td>0</td>\n",
       "      <td>1</td>\n",
       "      <td>0.0</td>\n",
       "      <td>0</td>\n",
       "    </tr>\n",
       "  </tbody>\n",
       "</table>\n",
       "</div>"
      ],
      "text/plain": [
       "       itest_id  skill  correct  total  accuracy  isstem\n",
       "744         739      0        1      1       1.0       0\n",
       "1553        922      0        1      1       1.0       0\n",
       "2860       1551      0        3      3       1.0       0\n",
       "2991       1598      0        1      1       1.0       0\n",
       "3668       1892      0        0      1       0.0       0\n",
       "3911       2156      0        0      1       0.0       0\n",
       "4015       2370      0        1      1       1.0       0\n",
       "4477       2839      0        1      1       1.0       0\n",
       "4824       3159      0        1      1       1.0       0\n",
       "5059       3206      0        1      1       1.0       0\n",
       "5248       3331      0        1      1       1.0       0\n",
       "5721       3559      0        2      2       1.0       0\n",
       "5842       3609      0        2      2       1.0       0\n",
       "6351       4103      0        1      1       1.0       0\n",
       "6418       4165      0        1      1       1.0       0\n",
       "8036       5332      0        1      1       1.0       0\n",
       "8194       5387      0        0      1       0.0       0\n",
       "8642       5517      0        1      1       1.0       0\n",
       "9006       5736      0        1      1       1.0       0\n",
       "9072       5745      0        1      1       1.0       0\n",
       "9580       5834      0        1      1       1.0       0\n",
       "10023      5999      0        1      1       1.0       0\n",
       "10509      6131      0        1      1       1.0       0\n",
       "10646      6214      0        1      1       1.0       0\n",
       "11627      6386      0        1      1       1.0       0\n",
       "11686      6409      0        1      1       1.0       0\n",
       "12047      6476      0        0      1       0.0       0\n",
       "12130      6501      0        1      1       1.0       0\n",
       "12363      6605      0        0      1       0.0       0\n",
       "12846      6741      0        1      1       1.0       0\n",
       "14157      7079      0        0      1       0.0       0\n",
       "14203      7083      0        1      1       1.0       0\n",
       "14532      7267      0        1      1       1.0       0\n",
       "14745      7355      0        0      1       0.0       0"
      ]
     },
     "execution_count": 42,
     "metadata": {},
     "output_type": "execute_result"
    }
   ],
   "source": [
    "student_accuracy_with_stem = student_accuracy.merge(training[['itest_id', 'isstem']], on='itest_id')\n",
    "stem_accuracy = student_accuracy_with_stem[student_accuracy_with_stem.isstem==1]\n",
    "non_stem_accuracy = student_accuracy_with_stem[student_accuracy_with_stem.isstem==0]\n",
    "stem_accuracy.shape, non_stem_accuracy.shape\n",
    "non_stem_accuracy[non_stem_accuracy.skill==0]"
   ]
  },
  {
   "cell_type": "markdown",
   "metadata": {
    "deletable": true,
    "editable": true
   },
   "source": [
    "#### Calculating the difference average"
   ]
  },
  {
   "cell_type": "code",
   "execution_count": 43,
   "metadata": {
    "collapsed": false,
    "deletable": true,
    "editable": true
   },
   "outputs": [
    {
     "data": {
      "text/html": [
       "<div>\n",
       "<table border=\"1\" class=\"dataframe\">\n",
       "  <thead>\n",
       "    <tr style=\"text-align: right;\">\n",
       "      <th></th>\n",
       "      <th>isstem</th>\n",
       "      <th>skill</th>\n",
       "      <th>correct</th>\n",
       "      <th>total</th>\n",
       "      <th>accuracy</th>\n",
       "    </tr>\n",
       "  </thead>\n",
       "  <tbody>\n",
       "    <tr>\n",
       "      <th>0</th>\n",
       "      <td>0</td>\n",
       "      <td>0</td>\n",
       "      <td>0.911765</td>\n",
       "      <td>1.117647</td>\n",
       "      <td>0.794118</td>\n",
       "    </tr>\n",
       "    <tr>\n",
       "      <th>1</th>\n",
       "      <td>0</td>\n",
       "      <td>1</td>\n",
       "      <td>7.371681</td>\n",
       "      <td>13.787611</td>\n",
       "      <td>0.704015</td>\n",
       "    </tr>\n",
       "    <tr>\n",
       "      <th>2</th>\n",
       "      <td>0</td>\n",
       "      <td>2</td>\n",
       "      <td>1.068182</td>\n",
       "      <td>2.659091</td>\n",
       "      <td>0.550071</td>\n",
       "    </tr>\n",
       "    <tr>\n",
       "      <th>3</th>\n",
       "      <td>0</td>\n",
       "      <td>3</td>\n",
       "      <td>3.466667</td>\n",
       "      <td>12.090909</td>\n",
       "      <td>0.461597</td>\n",
       "    </tr>\n",
       "    <tr>\n",
       "      <th>4</th>\n",
       "      <td>0</td>\n",
       "      <td>4</td>\n",
       "      <td>1.211538</td>\n",
       "      <td>3.519231</td>\n",
       "      <td>0.495346</td>\n",
       "    </tr>\n",
       "  </tbody>\n",
       "</table>\n",
       "</div>"
      ],
      "text/plain": [
       "   isstem  skill   correct      total  accuracy\n",
       "0       0      0  0.911765   1.117647  0.794118\n",
       "1       0      1  7.371681  13.787611  0.704015\n",
       "2       0      2  1.068182   2.659091  0.550071\n",
       "3       0      3  3.466667  12.090909  0.461597\n",
       "4       0      4  1.211538   3.519231  0.495346"
      ]
     },
     "execution_count": 43,
     "metadata": {},
     "output_type": "execute_result"
    }
   ],
   "source": [
    "average_accuracy_with_stem = student_accuracy_with_stem.groupby(['isstem', 'skill'], as_index=False).mean()\n",
    "average_accuracy_with_stem = average_accuracy_with_stem.drop(['itest_id'], axis=1)\n",
    "average_accuracy_with_stem.head()"
   ]
  },
  {
   "cell_type": "markdown",
   "metadata": {
    "deletable": true,
    "editable": true
   },
   "source": [
    "#### Correlation Heatmap"
   ]
  },
  {
   "cell_type": "code",
   "execution_count": 44,
   "metadata": {
    "collapsed": false,
    "deletable": true,
    "editable": true
   },
   "outputs": [
    {
     "data": {
      "image/png": "[encoded data removed]",
      "text/plain": [
       "<matplotlib.figure.Figure at 0x1223fef28>"
      ]
     },
     "metadata": {},
     "output_type": "display_data"
    },
    {
     "data": {
      "text/plain": [
       "(<matplotlib.axes._subplots.AxesSubplot at 0x1224f5ba8>, None)"
      ]
     },
     "execution_count": 44,
     "metadata": {},
     "output_type": "execute_result"
    }
   ],
   "source": [
    "sns.heatmap(average_accuracy_with_stem.corr(), annot=True), plt.show()"
   ]
  },
  {
   "cell_type": "code",
   "execution_count": 45,
   "metadata": {
    "collapsed": false,
    "deletable": true,
    "editable": true
   },
   "outputs": [
    {
     "name": "stdout",
     "output_type": "stream",
     "text": [
      "92 93 185\n"
     ]
    },
    {
     "data": {
      "image/png": "[encoded data removed]",
      "text/plain": [
       "<matplotlib.figure.Figure at 0x1226bb9e8>"
      ]
     },
     "metadata": {},
     "output_type": "display_data"
    },
    {
     "data": {
      "image/png": "[encoded data removed]",
      "text/plain": [
       "<matplotlib.figure.Figure at 0x1226f4a58>"
      ]
     },
     "metadata": {},
     "output_type": "display_data"
    },
    {
     "data": {
      "image/png": "[encoded data removed]",
      "text/plain": [
       "<matplotlib.figure.Figure at 0x12262ea58>"
      ]
     },
     "metadata": {},
     "output_type": "display_data"
    },
    {
     "data": {
      "text/plain": [
       "([<matplotlib.lines.Line2D at 0x10bdbc860>,\n",
       "  <matplotlib.lines.Line2D at 0x10bdbcb00>],\n",
       " None)"
      ]
     },
     "execution_count": 45,
     "metadata": {},
     "output_type": "execute_result"
    }
   ],
   "source": [
    "stem_ave = average_accuracy_with_stem[average_accuracy_with_stem.isstem==1]\n",
    "nonstem_ave = average_accuracy_with_stem[average_accuracy_with_stem.isstem==0]\n",
    "print(len(stem_ave), len(nonstem_ave), len(average_accuracy_with_stem))\n",
    "plt.plot(stem_ave.skill, stem_ave.correct, 'b-', nonstem_ave.skill, nonstem_ave.correct, 'r-'), plt.show()\n",
    "plt.plot(stem_ave.skill, stem_ave.total, 'b-', nonstem_ave.skill, nonstem_ave.total, 'r-'), plt.show()\n",
    "plt.plot(stem_ave.skill, stem_ave.accuracy, 'b-', nonstem_ave.skill, nonstem_ave.accuracy, 'r-'), plt.show()"
   ]
  },
  {
   "cell_type": "code",
   "execution_count": 46,
   "metadata": {
    "collapsed": false,
    "deletable": true,
    "editable": true
   },
   "outputs": [
    {
     "data": {
      "text/html": [
       "<div>\n",
       "<table border=\"1\" class=\"dataframe\">\n",
       "  <thead>\n",
       "    <tr style=\"text-align: right;\">\n",
       "      <th></th>\n",
       "      <th>skill</th>\n",
       "      <th>accuracy_x</th>\n",
       "      <th>total_x</th>\n",
       "      <th>accuracy_y</th>\n",
       "      <th>total_y</th>\n",
       "      <th>diff</th>\n",
       "    </tr>\n",
       "  </thead>\n",
       "  <tbody>\n",
       "    <tr>\n",
       "      <th>0</th>\n",
       "      <td>0</td>\n",
       "      <td>0.807692</td>\n",
       "      <td>2.076923</td>\n",
       "      <td>0.794118</td>\n",
       "      <td>1.117647</td>\n",
       "      <td>0.013575</td>\n",
       "    </tr>\n",
       "    <tr>\n",
       "      <th>1</th>\n",
       "      <td>1</td>\n",
       "      <td>0.789958</td>\n",
       "      <td>12.529412</td>\n",
       "      <td>0.704015</td>\n",
       "      <td>13.787611</td>\n",
       "      <td>0.085943</td>\n",
       "    </tr>\n",
       "    <tr>\n",
       "      <th>2</th>\n",
       "      <td>2</td>\n",
       "      <td>0.532727</td>\n",
       "      <td>4.800000</td>\n",
       "      <td>0.550071</td>\n",
       "      <td>2.659091</td>\n",
       "      <td>-0.017343</td>\n",
       "    </tr>\n",
       "    <tr>\n",
       "      <th>3</th>\n",
       "      <td>3</td>\n",
       "      <td>0.564494</td>\n",
       "      <td>16.545455</td>\n",
       "      <td>0.461597</td>\n",
       "      <td>12.090909</td>\n",
       "      <td>0.102897</td>\n",
       "    </tr>\n",
       "    <tr>\n",
       "      <th>4</th>\n",
       "      <td>4</td>\n",
       "      <td>0.391228</td>\n",
       "      <td>6.947368</td>\n",
       "      <td>0.495346</td>\n",
       "      <td>3.519231</td>\n",
       "      <td>-0.104118</td>\n",
       "    </tr>\n",
       "  </tbody>\n",
       "</table>\n",
       "</div>"
      ],
      "text/plain": [
       "   skill  accuracy_x    total_x  accuracy_y    total_y      diff\n",
       "0      0    0.807692   2.076923    0.794118   1.117647  0.013575\n",
       "1      1    0.789958  12.529412    0.704015  13.787611  0.085943\n",
       "2      2    0.532727   4.800000    0.550071   2.659091 -0.017343\n",
       "3      3    0.564494  16.545455    0.461597  12.090909  0.102897\n",
       "4      4    0.391228   6.947368    0.495346   3.519231 -0.104118"
      ]
     },
     "execution_count": 46,
     "metadata": {},
     "output_type": "execute_result"
    }
   ],
   "source": [
    "# skills_acc_diff = stem_ave.accuracy - nonstem_ave.accuracy\n",
    "# skills_acc_diff.head()\n",
    "accuracy_comparison = stem_ave[['skill', 'accuracy', 'total']].merge(nonstem_ave[['skill', 'accuracy', 'total']], on=\"skill\")\n",
    "accuracy_comparison['diff'] = accuracy_comparison.accuracy_x - accuracy_comparison.accuracy_y\n",
    "accuracy_comparison.head()"
   ]
  },
  {
   "cell_type": "markdown",
   "metadata": {
    "deletable": true,
    "editable": true
   },
   "source": [
    "#### There is a 5+ difference in quantity for the following skill groups"
   ]
  },
  {
   "cell_type": "code",
   "execution_count": 67,
   "metadata": {
    "collapsed": false,
    "deletable": true,
    "editable": true,
    "scrolled": true
   },
   "outputs": [
    {
     "data": {
      "image/png": "[encoded data removed]",
      "text/plain": [
       "<matplotlib.figure.Figure at 0x12aafe5f8>"
      ]
     },
     "metadata": {},
     "output_type": "display_data"
    },
    {
     "data": {
      "text/plain": [
       "([<matplotlib.lines.Line2D at 0x12a39ceb8>],\n",
       " <matplotlib.text.Text at 0x12a8440b8>,\n",
       " None)"
      ]
     },
     "execution_count": 67,
     "metadata": {},
     "output_type": "execute_result"
    }
   ],
   "source": [
    "accuracy_comparison['quantity_difference'] = accuracy_comparison.total_y - accuracy_comparison.total_x\n",
    "plt.plot(accuracy_comparison['quantity_difference']), plt.title(\"Quantity Difference per Skill\"), plt.show()"
   ]
  },
  {
   "cell_type": "code",
   "execution_count": 68,
   "metadata": {
    "collapsed": false,
    "deletable": true,
    "editable": true,
    "scrolled": true
   },
   "outputs": [
    {
     "data": {
      "text/html": [
       "<div>\n",
       "<table border=\"1\" class=\"dataframe\">\n",
       "  <thead>\n",
       "    <tr style=\"text-align: right;\">\n",
       "      <th></th>\n",
       "      <th>skill</th>\n",
       "      <th>accuracy_x</th>\n",
       "      <th>total_x</th>\n",
       "      <th>accuracy_y</th>\n",
       "      <th>total_y</th>\n",
       "      <th>diff</th>\n",
       "      <th>quantity_difference</th>\n",
       "    </tr>\n",
       "  </thead>\n",
       "  <tbody>\n",
       "    <tr>\n",
       "      <th>5</th>\n",
       "      <td>5</td>\n",
       "      <td>0.496780</td>\n",
       "      <td>31.770833</td>\n",
       "      <td>0.405745</td>\n",
       "      <td>21.792952</td>\n",
       "      <td>0.091035</td>\n",
       "      <td>-9.977882</td>\n",
       "    </tr>\n",
       "    <tr>\n",
       "      <th>22</th>\n",
       "      <td>22</td>\n",
       "      <td>0.644531</td>\n",
       "      <td>14.130435</td>\n",
       "      <td>0.580820</td>\n",
       "      <td>8.537415</td>\n",
       "      <td>0.063711</td>\n",
       "      <td>-5.593020</td>\n",
       "    </tr>\n",
       "    <tr>\n",
       "      <th>30</th>\n",
       "      <td>30</td>\n",
       "      <td>0.516271</td>\n",
       "      <td>23.444444</td>\n",
       "      <td>0.480509</td>\n",
       "      <td>16.902439</td>\n",
       "      <td>0.035762</td>\n",
       "      <td>-6.542005</td>\n",
       "    </tr>\n",
       "    <tr>\n",
       "      <th>41</th>\n",
       "      <td>41</td>\n",
       "      <td>0.656403</td>\n",
       "      <td>13.765625</td>\n",
       "      <td>0.568396</td>\n",
       "      <td>21.349057</td>\n",
       "      <td>0.088007</td>\n",
       "      <td>7.583432</td>\n",
       "    </tr>\n",
       "    <tr>\n",
       "      <th>50</th>\n",
       "      <td>50</td>\n",
       "      <td>0.592836</td>\n",
       "      <td>91.695122</td>\n",
       "      <td>0.488761</td>\n",
       "      <td>81.191860</td>\n",
       "      <td>0.104075</td>\n",
       "      <td>-10.503261</td>\n",
       "    </tr>\n",
       "    <tr>\n",
       "      <th>56</th>\n",
       "      <td>56</td>\n",
       "      <td>0.628492</td>\n",
       "      <td>40.893617</td>\n",
       "      <td>0.553621</td>\n",
       "      <td>30.655340</td>\n",
       "      <td>0.074870</td>\n",
       "      <td>-10.238277</td>\n",
       "    </tr>\n",
       "    <tr>\n",
       "      <th>62</th>\n",
       "      <td>62</td>\n",
       "      <td>0.541186</td>\n",
       "      <td>51.030612</td>\n",
       "      <td>0.483775</td>\n",
       "      <td>42.756757</td>\n",
       "      <td>0.057411</td>\n",
       "      <td>-8.273855</td>\n",
       "    </tr>\n",
       "    <tr>\n",
       "      <th>66</th>\n",
       "      <td>66</td>\n",
       "      <td>0.478269</td>\n",
       "      <td>22.658537</td>\n",
       "      <td>0.395101</td>\n",
       "      <td>14.936893</td>\n",
       "      <td>0.083168</td>\n",
       "      <td>-7.721643</td>\n",
       "    </tr>\n",
       "    <tr>\n",
       "      <th>69</th>\n",
       "      <td>69</td>\n",
       "      <td>0.646844</td>\n",
       "      <td>21.662921</td>\n",
       "      <td>0.568707</td>\n",
       "      <td>14.660099</td>\n",
       "      <td>0.078137</td>\n",
       "      <td>-7.002823</td>\n",
       "    </tr>\n",
       "    <tr>\n",
       "      <th>86</th>\n",
       "      <td>87</td>\n",
       "      <td>0.637026</td>\n",
       "      <td>22.543210</td>\n",
       "      <td>0.531427</td>\n",
       "      <td>16.891892</td>\n",
       "      <td>0.105600</td>\n",
       "      <td>-5.651318</td>\n",
       "    </tr>\n",
       "    <tr>\n",
       "      <th>90</th>\n",
       "      <td>91</td>\n",
       "      <td>0.540178</td>\n",
       "      <td>28.049383</td>\n",
       "      <td>0.468186</td>\n",
       "      <td>13.867816</td>\n",
       "      <td>0.071992</td>\n",
       "      <td>-14.181567</td>\n",
       "    </tr>\n",
       "  </tbody>\n",
       "</table>\n",
       "</div>"
      ],
      "text/plain": [
       "    skill  accuracy_x    total_x  accuracy_y    total_y      diff  \\\n",
       "5       5    0.496780  31.770833    0.405745  21.792952  0.091035   \n",
       "22     22    0.644531  14.130435    0.580820   8.537415  0.063711   \n",
       "30     30    0.516271  23.444444    0.480509  16.902439  0.035762   \n",
       "41     41    0.656403  13.765625    0.568396  21.349057  0.088007   \n",
       "50     50    0.592836  91.695122    0.488761  81.191860  0.104075   \n",
       "56     56    0.628492  40.893617    0.553621  30.655340  0.074870   \n",
       "62     62    0.541186  51.030612    0.483775  42.756757  0.057411   \n",
       "66     66    0.478269  22.658537    0.395101  14.936893  0.083168   \n",
       "69     69    0.646844  21.662921    0.568707  14.660099  0.078137   \n",
       "86     87    0.637026  22.543210    0.531427  16.891892  0.105600   \n",
       "90     91    0.540178  28.049383    0.468186  13.867816  0.071992   \n",
       "\n",
       "    quantity_difference  \n",
       "5             -9.977882  \n",
       "22            -5.593020  \n",
       "30            -6.542005  \n",
       "41             7.583432  \n",
       "50           -10.503261  \n",
       "56           -10.238277  \n",
       "62            -8.273855  \n",
       "66            -7.721643  \n",
       "69            -7.002823  \n",
       "86            -5.651318  \n",
       "90           -14.181567  "
      ]
     },
     "execution_count": 68,
     "metadata": {},
     "output_type": "execute_result"
    }
   ],
   "source": [
    "question_quantity_difference_above_5 = accuracy_comparison[(accuracy_comparison['quantity_difference'] < -5) | (accuracy_comparison['quantity_difference'] > 5)]\n",
    "question_quantity_difference_above_5"
   ]
  },
  {
   "cell_type": "markdown",
   "metadata": {
    "deletable": true,
    "editable": true
   },
   "source": [
    "#### Let's find the top skill outliers"
   ]
  },
  {
   "cell_type": "code",
   "execution_count": 70,
   "metadata": {
    "collapsed": false,
    "deletable": true,
    "editable": true
   },
   "outputs": [
    {
     "data": {
      "image/png": "[encoded data removed]",
      "text/plain": [
       "<matplotlib.figure.Figure at 0x123726f60>"
      ]
     },
     "metadata": {},
     "output_type": "display_data"
    },
    {
     "name": "stdout",
     "output_type": "stream",
     "text": [
      "Top contributors: \n"
     ]
    },
    {
     "data": {
      "image/png": "[encoded data removed]",
      "text/plain": [
       "<matplotlib.figure.Figure at 0x1236a31d0>"
      ]
     },
     "metadata": {},
     "output_type": "display_data"
    },
    {
     "data": {
      "text/html": [
       "<div>\n",
       "<table border=\"1\" class=\"dataframe\">\n",
       "  <thead>\n",
       "    <tr style=\"text-align: right;\">\n",
       "      <th></th>\n",
       "      <th>skill</th>\n",
       "      <th>accuracy_x</th>\n",
       "      <th>total_x</th>\n",
       "      <th>accuracy_y</th>\n",
       "      <th>total_y</th>\n",
       "      <th>diff</th>\n",
       "      <th>quantity_difference</th>\n",
       "    </tr>\n",
       "  </thead>\n",
       "  <tbody>\n",
       "    <tr>\n",
       "      <th>7</th>\n",
       "      <td>7</td>\n",
       "      <td>0.815693</td>\n",
       "      <td>5.200000</td>\n",
       "      <td>0.554830</td>\n",
       "      <td>6.391304</td>\n",
       "      <td>0.260863</td>\n",
       "      <td>1.191304</td>\n",
       "    </tr>\n",
       "    <tr>\n",
       "      <th>18</th>\n",
       "      <td>18</td>\n",
       "      <td>0.670296</td>\n",
       "      <td>20.863158</td>\n",
       "      <td>0.459499</td>\n",
       "      <td>21.962264</td>\n",
       "      <td>0.210797</td>\n",
       "      <td>1.099106</td>\n",
       "    </tr>\n",
       "    <tr>\n",
       "      <th>32</th>\n",
       "      <td>32</td>\n",
       "      <td>0.591827</td>\n",
       "      <td>26.526316</td>\n",
       "      <td>0.385751</td>\n",
       "      <td>22.483516</td>\n",
       "      <td>0.206077</td>\n",
       "      <td>-4.042799</td>\n",
       "    </tr>\n",
       "    <tr>\n",
       "      <th>39</th>\n",
       "      <td>39</td>\n",
       "      <td>0.586022</td>\n",
       "      <td>2.516129</td>\n",
       "      <td>0.396429</td>\n",
       "      <td>1.553571</td>\n",
       "      <td>0.189593</td>\n",
       "      <td>-0.962558</td>\n",
       "    </tr>\n",
       "    <tr>\n",
       "      <th>42</th>\n",
       "      <td>42</td>\n",
       "      <td>0.844595</td>\n",
       "      <td>3.216216</td>\n",
       "      <td>0.640027</td>\n",
       "      <td>3.145161</td>\n",
       "      <td>0.204567</td>\n",
       "      <td>-0.071055</td>\n",
       "    </tr>\n",
       "    <tr>\n",
       "      <th>43</th>\n",
       "      <td>43</td>\n",
       "      <td>0.485519</td>\n",
       "      <td>12.750000</td>\n",
       "      <td>0.310203</td>\n",
       "      <td>12.205882</td>\n",
       "      <td>0.175316</td>\n",
       "      <td>-0.544118</td>\n",
       "    </tr>\n",
       "    <tr>\n",
       "      <th>48</th>\n",
       "      <td>48</td>\n",
       "      <td>1.000000</td>\n",
       "      <td>1.666667</td>\n",
       "      <td>0.764912</td>\n",
       "      <td>1.789474</td>\n",
       "      <td>0.235088</td>\n",
       "      <td>0.122807</td>\n",
       "    </tr>\n",
       "    <tr>\n",
       "      <th>55</th>\n",
       "      <td>55</td>\n",
       "      <td>0.765960</td>\n",
       "      <td>9.571429</td>\n",
       "      <td>0.542662</td>\n",
       "      <td>8.658824</td>\n",
       "      <td>0.223299</td>\n",
       "      <td>-0.912605</td>\n",
       "    </tr>\n",
       "    <tr>\n",
       "      <th>71</th>\n",
       "      <td>71</td>\n",
       "      <td>0.892857</td>\n",
       "      <td>2.000000</td>\n",
       "      <td>0.645000</td>\n",
       "      <td>2.100000</td>\n",
       "      <td>0.247857</td>\n",
       "      <td>0.100000</td>\n",
       "    </tr>\n",
       "  </tbody>\n",
       "</table>\n",
       "</div>"
      ],
      "text/plain": [
       "    skill  accuracy_x    total_x  accuracy_y    total_y      diff  \\\n",
       "7       7    0.815693   5.200000    0.554830   6.391304  0.260863   \n",
       "18     18    0.670296  20.863158    0.459499  21.962264  0.210797   \n",
       "32     32    0.591827  26.526316    0.385751  22.483516  0.206077   \n",
       "39     39    0.586022   2.516129    0.396429   1.553571  0.189593   \n",
       "42     42    0.844595   3.216216    0.640027   3.145161  0.204567   \n",
       "43     43    0.485519  12.750000    0.310203  12.205882  0.175316   \n",
       "48     48    1.000000   1.666667    0.764912   1.789474  0.235088   \n",
       "55     55    0.765960   9.571429    0.542662   8.658824  0.223299   \n",
       "71     71    0.892857   2.000000    0.645000   2.100000  0.247857   \n",
       "\n",
       "    quantity_difference  \n",
       "7              1.191304  \n",
       "18             1.099106  \n",
       "32            -4.042799  \n",
       "39            -0.962558  \n",
       "42            -0.071055  \n",
       "43            -0.544118  \n",
       "48             0.122807  \n",
       "55            -0.912605  \n",
       "71             0.100000  "
      ]
     },
     "execution_count": 70,
     "metadata": {},
     "output_type": "execute_result"
    }
   ],
   "source": [
    "plt.plot(accuracy_comparison['diff']), plt.show()\n",
    "print('Top contributors: ')\n",
    "above_17_5 = accuracy_comparison[(accuracy_comparison['diff'] > 0.175) | (accuracy_comparison['diff'] < -0.175)]\n",
    "plt.plot(above_17_5['diff'], 'o'), plt.show()\n",
    "above_17_5"
   ]
  },
  {
   "cell_type": "markdown",
   "metadata": {
    "deletable": true,
    "editable": true
   },
   "source": [
    "#### Check if the \"top-contributors\" are from those with big question_quantity_difference"
   ]
  },
  {
   "cell_type": "code",
   "execution_count": 71,
   "metadata": {
    "collapsed": false,
    "deletable": true,
    "editable": true
   },
   "outputs": [
    {
     "name": "stdout",
     "output_type": "stream",
     "text": [
      "Nothing Found\n"
     ]
    }
   ],
   "source": [
    "skills_where_question_quantity_difference_is_above_2 = question_quantity_difference_above_2.skill\n",
    "risk_zone_skills = 0\n",
    "for s in skills_where_question_quantity_difference_is_above_2:\n",
    "    if s in above_17_5.skill:\n",
    "        print(s)\n",
    "        risk_zone_skills += 1\n",
    "if risk_zone_skills == 0:\n",
    "    print('Nothing Found')"
   ]
  },
  {
   "cell_type": "markdown",
   "metadata": {
    "deletable": true,
    "editable": true
   },
   "source": [
    "We may not care about the quantity difference as on average the difference in question taken between the groups is similar"
   ]
  },
  {
   "cell_type": "markdown",
   "metadata": {
    "deletable": true,
    "editable": true
   },
   "source": [
    "#### Generate The Box Plots per each \"Top-Contribution\" Skill to see if there is a big overlap"
   ]
  },
  {
   "cell_type": "code",
   "execution_count": 72,
   "metadata": {
    "collapsed": false,
    "deletable": true,
    "editable": true
   },
   "outputs": [
    {
     "data": {
      "text/plain": [
       "{7, 18, 32, 39, 42, 43, 48, 55, 71}"
      ]
     },
     "execution_count": 72,
     "metadata": {},
     "output_type": "execute_result"
    }
   ],
   "source": [
    "top_contribution_skills = above_17_5.skill\n",
    "set(top_contribution_skills)"
   ]
  },
  {
   "cell_type": "code",
   "execution_count": 73,
   "metadata": {
    "collapsed": false,
    "deletable": true,
    "editable": true
   },
   "outputs": [
    {
     "data": {
      "text/html": [
       "<div>\n",
       "<table border=\"1\" class=\"dataframe\">\n",
       "  <thead>\n",
       "    <tr style=\"text-align: right;\">\n",
       "      <th></th>\n",
       "      <th>itest_id</th>\n",
       "      <th>skill</th>\n",
       "      <th>correct</th>\n",
       "      <th>total</th>\n",
       "      <th>accuracy</th>\n",
       "      <th>isstem</th>\n",
       "    </tr>\n",
       "  </thead>\n",
       "  <tbody>\n",
       "    <tr>\n",
       "      <th>0</th>\n",
       "      <td>35</td>\n",
       "      <td>1</td>\n",
       "      <td>13</td>\n",
       "      <td>19</td>\n",
       "      <td>0.684211</td>\n",
       "      <td>0</td>\n",
       "    </tr>\n",
       "    <tr>\n",
       "      <th>1</th>\n",
       "      <td>35</td>\n",
       "      <td>3</td>\n",
       "      <td>1</td>\n",
       "      <td>2</td>\n",
       "      <td>0.500000</td>\n",
       "      <td>0</td>\n",
       "    </tr>\n",
       "    <tr>\n",
       "      <th>2</th>\n",
       "      <td>35</td>\n",
       "      <td>4</td>\n",
       "      <td>1</td>\n",
       "      <td>5</td>\n",
       "      <td>0.200000</td>\n",
       "      <td>0</td>\n",
       "    </tr>\n",
       "    <tr>\n",
       "      <th>3</th>\n",
       "      <td>35</td>\n",
       "      <td>5</td>\n",
       "      <td>6</td>\n",
       "      <td>19</td>\n",
       "      <td>0.315789</td>\n",
       "      <td>0</td>\n",
       "    </tr>\n",
       "    <tr>\n",
       "      <th>4</th>\n",
       "      <td>35</td>\n",
       "      <td>8</td>\n",
       "      <td>1</td>\n",
       "      <td>4</td>\n",
       "      <td>0.250000</td>\n",
       "      <td>0</td>\n",
       "    </tr>\n",
       "  </tbody>\n",
       "</table>\n",
       "</div>"
      ],
      "text/plain": [
       "   itest_id  skill  correct  total  accuracy  isstem\n",
       "0        35      1       13     19  0.684211       0\n",
       "1        35      3        1      2  0.500000       0\n",
       "2        35      4        1      5  0.200000       0\n",
       "3        35      5        6     19  0.315789       0\n",
       "4        35      8        1      4  0.250000       0"
      ]
     },
     "execution_count": 73,
     "metadata": {},
     "output_type": "execute_result"
    }
   ],
   "source": [
    "student_accuracy_with_stem.head()"
   ]
  },
  {
   "cell_type": "markdown",
   "metadata": {
    "deletable": true,
    "editable": true
   },
   "source": [
    "#### Looking for the optimal minimum quantity of solved questions"
   ]
  },
  {
   "cell_type": "code",
   "execution_count": 75,
   "metadata": {
    "collapsed": false,
    "deletable": true,
    "editable": true
   },
   "outputs": [
    {
     "name": "stdout",
     "output_type": "stream",
     "text": [
      "================================================\n",
      "At least 5 questions solved: \n",
      "Skill: 7\n",
      "Skill: 18\n"
     ]
    },
    {
     "name": "stderr",
     "output_type": "stream",
     "text": [
      "/Library/Frameworks/Python.framework/Versions/3.5/lib/python3.5/site-packages/ipykernel/__main__.py:7: UserWarning: Boolean Series key will be reindexed to match DataFrame index.\n",
      "/Library/Frameworks/Python.framework/Versions/3.5/lib/python3.5/site-packages/ipykernel/__main__.py:8: UserWarning: Boolean Series key will be reindexed to match DataFrame index.\n"
     ]
    },
    {
     "name": "stdout",
     "output_type": "stream",
     "text": [
      "Skill: 32\n",
      "Skill: 42\n",
      "Skill: 43\n",
      "Skill: 55\n",
      "Number of Plots 6: [7, 18, 32, 42, 43, 55]\n",
      "================================================\n",
      "At least 10 questions solved: \n",
      "Skill: 7\n",
      "Skill: 18\n",
      "Skill: 32\n",
      "Skill: 43\n",
      "Skill: 55\n",
      "Number of Plots 5: [7, 18, 32, 43, 55]\n",
      "================================================\n",
      "At least 15 questions solved: \n",
      "Skill: 7\n",
      "Skill: 18\n",
      "Skill: 32\n",
      "Skill: 43\n",
      "Skill: 55\n",
      "Number of Plots 5: [7, 18, 32, 43, 55]\n",
      "================================================\n",
      "At least 20 questions solved: \n",
      "Skill: 7\n",
      "Skill: 18\n",
      "Skill: 32\n",
      "Skill: 43\n",
      "Skill: 55\n",
      "Number of Plots 5: [7, 18, 32, 43, 55]\n",
      "================================================\n",
      "At least 25 questions solved: \n",
      "Skill: 18\n",
      "Skill: 32\n",
      "Skill: 55\n",
      "Number of Plots 3: [18, 32, 55]\n"
     ]
    }
   ],
   "source": [
    "for question_threshold in [5, 10, 15, 20, 25]:\n",
    "    print(\"================================================\")\n",
    "    print(\"At least {} questions solved: \".format(question_threshold))\n",
    "    student_accuracy_with_stem_above_quantity_threshold = student_accuracy_with_stem[student_accuracy_with_stem.total > question_threshold]\n",
    "    number_of_contributors_left = []\n",
    "    for i in top_contribution_skills:\n",
    "        stem_table_filtered_for_box_plot = student_accuracy_with_stem_above_quantity_threshold[(student_accuracy_with_stem_above_quantity_threshold['skill']==i) & (student_accuracy_with_stem['isstem']==1)]\n",
    "        nonstem_table_filtered_for_box_plot = student_accuracy_with_stem_above_quantity_threshold[(student_accuracy_with_stem_above_quantity_threshold['skill']==i) & (student_accuracy_with_stem['isstem']==0)]\n",
    "        if stem_table_filtered_for_box_plot.shape[0] == 0 or nonstem_table_filtered_for_box_plot.shape[0] == 0:\n",
    "            continue\n",
    "        print(\"Skill: {}\".format(i))\n",
    "        number_of_contributors_left.append(i)\n",
    "#         plt.figure(figsize=(12, 2))\n",
    "#         plt.xlim(xmax=1, xmin=0)\n",
    "#         sns.boxplot(stem_table_filtered_for_box_plot.accuracy), plt.title(\"STEM\"), plt.show()\n",
    "\n",
    "#         plt.figure(figsize=(12, 2))\n",
    "#         plt.xlim(xmax=1, xmin=0)\n",
    "#         sns.boxplot(nonstem_table_filtered_for_box_plot.accuracy), plt.title(\"NONSTEM\"), plt.show()\n",
    "    print(\"Number of Plots {}: {}\".format(len(number_of_contributors_left), number_of_contributors_left))"
   ]
  },
  {
   "cell_type": "markdown",
   "metadata": {
    "deletable": true,
    "editable": true
   },
   "source": [
    "#### Let's test two cases: 4+ and 5+ and 7+ questions"
   ]
  },
  {
   "cell_type": "code",
   "execution_count": 101,
   "metadata": {
    "collapsed": false,
    "deletable": true,
    "editable": true
   },
   "outputs": [
    {
     "name": "stdout",
     "output_type": "stream",
     "text": [
      "========================== At least 5 questions solved: \n",
      "Skill: 7\n",
      "All: 76; filter Stem: 11; filter NonStem: 20 \n",
      " lost: 45 0.5921052631578947\n"
     ]
    },
    {
     "name": "stderr",
     "output_type": "stream",
     "text": [
      "/Library/Frameworks/Python.framework/Versions/3.5/lib/python3.5/site-packages/ipykernel/__main__.py:7: UserWarning: Boolean Series key will be reindexed to match DataFrame index.\n",
      "/Library/Frameworks/Python.framework/Versions/3.5/lib/python3.5/site-packages/ipykernel/__main__.py:8: UserWarning: Boolean Series key will be reindexed to match DataFrame index.\n"
     ]
    },
    {
     "data": {
      "image/png": "[encoded data removed]",
      "text/plain": [
       "<matplotlib.figure.Figure at 0x1223870b8>"
      ]
     },
     "metadata": {},
     "output_type": "display_data"
    },
    {
     "data": {
      "image/png": "[encoded data removed]",
      "text/plain": [
       "<matplotlib.figure.Figure at 0x1236d2e80>"
      ]
     },
     "metadata": {},
     "output_type": "display_data"
    },
    {
     "name": "stdout",
     "output_type": "stream",
     "text": [
      "========================== At least 7 questions solved: \n",
      "Skill: 7\n",
      "All: 76; filter Stem: 6; filter NonStem: 12 \n",
      " lost: 58 0.7631578947368421\n"
     ]
    },
    {
     "data": {
      "image/png": "[encoded data removed]",
      "text/plain": [
       "<matplotlib.figure.Figure at 0x10d69be10>"
      ]
     },
     "metadata": {},
     "output_type": "display_data"
    },
    {
     "data": {
      "image/png": "[encoded data removed]",
      "text/plain": [
       "<matplotlib.figure.Figure at 0x129a71668>"
      ]
     },
     "metadata": {},
     "output_type": "display_data"
    },
    {
     "name": "stdout",
     "output_type": "stream",
     "text": [
      "========================== At least 10 questions solved: \n",
      "Skill: 7\n",
      "All: 76; filter Stem: 2; filter NonStem: 7 \n",
      " lost: 67 0.881578947368421\n"
     ]
    },
    {
     "data": {
      "image/png": "[encoded data removed]",
      "text/plain": [
       "<matplotlib.figure.Figure at 0x10b7d6ef0>"
      ]
     },
     "metadata": {},
     "output_type": "display_data"
    },
    {
     "data": {
      "image/png": "[encoded data removed]",
      "text/plain": [
       "<matplotlib.figure.Figure at 0x12a411358>"
      ]
     },
     "metadata": {},
     "output_type": "display_data"
    },
    {
     "name": "stdout",
     "output_type": "stream",
     "text": [
      "========================== At least 15 questions solved: \n",
      "Skill: 7\n",
      "All: 76; filter Stem: 2; filter NonStem: 3 \n",
      " lost: 71 0.9342105263157895\n"
     ]
    },
    {
     "data": {
      "image/png": "[encoded data removed]",
      "text/plain": [
       "<matplotlib.figure.Figure at 0x122fc05c0>"
      ]
     },
     "metadata": {},
     "output_type": "display_data"
    },
    {
     "data": {
      "image/png": "[encoded data removed]",
      "text/plain": [
       "<matplotlib.figure.Figure at 0x12a526cf8>"
      ]
     },
     "metadata": {},
     "output_type": "display_data"
    },
    {
     "name": "stdout",
     "output_type": "stream",
     "text": [
      "========================== At least 25 questions solved: \n",
      "Skill: 7\n",
      "All: 76; filter Stem: 0; filter NonStem: 1 \n",
      " lost: 75 0.9868421052631579\n",
      "Number of Plots 0: []\n",
      "========================== At least 5 questions solved: \n",
      "Skill: 18\n",
      "All: 307; filter Stem: 70; filter NonStem: 148 \n",
      " lost: 89 0.2899022801302932\n"
     ]
    },
    {
     "data": {
      "image/png": "[encoded data removed]",
      "text/plain": [
       "<matplotlib.figure.Figure at 0x123eb3978>"
      ]
     },
     "metadata": {},
     "output_type": "display_data"
    },
    {
     "data": {
      "image/png": "[encoded data removed]",
      "text/plain": [
       "<matplotlib.figure.Figure at 0x11bf72f60>"
      ]
     },
     "metadata": {},
     "output_type": "display_data"
    },
    {
     "name": "stdout",
     "output_type": "stream",
     "text": [
      "========================== At least 7 questions solved: \n",
      "Skill: 18\n",
      "All: 307; filter Stem: 60; filter NonStem: 126 \n",
      " lost: 121 0.3941368078175896\n"
     ]
    },
    {
     "data": {
      "image/png": "[encoded data removed]",
      "text/plain": [
       "<matplotlib.figure.Figure at 0x124138cc0>"
      ]
     },
     "metadata": {},
     "output_type": "display_data"
    },
    {
     "data": {
      "image/png": "[encoded data removed]",
      "text/plain": [
       "<matplotlib.figure.Figure at 0x129abd828>"
      ]
     },
     "metadata": {},
     "output_type": "display_data"
    },
    {
     "name": "stdout",
     "output_type": "stream",
     "text": [
      "========================== At least 10 questions solved: \n",
      "Skill: 18\n",
      "All: 307; filter Stem: 48; filter NonStem: 103 \n",
      " lost: 156 0.50814332247557\n"
     ]
    },
    {
     "data": {
      "image/png": "[encoded data removed]",
      "text/plain": [
       "<matplotlib.figure.Figure at 0x12a3f64e0>"
      ]
     },
     "metadata": {},
     "output_type": "display_data"
    },
    {
     "data": {
      "image/png": "[encoded data removed]",
      "text/plain": [
       "<matplotlib.figure.Figure at 0x12417d6a0>"
      ]
     },
     "metadata": {},
     "output_type": "display_data"
    },
    {
     "name": "stdout",
     "output_type": "stream",
     "text": [
      "========================== At least 15 questions solved: \n",
      "Skill: 18\n",
      "All: 307; filter Stem: 39; filter NonStem: 80 \n",
      " lost: 188 0.6123778501628665\n"
     ]
    },
    {
     "data": {
      "image/png": "[encoded data removed]",
      "text/plain": [
       "<matplotlib.figure.Figure at 0x123bcfe80>"
      ]
     },
     "metadata": {},
     "output_type": "display_data"
    },
    {
     "data": {
      "image/png": "[encoded data removed]",
      "text/plain": [
       "<matplotlib.figure.Figure at 0x10d6bf1d0>"
      ]
     },
     "metadata": {},
     "output_type": "display_data"
    },
    {
     "name": "stdout",
     "output_type": "stream",
     "text": [
      "========================== At least 25 questions solved: \n",
      "Skill: 18\n",
      "All: 307; filter Stem: 19; filter NonStem: 55 \n",
      " lost: 233 0.758957654723127\n"
     ]
    },
    {
     "data": {
      "image/png": "[encoded data removed]",
      "text/plain": [
       "<matplotlib.figure.Figure at 0x123bcfdd8>"
      ]
     },
     "metadata": {},
     "output_type": "display_data"
    },
    {
     "data": {
      "image/png": "[encoded data removed]",
      "text/plain": [
       "<matplotlib.figure.Figure at 0x12238fcf8>"
      ]
     },
     "metadata": {},
     "output_type": "display_data"
    },
    {
     "name": "stdout",
     "output_type": "stream",
     "text": [
      "Number of Plots 1: [18]\n",
      "========================== At least 5 questions solved: \n",
      "Skill: 32\n",
      "All: 129; filter Stem: 29; filter NonStem: 79 \n",
      " lost: 21 0.16279069767441862\n"
     ]
    },
    {
     "data": {
      "image/png": "[encoded data removed]",
      "text/plain": [
       "<matplotlib.figure.Figure at 0x123bcf400>"
      ]
     },
     "metadata": {},
     "output_type": "display_data"
    },
    {
     "data": {
      "image/png": "[encoded data removed]",
      "text/plain": [
       "<matplotlib.figure.Figure at 0x119571668>"
      ]
     },
     "metadata": {},
     "output_type": "display_data"
    },
    {
     "name": "stdout",
     "output_type": "stream",
     "text": [
      "========================== At least 7 questions solved: \n",
      "Skill: 32\n",
      "All: 129; filter Stem: 28; filter NonStem: 72 \n",
      " lost: 29 0.2248062015503876\n"
     ]
    },
    {
     "data": {
      "image/png": "[encoded data removed]",
      "text/plain": [
       "<matplotlib.figure.Figure at 0x123716b70>"
      ]
     },
     "metadata": {},
     "output_type": "display_data"
    },
    {
     "data": {
      "image/png": "[encoded data removed]",
      "text/plain": [
       "<matplotlib.figure.Figure at 0x123324940>"
      ]
     },
     "metadata": {},
     "output_type": "display_data"
    },
    {
     "name": "stdout",
     "output_type": "stream",
     "text": [
      "========================== At least 10 questions solved: \n",
      "Skill: 32\n",
      "All: 129; filter Stem: 26; filter NonStem: 67 \n",
      " lost: 36 0.27906976744186046\n"
     ]
    },
    {
     "data": {
      "image/png": "[encoded data removed]",
      "text/plain": [
       "<matplotlib.figure.Figure at 0x119577518>"
      ]
     },
     "metadata": {},
     "output_type": "display_data"
    },
    {
     "data": {
      "image/png": "[encoded data removed]",
      "text/plain": [
       "<matplotlib.figure.Figure at 0x1224fcd68>"
      ]
     },
     "metadata": {},
     "output_type": "display_data"
    },
    {
     "name": "stdout",
     "output_type": "stream",
     "text": [
      "========================== At least 15 questions solved: \n",
      "Skill: 32\n",
      "All: 129; filter Stem: 22; filter NonStem: 55 \n",
      " lost: 52 0.40310077519379844\n"
     ]
    },
    {
     "data": {
      "image/png": "[encoded data removed]",
      "text/plain": [
       "<matplotlib.figure.Figure at 0x124174780>"
      ]
     },
     "metadata": {},
     "output_type": "display_data"
    },
    {
     "data": {
      "image/png": "[encoded data removed]",
      "text/plain": [
       "<matplotlib.figure.Figure at 0x123ef2390>"
      ]
     },
     "metadata": {},
     "output_type": "display_data"
    },
    {
     "name": "stdout",
     "output_type": "stream",
     "text": [
      "========================== At least 25 questions solved: \n",
      "Skill: 32\n",
      "All: 129; filter Stem: 16; filter NonStem: 35 \n",
      " lost: 78 0.6046511627906976\n"
     ]
    },
    {
     "data": {
      "image/png": "[encoded data removed]",
      "text/plain": [
       "<matplotlib.figure.Figure at 0x1232b4ef0>"
      ]
     },
     "metadata": {},
     "output_type": "display_data"
    },
    {
     "data": {
      "image/png": "[encoded data removed]",
      "text/plain": [
       "<matplotlib.figure.Figure at 0x10d6fde48>"
      ]
     },
     "metadata": {},
     "output_type": "display_data"
    },
    {
     "name": "stdout",
     "output_type": "stream",
     "text": [
      "Number of Plots 1: [32]\n",
      "========================== At least 5 questions solved: \n",
      "Skill: 39\n",
      "All: 87; filter Stem: 2; filter NonStem: 0 \n",
      " lost: 85 0.9770114942528736\n",
      "========================== At least 7 questions solved: \n",
      "Skill: 39\n",
      "All: 87; filter Stem: 0; filter NonStem: 0 \n",
      " lost: 87 1.0\n",
      "========================== At least 10 questions solved: \n",
      "Skill: 39\n",
      "All: 87; filter Stem: 0; filter NonStem: 0 \n",
      " lost: 87 1.0\n",
      "========================== At least 15 questions solved: \n",
      "Skill: 39\n",
      "All: 87; filter Stem: 0; filter NonStem: 0 \n",
      " lost: 87 1.0\n",
      "========================== At least 25 questions solved: \n",
      "Skill: 39\n",
      "All: 87; filter Stem: 0; filter NonStem: 0 \n",
      " lost: 87 1.0\n",
      "Number of Plots 0: []\n",
      "========================== At least 5 questions solved: \n",
      "Skill: 42\n",
      "All: 99; filter Stem: 4; filter NonStem: 8 \n",
      " lost: 87 0.8787878787878788\n"
     ]
    },
    {
     "data": {
      "image/png": "[encoded data removed]",
      "text/plain": [
       "<matplotlib.figure.Figure at 0x10d6ca588>"
      ]
     },
     "metadata": {},
     "output_type": "display_data"
    },
    {
     "data": {
      "image/png": "[encoded data removed]",
      "text/plain": [
       "<matplotlib.figure.Figure at 0x12a4e24a8>"
      ]
     },
     "metadata": {},
     "output_type": "display_data"
    },
    {
     "name": "stdout",
     "output_type": "stream",
     "text": [
      "========================== At least 7 questions solved: \n",
      "Skill: 42\n",
      "All: 99; filter Stem: 2; filter NonStem: 4 \n",
      " lost: 93 0.9393939393939394\n"
     ]
    },
    {
     "data": {
      "image/png": "[encoded data removed]",
      "text/plain": [
       "<matplotlib.figure.Figure at 0x123750a58>"
      ]
     },
     "metadata": {},
     "output_type": "display_data"
    },
    {
     "data": {
      "image/png": "[encoded data removed]",
      "text/plain": [
       "<matplotlib.figure.Figure at 0x119a5fef0>"
      ]
     },
     "metadata": {},
     "output_type": "display_data"
    },
    {
     "name": "stdout",
     "output_type": "stream",
     "text": [
      "========================== At least 10 questions solved: \n",
      "Skill: 42\n",
      "All: 99; filter Stem: 0; filter NonStem: 2 \n",
      " lost: 97 0.9797979797979798\n",
      "========================== At least 15 questions solved: \n",
      "Skill: 42\n",
      "All: 99; filter Stem: 0; filter NonStem: 0 \n",
      " lost: 99 1.0\n",
      "========================== At least 25 questions solved: \n",
      "Skill: 42\n",
      "All: 99; filter Stem: 0; filter NonStem: 0 \n",
      " lost: 99 1.0\n",
      "Number of Plots 0: []\n",
      "========================== At least 5 questions solved: \n",
      "Skill: 43\n",
      "All: 46; filter Stem: 9; filter NonStem: 29 \n",
      " lost: 8 0.17391304347826086\n"
     ]
    },
    {
     "data": {
      "image/png": "[encoded data removed]",
      "text/plain": [
       "<matplotlib.figure.Figure at 0x1236450b8>"
      ]
     },
     "metadata": {},
     "output_type": "display_data"
    },
    {
     "data": {
      "image/png": "[encoded data removed]",
      "text/plain": [
       "<matplotlib.figure.Figure at 0x10d69d710>"
      ]
     },
     "metadata": {},
     "output_type": "display_data"
    },
    {
     "name": "stdout",
     "output_type": "stream",
     "text": [
      "========================== At least 7 questions solved: \n",
      "Skill: 43\n",
      "All: 46; filter Stem: 9; filter NonStem: 28 \n",
      " lost: 9 0.1956521739130435\n"
     ]
    },
    {
     "data": {
      "image/png": "[encoded data removed]",
      "text/plain": [
       "<matplotlib.figure.Figure at 0x122fd7860>"
      ]
     },
     "metadata": {},
     "output_type": "display_data"
    },
    {
     "data": {
      "image/png": "[encoded data removed]",
      "text/plain": [
       "<matplotlib.figure.Figure at 0x123e91630>"
      ]
     },
     "metadata": {},
     "output_type": "display_data"
    },
    {
     "name": "stdout",
     "output_type": "stream",
     "text": [
      "========================== At least 10 questions solved: \n",
      "Skill: 43\n",
      "All: 46; filter Stem: 9; filter NonStem: 17 \n",
      " lost: 20 0.43478260869565216\n"
     ]
    },
    {
     "data": {
      "image/png": "[encoded data removed]",
      "text/plain": [
       "<matplotlib.figure.Figure at 0x122e84c18>"
      ]
     },
     "metadata": {},
     "output_type": "display_data"
    },
    {
     "data": {
      "image/png": "[encoded data removed]",
      "text/plain": [
       "<matplotlib.figure.Figure at 0x122ebc320>"
      ]
     },
     "metadata": {},
     "output_type": "display_data"
    },
    {
     "name": "stdout",
     "output_type": "stream",
     "text": [
      "========================== At least 15 questions solved: \n",
      "Skill: 43\n",
      "All: 46; filter Stem: 4; filter NonStem: 9 \n",
      " lost: 33 0.717391304347826\n"
     ]
    },
    {
     "data": {
      "image/png": "[encoded data removed]",
      "text/plain": [
       "<matplotlib.figure.Figure at 0x11bfaa048>"
      ]
     },
     "metadata": {},
     "output_type": "display_data"
    },
    {
     "data": {
      "image/png": "[encoded data removed]",
      "text/plain": [
       "<matplotlib.figure.Figure at 0x123495ba8>"
      ]
     },
     "metadata": {},
     "output_type": "display_data"
    },
    {
     "name": "stdout",
     "output_type": "stream",
     "text": [
      "========================== At least 25 questions solved: \n",
      "Skill: 43\n",
      "All: 46; filter Stem: 0; filter NonStem: 1 \n",
      " lost: 45 0.9782608695652174\n",
      "Number of Plots 0: []\n",
      "========================== At least 5 questions solved: \n",
      "Skill: 48\n",
      "All: 22; filter Stem: 0; filter NonStem: 0 \n",
      " lost: 22 1.0\n",
      "========================== At least 7 questions solved: \n",
      "Skill: 48\n",
      "All: 22; filter Stem: 0; filter NonStem: 0 \n",
      " lost: 22 1.0\n",
      "========================== At least 10 questions solved: \n",
      "Skill: 48\n",
      "All: 22; filter Stem: 0; filter NonStem: 0 \n",
      " lost: 22 1.0\n",
      "========================== At least 15 questions solved: \n",
      "Skill: 48\n",
      "All: 22; filter Stem: 0; filter NonStem: 0 \n",
      " lost: 22 1.0\n",
      "========================== At least 25 questions solved: \n",
      "Skill: 48\n",
      "All: 22; filter Stem: 0; filter NonStem: 0 \n",
      " lost: 22 1.0\n",
      "Number of Plots 0: []\n",
      "========================== At least 5 questions solved: \n",
      "Skill: 55\n",
      "All: 120; filter Stem: 18; filter NonStem: 44 \n",
      " lost: 58 0.48333333333333334\n"
     ]
    },
    {
     "data": {
      "image/png": "[encoded data removed]",
      "text/plain": [
       "<matplotlib.figure.Figure at 0x1235d3358>"
      ]
     },
     "metadata": {},
     "output_type": "display_data"
    },
    {
     "data": {
      "image/png": "[encoded data removed]",
      "text/plain": [
       "<matplotlib.figure.Figure at 0x129a4da90>"
      ]
     },
     "metadata": {},
     "output_type": "display_data"
    },
    {
     "name": "stdout",
     "output_type": "stream",
     "text": [
      "========================== At least 7 questions solved: \n",
      "Skill: 55\n",
      "All: 120; filter Stem: 15; filter NonStem: 38 \n",
      " lost: 67 0.5583333333333333\n"
     ]
    },
    {
     "data": {
      "image/png": "[encoded data removed]",
      "text/plain": [
       "<matplotlib.figure.Figure at 0x11c7e9748>"
      ]
     },
     "metadata": {},
     "output_type": "display_data"
    },
    {
     "data": {
      "image/png": "[encoded data removed]",
      "text/plain": [
       "<matplotlib.figure.Figure at 0x12b0c1cf8>"
      ]
     },
     "metadata": {},
     "output_type": "display_data"
    },
    {
     "name": "stdout",
     "output_type": "stream",
     "text": [
      "========================== At least 10 questions solved: \n",
      "Skill: 55\n",
      "All: 120; filter Stem: 5; filter NonStem: 31 \n",
      " lost: 84 0.7\n"
     ]
    },
    {
     "data": {
      "image/png": "[encoded data removed]",
      "text/plain": [
       "<matplotlib.figure.Figure at 0x10bcc8c50>"
      ]
     },
     "metadata": {},
     "output_type": "display_data"
    },
    {
     "data": {
      "image/png": "[encoded data removed]",
      "text/plain": [
       "<matplotlib.figure.Figure at 0x122afe470>"
      ]
     },
     "metadata": {},
     "output_type": "display_data"
    },
    {
     "name": "stdout",
     "output_type": "stream",
     "text": [
      "========================== At least 15 questions solved: \n",
      "Skill: 55\n",
      "All: 120; filter Stem: 5; filter NonStem: 16 \n",
      " lost: 99 0.825\n"
     ]
    },
    {
     "data": {
      "image/png": "[encoded data removed]",
      "text/plain": [
       "<matplotlib.figure.Figure at 0x122aa9588>"
      ]
     },
     "metadata": {},
     "output_type": "display_data"
    },
    {
     "data": {
      "image/png": "[encoded data removed]",
      "text/plain": [
       "<matplotlib.figure.Figure at 0x10b838cc0>"
      ]
     },
     "metadata": {},
     "output_type": "display_data"
    },
    {
     "name": "stdout",
     "output_type": "stream",
     "text": [
      "========================== At least 25 questions solved: \n",
      "Skill: 55\n",
      "All: 120; filter Stem: 3; filter NonStem: 2 \n",
      " lost: 115 0.9583333333333334\n"
     ]
    },
    {
     "data": {
      "image/png": "[encoded data removed]",
      "text/plain": [
       "<matplotlib.figure.Figure at 0x122afe7b8>"
      ]
     },
     "metadata": {},
     "output_type": "display_data"
    },
    {
     "data": {
      "image/png": "[encoded data removed]",
      "text/plain": [
       "<matplotlib.figure.Figure at 0x122f2e0f0>"
      ]
     },
     "metadata": {},
     "output_type": "display_data"
    },
    {
     "name": "stdout",
     "output_type": "stream",
     "text": [
      "Number of Plots 1: [55]\n",
      "========================== At least 5 questions solved: \n",
      "Skill: 71\n",
      "All: 18; filter Stem: 1; filter NonStem: 0 \n",
      " lost: 17 0.9444444444444444\n",
      "========================== At least 7 questions solved: \n",
      "Skill: 71\n",
      "All: 18; filter Stem: 0; filter NonStem: 0 \n",
      " lost: 18 1.0\n",
      "========================== At least 10 questions solved: \n",
      "Skill: 71\n",
      "All: 18; filter Stem: 0; filter NonStem: 0 \n",
      " lost: 18 1.0\n",
      "========================== At least 15 questions solved: \n",
      "Skill: 71\n",
      "All: 18; filter Stem: 0; filter NonStem: 0 \n",
      " lost: 18 1.0\n",
      "========================== At least 25 questions solved: \n",
      "Skill: 71\n",
      "All: 18; filter Stem: 0; filter NonStem: 0 \n",
      " lost: 18 1.0\n",
      "Number of Plots 0: []\n"
     ]
    }
   ],
   "source": [
    "for i in top_contribution_skills:\n",
    "    for question_threshold in [5, 7, 10, 15, 25]:\n",
    "        print(\"========================== At least {} questions solved: \".format(question_threshold))\n",
    "        student_accuracy_with_stem_above_quantity_threshold = student_accuracy_with_stem[student_accuracy_with_stem.total > question_threshold]\n",
    "        number_of_contributors_left = []\n",
    "\n",
    "        stem_table_filtered_for_box_plot = student_accuracy_with_stem_above_quantity_threshold[(student_accuracy_with_stem_above_quantity_threshold['skill']==i) & (student_accuracy_with_stem['isstem']==1)]\n",
    "        nonstem_table_filtered_for_box_plot = student_accuracy_with_stem_above_quantity_threshold[(student_accuracy_with_stem_above_quantity_threshold['skill']==i) & (student_accuracy_with_stem['isstem']==0)]\n",
    "        x = student_accuracy_with_stem[(student_accuracy_with_stem['skill']==i)].shape[0] - stem_table_filtered_for_box_plot.shape[0] - nonstem_table_filtered_for_box_plot.shape[0]\n",
    "        y = x / student_accuracy_with_stem[(student_accuracy_with_stem['skill']==i)].shape[0]\n",
    "        print(\"Skill: {}\".format(i))\n",
    "        print(\"All: {}; filter Stem: {}; filter NonStem: {} \\n lost: {} {}\".format(\n",
    "            student_accuracy_with_stem[(student_accuracy_with_stem['skill']==i)].shape[0], \n",
    "            stem_table_filtered_for_box_plot.shape[0], \n",
    "            nonstem_table_filtered_for_box_plot.shape[0], x, y))\n",
    "        if stem_table_filtered_for_box_plot.shape[0] == 0 or nonstem_table_filtered_for_box_plot.shape[0] == 0:\n",
    "            continue\n",
    "        \n",
    "        number_of_contributors_left.append(i)\n",
    "        plt.figure(figsize=(12, 2))\n",
    "        plt.xlim(xmax=1, xmin=0)\n",
    "        sns.boxplot(stem_table_filtered_for_box_plot.accuracy), plt.title(\"STEM\"), plt.show()\n",
    "\n",
    "        plt.figure(figsize=(12, 2))\n",
    "        plt.xlim(xmax=1, xmin=0)\n",
    "        sns.boxplot(nonstem_table_filtered_for_box_plot.accuracy), plt.title(\"NONSTEM\"), plt.show()\n",
    "    print(\"Number of Plots {}: {}\".format(len(number_of_contributors_left), number_of_contributors_left))"
   ]
  },
  {
   "cell_type": "code",
   "execution_count": 79,
   "metadata": {
    "collapsed": true
   },
   "outputs": [],
   "source": [
    "# skill 7 - 5+\n",
    "# 18 - 10+ or 25\n",
    "# 32 - 5, 7+, 10\n",
    "# 43 - 10+\n",
    "# 55 - 5+\n",
    "\n",
    "# Look at how many rows are lost"
   ]
  },
  {
   "cell_type": "markdown",
   "metadata": {},
   "source": [
    "### Compare different quantity threshold correlation"
   ]
  },
  {
   "cell_type": "code",
   "execution_count": 234,
   "metadata": {
    "collapsed": true
   },
   "outputs": [],
   "source": [
    "from sklearn.neural_network import MLPClassifier\n",
    "def extract_feature(row):\n",
    "    if row.accuracy > decision_boundary:\n",
    "        return 1\n",
    "    \n",
    "def test_svm(df):\n",
    "    train, test = train_test_split(df, test_size=0.2)\n",
    "    train_X, train_y = train.iloc[:, 1:], train.iloc[:, 0]\n",
    "    test_X, test_y = test.iloc[:, 1:], test.iloc[:, 0]\n",
    "    #w = inv(train_X.T.dot(train_X)).dot(train_X).dot(train_y)\n",
    "    train_X.shape, train_y.shape, test_X.shape, test_y.shape\n",
    "    clf = SVC()\n",
    "    model = clf.fit(train_X, train_y)\n",
    "    prediction = model.predict(test_X)\n",
    "    prediction\n",
    "    comp = prediction == test_y\n",
    "    return (sum(comp)/len(comp))\n",
    "\n",
    "def test_mlp(df):\n",
    "    train, test = train_test_split(df, test_size=0.2)\n",
    "    train_X, train_y = train.iloc[:, 1:], train.iloc[:, 0]\n",
    "    test_X, test_y = test.iloc[:, 1:], test.iloc[:, 0]\n",
    "    #w = inv(train_X.T.dot(train_X)).dot(train_X).dot(train_y)\n",
    "    train_X.shape, train_y.shape, test_X.shape, test_y.shape\n",
    "    clf = MLPClassifier()\n",
    "    model = clf.fit(train_X, train_y)\n",
    "    prediction = model.predict(test_X)\n",
    "    prediction\n",
    "    comp = prediction == test_y\n",
    "    return (sum(comp)/len(comp))"
   ]
  },
  {
   "cell_type": "code",
   "execution_count": 233,
   "metadata": {
    "collapsed": false
   },
   "outputs": [
    {
     "name": "stdout",
     "output_type": "stream",
     "text": [
      "Start 2018-02-15 00:27:42.018663\n",
      "\n",
      "SKILL: 7\n",
      "++++++++++++ skill: 7, least questions: 5\n"
     ]
    },
    {
     "name": "stderr",
     "output_type": "stream",
     "text": [
      "/Library/Frameworks/Python.framework/Versions/3.5/lib/python3.5/site-packages/ipykernel/__main__.py:13: SettingWithCopyWarning: \n",
      "A value is trying to be set on a copy of a slice from a DataFrame.\n",
      "Try using .loc[row_indexer,col_indexer] = value instead\n",
      "\n",
      "See the caveats in the documentation: http://pandas.pydata.org/pandas-docs/stable/indexing.html#indexing-view-versus-copy\n"
     ]
    },
    {
     "name": "stdout",
     "output_type": "stream",
     "text": [
      "==============accuracy_s_7_q_5_db_0.2\n",
      "average prediction for 10 times 0.748510638298\n",
      "2018-02-15 00:27:42.766163\n",
      "==============accuracy_s_7_q_5_db_0.3\n",
      "average prediction for 10 times 0.75085106383\n",
      "2018-02-15 00:27:43.539650\n",
      "==============accuracy_s_7_q_5_db_0.4\n",
      "average prediction for 10 times 0.743617021277\n",
      "2018-02-15 00:27:44.237206\n",
      "==============accuracy_s_7_q_5_db_0.5\n",
      "average prediction for 10 times 0.738936170213\n",
      "2018-02-15 00:27:44.915922\n",
      "==============accuracy_s_7_q_5_db_0.6\n",
      "average prediction for 10 times 0.746595744681\n",
      "2018-02-15 00:27:45.590469\n",
      "5 5\n",
      "---MAX--- 0.3 0.75085106383\n",
      "\n",
      "++++++++++++ skill: 7, least questions: 7\n",
      "==============accuracy_s_7_q_7_db_0.2\n",
      "average prediction for 10 times 0.748510638298\n",
      "2018-02-15 00:27:46.256457\n",
      "==============accuracy_s_7_q_7_db_0.3\n",
      "average prediction for 10 times 0.740425531915\n",
      "2018-02-15 00:27:46.925872\n",
      "==============accuracy_s_7_q_7_db_0.4\n",
      "average prediction for 10 times 0.748085106383\n",
      "2018-02-15 00:27:47.528406\n",
      "==============accuracy_s_7_q_7_db_0.5\n",
      "average prediction for 10 times 0.741276595745\n",
      "2018-02-15 00:27:48.208080\n",
      "==============accuracy_s_7_q_7_db_0.6\n",
      "average prediction for 10 times 0.74914893617\n",
      "2018-02-15 00:27:48.865407\n",
      "5 5\n",
      "---MAX--- 0.6 0.74914893617\n",
      "\n",
      "++++++++++++ skill: 7, least questions: 10\n",
      "==============accuracy_s_7_q_10_db_0.2\n",
      "average prediction for 10 times 0.752553191489\n",
      "2018-02-15 00:27:49.517195\n",
      "==============accuracy_s_7_q_10_db_0.3\n",
      "average prediction for 10 times 0.736170212766\n",
      "2018-02-15 00:27:50.162256\n",
      "==============accuracy_s_7_q_10_db_0.4\n",
      "average prediction for 10 times 0.757659574468\n",
      "2018-02-15 00:27:50.887620\n",
      "==============accuracy_s_7_q_10_db_0.5\n",
      "average prediction for 10 times 0.755744680851\n",
      "2018-02-15 00:27:51.630236\n",
      "==============accuracy_s_7_q_10_db_0.6\n",
      "average prediction for 10 times 0.750425531915\n",
      "2018-02-15 00:27:52.250703\n",
      "5 5\n",
      "---MAX--- 0.4 0.757659574468\n",
      "\n",
      "++++++++++++ skill: 7, least questions: 15\n",
      "==============accuracy_s_7_q_15_db_0.2\n",
      "average prediction for 10 times 0.758510638298\n",
      "2018-02-15 00:27:53.036551\n",
      "==============accuracy_s_7_q_15_db_0.3\n",
      "average prediction for 10 times 0.743191489362\n",
      "2018-02-15 00:27:53.760550\n",
      "==============accuracy_s_7_q_15_db_0.4\n",
      "average prediction for 10 times 0.747872340426\n",
      "2018-02-15 00:27:54.418848\n",
      "==============accuracy_s_7_q_15_db_0.5\n",
      "average prediction for 10 times 0.742340425532\n",
      "2018-02-15 00:27:55.127236\n",
      "==============accuracy_s_7_q_15_db_0.6\n",
      "average prediction for 10 times 0.745744680851\n",
      "2018-02-15 00:27:55.982137\n",
      "5 5\n",
      "---MAX--- 0.2 0.758510638298\n",
      "\n",
      "++++++++++++ skill: 7, least questions: 25\n",
      "==============accuracy_s_7_q_25_db_0.2\n",
      "average prediction for 10 times 0.75085106383\n",
      "2018-02-15 00:27:56.613627\n",
      "==============accuracy_s_7_q_25_db_0.3\n",
      "average prediction for 10 times 0.755319148936\n",
      "2018-02-15 00:27:57.233776\n",
      "==============accuracy_s_7_q_25_db_0.4\n",
      "average prediction for 10 times 0.745106382979\n",
      "2018-02-15 00:27:57.843348\n",
      "==============accuracy_s_7_q_25_db_0.5\n",
      "average prediction for 10 times 0.748936170213\n",
      "2018-02-15 00:27:58.486731\n",
      "==============accuracy_s_7_q_25_db_0.6\n",
      "average prediction for 10 times 0.745106382979\n",
      "2018-02-15 00:27:59.156306\n",
      "5 5\n",
      "---MAX--- 0.3 0.755319148936\n",
      "\n",
      "\n",
      "SKILL: 18\n",
      "++++++++++++ skill: 18, least questions: 5\n",
      "==============accuracy_s_18_q_5_db_0.2\n",
      "average prediction for 10 times 0.754042553191\n",
      "2018-02-15 00:27:59.837426\n",
      "==============accuracy_s_18_q_5_db_0.3\n",
      "average prediction for 10 times 0.755106382979\n",
      "2018-02-15 00:28:00.505974\n",
      "==============accuracy_s_18_q_5_db_0.4\n",
      "average prediction for 10 times 0.754893617021\n",
      "2018-02-15 00:28:01.258511\n",
      "==============accuracy_s_18_q_5_db_0.5\n",
      "average prediction for 10 times 0.759361702128\n",
      "2018-02-15 00:28:01.971851\n",
      "==============accuracy_s_18_q_5_db_0.6\n",
      "average prediction for 10 times 0.743404255319\n",
      "2018-02-15 00:28:02.632389\n",
      "5 5\n",
      "---MAX--- 0.5 0.759361702128\n",
      "\n",
      "++++++++++++ skill: 18, least questions: 7\n",
      "==============accuracy_s_18_q_7_db_0.2\n",
      "average prediction for 10 times 0.754042553191\n",
      "2018-02-15 00:28:03.425669\n",
      "==============accuracy_s_18_q_7_db_0.3\n",
      "average prediction for 10 times 0.756382978723\n",
      "2018-02-15 00:28:04.160390\n",
      "==============accuracy_s_18_q_7_db_0.4\n",
      "average prediction for 10 times 0.745106382979\n",
      "2018-02-15 00:28:04.793031\n",
      "==============accuracy_s_18_q_7_db_0.5\n",
      "average prediction for 10 times 0.751276595745\n",
      "2018-02-15 00:28:05.846365\n",
      "==============accuracy_s_18_q_7_db_0.6\n",
      "average prediction for 10 times 0.745744680851\n",
      "2018-02-15 00:28:06.622626\n",
      "5 5\n",
      "---MAX--- 0.3 0.756382978723\n",
      "\n",
      "++++++++++++ skill: 18, least questions: 10\n",
      "==============accuracy_s_18_q_10_db_0.2\n",
      "average prediction for 10 times 0.751063829787\n",
      "2018-02-15 00:28:07.552832\n",
      "==============accuracy_s_18_q_10_db_0.3\n",
      "average prediction for 10 times 0.746595744681\n",
      "2018-02-15 00:28:08.606622\n",
      "==============accuracy_s_18_q_10_db_0.4\n",
      "average prediction for 10 times 0.74829787234\n",
      "2018-02-15 00:28:09.625373\n",
      "==============accuracy_s_18_q_10_db_0.5\n",
      "average prediction for 10 times 0.742978723404\n",
      "2018-02-15 00:28:10.528167\n",
      "==============accuracy_s_18_q_10_db_0.6\n",
      "average prediction for 10 times 0.755531914894\n",
      "2018-02-15 00:28:11.277003\n",
      "5 5\n",
      "---MAX--- 0.6 0.755531914894\n",
      "\n",
      "++++++++++++ skill: 18, least questions: 15\n",
      "==============accuracy_s_18_q_15_db_0.2\n",
      "average prediction for 10 times 0.758085106383\n",
      "2018-02-15 00:28:12.194013\n",
      "==============accuracy_s_18_q_15_db_0.3\n",
      "average prediction for 10 times 0.73\n",
      "2018-02-15 00:28:13.071311\n",
      "==============accuracy_s_18_q_15_db_0.4\n",
      "average prediction for 10 times 0.737872340426\n",
      "2018-02-15 00:28:14.192033\n",
      "==============accuracy_s_18_q_15_db_0.5\n",
      "average prediction for 10 times 0.745106382979\n",
      "2018-02-15 00:28:15.261229\n",
      "==============accuracy_s_18_q_15_db_0.6\n",
      "average prediction for 10 times 0.76\n",
      "2018-02-15 00:28:15.979505\n",
      "5 5\n",
      "---MAX--- 0.6 0.76\n",
      "\n",
      "++++++++++++ skill: 18, least questions: 25\n",
      "==============accuracy_s_18_q_25_db_0.2\n",
      "average prediction for 10 times 0.735531914894\n",
      "2018-02-15 00:28:16.956539\n",
      "==============accuracy_s_18_q_25_db_0.3\n",
      "average prediction for 10 times 0.74085106383\n",
      "2018-02-15 00:28:17.950812\n",
      "==============accuracy_s_18_q_25_db_0.4\n",
      "average prediction for 10 times 0.748510638298\n",
      "2018-02-15 00:28:18.751851\n",
      "==============accuracy_s_18_q_25_db_0.5\n",
      "average prediction for 10 times 0.75085106383\n",
      "2018-02-15 00:28:19.473734\n",
      "==============accuracy_s_18_q_25_db_0.6\n",
      "average prediction for 10 times 0.747234042553\n",
      "2018-02-15 00:28:20.108302\n",
      "5 5\n",
      "---MAX--- 0.5 0.75085106383\n",
      "\n",
      "\n",
      "SKILL: 32\n",
      "++++++++++++ skill: 32, least questions: 5\n",
      "==============accuracy_s_32_q_5_db_0.2\n",
      "average prediction for 10 times 0.746382978723\n",
      "2018-02-15 00:28:21.011876\n",
      "==============accuracy_s_32_q_5_db_0.3\n",
      "average prediction for 10 times 0.752978723404\n",
      "2018-02-15 00:28:22.164647\n",
      "==============accuracy_s_32_q_5_db_0.4\n",
      "average prediction for 10 times 0.736595744681\n",
      "2018-02-15 00:28:23.169702\n",
      "==============accuracy_s_32_q_5_db_0.5\n",
      "average prediction for 10 times 0.751276595745\n",
      "2018-02-15 00:28:24.163079\n",
      "==============accuracy_s_32_q_5_db_0.6\n",
      "average prediction for 10 times 0.750212765957\n",
      "2018-02-15 00:28:25.206563\n",
      "5 5\n",
      "---MAX--- 0.3 0.752978723404\n",
      "\n",
      "++++++++++++ skill: 32, least questions: 7\n",
      "==============accuracy_s_32_q_7_db_0.2\n",
      "average prediction for 10 times 0.746808510638\n",
      "2018-02-15 00:28:26.253221\n",
      "==============accuracy_s_32_q_7_db_0.3\n",
      "average prediction for 10 times 0.755106382979\n",
      "2018-02-15 00:28:27.132946\n",
      "==============accuracy_s_32_q_7_db_0.4\n",
      "average prediction for 10 times 0.744042553191\n",
      "2018-02-15 00:28:27.831232\n",
      "==============accuracy_s_32_q_7_db_0.5\n",
      "average prediction for 10 times 0.742978723404\n",
      "2018-02-15 00:28:28.542450\n",
      "==============accuracy_s_32_q_7_db_0.6\n",
      "average prediction for 10 times 0.745106382979\n",
      "2018-02-15 00:28:29.434753\n",
      "5 5\n",
      "---MAX--- 0.3 0.755106382979\n",
      "\n",
      "++++++++++++ skill: 32, least questions: 10\n",
      "==============accuracy_s_32_q_10_db_0.2\n",
      "average prediction for 10 times 0.75085106383\n",
      "2018-02-15 00:28:30.124371\n",
      "==============accuracy_s_32_q_10_db_0.3\n",
      "average prediction for 10 times 0.753404255319\n",
      "2018-02-15 00:28:30.776057\n",
      "==============accuracy_s_32_q_10_db_0.4\n",
      "average prediction for 10 times 0.744042553191\n",
      "2018-02-15 00:28:31.386041\n",
      "==============accuracy_s_32_q_10_db_0.5\n",
      "average prediction for 10 times 0.747234042553\n",
      "2018-02-15 00:28:31.995666\n",
      "==============accuracy_s_32_q_10_db_0.6\n",
      "average prediction for 10 times 0.745319148936\n",
      "2018-02-15 00:28:32.597143\n",
      "5 5\n",
      "---MAX--- 0.3 0.753404255319\n",
      "\n",
      "++++++++++++ skill: 32, least questions: 15\n",
      "==============accuracy_s_32_q_15_db_0.2\n",
      "average prediction for 10 times 0.754042553191\n",
      "2018-02-15 00:28:33.249641\n",
      "==============accuracy_s_32_q_15_db_0.3\n",
      "average prediction for 10 times 0.752127659574\n",
      "2018-02-15 00:28:33.889474\n",
      "==============accuracy_s_32_q_15_db_0.4\n",
      "average prediction for 10 times 0.750212765957\n",
      "2018-02-15 00:28:34.492634\n",
      "==============accuracy_s_32_q_15_db_0.5\n",
      "average prediction for 10 times 0.744255319149\n",
      "2018-02-15 00:28:35.154586\n",
      "==============accuracy_s_32_q_15_db_0.6\n",
      "average prediction for 10 times 0.743191489362\n",
      "2018-02-15 00:28:35.772950\n",
      "5 5\n",
      "---MAX--- 0.2 0.754042553191\n",
      "\n",
      "++++++++++++ skill: 32, least questions: 25\n",
      "==============accuracy_s_32_q_25_db_0.2\n",
      "average prediction for 10 times 0.752340425532\n",
      "2018-02-15 00:28:36.409025\n",
      "==============accuracy_s_32_q_25_db_0.3\n",
      "average prediction for 10 times 0.755319148936\n",
      "2018-02-15 00:28:37.009166\n",
      "==============accuracy_s_32_q_25_db_0.4\n",
      "average prediction for 10 times 0.753191489362\n",
      "2018-02-15 00:28:37.631729\n",
      "==============accuracy_s_32_q_25_db_0.5\n",
      "average prediction for 10 times 0.753404255319\n",
      "2018-02-15 00:28:38.224358\n",
      "==============accuracy_s_32_q_25_db_0.6\n",
      "average prediction for 10 times 0.738723404255\n",
      "2018-02-15 00:28:38.835341\n",
      "5 5\n",
      "---MAX--- 0.3 0.755319148936\n",
      "\n",
      "\n",
      "SKILL: 43\n",
      "++++++++++++ skill: 43, least questions: 5\n",
      "==============accuracy_s_43_q_5_db_0.2\n",
      "average prediction for 10 times 0.750638297872\n",
      "2018-02-15 00:28:39.542575\n",
      "==============accuracy_s_43_q_5_db_0.3\n",
      "average prediction for 10 times 0.750212765957\n",
      "2018-02-15 00:28:40.237570\n",
      "==============accuracy_s_43_q_5_db_0.4\n",
      "average prediction for 10 times 0.75\n",
      "2018-02-15 00:28:40.855021\n",
      "==============accuracy_s_43_q_5_db_0.5\n",
      "average prediction for 10 times 0.749787234043\n",
      "2018-02-15 00:28:41.466008\n",
      "==============accuracy_s_43_q_5_db_0.6\n",
      "average prediction for 10 times 0.745957446809\n",
      "2018-02-15 00:28:42.052081\n",
      "5 5\n",
      "---MAX--- 0.2 0.750638297872\n",
      "\n",
      "++++++++++++ skill: 43, least questions: 7\n",
      "==============accuracy_s_43_q_7_db_0.2\n",
      "average prediction for 10 times 0.738936170213\n",
      "2018-02-15 00:28:42.675759\n",
      "==============accuracy_s_43_q_7_db_0.3\n",
      "average prediction for 10 times 0.738723404255\n",
      "2018-02-15 00:28:43.298509\n",
      "==============accuracy_s_43_q_7_db_0.4\n",
      "average prediction for 10 times 0.76085106383\n",
      "2018-02-15 00:28:43.910725\n",
      "==============accuracy_s_43_q_7_db_0.5\n",
      "average prediction for 10 times 0.755106382979\n",
      "2018-02-15 00:28:44.527124\n",
      "==============accuracy_s_43_q_7_db_0.6\n",
      "average prediction for 10 times 0.745531914894\n",
      "2018-02-15 00:28:45.145226\n",
      "5 5\n",
      "---MAX--- 0.4 0.76085106383\n",
      "\n",
      "++++++++++++ skill: 43, least questions: 10\n",
      "==============accuracy_s_43_q_10_db_0.2\n",
      "average prediction for 10 times 0.74\n",
      "2018-02-15 00:28:45.777084\n",
      "==============accuracy_s_43_q_10_db_0.3\n",
      "average prediction for 10 times 0.762340425532\n",
      "2018-02-15 00:28:46.460813\n",
      "==============accuracy_s_43_q_10_db_0.4\n",
      "average prediction for 10 times 0.741063829787\n",
      "2018-02-15 00:28:47.076136\n",
      "==============accuracy_s_43_q_10_db_0.5\n",
      "average prediction for 10 times 0.75085106383\n",
      "2018-02-15 00:28:47.660406\n",
      "==============accuracy_s_43_q_10_db_0.6\n",
      "average prediction for 10 times 0.740425531915\n",
      "2018-02-15 00:28:48.228063\n",
      "5 5\n",
      "---MAX--- 0.3 0.762340425532\n",
      "\n",
      "++++++++++++ skill: 43, least questions: 15\n",
      "==============accuracy_s_43_q_15_db_0.2\n",
      "average prediction for 10 times 0.752765957447\n",
      "2018-02-15 00:28:48.841955\n",
      "==============accuracy_s_43_q_15_db_0.3\n",
      "average prediction for 10 times 0.747872340426\n",
      "2018-02-15 00:28:49.468146\n",
      "==============accuracy_s_43_q_15_db_0.4\n",
      "average prediction for 10 times 0.741489361702\n",
      "2018-02-15 00:28:50.110396\n",
      "==============accuracy_s_43_q_15_db_0.5\n",
      "average prediction for 10 times 0.750212765957\n",
      "2018-02-15 00:28:50.720585\n",
      "==============accuracy_s_43_q_15_db_0.6\n",
      "average prediction for 10 times 0.753617021277\n",
      "2018-02-15 00:28:51.333131\n",
      "5 5\n",
      "---MAX--- 0.6 0.753617021277\n",
      "\n",
      "++++++++++++ skill: 43, least questions: 25\n",
      "==============accuracy_s_43_q_25_db_0.2\n",
      "average prediction for 10 times 0.753191489362\n",
      "2018-02-15 00:28:51.924294\n",
      "==============accuracy_s_43_q_25_db_0.3\n",
      "average prediction for 10 times 0.750212765957\n",
      "2018-02-15 00:28:52.518054\n",
      "==============accuracy_s_43_q_25_db_0.4\n",
      "average prediction for 10 times 0.746595744681\n",
      "2018-02-15 00:28:53.114326\n",
      "==============accuracy_s_43_q_25_db_0.5\n",
      "average prediction for 10 times 0.747872340426\n",
      "2018-02-15 00:28:53.718777\n",
      "==============accuracy_s_43_q_25_db_0.6\n",
      "average prediction for 10 times 0.750425531915\n",
      "2018-02-15 00:28:54.346535\n",
      "5 5\n",
      "---MAX--- 0.2 0.753191489362\n",
      "\n",
      "\n",
      "SKILL: 55\n",
      "++++++++++++ skill: 55, least questions: 5\n",
      "==============accuracy_s_55_q_5_db_0.2\n",
      "average prediction for 10 times 0.746382978723\n",
      "2018-02-15 00:28:54.985344\n",
      "==============accuracy_s_55_q_5_db_0.3\n",
      "average prediction for 10 times 0.748723404255\n",
      "2018-02-15 00:28:55.605412\n",
      "==============accuracy_s_55_q_5_db_0.4\n",
      "average prediction for 10 times 0.747872340426\n",
      "2018-02-15 00:28:56.246656\n",
      "==============accuracy_s_55_q_5_db_0.5\n",
      "average prediction for 10 times 0.737659574468\n",
      "2018-02-15 00:28:56.865766\n",
      "==============accuracy_s_55_q_5_db_0.6\n",
      "average prediction for 10 times 0.746170212766\n",
      "2018-02-15 00:28:57.486180\n",
      "5 5\n",
      "---MAX--- 0.3 0.748723404255\n",
      "\n",
      "++++++++++++ skill: 55, least questions: 7\n",
      "==============accuracy_s_55_q_7_db_0.2\n",
      "average prediction for 10 times 0.75085106383\n",
      "2018-02-15 00:28:58.098843\n",
      "==============accuracy_s_55_q_7_db_0.3\n",
      "average prediction for 10 times 0.745319148936\n",
      "2018-02-15 00:28:58.696891\n",
      "==============accuracy_s_55_q_7_db_0.4\n",
      "average prediction for 10 times 0.749361702128\n",
      "2018-02-15 00:28:59.300395\n",
      "==============accuracy_s_55_q_7_db_0.5\n",
      "average prediction for 10 times 0.750212765957\n",
      "2018-02-15 00:28:59.967887\n",
      "==============accuracy_s_55_q_7_db_0.6\n",
      "average prediction for 10 times 0.74914893617\n",
      "2018-02-15 00:29:00.590018\n",
      "5 5\n",
      "---MAX--- 0.2 0.75085106383\n",
      "\n",
      "++++++++++++ skill: 55, least questions: 10\n",
      "==============accuracy_s_55_q_10_db_0.2\n",
      "average prediction for 10 times 0.748723404255\n",
      "2018-02-15 00:29:01.212609\n",
      "==============accuracy_s_55_q_10_db_0.3\n",
      "average prediction for 10 times 0.751276595745\n",
      "2018-02-15 00:29:01.819309\n",
      "==============accuracy_s_55_q_10_db_0.4\n",
      "average prediction for 10 times 0.742978723404\n",
      "2018-02-15 00:29:02.450018\n",
      "==============accuracy_s_55_q_10_db_0.5\n",
      "average prediction for 10 times 0.752553191489\n",
      "2018-02-15 00:29:03.072205\n",
      "==============accuracy_s_55_q_10_db_0.6\n",
      "average prediction for 10 times 0.751914893617\n",
      "2018-02-15 00:29:03.667178\n",
      "5 5\n",
      "---MAX--- 0.5 0.752553191489\n",
      "\n",
      "++++++++++++ skill: 55, least questions: 15\n",
      "==============accuracy_s_55_q_15_db_0.2\n",
      "average prediction for 10 times 0.742553191489\n",
      "2018-02-15 00:29:04.281660\n",
      "==============accuracy_s_55_q_15_db_0.3\n",
      "average prediction for 10 times 0.752553191489\n",
      "2018-02-15 00:29:04.959763\n",
      "==============accuracy_s_55_q_15_db_0.4\n",
      "average prediction for 10 times 0.749787234043\n",
      "2018-02-15 00:29:05.589534\n",
      "==============accuracy_s_55_q_15_db_0.5\n",
      "average prediction for 10 times 0.742127659574\n",
      "2018-02-15 00:29:06.215359\n",
      "==============accuracy_s_55_q_15_db_0.6\n",
      "average prediction for 10 times 0.742978723404\n",
      "2018-02-15 00:29:06.807537\n",
      "5 5\n",
      "---MAX--- 0.3 0.752553191489\n",
      "\n",
      "++++++++++++ skill: 55, least questions: 25\n",
      "==============accuracy_s_55_q_25_db_0.2\n",
      "average prediction for 10 times 0.742127659574\n",
      "2018-02-15 00:29:07.438325\n",
      "==============accuracy_s_55_q_25_db_0.3\n",
      "average prediction for 10 times 0.751489361702\n",
      "2018-02-15 00:29:08.056396\n",
      "==============accuracy_s_55_q_25_db_0.4\n",
      "average prediction for 10 times 0.738723404255\n",
      "2018-02-15 00:29:08.660728\n",
      "==============accuracy_s_55_q_25_db_0.5\n",
      "average prediction for 10 times 0.751063829787\n",
      "2018-02-15 00:29:09.287179\n",
      "==============accuracy_s_55_q_25_db_0.6\n",
      "average prediction for 10 times 0.74085106383\n",
      "2018-02-15 00:29:09.884580\n",
      "5 5\n",
      "---MAX--- 0.3 0.751489361702\n",
      "\n"
     ]
    }
   ],
   "source": [
    "print('Start', datetime.datetime.now())\n",
    "\n",
    "for skill_no in [7, 18, 32, 43, 55]:\n",
    "    print('')\n",
    "    print(\"SKILL: {}\".format(skill_no))\n",
    "    for q_th in [5, 7, 10, 15, 25]:\n",
    "        print('++++++++++++ skill: {}, least questions: {}'.format(skill_no, q_th))\n",
    "        decision_boundary_acc = []\n",
    "        decision_boundaries = [0.2, 0.3, 0.4, 0.5, 0.6]\n",
    "        for decision_boundary in decision_boundaries:\n",
    "            skill_above_quantity = student_accuracy_with_stem[(student_accuracy_with_stem.skill==skill_no) & (student_accuracy_with_stem.total > q_th)]\n",
    "            col_name = 'accuracy_s_{}_q_{}_db_{}'.format(skill_no, q_th, decision_boundary)\n",
    "            skill_above_quantity[col_name] = skill_above_quantity.apply(extract_feature, axis=1)\n",
    "            final_ds = skill_above_quantity[['itest_id', col_name]]\n",
    "            final_ds = training[['itest_id', 'isstem']].merge(final_ds, on='itest_id', how='left')\n",
    "            final_ds = final_ds.drop_duplicates().fillna(0)\n",
    "\n",
    "            av = []\n",
    "            repeats = 50\n",
    "            for i in range(repeats):\n",
    "                av.append(test_svm(final_ds.iloc[:, 1:]))\n",
    "\n",
    "            mm = sum(av)/len(av)\n",
    "            decision_boundary_acc.append(mm)\n",
    "            print('=============={}'.format(col_name))\n",
    "            print(\"average prediction for 10 times\", mm)\n",
    "            print(datetime.datetime.now())\n",
    "#             plt.ylim(0.5, 1), \n",
    "#             plt.plot(av), plt.plot([mm for i in range(repeats)]),\n",
    "#             plt.show()\n",
    "        idx = decision_boundary_acc.index(max(decision_boundary_acc))\n",
    "        print(len(decision_boundaries), len(decision_boundary_acc))\n",
    "        print(\"---MAX---\", decision_boundaries[idx], decision_boundary_acc[idx])\n",
    "        print('')\n"
   ]
  },
  {
   "cell_type": "markdown",
   "metadata": {},
   "source": [
    "### All of the features give average result of 75%\n",
    "To make it less sensitive to questions I will test it with 7 questions threshold\n",
    "\n",
    "\n",
    "\n",
    "\n"
   ]
  },
  {
   "cell_type": "code",
   "execution_count": 280,
   "metadata": {
    "collapsed": false
   },
   "outputs": [
    {
     "name": "stdout",
     "output_type": "stream",
     "text": [
      "Start 2018-02-15 00:56:26.878655\n",
      "\n",
      "SKILL: 7\n",
      "++++++++++++ skill: 7, least questions: 5\n"
     ]
    },
    {
     "name": "stderr",
     "output_type": "stream",
     "text": [
      "/Library/Frameworks/Python.framework/Versions/3.5/lib/python3.5/site-packages/ipykernel/__main__.py:14: SettingWithCopyWarning: \n",
      "A value is trying to be set on a copy of a slice from a DataFrame.\n",
      "Try using .loc[row_indexer,col_indexer] = value instead\n",
      "\n",
      "See the caveats in the documentation: http://pandas.pydata.org/pandas-docs/stable/indexing.html#indexing-view-versus-copy\n"
     ]
    },
    {
     "name": "stdout",
     "output_type": "stream",
     "text": [
      "\n",
      "SKILL: 18\n",
      "++++++++++++ skill: 18, least questions: 5\n",
      "\n",
      "SKILL: 32\n",
      "++++++++++++ skill: 32, least questions: 5\n",
      "\n",
      "SKILL: 43\n",
      "++++++++++++ skill: 43, least questions: 5\n",
      "\n",
      "SKILL: 55\n",
      "++++++++++++ skill: 55, least questions: 5\n",
      "==============accuracy_s_55_q_5_db_0.5\n",
      "average prediction for 10 times 0.745957446809\n",
      "2018-02-15 00:56:29.824888\n",
      "5 1\n",
      "---MAX--- 0.2 0.745957446809\n",
      "\n"
     ]
    }
   ],
   "source": [
    "print('Start', datetime.datetime.now())\n",
    "\n",
    "final_ds = training[['itest_id', 'isstem']]\n",
    "\n",
    "# for skill_no, q_th, decision_boundary in ((7, 25, 0.3,), (18, 10, 0.2), (32, 10, 0.4), (43, 10, 0.5), (55, 15, 0.6)):\n",
    "for skill_no, q_th, decision_boundary in ((7, 5, 0.5,), (18, 5, 0.5), (32, 5, 0.5), (43, 5, 0.5), (55, 5, 0.5)):\n",
    "    print('')\n",
    "    print(\"SKILL: {}\".format(skill_no))\n",
    "    print('++++++++++++ skill: {}, least questions: {}'.format(skill_no, q_th))\n",
    "    decision_boundary_acc = []\n",
    "    decision_boundaries = [0.2, 0.3, 0.4, 0.5, 0.6]\n",
    "    skill_above_quantity = student_accuracy_with_stem[(student_accuracy_with_stem.skill==skill_no) & (student_accuracy_with_stem.total > q_th)]\n",
    "    col_name = 'accuracy_s_{}_q_{}_db_{}'.format(skill_no, q_th, decision_boundary)\n",
    "    skill_above_quantity[col_name] = skill_above_quantity.apply(extract_feature, axis=1)\n",
    "    tmp = skill_above_quantity[['itest_id', col_name]]\n",
    "    final_ds = final_ds.merge(tmp, on='itest_id', how='left')\n",
    "    final_ds = final_ds.drop_duplicates().fillna(0)\n",
    "\n",
    "av = []\n",
    "repeats = 50\n",
    "for i in range(repeats):\n",
    "    av.append(test_svm(final_ds.iloc[:, 1:]))\n",
    "\n",
    "mm = sum(av)/len(av)\n",
    "decision_boundary_acc.append(mm)\n",
    "print('=============={}'.format(col_name))\n",
    "print(\"average prediction for 10 times\", mm)\n",
    "print(datetime.datetime.now())\n",
    "#             plt.ylim(0.5, 1), \n",
    "#             plt.plot(av), plt.plot([mm for i in range(repeats)]),\n",
    "#             plt.show()\n",
    "idx = decision_boundary_acc.index(max(decision_boundary_acc))\n",
    "print(len(decision_boundaries), len(decision_boundary_acc))\n",
    "print(\"---MAX---\", decision_boundaries[idx], decision_boundary_acc[idx])\n",
    "print('')\n"
   ]
  },
  {
   "cell_type": "markdown",
   "metadata": {},
   "source": [
    "### Trying to combine all above features to one"
   ]
  },
  {
   "cell_type": "code",
   "execution_count": 284,
   "metadata": {
    "collapsed": false
   },
   "outputs": [
    {
     "name": "stdout",
     "output_type": "stream",
     "text": [
      "==============accuracy_s_55_q_5_db_0.5\n",
      "average prediction for 50 times 0.745106382979\n"
     ]
    }
   ],
   "source": [
    "\n",
    "# final_ds['combined'] = final_ds.apply()\n",
    "final_ds['combined'] = final_ds.iloc[:, 2:].sum(axis=1)\n",
    "final_ds1 = final_ds[['itest_id', 'isstem', 'combined']]\n",
    "\n",
    "av = []\n",
    "repeats = 50\n",
    "for i in range(repeats):\n",
    "    av.append(test_svm(final_ds1.iloc[:, 1:]))\n",
    "\n",
    "mm = sum(av)/len(av)\n",
    "decision_boundary_acc.append(mm)\n",
    "print('=============={}'.format(col_name))\n",
    "print(\"average prediction for 50 times\", mm)\n"
   ]
  },
  {
   "cell_type": "markdown",
   "metadata": {},
   "source": [
    "# Trying only accuracy with no skills  + MLP"
   ]
  },
  {
   "cell_type": "code",
   "execution_count": 266,
   "metadata": {
    "collapsed": false
   },
   "outputs": [
    {
     "name": "stderr",
     "output_type": "stream",
     "text": [
      "/Library/Frameworks/Python.framework/Versions/3.5/lib/python3.5/site-packages/ipykernel/__main__.py:4: SettingWithCopyWarning: \n",
      "A value is trying to be set on a copy of a slice from a DataFrame.\n",
      "Try using .loc[row_indexer,col_indexer] = value instead\n",
      "\n",
      "See the caveats in the documentation: http://pandas.pydata.org/pandas-docs/stable/indexing.html#indexing-view-versus-copy\n"
     ]
    },
    {
     "name": "stdout",
     "output_type": "stream",
     "text": [
      "==============accuracy_s_55_q_5_db_0.5\n",
      "average prediction for 10 times 0.749574468085\n",
      "2018-02-15 00:45:07.196622\n",
      "5 3\n",
      "---MAX--- 0.3 0.754042553191\n",
      "\n"
     ]
    }
   ],
   "source": [
    "# filtering for the necessary col\n",
    "tmp = actions[['itest_id','correct','actionid']]\n",
    "# covnverting sk# create a table of correctness by question (from actions_table to problems_table)ills into cat type\n",
    "tmp['total'] = tmp.actionid.apply(lambda x: 1)\n",
    "tmp = tmp.drop(['actionid'], axis=1)\n",
    "tmp.head()\n",
    "\n",
    "just_accuracy = tmp.groupby(['itest_id'], as_index=False).sum()\n",
    "just_accuracy['accuracy'] = just_accuracy.correct / just_accuracy.total\n",
    "just_accuracy = just_accuracy[['itest_id', 'accuracy']].head()\n",
    "just_accuracy = training[['itest_id', 'isstem']].merge(just_accuracy, on='itest_id', how='left')\n",
    "just_accuracy = just_accuracy.drop_duplicates().fillna(0)\n",
    "\n",
    "av = []\n",
    "repeats = 50\n",
    "for i in range(repeats):\n",
    "    av.append(test_mlp(just_accuracy.iloc[:, 1:]))\n",
    "\n",
    "mm = sum(av)/len(av)\n",
    "decision_boundary_acc.append(mm)\n",
    "print('=============={}'.format(col_name))\n",
    "print(\"average prediction for 10 times\", mm)\n",
    "print(datetime.datetime.now())\n",
    "#             plt.ylim(0.5, 1), \n",
    "#             plt.plot(av), plt.plot([mm for i in range(repeats)]),\n",
    "#             plt.show()\n",
    "idx = decision_boundary_acc.index(max(decision_boundary_acc))\n",
    "print(len(decision_boundaries), len(decision_boundary_acc))\n",
    "print(\"---MAX---\", decision_boundaries[idx], decision_boundary_acc[idx])\n",
    "print('')\n"
   ]
  },
  {
   "cell_type": "code",
   "execution_count": 268,
   "metadata": {
    "collapsed": false
   },
   "outputs": [
    {
     "data": {
      "text/html": [
       "<div>\n",
       "<table border=\"1\" class=\"dataframe\">\n",
       "  <thead>\n",
       "    <tr style=\"text-align: right;\">\n",
       "      <th></th>\n",
       "      <th>itest_id</th>\n",
       "      <th>isstem</th>\n",
       "      <th>accuracy_s_7_q_5_db_0.5</th>\n",
       "      <th>accuracy_s_18_q_5_db_0.5</th>\n",
       "      <th>accuracy_s_32_q_5_db_0.5</th>\n",
       "      <th>accuracy_s_43_q_5_db_0.5</th>\n",
       "      <th>accuracy_s_55_q_5_db_0.5</th>\n",
       "    </tr>\n",
       "  </thead>\n",
       "  <tbody>\n",
       "    <tr>\n",
       "      <th>0</th>\n",
       "      <td>9</td>\n",
       "      <td>1</td>\n",
       "      <td>0.0</td>\n",
       "      <td>0.0</td>\n",
       "      <td>0.0</td>\n",
       "      <td>0</td>\n",
       "      <td>0.0</td>\n",
       "    </tr>\n",
       "    <tr>\n",
       "      <th>1</th>\n",
       "      <td>27</td>\n",
       "      <td>0</td>\n",
       "      <td>0.0</td>\n",
       "      <td>0.0</td>\n",
       "      <td>0.0</td>\n",
       "      <td>0</td>\n",
       "      <td>0.0</td>\n",
       "    </tr>\n",
       "    <tr>\n",
       "      <th>2</th>\n",
       "      <td>33</td>\n",
       "      <td>0</td>\n",
       "      <td>0.0</td>\n",
       "      <td>0.0</td>\n",
       "      <td>0.0</td>\n",
       "      <td>0</td>\n",
       "      <td>0.0</td>\n",
       "    </tr>\n",
       "    <tr>\n",
       "      <th>3</th>\n",
       "      <td>35</td>\n",
       "      <td>0</td>\n",
       "      <td>0.0</td>\n",
       "      <td>0.0</td>\n",
       "      <td>0.0</td>\n",
       "      <td>0</td>\n",
       "      <td>0.0</td>\n",
       "    </tr>\n",
       "    <tr>\n",
       "      <th>4</th>\n",
       "      <td>37</td>\n",
       "      <td>0</td>\n",
       "      <td>0.0</td>\n",
       "      <td>0.0</td>\n",
       "      <td>0.0</td>\n",
       "      <td>0</td>\n",
       "      <td>0.0</td>\n",
       "    </tr>\n",
       "  </tbody>\n",
       "</table>\n",
       "</div>"
      ],
      "text/plain": [
       "   itest_id  isstem  accuracy_s_7_q_5_db_0.5  accuracy_s_18_q_5_db_0.5  \\\n",
       "0         9       1                      0.0                       0.0   \n",
       "1        27       0                      0.0                       0.0   \n",
       "2        33       0                      0.0                       0.0   \n",
       "3        35       0                      0.0                       0.0   \n",
       "4        37       0                      0.0                       0.0   \n",
       "\n",
       "   accuracy_s_32_q_5_db_0.5  accuracy_s_43_q_5_db_0.5  \\\n",
       "0                       0.0                         0   \n",
       "1                       0.0                         0   \n",
       "2                       0.0                         0   \n",
       "3                       0.0                         0   \n",
       "4                       0.0                         0   \n",
       "\n",
       "   accuracy_s_55_q_5_db_0.5  \n",
       "0                       0.0  \n",
       "1                       0.0  \n",
       "2                       0.0  \n",
       "3                       0.0  \n",
       "4                       0.0  "
      ]
     },
     "execution_count": 268,
     "metadata": {},
     "output_type": "execute_result"
    }
   ],
   "source": []
  }
 ],
 "metadata": {
  "kernelspec": {
   "display_name": "Python 3",
   "language": "python",
   "name": "python3"
  },
  "language_info": {
   "codemirror_mode": {
    "name": "ipython",
    "version": 3
   },
   "file_extension": ".py",
   "mimetype": "text/x-python",
   "name": "python",
   "nbconvert_exporter": "python",
   "pygments_lexer": "ipython3",
   "version": "3.5.2"
  }
 },
 "nbformat": 4,
 "nbformat_minor": 2
}
